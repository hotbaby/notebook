{
 "cells": [
  {
   "cell_type": "markdown",
   "metadata": {},
   "source": [
    "# 简历"
   ]
  },
  {
   "cell_type": "markdown",
   "metadata": {},
   "source": [
    "## 社交主页"
   ]
  },
  {
   "cell_type": "markdown",
   "metadata": {},
   "source": [
    "* https://github.com/hotbaby/\n",
    "* https://mengyangyang.org/\n",
    "* http://kdreader.com/books"
   ]
  },
  {
   "cell_type": "markdown",
   "metadata": {},
   "source": [
    "## 个人优势"
   ]
  },
  {
   "cell_type": "markdown",
   "metadata": {},
   "source": [
    "做过嵌入式软件开发，熟悉Django生态的后端软件开发，对统计学习和深度学习等机器学习方法有一定的了解。喜欢阅读和跑步。"
   ]
  },
  {
   "cell_type": "markdown",
   "metadata": {},
   "source": [
    "## 专业技能"
   ]
  },
  {
   "cell_type": "markdown",
   "metadata": {},
   "source": [
    "* 熟悉常用的数据结构，例如栈、队列、二叉树等，以及常用的算法，例如快速排序、归并排序等，对动态规划和贪心算法也有一定的了解。\n",
    "* 了解网络协议栈，曾经把TCP/IP详解卷一翻过N遍。\n",
    "* 比较擅长Python和C语言，使用Python语言写过Web应用、爬虫、风控规则引擎等程序，看过大部分Python Reference文档，部分Python PEP文档，使用C语言开发过MiniGUI、TCP Server、音视频流的接入等程序，也阅读过部分libc代码。\n",
    "* 熟悉基于Django生态的后端开发技术栈，阅读过大部分的Django、Django REST Framework代码。\n",
    "* 熟悉MySQL、Redis数据库，了解ELK\n",
    "* 了解Numpy、Pandas、Matplotlib等科学计算工具包。\n",
    "* 了解LR、XGBoost、SVM等统计学习方法。\n",
    "* 了解DNN、RNN、LSTM、Seq2Seq、Transformer等深度学习模型。"
   ]
  },
  {
   "cell_type": "markdown",
   "metadata": {},
   "source": [
    "## 工作经历"
   ]
  },
  {
   "cell_type": "markdown",
   "metadata": {},
   "source": [
    "会找房网络技术有限公司"
   ]
  },
  {
   "cell_type": "markdown",
   "metadata": {},
   "source": [
    "工作内容："
   ]
  },
  {
   "cell_type": "markdown",
   "metadata": {},
   "source": [
    "* 参与BOSS系统的重构，重新设计了BOSS系统用户认证、授权模块\n",
    "* 领导研发了装修贷业务线\n",
    "* 从零到1构建了第一代风控系统\n",
    "* 某银行贷款系统开发和维护"
   ]
  },
  {
   "cell_type": "markdown",
   "metadata": {},
   "source": [
    "工作业绩："
   ]
  },
  {
   "cell_type": "markdown",
   "metadata": {},
   "source": [
    "* 重构BOSS系统认证、授权模块，增强了系统的安全性\n",
    "* 领导研发了装修贷业务线，丰富了金融产品线。同时，基于Django、DRF重新设计了面向资源RSET风格接口，后续也被其他项目沿用下来\n",
    "* 从头构建了公司第一代风控系统，一方面大大提高运营审核的效率，一方面开辟了新技术栈，能够快速响应产品需求，业务规则快速迭代上线\n",
    "* 某银行贷款系统的开发和维护，开发了一些效率工具，例如基于阿里云OSS开发了公司与银行的文件共享机制，也被其他项目组使用"
   ]
  },
  {
   "cell_type": "markdown",
   "metadata": {},
   "source": [
    "## 项目经历"
   ]
  },
  {
   "cell_type": "markdown",
   "metadata": {},
   "source": [
    "### 装修贷"
   ]
  },
  {
   "cell_type": "markdown",
   "metadata": {},
   "source": [
    "装修贷产品线沿用了前后端分离架构设计，前端基于Vue编写，后端基于Django DRF设计。"
   ]
  },
  {
   "cell_type": "markdown",
   "metadata": {},
   "source": [
    "从业务角度讲，装修贷产品线分为CRM、BOSS两大系统。CRM系统主要包括中介录单、还款财务模块，BOSS系统包括订单审核、请款放款、贷后管理等模块。"
   ]
  },
  {
   "cell_type": "markdown",
   "metadata": {},
   "source": [
    "主要负责基础框架搭建，核心表的设计，请款、放款和还款模块代码编写，解决疑难杂症，保证项目进度。"
   ]
  },
  {
   "cell_type": "markdown",
   "metadata": {},
   "source": [
    "产品上，丰富了金融产品线。技术上，基于Django、DRF重新设计了一套基于REST风格接口，代码更加简洁，易维护。"
   ]
  },
  {
   "cell_type": "markdown",
   "metadata": {},
   "source": [
    "### 风控系统"
   ]
  },
  {
   "cell_type": "markdown",
   "metadata": {},
   "source": [
    "系统架构"
   ]
  },
  {
   "cell_type": "markdown",
   "metadata": {},
   "source": [
    "整个系统包含两大系统，Web规则配置管理系统和规则引擎。"
   ]
  },
  {
   "cell_type": "markdown",
   "metadata": {},
   "source": [
    "Web规则配置管理系统，采用前后端分离架构，前端基于Vue编写，后端采用传统的LNMP架构，基于Django和DRF构建Web应用。主要包括用户认证、鉴权，规则、策略配置，监控、报表等模块。"
   ]
  },
  {
   "cell_type": "markdown",
   "metadata": {},
   "source": [
    "规则引擎系统采用三层架构，从下到上分别为数据存储层、规则模型、通知告警。数据层包括业务MySQL数据、统计数据和接入的三方数据，规则模型层是规则引擎的核心模块包括规则的调度、执行、决策等，通知告警主要将风控策略结果通知给其他业务系统。"
   ]
  },
  {
   "cell_type": "markdown",
   "metadata": {},
   "source": [
    "核心数据流\n",
    "\n",
    "MQ consumer -> Risk Decision API -> Rule context -> Exchange -> Workers -> Risk rule result -> Rule Result Consumer -> Notification."
   ]
  },
  {
   "cell_type": "markdown",
   "metadata": {},
   "source": [
    "### BOSS系统重构"
   ]
  },
  {
   "cell_type": "markdown",
   "metadata": {},
   "source": [
    "BOSS用户系统重构\n",
    "\n",
    "原有BOSS系统仅简单支持用户认证，不支持用户鉴权，权限管理等，系统存在一定的安全隐患。重构BOSS用户系统，使之支持用户认证和用户鉴权。\n",
    "\n",
    "模块设计\n",
    "\n",
    "* 扩展用户Schema，增加perm, user_perm, group, user_group, group_perm，既要兼容原有用户认证系统，又要支持用户鉴权，用户分组、权限管理等功能。\n",
    "* 使用view decorator，在不改变原有业务逻辑的基础上，支持用户鉴权\n",
    "* 重新设计面向资源REST风格用户管理接口"
   ]
  },
  {
   "cell_type": "markdown",
   "metadata": {},
   "source": [
    "在不影响原有用户认证基础上，增加用户管理、分组管理、权限管理和用户鉴权等功能，增强了系统的安全性。"
   ]
  }
 ],
 "metadata": {
  "kernelspec": {
   "display_name": "Python 3",
   "language": "python",
   "name": "python3"
  },
  "language_info": {
   "codemirror_mode": {
    "name": "ipython",
    "version": 3
   },
   "file_extension": ".py",
   "mimetype": "text/x-python",
   "name": "python",
   "nbconvert_exporter": "python",
   "pygments_lexer": "ipython3",
   "version": "3.7.6"
  },
  "toc": {
   "base_numbering": 1,
   "nav_menu": {},
   "number_sections": true,
   "sideBar": true,
   "skip_h1_title": false,
   "title_cell": "Table of Contents",
   "title_sidebar": "Contents",
   "toc_cell": false,
   "toc_position": {},
   "toc_section_display": true,
   "toc_window_display": false
  }
 },
 "nbformat": 4,
 "nbformat_minor": 4
}

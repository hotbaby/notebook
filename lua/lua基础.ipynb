{
 "cells": [
  {
   "cell_type": "markdown",
   "id": "three-chile",
   "metadata": {},
   "source": [
    "# Lua基础"
   ]
  },
  {
   "cell_type": "markdown",
   "id": "greater-rover",
   "metadata": {},
   "source": [
    "## Lua计基础类型"
   ]
  },
  {
   "cell_type": "markdown",
   "id": "tired-algorithm",
   "metadata": {},
   "source": [
    "type函数打印数据的类型"
   ]
  },
  {
   "cell_type": "markdown",
   "id": "alternate-southeast",
   "metadata": {},
   "source": [
    "```lua\n",
    "print(type(\"hello world\"))\n",
    "-- output: string\n",
    "\n",
    "print(type(print))\n",
    "-- output: function\n",
    "\n",
    "print(type(true))\n",
    "-- output: boolean\n",
    "\n",
    "print(type(360.0))\n",
    "-- output: number\n",
    "\n",
    "print(type(nil))\n",
    "-- output: nil\n",
    "```"
   ]
  },
  {
   "cell_type": "markdown",
   "id": "enabling-headset",
   "metadata": {},
   "source": [
    "### nil类型"
   ]
  },
  {
   "cell_type": "markdown",
   "id": "burning-innocent",
   "metadata": {},
   "source": [
    "```lua\n",
    "local num\n",
    "print(num)\n",
    "-- output: nil\n",
    "\n",
    "num = 100\n",
    "print(num)\n",
    "-- output: 100\n",
    "```"
   ]
  },
  {
   "cell_type": "markdown",
   "id": "severe-collective",
   "metadata": {},
   "source": [
    "### boolean类型"
   ]
  },
  {
   "cell_type": "markdown",
   "id": "devoted-nothing",
   "metadata": {},
   "source": [
    "布尔类型，可选值true、false。Lua中nil和false为假，其他的所有值均为真。比如0和空字符就是真。"
   ]
  },
  {
   "cell_type": "markdown",
   "id": "continent-smell",
   "metadata": {},
   "source": [
    "```lua\n",
    "local a = true\n",
    "local b = 0\n",
    "local c = nil\n",
    "\n",
    "if a then\n",
    "    print(\"a\")  -- output: a\n",
    "    \n",
    "else\n",
    "    print(\"not a\") -- 不会执行\n",
    "end\n",
    "\n",
    "if b then\n",
    "    print(\"b\")   -- outtpu: b\n",
    "else\n",
    "    print(\"not b\") -- 不会执行\n",
    "end\n",
    "\n",
    "if c then\n",
    "    print(\"c\")   -- 不会执行\n",
    "else\n",
    "    print(\"not c\")  -- output: not c\n",
    "end\n",
    "\n",
    "```"
   ]
  },
  {
   "cell_type": "markdown",
   "id": "valued-algeria",
   "metadata": {},
   "source": [
    "### number类型"
   ]
  },
  {
   "cell_type": "markdown",
   "id": "excellent-graphics",
   "metadata": {},
   "source": [
    "```lua\n",
    "local order = 3.99\n",
    "local score = 98.01\n",
    "\n",
    "print(math.floor(order)) -- output: 3\n",
    "print(math.ceil(score))  -- output: 99\n",
    "\n",
    "```"
   ]
  },
  {
   "cell_type": "markdown",
   "id": "white-anthony",
   "metadata": {},
   "source": [
    "### 字符串类型"
   ]
  },
  {
   "cell_type": "markdown",
   "id": "loved-burning",
   "metadata": {},
   "source": [
    "```lua\n",
    "local str1 = 'hello word'\n",
    "local str2 = \"hello lua\"\n",
    "local str3 = [[\"add\\name\", 'hello']]\n",
    "local str4 = [=[string have a [[]].]=]\n",
    "\n",
    "print(str1)\n",
    "print(str2)\n",
    "print(str3)\n",
    "print(str4)\n",
    "\n",
    "```"
   ]
  },
  {
   "cell_type": "markdown",
   "id": "permanent-yesterday",
   "metadata": {},
   "source": [
    "输出结果："
   ]
  },
  {
   "cell_type": "markdown",
   "id": "exciting-denial",
   "metadata": {},
   "source": [
    "```\n",
    "hello word\n",
    "hello lua\n",
    "\"add\\name\", 'hello'\n",
    "string have a [[]].\n",
    "```"
   ]
  },
  {
   "cell_type": "markdown",
   "id": "stuck-gregory",
   "metadata": {},
   "source": [
    "### table（表）"
   ]
  },
  {
   "cell_type": "markdown",
   "id": "fixed-adolescent",
   "metadata": {},
   "source": [
    "table类型实现了一种抽象的\"关联数组\"。索引值通常是字符串（string）、number类型，但也可以是除`nil`意外的任意类型。"
   ]
  },
  {
   "cell_type": "markdown",
   "id": "quick-shower",
   "metadata": {},
   "source": [
    "```lua\n",
    "local corp = {\n",
    "    web = \"www.google.com\", --索引字符串为 key=\"web\", value=\"www.google.com\"\n",
    "    staff = {\"Jack\", \"Scott\"},\n",
    "    telephone = \"123456789\",\n",
    "    100876, -- 相当于[1] = 100876，key = 1, value = 1008776\n",
    "    100191, -- 相当于[2] = 100191，此时索引为数字\n",
    "    [10] = 360, -- 直接给出索引\n",
    "    [\"city\"] = \"Beijing\" -- 索引为字符串\n",
    "}\n",
    "\n",
    "print(corp.web)\n",
    "print(corp.staff[1])\n",
    "print(corp['telephone'])\n",
    "print(corp[2])\n",
    "print(corp['city'])\n",
    "\n",
    "```"
   ]
  },
  {
   "cell_type": "markdown",
   "id": "thrown-crash",
   "metadata": {},
   "source": [
    "输出结果："
   ]
  },
  {
   "cell_type": "markdown",
   "id": "loved-smooth",
   "metadata": {},
   "source": [
    "```\n",
    "www.google.com\n",
    "Jack\n",
    "123456789\n",
    "100191\n",
    "Beijing\n",
    "```"
   ]
  },
  {
   "cell_type": "markdown",
   "id": "civic-museum",
   "metadata": {},
   "source": [
    "### function（函数）"
   ]
  },
  {
   "cell_type": "markdown",
   "id": "interesting-alberta",
   "metadata": {},
   "source": [
    "```lua\n",
    "local function foo()\n",
    "    print('in the function')\n",
    "    \n",
    "    local x = 10\n",
    "    local y = 20\n",
    "    return x + y\n",
    "end\n",
    "\n",
    "    \n",
    "local a = foo -- 把函数赋给变量\n",
    "print(a())\n",
    "    \n",
    "```"
   ]
  },
  {
   "cell_type": "markdown",
   "id": "solar-daniel",
   "metadata": {},
   "source": [
    "```lua\n",
    "function foo()\n",
    "end\n",
    "```\n",
    "\n",
    "等价于\n",
    "\n",
    "```lua\n",
    "foo = function()\n",
    "end\n",
    "```"
   ]
  },
  {
   "cell_type": "markdown",
   "id": "figured-fundamental",
   "metadata": {},
   "source": [
    "类似的，"
   ]
  },
  {
   "cell_type": "markdown",
   "id": "healthy-warren",
   "metadata": {},
   "source": [
    "```lua\n",
    "local function foo()\n",
    "end\n",
    "\n",
    "等价于\n",
    "\n",
    "local foo = function()\n",
    "end\n",
    "```"
   ]
  },
  {
   "cell_type": "markdown",
   "id": "moderate-register",
   "metadata": {},
   "source": [
    "## 控制结构"
   ]
  },
  {
   "cell_type": "markdown",
   "id": "final-opposition",
   "metadata": {},
   "source": [
    "### 控制结构if-else"
   ]
  },
  {
   "cell_type": "markdown",
   "id": "sudden-qatar",
   "metadata": {},
   "source": [
    "```lua\n",
    "x = 10\n",
    "if x > 0 then\n",
    "    print('x is a positive number')\n",
    "end\n",
    "\n",
    "```"
   ]
  },
  {
   "cell_type": "markdown",
   "id": "floating-chambers",
   "metadata": {},
   "source": [
    "```lua\n",
    "if x == 100 then\n",
    "    print(\"A\")\n",
    "elseif x >= 60 then\n",
    "    print(\"B\")\n",
    "else\n",
    "    print(\"C\")\n",
    "end\n",
    "```"
   ]
  },
  {
   "cell_type": "markdown",
   "id": "explicit-ethnic",
   "metadata": {},
   "source": [
    "### while循环结构"
   ]
  },
  {
   "cell_type": "markdown",
   "id": "decent-queue",
   "metadata": {},
   "source": [
    "```lua\n",
    "while 表达式 do\n",
    "-- body\n",
    "end\n",
    "```"
   ]
  },
  {
   "cell_type": "markdown",
   "id": "superb-membership",
   "metadata": {},
   "source": [
    "```lua\n",
    "x = 1\n",
    "sum = 0\n",
    "\n",
    "while x <= 5 do\n",
    "    sum = sum + x\n",
    "    x = x + 1\n",
    "end\n",
    "\n",
    "print(sum)\n",
    "```"
   ]
  },
  {
   "cell_type": "markdown",
   "id": "overhead-citizen",
   "metadata": {},
   "source": [
    "### for循环结构"
   ]
  },
  {
   "cell_type": "markdown",
   "id": "mediterranean-mandate",
   "metadata": {},
   "source": [
    "for数字型"
   ]
  },
  {
   "cell_type": "markdown",
   "id": "lightweight-plain",
   "metadata": {},
   "source": [
    "```lua\n",
    "for var = begin, finish, step do\n",
    "--     body\n",
    "end\n",
    "```"
   ]
  },
  {
   "cell_type": "markdown",
   "id": "registered-metallic",
   "metadata": {},
   "source": [
    "```lua\n",
    "for i = 1, 5 do\n",
    "    print(i)\n",
    "end\n",
    "```"
   ]
  },
  {
   "cell_type": "markdown",
   "id": "given-construction",
   "metadata": {},
   "source": [
    "```lua\n",
    "for i = 1, 10, 2 do\n",
    "    print(i)\n",
    "end\n",
    "```"
   ]
  },
  {
   "cell_type": "markdown",
   "id": "muslim-premises",
   "metadata": {},
   "source": [
    "for泛型"
   ]
  },
  {
   "cell_type": "markdown",
   "id": "lasting-wheat",
   "metadata": {},
   "source": [
    "泛型for通过一个迭代器（iterator）函数遍历所有值。"
   ]
  },
  {
   "cell_type": "markdown",
   "id": "correct-hundred",
   "metadata": {},
   "source": [
    "```lua\n",
    "local a = {'a', 'b', 'c', 'd'}\n",
    "\n",
    "for i, v in ipairs(a) do\n",
    "    print(\"index: \", i, \"value: \", v)\n",
    "end\n",
    "```"
   ]
  },
  {
   "cell_type": "markdown",
   "id": "dutch-scott",
   "metadata": {},
   "source": [
    "输出结果："
   ]
  },
  {
   "cell_type": "markdown",
   "id": "little-deployment",
   "metadata": {},
   "source": [
    "```\n",
    "index: \t1\tvalue: \ta\n",
    "index: \t2\tvalue: \tb\n",
    "index: \t3\tvalue: \tc\n",
    "index: \t4\tvalue: \td\n",
    "```"
   ]
  },
  {
   "cell_type": "markdown",
   "id": "considerable-intellectual",
   "metadata": {},
   "source": [
    "```lua\n",
    "local a = {'a', 'b', 'c'}\n",
    "\n",
    "for k in pairs(a) then\n",
    "    print(k)\n",
    "end\n",
    "```"
   ]
  },
  {
   "cell_type": "markdown",
   "id": "knowing-renaissance",
   "metadata": {},
   "source": [
    "输出结果："
   ]
  },
  {
   "cell_type": "markdown",
   "id": "worldwide-consciousness",
   "metadata": {},
   "source": [
    "```\n",
    "1\n",
    "2\n",
    "3\n",
    "```"
   ]
  }
 ],
 "metadata": {
  "kernelspec": {
   "display_name": "Python 3",
   "language": "python",
   "name": "python3"
  },
  "language_info": {
   "codemirror_mode": {
    "name": "ipython",
    "version": 3
   },
   "file_extension": ".py",
   "mimetype": "text/x-python",
   "name": "python",
   "nbconvert_exporter": "python",
   "pygments_lexer": "ipython3",
   "version": "3.7.9"
  },
  "toc": {
   "base_numbering": 1,
   "nav_menu": {},
   "number_sections": true,
   "sideBar": true,
   "skip_h1_title": false,
   "title_cell": "Table of Contents",
   "title_sidebar": "Contents",
   "toc_cell": false,
   "toc_position": {},
   "toc_section_display": true,
   "toc_window_display": true
  }
 },
 "nbformat": 4,
 "nbformat_minor": 5
}

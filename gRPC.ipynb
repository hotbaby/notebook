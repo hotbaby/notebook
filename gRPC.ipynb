{
 "cells": [
  {
   "cell_type": "markdown",
   "id": "olympic-player",
   "metadata": {},
   "source": [
    "# gRPC"
   ]
  },
  {
   "cell_type": "markdown",
   "id": "liquid-paradise",
   "metadata": {},
   "source": [
    "## 参考文献"
   ]
  },
  {
   "cell_type": "markdown",
   "id": "frozen-review",
   "metadata": {},
   "source": [
    "* https://github.com/grpc/grpc\n",
    "* https://grpc.io/docs/languages/python/quickstart/"
   ]
  },
  {
   "cell_type": "markdown",
   "id": "superior-wesley",
   "metadata": {},
   "source": [
    "## gRPC Python Demo"
   ]
  },
  {
   "cell_type": "markdown",
   "id": "trying-survival",
   "metadata": {},
   "source": [
    "### 安装依赖"
   ]
  },
  {
   "cell_type": "markdown",
   "id": "wound-mexican",
   "metadata": {},
   "source": [
    "```shell\n",
    "pip install grpcio\n",
    "pip install grpcio-tools\n",
    "```"
   ]
  },
  {
   "cell_type": "markdown",
   "id": "intelligent-track",
   "metadata": {},
   "source": [
    "### 定义proto"
   ]
  },
  {
   "cell_type": "markdown",
   "id": "caroline-council",
   "metadata": {},
   "source": [
    "```proto\n",
    "syntax = \"proto3\";\n",
    "\n",
    "option java_multiple_files = true;\n",
    "option java_package = \"io.grpc.examples.helloworld\";\n",
    "option java_outer_classname = \"HelloWorldProto\";\n",
    "option objc_class_prefix = \"HLW\";\n",
    "\n",
    "package helloworld;\n",
    "\n",
    "// The greeting service definition.\n",
    "service Greeter {\n",
    "  // Sends a greeting\n",
    "  rpc SayHello (HelloRequest) returns (HelloReply) {}\n",
    "}\n",
    "\n",
    "// The request message containing the user's name.\n",
    "message HelloRequest {\n",
    "  string name = 1;\n",
    "}\n",
    "\n",
    "// The response message containing the greetings\n",
    "message HelloReply {\n",
    "  string message = 1;\n",
    "}\n",
    "```"
   ]
  },
  {
   "cell_type": "markdown",
   "id": "scheduled-keyboard",
   "metadata": {},
   "source": [
    "### 生成代码"
   ]
  },
  {
   "cell_type": "markdown",
   "id": "fuzzy-russell",
   "metadata": {},
   "source": [
    "```shell\n",
    "python -m grpc_tools.protoc -I . --python_out=. --grpc_python_out=. helloworld.proto\n",
    "```"
   ]
  },
  {
   "cell_type": "markdown",
   "id": "light-minutes",
   "metadata": {},
   "source": [
    "### grpc server"
   ]
  },
  {
   "cell_type": "markdown",
   "id": "distributed-airplane",
   "metadata": {},
   "source": [
    "```python\n",
    "from concurrent import futures\n",
    "import time\n",
    "\n",
    "import grpc\n",
    "\n",
    "import helloworld_pb2\n",
    "import helloworld_pb2_grpc\n",
    "\n",
    "_ONE_DAY_IN_SECONDS = 60 * 60 * 24\n",
    "\n",
    "\n",
    "class Greeter(helloworld_pb2_grpc.GreeterServicer):\n",
    "\n",
    "    def SayHello(self, request, context):\n",
    "        return helloworld_pb2.HelloReply(message='Hello, %s!' % request.name)\n",
    "\n",
    "\n",
    "def serve():\n",
    "    server = grpc.server(futures.ThreadPoolExecutor(max_workers=10))\n",
    "    helloworld_pb2_grpc.add_GreeterServicer_to_server(Greeter(), server)\n",
    "    server.add_insecure_port('[::]:50051')\n",
    "    server.start()\n",
    "    try:\n",
    "        while True:\n",
    "            time.sleep(_ONE_DAY_IN_SECONDS)\n",
    "    except KeyboardInterrupt:\n",
    "        server.stop(0)\n",
    "\n",
    "\n",
    "if __name__ == '__main__':\n",
    "    serve()\n",
    "\n",
    "```"
   ]
  },
  {
   "cell_type": "markdown",
   "id": "floppy-sailing",
   "metadata": {},
   "source": [
    "### grpc client"
   ]
  },
  {
   "cell_type": "markdown",
   "id": "successful-exhaust",
   "metadata": {},
   "source": [
    "```python\n",
    "from __future__ import print_function\n",
    "\n",
    "import grpc\n",
    "\n",
    "import helloworld_pb2\n",
    "import helloworld_pb2_grpc\n",
    "\n",
    "\n",
    "def run():\n",
    "    # NOTE(gRPC Python Team): .close() is possible on a channel and should be\n",
    "    # used in circumstances in which the with statement does not fit the needs\n",
    "    # of the code.\n",
    "    with grpc.insecure_channel('localhost:50051') as channel:\n",
    "        counter = 9\n",
    "        stub = helloworld_pb2_grpc.GreeterStub(channel)\n",
    "        while counter >= 0:\n",
    "            response = stub.SayHello(helloworld_pb2.HelloRequest(name='you'))\n",
    "            print(f\"counter: {counter}, Greeter client received: {response}\")\n",
    "            counter -= 1\n",
    "\n",
    "\n",
    "if __name__ == '__main__':\n",
    "    run()\n",
    "```"
   ]
  }
 ],
 "metadata": {
  "kernelspec": {
   "display_name": "Python 3",
   "language": "python",
   "name": "python3"
  },
  "language_info": {
   "codemirror_mode": {
    "name": "ipython",
    "version": 3
   },
   "file_extension": ".py",
   "mimetype": "text/x-python",
   "name": "python",
   "nbconvert_exporter": "python",
   "pygments_lexer": "ipython3",
   "version": "3.7.9"
  },
  "toc": {
   "base_numbering": 1,
   "nav_menu": {},
   "number_sections": true,
   "sideBar": true,
   "skip_h1_title": false,
   "title_cell": "Table of Contents",
   "title_sidebar": "Contents",
   "toc_cell": false,
   "toc_position": {},
   "toc_section_display": true,
   "toc_window_display": true
  }
 },
 "nbformat": 4,
 "nbformat_minor": 5
}

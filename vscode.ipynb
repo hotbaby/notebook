{
 "cells": [
  {
   "cell_type": "markdown",
   "id": "confused-gregory",
   "metadata": {},
   "source": [
    "# vscode"
   ]
  },
  {
   "cell_type": "markdown",
   "id": "intense-confirmation",
   "metadata": {},
   "source": [
    "## 快捷键"
   ]
  },
  {
   "cell_type": "markdown",
   "id": "ahead-paint",
   "metadata": {},
   "source": [
    "|快捷键|备注|\n",
    "|-----|---|\n",
    "|`Cmd + T`|搜索所有符号|\n",
    "|`Cmd + Shift + O`|当前文件符号列表|\n",
    "|`Cmd + P`|搜索所有文件|\n",
    "|`Cmd + Shfit + F`|全局搜索|\n",
    "|`Cmd + Shift + [`|折叠代码|\n",
    "|`Cmd + Shift + ]`|打开代码|"
   ]
  }
 ],
 "metadata": {
  "kernelspec": {
   "display_name": "Python 3",
   "language": "python",
   "name": "python3"
  },
  "language_info": {
   "codemirror_mode": {
    "name": "ipython",
    "version": 3
   },
   "file_extension": ".py",
   "mimetype": "text/x-python",
   "name": "python",
   "nbconvert_exporter": "python",
   "pygments_lexer": "ipython3",
   "version": "3.7.9"
  },
  "toc": {
   "base_numbering": 1,
   "nav_menu": {},
   "number_sections": true,
   "sideBar": true,
   "skip_h1_title": false,
   "title_cell": "Table of Contents",
   "title_sidebar": "Contents",
   "toc_cell": false,
   "toc_position": {},
   "toc_section_display": true,
   "toc_window_display": false
  }
 },
 "nbformat": 4,
 "nbformat_minor": 5
}

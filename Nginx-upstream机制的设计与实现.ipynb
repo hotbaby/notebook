{
 "cells": [
  {
   "cell_type": "markdown",
   "id": "sorted-government",
   "metadata": {},
   "source": [
    "# Nginx upstream机制的设计与实现"
   ]
  },
  {
   "cell_type": "markdown",
   "id": "cloudy-telephone",
   "metadata": {},
   "source": [
    "Nginx访问上游服务器的流程可以分为6个阶段：\n",
    "\n",
    "1. 启动upstream机制\n",
    "2. 连接上游服务器\n",
    "3. 向上游服务器发送请求\n",
    "4. 接收上游服务器的响应头\n",
    "5. 处理接收到的响应体\n",
    "6. 结束请求"
   ]
  },
  {
   "cell_type": "markdown",
   "id": "inclusive-windows",
   "metadata": {},
   "source": [
    "## upstream机制概述"
   ]
  },
  {
   "cell_type": "markdown",
   "id": "alike-newman",
   "metadata": {},
   "source": [
    "### 设计目的"
   ]
  },
  {
   "cell_type": "markdown",
   "id": "prospective-lotus",
   "metadata": {},
   "source": [
    "什么是upstream机制？"
   ]
  },
  {
   "cell_type": "markdown",
   "id": "automated-coordinate",
   "metadata": {},
   "source": [
    "（1）上游和下游"
   ]
  },
  {
   "cell_type": "markdown",
   "id": "activated-budget",
   "metadata": {},
   "source": [
    "<img width=\"60%\" src=\"https://bj.bcebos.com/ipic/Nginx-upstream机制的场景示意图.png\">"
   ]
  },
  {
   "cell_type": "markdown",
   "id": "first-adventure",
   "metadata": {},
   "source": [
    "（2）上游服务器提供的协议"
   ]
  },
  {
   "cell_type": "markdown",
   "id": "concrete-union",
   "metadata": {},
   "source": [
    "基于事件驱动架构的upstream机制所访问是所有支持TCP的上游服务器。包括`ngx_http_proxy_module`模块基于upstream机制实现了HTTP反向代理功能，`ngx_http_memcached_module`模块基于upstream可以访问memcached服务器。"
   ]
  },
  {
   "cell_type": "markdown",
   "id": "buried-transaction",
   "metadata": {},
   "source": [
    "（3）每个客户端请求实际上可以向多个上游服务器发起请求"
   ]
  },
  {
   "cell_type": "markdown",
   "id": "solved-board",
   "metadata": {},
   "source": [
    "（4）反向代理与转发上游服务器响应"
   ]
  },
  {
   "cell_type": "markdown",
   "id": "medium-wednesday",
   "metadata": {},
   "source": [
    "转发响应时要解决两个问题：\n",
    "\n",
    "* 下游是HTTP协议，上游是基于TCP的任何协议。upstream机制会将上游响应划分为包头、包体两部分，包头部分由HTTP模块实现的process_header方法解析，包体由upstream不做任何修改地转发\n",
    "* 上下游的网速可能差别比较大\n",
    "    * 当上下有网速差别不大，或者下游速度更快时，nginx会开辟一块固定内存，既用来接收上游的响应，也用来把响应转发给下游\n",
    "    * 当上游网速快于下游时，必须要开辟足够多的内存缓存上游响应，当内存使用打到上限时会把上游响应保存磁盘中"
   ]
  }
 ],
 "metadata": {
  "kernelspec": {
   "display_name": "Python 3",
   "language": "python",
   "name": "python3"
  },
  "language_info": {
   "codemirror_mode": {
    "name": "ipython",
    "version": 3
   },
   "file_extension": ".py",
   "mimetype": "text/x-python",
   "name": "python",
   "nbconvert_exporter": "python",
   "pygments_lexer": "ipython3",
   "version": "3.7.9"
  },
  "toc": {
   "base_numbering": 1,
   "nav_menu": {},
   "number_sections": true,
   "sideBar": true,
   "skip_h1_title": false,
   "title_cell": "Table of Contents",
   "title_sidebar": "Contents",
   "toc_cell": false,
   "toc_position": {},
   "toc_section_display": true,
   "toc_window_display": false
  }
 },
 "nbformat": 4,
 "nbformat_minor": 5
}

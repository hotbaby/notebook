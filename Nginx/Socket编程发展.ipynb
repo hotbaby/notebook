{
 "cells": [
  {
   "cell_type": "markdown",
   "id": "immediate-customer",
   "metadata": {},
   "source": [
    "# Socket编程发展"
   ]
  },
  {
   "cell_type": "markdown",
   "id": "incorporate-savage",
   "metadata": {},
   "source": [
    "## select模型"
   ]
  },
  {
   "cell_type": "markdown",
   "id": "fabulous-portal",
   "metadata": {},
   "source": [
    "```c\n",
    "int select(int nfds, fd_set *readfds, fd_set *writefds, fd_set *exceptfds, struct timeval *timeout);\n",
    "\n",
    "void FD_CLR(int fd, fd_set *set);\n",
    "int  FD_ISSET(int fd, fd_set *set);\n",
    "void FD_SET(int fd, fd_set *set);\n",
    "void FD_ZERO(fd_set *set);\n",
    "```"
   ]
  },
  {
   "cell_type": "markdown",
   "id": "specific-trick",
   "metadata": {},
   "source": [
    "```c\n",
    "#include <stdio.h>\n",
    "#include <stdlib.h>\n",
    "#include <sys/time.h>\n",
    "#include <sys/types.h>\n",
    "#include <unistd.h>\n",
    "\n",
    "int\n",
    "main(void)\n",
    "{\n",
    "   fd_set rfds;\n",
    "   struct timeval tv;\n",
    "   int retval;\n",
    "\n",
    "   /* Watch stdin (fd 0) to see when it has input. */\n",
    "\n",
    "   FD_ZERO(&rfds);\n",
    "   FD_SET(0, &rfds);\n",
    "\n",
    "   /* Wait up to five seconds. */\n",
    "\n",
    "   tv.tv_sec = 5;\n",
    "   tv.tv_usec = 0;\n",
    "\n",
    "   retval = select(1, &rfds, NULL, NULL, &tv);\n",
    "   /* Don't rely on the value of tv now! */\n",
    "\n",
    "   if (retval == -1)\n",
    "       perror(\"select()\");\n",
    "   else if (retval)\n",
    "       printf(\"Data is available now.\\n\");\n",
    "       /* FD_ISSET(0, &rfds) will be true. */\n",
    "   else\n",
    "       printf(\"No data within five seconds.\\n\");\n",
    "\n",
    "   exit(EXIT_SUCCESS);\n",
    "}\n",
    "```"
   ]
  },
  {
   "cell_type": "markdown",
   "id": "placed-peoples",
   "metadata": {},
   "source": [
    "select函数监视的文件描述分为3类，分别为`readfds`、`writefds`和`exceptfds`，调用select函数后会阻塞，直到有文件描述就绪（有数据可读、可写、异常）或者超时，当函数返回后，通过遍历fd_sets来找到就绪的描述符。"
   ]
  },
  {
   "cell_type": "markdown",
   "id": "verbal-programming",
   "metadata": {},
   "source": [
    "select缺点在于单个进程监视的文件描述符的数量存在最大限制，Linux上一般为1024。"
   ]
  },
  {
   "cell_type": "markdown",
   "id": "theoretical-absorption",
   "metadata": {},
   "source": [
    "## epoll模型"
   ]
  },
  {
   "cell_type": "markdown",
   "id": "promising-cooking",
   "metadata": {},
   "source": [
    "```c\n",
    "int epoll_create(int size);\n",
    "int epoll_ctl(int epfd, int op, int fd, struct epoll_event *event);\n",
    "int epoll_wait(int epfd, struct epoll_event *events, int maxevents, int timeout);\n",
    "```"
   ]
  },
  {
   "cell_type": "markdown",
   "id": "informative-soundtrack",
   "metadata": {},
   "source": [
    "```c\n",
    "typedef union epoll_data {\n",
    "    void *ptr;\n",
    "    int fd;\n",
    "    __uint32_t u32;\n",
    "    __uint64_t u64;\n",
    "} epoll_data_t;\n",
    "struct epoll_event {\n",
    "    __uint32_t events;\n",
    "    epoll_data_t data;\n",
    "};\n",
    "```"
   ]
  },
  {
   "cell_type": "markdown",
   "id": "arctic-sandwich",
   "metadata": {},
   "source": [
    "* `epoll_create()`创建epoll对象，`size`指定监听文件描述符的最大数量；\n",
    "* `epoll_ctl()`是fd的添加、删除和更新操作；\n",
    "* `epoll_wait()`是等待epfd上的IO事件，最大返回`maxevents`个事件。"
   ]
  },
  {
   "cell_type": "markdown",
   "id": "whole-diana",
   "metadata": {},
   "source": [
    "`epoll`主要的优点：\n",
    "\n",
    "* 监听文件描述不受限制，它支持`fd`的上限是最大可打开文件的数目（可以通过 `cat /proc/sys/fs/file-max`查看）\n",
    "* IO效率不会随着监视fd数量的增长而下降，`epoll`不同于`select`轮询的方式，而是通过每个fd定义的回调函数来实现，只有就绪的fd才会执行回调函数；\n",
    "* 支持水平触发和边缘触发两种方式：\n",
    "    * 水平触发，只有fd对应缓冲区有数据，就会反复触发，编程简单；\n",
    "    * 边缘触发，fd的缓冲区如果有读取的数据，下次就绪前，不会被再次触发，效率更高，编程复杂。\n",
    "* mmap避免了内存拷贝，加速内核和用户空间的信息传递。"
   ]
  }
 ],
 "metadata": {
  "kernelspec": {
   "display_name": "Python 3",
   "language": "python",
   "name": "python3"
  },
  "language_info": {
   "codemirror_mode": {
    "name": "ipython",
    "version": 3
   },
   "file_extension": ".py",
   "mimetype": "text/x-python",
   "name": "python",
   "nbconvert_exporter": "python",
   "pygments_lexer": "ipython3",
   "version": "3.7.9"
  },
  "toc": {
   "base_numbering": 1,
   "nav_menu": {},
   "number_sections": true,
   "sideBar": true,
   "skip_h1_title": false,
   "title_cell": "Table of Contents",
   "title_sidebar": "Contents",
   "toc_cell": false,
   "toc_position": {},
   "toc_section_display": true,
   "toc_window_display": false
  }
 },
 "nbformat": 4,
 "nbformat_minor": 5
}

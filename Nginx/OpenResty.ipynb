{
 "cells": [
  {
   "cell_type": "markdown",
   "id": "deluxe-skating",
   "metadata": {},
   "source": [
    "# OpenResty"
   ]
  },
  {
   "cell_type": "markdown",
   "id": "appropriate-hayes",
   "metadata": {},
   "source": [
    "为什么要取OpenResty这个名字呢？"
   ]
  },
  {
   "cell_type": "markdown",
   "id": "gorgeous-hospital",
   "metadata": {},
   "source": [
    "OpenResty最早是顺应OpenAPI的潮流做的，所以Open取自“开放”之意，而Resty便是REST风格的意思。虽然后来也可以基于ngx_openresty 实现任何形式的web service或者传统的web应用。"
   ]
  },
  {
   "cell_type": "markdown",
   "id": "pretty-retention",
   "metadata": {},
   "source": [
    "[OpenResty 作者章亦春访谈实录 ](https://www.oschina.net/question/28_60461)"
   ]
  }
 ],
 "metadata": {
  "kernelspec": {
   "display_name": "Python 3",
   "language": "python",
   "name": "python3"
  },
  "language_info": {
   "codemirror_mode": {
    "name": "ipython",
    "version": 3
   },
   "file_extension": ".py",
   "mimetype": "text/x-python",
   "name": "python",
   "nbconvert_exporter": "python",
   "pygments_lexer": "ipython3",
   "version": "3.7.9"
  },
  "toc": {
   "base_numbering": 1,
   "nav_menu": {},
   "number_sections": true,
   "sideBar": true,
   "skip_h1_title": false,
   "title_cell": "Table of Contents",
   "title_sidebar": "Contents",
   "toc_cell": false,
   "toc_position": {},
   "toc_section_display": true,
   "toc_window_display": false
  }
 },
 "nbformat": 4,
 "nbformat_minor": 5
}

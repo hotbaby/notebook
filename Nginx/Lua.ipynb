{
 "cells": [
  {
   "cell_type": "markdown",
   "id": "forward-parker",
   "metadata": {},
   "source": [
    "## Lua简介"
   ]
  },
  {
   "cell_type": "markdown",
   "id": "complete-miller",
   "metadata": {},
   "source": [
    "1993年在巴西里约热内卢天主教大学(Pontifical Catholic University of Rio de Janeiro in Brazil)诞生了一门编程语言，发明者是该校的三位研究人员，他们给这门语言取了个浪漫的名字—— Lua，在葡萄牙语里代表美丽的月亮。"
   ]
  },
  {
   "cell_type": "markdown",
   "id": "julian-equipment",
   "metadata": {},
   "source": [
    "Lua"
   ]
  }
 ],
 "metadata": {
  "kernelspec": {
   "display_name": "Python 3",
   "language": "python",
   "name": "python3"
  },
  "language_info": {
   "codemirror_mode": {
    "name": "ipython",
    "version": 3
   },
   "file_extension": ".py",
   "mimetype": "text/x-python",
   "name": "python",
   "nbconvert_exporter": "python",
   "pygments_lexer": "ipython3",
   "version": "3.7.9"
  },
  "toc": {
   "base_numbering": 1,
   "nav_menu": {},
   "number_sections": true,
   "sideBar": true,
   "skip_h1_title": false,
   "title_cell": "Table of Contents",
   "title_sidebar": "Contents",
   "toc_cell": false,
   "toc_position": {},
   "toc_section_display": true,
   "toc_window_display": false
  }
 },
 "nbformat": 4,
 "nbformat_minor": 5
}

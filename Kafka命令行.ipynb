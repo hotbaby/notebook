{
 "cells": [
  {
   "cell_type": "markdown",
   "id": "advanced-pressing",
   "metadata": {},
   "source": [
    "# Kakfa命令行"
   ]
  },
  {
   "cell_type": "markdown",
   "id": "hourly-landing",
   "metadata": {},
   "source": [
    "## 主题管理"
   ]
  },
  {
   "cell_type": "markdown",
   "id": "previous-raleigh",
   "metadata": {},
   "source": [
    "### 创建主题"
   ]
  },
  {
   "cell_type": "markdown",
   "id": "interracial-bracelet",
   "metadata": {},
   "source": [
    "```shell\n",
    "kafka-topics --zookeeper :2181 --create --partitions 3 --replication-factor 3 --topic ext.hyj_credit_record \n",
    "```"
   ]
  },
  {
   "cell_type": "markdown",
   "id": "alleged-radio",
   "metadata": {},
   "source": [
    "### 查看某个主题"
   ]
  },
  {
   "cell_type": "markdown",
   "id": "disciplinary-folder",
   "metadata": {},
   "source": [
    "```shell\n",
    "kafka-topics --zookeeper :2181 --describe --topic ext.hsh_credit_record\n",
    "```"
   ]
  },
  {
   "cell_type": "markdown",
   "id": "joint-bookmark",
   "metadata": {},
   "source": [
    "输出结果："
   ]
  },
  {
   "cell_type": "markdown",
   "id": "suited-progress",
   "metadata": {},
   "source": [
    "```java\n",
    "Topic:ext.hsh_credit_record\tPartitionCount:3\tReplicationFactor:3\tConfigs:\n",
    "\tTopic: ext.hsh_credit_record\tPartition: 0\tLeader: 100\tReplicas: 100,104,101\tIsr: 104,100,101\n",
    "\tTopic: ext.hsh_credit_record\tPartition: 1\tLeader: 101\tReplicas: 101,100,102\tIsr: 100,101,102\n",
    "\tTopic: ext.hsh_credit_record\tPartition: 2\tLeader: 102\tReplicas: 102,101,103\tIsr: 103,102,101\n",
    "\n",
    "```"
   ]
  },
  {
   "cell_type": "markdown",
   "id": "earlier-carbon",
   "metadata": {},
   "source": [
    "### 查看主题列表"
   ]
  },
  {
   "cell_type": "markdown",
   "id": "caroline-lounge",
   "metadata": {},
   "source": [
    "```shell\n",
    "kafka-topics --zookeeper :2181 --list\n",
    "```"
   ]
  },
  {
   "cell_type": "markdown",
   "id": "tender-blame",
   "metadata": {},
   "source": [
    "## 消费者"
   ]
  },
  {
   "cell_type": "markdown",
   "id": "passive-roads",
   "metadata": {},
   "source": [
    "```shell\n",
    "kafka-console-consumer --bootstrap-server 10.150.31.31:9092 --topic ext.hsh_credit_record --from-beginning\n",
    "```"
   ]
  }
 ],
 "metadata": {
  "kernelspec": {
   "display_name": "Python 3",
   "language": "python",
   "name": "python3"
  },
  "language_info": {
   "codemirror_mode": {
    "name": "ipython",
    "version": 3
   },
   "file_extension": ".py",
   "mimetype": "text/x-python",
   "name": "python",
   "nbconvert_exporter": "python",
   "pygments_lexer": "ipython3",
   "version": "3.7.10"
  },
  "toc": {
   "base_numbering": 1,
   "nav_menu": {},
   "number_sections": true,
   "sideBar": true,
   "skip_h1_title": false,
   "title_cell": "Table of Contents",
   "title_sidebar": "Contents",
   "toc_cell": false,
   "toc_position": {},
   "toc_section_display": true,
   "toc_window_display": false
  }
 },
 "nbformat": 4,
 "nbformat_minor": 5
}

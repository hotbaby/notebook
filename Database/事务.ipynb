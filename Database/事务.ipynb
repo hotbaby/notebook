{
 "cells": [
  {
   "cell_type": "markdown",
   "id": "6b0824f5",
   "metadata": {},
   "source": [
    "# 事务"
   ]
  },
  {
   "cell_type": "markdown",
   "id": "ecee86d1",
   "metadata": {},
   "source": [
    "ACID\n",
    "\n",
    "* 原子性（Atomicity `ætəˈmɪsəti`）\n",
    "* 一致性（Consistency）\n",
    "* 隔离性（Isolation）\n",
    "* 持久性（Durability）"
   ]
  },
  {
   "cell_type": "markdown",
   "id": "95da5453",
   "metadata": {},
   "source": [
    "## 隔离级别"
   ]
  },
  {
   "cell_type": "markdown",
   "id": "2022488f",
   "metadata": {},
   "source": [
    "### 事务并发可能出现的问题"
   ]
  },
  {
   "cell_type": "markdown",
   "id": "3a787b9f",
   "metadata": {},
   "source": [
    "#### 脏读"
   ]
  },
  {
   "cell_type": "markdown",
   "id": "7780643d",
   "metadata": {},
   "source": [
    "#### 不可重构努复读"
   ]
  },
  {
   "cell_type": "markdown",
   "id": "41e6f683",
   "metadata": {},
   "source": [
    "#### 幻读"
   ]
  },
  {
   "cell_type": "markdown",
   "id": "af80b0ee",
   "metadata": {},
   "source": [
    "### 事务隔离级别"
   ]
  },
  {
   "cell_type": "markdown",
   "id": "4b8d086c",
   "metadata": {},
   "source": [
    "* READ UNCOMMITTED\n",
    "* READ COMMITTED\n",
    "* REPEATABLE READ\n",
    "* SERIALIZABLE"
   ]
  },
  {
   "cell_type": "markdown",
   "id": "85ce2be0",
   "metadata": {},
   "source": [
    "**MySQL默认是可重复读级别，且不存在不可重复读和幻读的问题。**"
   ]
  },
  {
   "cell_type": "markdown",
   "id": "9beb045b",
   "metadata": {},
   "source": [
    "设置会话隔离级别：`SET SESSION TRANSACTION ISOLATION LEVEL READ UNCOMMITTED;`"
   ]
  },
  {
   "cell_type": "markdown",
   "id": "9e5e8a23",
   "metadata": {},
   "source": [
    "#### 读未提交（READ UNCOMMITTED）"
   ]
  },
  {
   "cell_type": "markdown",
   "id": "601db6ff",
   "metadata": {},
   "source": [
    "#### 读已提交（READ COMMITTED）"
   ]
  },
  {
   "cell_type": "markdown",
   "id": "e2d676ea",
   "metadata": {},
   "source": [
    "#### 可重复读（REPEATABLE READ）"
   ]
  },
  {
   "cell_type": "markdown",
   "id": "e11c3c7d",
   "metadata": {},
   "source": [
    "#### 串行化（SERIALIZABLE）"
   ]
  }
 ],
 "metadata": {
  "kernelspec": {
   "display_name": "Python 3",
   "language": "python",
   "name": "python3"
  },
  "language_info": {
   "codemirror_mode": {
    "name": "ipython",
    "version": 3
   },
   "file_extension": ".py",
   "mimetype": "text/x-python",
   "name": "python",
   "nbconvert_exporter": "python",
   "pygments_lexer": "ipython3",
   "version": "3.7.10"
  },
  "toc": {
   "base_numbering": 1,
   "nav_menu": {},
   "number_sections": true,
   "sideBar": true,
   "skip_h1_title": false,
   "title_cell": "Table of Contents",
   "title_sidebar": "Contents",
   "toc_cell": false,
   "toc_position": {},
   "toc_section_display": true,
   "toc_window_display": true
  }
 },
 "nbformat": 4,
 "nbformat_minor": 5
}

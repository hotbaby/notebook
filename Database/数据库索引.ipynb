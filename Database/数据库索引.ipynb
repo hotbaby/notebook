{
 "cells": [
  {
   "cell_type": "markdown",
   "metadata": {},
   "source": [
    "# 数据库索引"
   ]
  },
  {
   "cell_type": "markdown",
   "metadata": {},
   "source": [
    "## 参考文献"
   ]
  },
  {
   "cell_type": "markdown",
   "metadata": {},
   "source": [
    "* [为什么MySQL用B+树](https://draveness.me/whys-the-design-mysql-b-plus-tree/)\n",
    "* [MySQL和InnoDB](https://draveness.me/mysql-innodb/)\n",
    "* [MySQL索引查询的原理](https://www.cnblogs.com/winner192/p/11747509.html)"
   ]
  },
  {
   "cell_type": "markdown",
   "metadata": {},
   "source": [
    "哈希、B树和B+树"
   ]
  },
  {
   "cell_type": "markdown",
   "metadata": {},
   "source": [
    "* 哈希可以`O(1)`时间复杂度操作当行数据，但对于范围查询和排序无法提供很好的支持，会导致全表扫描\n",
    "* B树数据可以存在非叶子节点，数据查询时可以带来更多的随机IO\n",
    "* B+树数据只存储在叶子节点中，可以将大部分数据结构加载到内存中，查询时减少磁盘IO，叶子节点数据通过指针连接，减少随机IO"
   ]
  },
  {
   "cell_type": "markdown",
   "metadata": {},
   "source": [
    "聚簇索引和辅助索引"
   ]
  },
  {
   "cell_type": "markdown",
   "metadata": {},
   "source": [
    "数据库中B+树索引可以聚簇索引（cluster index）和辅助索引（secondary index）。"
   ]
  }
 ],
 "metadata": {
  "kernelspec": {
   "display_name": "Python 3",
   "language": "python",
   "name": "python3"
  },
  "language_info": {
   "codemirror_mode": {
    "name": "ipython",
    "version": 3
   },
   "file_extension": ".py",
   "mimetype": "text/x-python",
   "name": "python",
   "nbconvert_exporter": "python",
   "pygments_lexer": "ipython3",
   "version": "3.8.11"
  },
  "toc": {
   "base_numbering": 1,
   "nav_menu": {},
   "number_sections": true,
   "sideBar": true,
   "skip_h1_title": false,
   "title_cell": "Table of Contents",
   "title_sidebar": "Contents",
   "toc_cell": false,
   "toc_position": {},
   "toc_section_display": true,
   "toc_window_display": false
  }
 },
 "nbformat": 4,
 "nbformat_minor": 4
}

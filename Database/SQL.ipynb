{
 "cells": [
  {
   "cell_type": "markdown",
   "id": "d1402786",
   "metadata": {},
   "source": [
    "# SQL"
   ]
  },
  {
   "cell_type": "markdown",
   "id": "9fbaed2f",
   "metadata": {},
   "source": [
    "## DML"
   ]
  },
  {
   "cell_type": "markdown",
   "id": "51146d44",
   "metadata": {},
   "source": [
    "Data Manipulation Language."
   ]
  },
  {
   "cell_type": "markdown",
   "id": "b6efcd7d",
   "metadata": {},
   "source": [
    "## DDL"
   ]
  },
  {
   "cell_type": "markdown",
   "id": "da2f016c",
   "metadata": {},
   "source": [
    "Data Definition Language."
   ]
  },
  {
   "cell_type": "markdown",
   "id": "6c78c49f",
   "metadata": {},
   "source": [
    "### 表"
   ]
  },
  {
   "cell_type": "markdown",
   "id": "97dd3100",
   "metadata": {},
   "source": [
    "### 创建表"
   ]
  },
  {
   "cell_type": "markdown",
   "id": "12f023a7",
   "metadata": {},
   "source": [
    "```sql\n",
    "create table test_index (\n",
    "    id int auto_increment primary key comment '主键',\n",
    "    create_time datetime not null comment '创建时间',\n",
    "    update_time datetime not null comment '更新时间'\n",
    ")engine=InnoDB default charset=utf8mb4;\n",
    "```"
   ]
  },
  {
   "cell_type": "markdown",
   "id": "2a08d4ab",
   "metadata": {},
   "source": [
    "### 查看表"
   ]
  },
  {
   "cell_type": "markdown",
   "id": "f4f59fc3",
   "metadata": {},
   "source": [
    "查看表创建详情："
   ]
  },
  {
   "cell_type": "markdown",
   "id": "75fdb6c5",
   "metadata": {},
   "source": [
    "```sql\n",
    "show create table `table_name` \\G;\n",
    "\n",
    "describe `table_name`;\n",
    "```"
   ]
  },
  {
   "cell_type": "markdown",
   "id": "d86f2cb3",
   "metadata": {},
   "source": [
    "查看所有表："
   ]
  },
  {
   "cell_type": "markdown",
   "id": "c9cf9283",
   "metadata": {},
   "source": [
    "```sql\n",
    "show tables;\n",
    "```"
   ]
  },
  {
   "cell_type": "markdown",
   "id": "57ba6188",
   "metadata": {},
   "source": [
    "### 删除表"
   ]
  },
  {
   "cell_type": "markdown",
   "id": "700a72dd",
   "metadata": {},
   "source": [
    "```sql\n",
    "drop table `table_name`;\n",
    "```"
   ]
  },
  {
   "cell_type": "markdown",
   "id": "7330e907",
   "metadata": {},
   "source": [
    "### 索引"
   ]
  },
  {
   "cell_type": "markdown",
   "id": "374324c5",
   "metadata": {},
   "source": [
    "#### 创建索引"
   ]
  },
  {
   "cell_type": "markdown",
   "id": "e332063c",
   "metadata": {},
   "source": [
    "创建普通索引："
   ]
  },
  {
   "cell_type": "markdown",
   "id": "00ffcac8",
   "metadata": {},
   "source": [
    "```sql\n",
    "alter table `table_name` add index `index_name`(`colume_name`);\n",
    "```"
   ]
  },
  {
   "cell_type": "markdown",
   "id": "fea104cb",
   "metadata": {},
   "source": [
    "创建多列索引："
   ]
  },
  {
   "cell_type": "markdown",
   "id": "f874e0c6",
   "metadata": {},
   "source": [
    "```sql\n",
    "alter table `table_name` add index `index_name`(`col1_name`, `col2_name`, `col3_name`);\n",
    "```"
   ]
  },
  {
   "cell_type": "markdown",
   "id": "b619b15c",
   "metadata": {},
   "source": [
    "创建唯一索引："
   ]
  },
  {
   "cell_type": "markdown",
   "id": "8c9f0dc3",
   "metadata": {},
   "source": [
    "```sql\n",
    "alter table `table_name` add unique index `index_name`(`col_name`);\n",
    "```"
   ]
  },
  {
   "cell_type": "markdown",
   "id": "3dfa20c4",
   "metadata": {},
   "source": [
    "#### 查看索引"
   ]
  },
  {
   "cell_type": "markdown",
   "id": "cf30e701",
   "metadata": {},
   "source": [
    "```sql\n",
    "show index from `table_name`;\n",
    "```"
   ]
  },
  {
   "cell_type": "markdown",
   "id": "5ebd3069",
   "metadata": {},
   "source": [
    "#### 删除索引"
   ]
  },
  {
   "cell_type": "markdown",
   "id": "93be4a7d",
   "metadata": {},
   "source": [
    "```sql\n",
    "drop index `index_name` on `table_name`;\n",
    "```"
   ]
  },
  {
   "cell_type": "markdown",
   "id": "9d29ee0d",
   "metadata": {},
   "source": [
    "#### 重名命名索引"
   ]
  },
  {
   "cell_type": "markdown",
   "id": "8dcfee2a",
   "metadata": {},
   "source": [
    "```sql\n",
    "alter table `table_name` rename index `old_name` to `new_name`;\n",
    "```"
   ]
  }
 ],
 "metadata": {
  "kernelspec": {
   "display_name": "Python 3",
   "language": "python",
   "name": "python3"
  },
  "language_info": {
   "codemirror_mode": {
    "name": "ipython",
    "version": 3
   },
   "file_extension": ".py",
   "mimetype": "text/x-python",
   "name": "python",
   "nbconvert_exporter": "python",
   "pygments_lexer": "ipython3",
   "version": "3.7.10"
  },
  "toc": {
   "base_numbering": 1,
   "nav_menu": {},
   "number_sections": true,
   "sideBar": true,
   "skip_h1_title": false,
   "title_cell": "Table of Contents",
   "title_sidebar": "Contents",
   "toc_cell": false,
   "toc_position": {},
   "toc_section_display": true,
   "toc_window_display": true
  }
 },
 "nbformat": 4,
 "nbformat_minor": 5
}

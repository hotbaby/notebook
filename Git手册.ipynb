{
 "cells": [
  {
   "cell_type": "markdown",
   "id": "fallen-stability",
   "metadata": {},
   "source": [
    "# Git手册"
   ]
  },
  {
   "cell_type": "markdown",
   "id": "noticed-general",
   "metadata": {},
   "source": [
    "## git submodule"
   ]
  },
  {
   "cell_type": "markdown",
   "id": "bottom-count",
   "metadata": {},
   "source": [
    "添加submodule"
   ]
  },
  {
   "cell_type": "markdown",
   "id": "cultural-communication",
   "metadata": {},
   "source": [
    "`git submodule add repo_url.git`"
   ]
  },
  {
   "cell_type": "markdown",
   "id": "willing-quilt",
   "metadata": {},
   "source": [
    "更新submodule"
   ]
  },
  {
   "cell_type": "markdown",
   "id": "seven-crack",
   "metadata": {},
   "source": [
    "\n",
    "`git submodule update --init --recursive [repo_name]`"
   ]
  }
 ],
 "metadata": {
  "kernelspec": {
   "display_name": "Python 3",
   "language": "python",
   "name": "python3"
  },
  "language_info": {
   "codemirror_mode": {
    "name": "ipython",
    "version": 3
   },
   "file_extension": ".py",
   "mimetype": "text/x-python",
   "name": "python",
   "nbconvert_exporter": "python",
   "pygments_lexer": "ipython3",
   "version": "3.7.9"
  },
  "toc": {
   "base_numbering": 1,
   "nav_menu": {},
   "number_sections": true,
   "sideBar": true,
   "skip_h1_title": false,
   "title_cell": "Table of Contents",
   "title_sidebar": "Contents",
   "toc_cell": false,
   "toc_position": {},
   "toc_section_display": true,
   "toc_window_display": false
  }
 },
 "nbformat": 4,
 "nbformat_minor": 5
}

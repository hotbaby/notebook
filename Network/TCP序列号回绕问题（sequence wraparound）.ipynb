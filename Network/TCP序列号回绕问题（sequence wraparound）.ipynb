{
 "cells": [
  {
   "cell_type": "markdown",
   "id": "4ced2580",
   "metadata": {},
   "source": [
    "# TCP序列号回绕问题（sequence wraparound）"
   ]
  },
  {
   "cell_type": "markdown",
   "id": "d64114eb",
   "metadata": {},
   "source": [
    "一个TCP流的初始化序列（ISN）并不是从0开始，而是采用一定的随机算法，因此ISN的值可能很大，经过一段时间后，seq号可能回绕到0。 对于TCP的丢包和乱序问题依赖于序列号的大小，此时就产生了序列号的回绕问题（sequence wraparound）。"
   ]
  },
  {
   "cell_type": "markdown",
   "id": "2fca03e2",
   "metadata": {},
   "source": [
    "kernel解决方案："
   ]
  },
  {
   "cell_type": "markdown",
   "id": "6d37bdbf",
   "metadata": {},
   "source": [
    "```c\n",
    "/*\n",
    "* The next routines deal with comparing 32 bit unsigned ints\n",
    "* and worry about wraparound (automatic with unsigned arithmetic).\n",
    "*/\n",
    "static inline int before(__u32 seq1, __u32 seq2)\n",
    "{\n",
    "    \n",
    "return (__s32)(seq1-seq2) < 0;\n",
    "}\n",
    "#define after(seq2, seq1) before(seq1, seq2)\n",
    "```"
   ]
  },
  {
   "cell_type": "markdown",
   "id": "98af8f96",
   "metadata": {},
   "source": [
    "`__u32`是无符号整数`unsigned integer`，`__s32`是有符号整数`signed integer`。"
   ]
  },
  {
   "cell_type": "markdown",
   "id": "66d7852a",
   "metadata": {},
   "source": [
    "将无符号整数`seq1`减去无符号整数`seq2`，再转换成有符号整数`diff`\n",
    "\n",
    "* 如果没有没有发生序列号回绕，则`diff`最高位为0，结果正数\n",
    "* 如果发生了回绕，则`diff`最高为为1，结果为负数"
   ]
  },
  {
   "cell_type": "markdown",
   "id": "8c903910",
   "metadata": {},
   "source": [
    "> 有符号整数，符号位为最高位，1表示负数，0表示正数。"
   ]
  },
  {
   "cell_type": "markdown",
   "id": "0d454bea",
   "metadata": {},
   "source": [
    "```\n",
    "seq1 - seq2=\n",
    "\n",
    "  1111 1111\n",
    "- 0000 0001\n",
    "-----------\n",
    "  1111 1110\n",
    "```"
   ]
  }
 ],
 "metadata": {
  "kernelspec": {
   "display_name": "Python 3",
   "language": "python",
   "name": "python3"
  },
  "language_info": {
   "codemirror_mode": {
    "name": "ipython",
    "version": 3
   },
   "file_extension": ".py",
   "mimetype": "text/x-python",
   "name": "python",
   "nbconvert_exporter": "python",
   "pygments_lexer": "ipython3",
   "version": "3.7.10"
  },
  "toc": {
   "base_numbering": 1,
   "nav_menu": {},
   "number_sections": true,
   "sideBar": true,
   "skip_h1_title": false,
   "title_cell": "Table of Contents",
   "title_sidebar": "Contents",
   "toc_cell": false,
   "toc_position": {},
   "toc_section_display": true,
   "toc_window_display": false
  }
 },
 "nbformat": 4,
 "nbformat_minor": 5
}

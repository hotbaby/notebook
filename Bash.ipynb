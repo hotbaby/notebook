{
 "cells": [
  {
   "cell_type": "markdown",
   "id": "accepting-anaheim",
   "metadata": {},
   "source": [
    "# Bash"
   ]
  },
  {
   "cell_type": "markdown",
   "id": "devoted-ranking",
   "metadata": {},
   "source": [
    "## for循环"
   ]
  },
  {
   "cell_type": "markdown",
   "id": "configured-batch",
   "metadata": {},
   "source": [
    "```shell\n",
    "for i in $(seq 1 10); do echo $i && sleep 1; done\n",
    "```"
   ]
  },
  {
   "cell_type": "markdown",
   "id": "amber-commander",
   "metadata": {},
   "source": [
    "## base64编解码"
   ]
  },
  {
   "cell_type": "markdown",
   "id": "patent-speaker",
   "metadata": {},
   "source": [
    "```shell\n",
    "echo -n 'password' | base64\n",
    "```"
   ]
  },
  {
   "cell_type": "code",
   "execution_count": 1,
   "id": "located-jackson",
   "metadata": {},
   "outputs": [
    {
     "name": "stdout",
     "output_type": "stream",
     "text": [
      "cGFzc3dvcmQ=\r\n"
     ]
    }
   ],
   "source": [
    "! echo -n 'password' | base64"
   ]
  },
  {
   "cell_type": "code",
   "execution_count": 2,
   "id": "extra-israeli",
   "metadata": {},
   "outputs": [
    {
     "name": "stdout",
     "output_type": "stream",
     "text": [
      "password"
     ]
    }
   ],
   "source": [
    "! echo -n 'cGFzc3dvcmQ=' | base64 -d"
   ]
  },
  {
   "cell_type": "code",
   "execution_count": 3,
   "id": "taken-third",
   "metadata": {},
   "outputs": [
    {
     "name": "stdout",
     "output_type": "stream",
     "text": [
      "b'password'\n"
     ]
    }
   ],
   "source": [
    "import base64\n",
    "\n",
    "print(base64.b64decode('cGFzc3dvcmQ='))"
   ]
  },
  {
   "cell_type": "markdown",
   "id": "ideal-honduras",
   "metadata": {},
   "source": [
    "## ssh"
   ]
  },
  {
   "cell_type": "markdown",
   "id": "representative-disease",
   "metadata": {},
   "source": [
    "ssh携带密码登录"
   ]
  },
  {
   "cell_type": "markdown",
   "id": "expensive-casino",
   "metadata": {},
   "source": [
    "```shell\n",
    "sudo apt install sshpass -y\n",
    "\n",
    "sshpass -p password ssh host -p port\n",
    "```"
   ]
  },
  {
   "cell_type": "markdown",
   "id": "designed-cache",
   "metadata": {},
   "source": [
    "例如：`sshpass -p hotbaby ssh hotbaby@localhost -p 9999`"
   ]
  }
 ],
 "metadata": {
  "kernelspec": {
   "display_name": "Python 3",
   "language": "python",
   "name": "python3"
  },
  "language_info": {
   "codemirror_mode": {
    "name": "ipython",
    "version": 3
   },
   "file_extension": ".py",
   "mimetype": "text/x-python",
   "name": "python",
   "nbconvert_exporter": "python",
   "pygments_lexer": "ipython3",
   "version": "3.7.9"
  },
  "toc": {
   "base_numbering": 1,
   "nav_menu": {},
   "number_sections": true,
   "sideBar": true,
   "skip_h1_title": false,
   "title_cell": "Table of Contents",
   "title_sidebar": "Contents",
   "toc_cell": false,
   "toc_position": {},
   "toc_section_display": true,
   "toc_window_display": true
  }
 },
 "nbformat": 4,
 "nbformat_minor": 5
}

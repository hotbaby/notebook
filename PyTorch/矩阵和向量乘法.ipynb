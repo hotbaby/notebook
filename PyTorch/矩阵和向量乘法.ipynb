{
 "cells": [
  {
   "cell_type": "markdown",
   "id": "c56ab2fb",
   "metadata": {},
   "source": [
    "# 向量和矩阵乘法"
   ]
  },
  {
   "cell_type": "code",
   "execution_count": 1,
   "id": "6c489fe6",
   "metadata": {},
   "outputs": [],
   "source": [
    "import torch\n",
    "import numpy as np"
   ]
  },
  {
   "cell_type": "markdown",
   "id": "1d46b238",
   "metadata": {},
   "source": [
    "## 向量乘法"
   ]
  },
  {
   "cell_type": "markdown",
   "id": "fb865155",
   "metadata": {},
   "source": [
    "![](https://bj.bcebos.com/ipic/dot-product_and_cross-product.png)"
   ]
  },
  {
   "cell_type": "code",
   "execution_count": 2,
   "id": "b1ede270",
   "metadata": {},
   "outputs": [],
   "source": [
    "a = torch.arange(1, 4)\n",
    "b = torch.arange(4, 7)"
   ]
  },
  {
   "cell_type": "code",
   "execution_count": 3,
   "id": "591ca347",
   "metadata": {},
   "outputs": [
    {
     "data": {
      "text/plain": [
       "(tensor([1, 2, 3]), tensor([4, 5, 6]))"
      ]
     },
     "execution_count": 3,
     "metadata": {},
     "output_type": "execute_result"
    }
   ],
   "source": [
    "a, b"
   ]
  },
  {
   "cell_type": "markdown",
   "id": "2889aa5a",
   "metadata": {},
   "source": [
    "### 内积（dot product）"
   ]
  },
  {
   "cell_type": "code",
   "execution_count": 4,
   "id": "bac8b582",
   "metadata": {},
   "outputs": [
    {
     "data": {
      "text/plain": [
       "tensor(32)"
      ]
     },
     "execution_count": 4,
     "metadata": {},
     "output_type": "execute_result"
    }
   ],
   "source": [
    "torch.dot(a, b)"
   ]
  },
  {
   "cell_type": "markdown",
   "id": "efee0caf",
   "metadata": {},
   "source": [
    "### 外积（cross product）"
   ]
  },
  {
   "cell_type": "code",
   "execution_count": 5,
   "id": "e22e1c2a",
   "metadata": {},
   "outputs": [
    {
     "data": {
      "text/plain": [
       "tensor([-3,  6, -3])"
      ]
     },
     "execution_count": 5,
     "metadata": {},
     "output_type": "execute_result"
    }
   ],
   "source": [
    "torch.cross(a, b)"
   ]
  },
  {
   "cell_type": "markdown",
   "id": "c48f094b",
   "metadata": {},
   "source": [
    "## 矩阵乘法"
   ]
  },
  {
   "cell_type": "code",
   "execution_count": 6,
   "id": "96e57cae",
   "metadata": {},
   "outputs": [],
   "source": [
    "x = torch.arange(1, 7).reshape((2, 3))\n",
    "y = torch.arange(1, 7).reshape((3, 2))"
   ]
  },
  {
   "cell_type": "code",
   "execution_count": 7,
   "id": "a3f1093e",
   "metadata": {},
   "outputs": [
    {
     "data": {
      "text/plain": [
       "tensor([[1, 2, 3],\n",
       "        [4, 5, 6]])"
      ]
     },
     "execution_count": 7,
     "metadata": {},
     "output_type": "execute_result"
    }
   ],
   "source": [
    "x"
   ]
  },
  {
   "cell_type": "code",
   "execution_count": 8,
   "id": "cebd08ef",
   "metadata": {},
   "outputs": [
    {
     "data": {
      "text/plain": [
       "tensor([[1, 2],\n",
       "        [3, 4],\n",
       "        [5, 6]])"
      ]
     },
     "execution_count": 8,
     "metadata": {},
     "output_type": "execute_result"
    }
   ],
   "source": [
    "y"
   ]
  },
  {
   "cell_type": "markdown",
   "id": "3cb43702",
   "metadata": {},
   "source": [
    "### 矩阵乘法"
   ]
  },
  {
   "cell_type": "markdown",
   "id": "86e31874",
   "metadata": {},
   "source": [
    "`torch.mm`、`torch.matmul`和`@`等价"
   ]
  },
  {
   "cell_type": "code",
   "execution_count": 9,
   "id": "816d9501",
   "metadata": {},
   "outputs": [
    {
     "data": {
      "text/plain": [
       "tensor([[22, 28],\n",
       "        [49, 64]])"
      ]
     },
     "execution_count": 9,
     "metadata": {},
     "output_type": "execute_result"
    }
   ],
   "source": [
    "torch.mm(x, y)"
   ]
  },
  {
   "cell_type": "code",
   "execution_count": 10,
   "id": "12a98e8d",
   "metadata": {},
   "outputs": [
    {
     "data": {
      "text/plain": [
       "tensor([[22, 28],\n",
       "        [49, 64]])"
      ]
     },
     "execution_count": 10,
     "metadata": {},
     "output_type": "execute_result"
    }
   ],
   "source": [
    "torch.matmul(x, y)"
   ]
  },
  {
   "cell_type": "code",
   "execution_count": 11,
   "id": "cfb42c9f",
   "metadata": {},
   "outputs": [
    {
     "data": {
      "text/plain": [
       "tensor([[22, 28],\n",
       "        [49, 64]])"
      ]
     },
     "execution_count": 11,
     "metadata": {},
     "output_type": "execute_result"
    }
   ],
   "source": [
    "x @ y"
   ]
  },
  {
   "cell_type": "markdown",
   "id": "39334456",
   "metadata": {},
   "source": [
    "### batch矩阵乘法"
   ]
  },
  {
   "cell_type": "code",
   "execution_count": 12,
   "id": "fe81911e",
   "metadata": {},
   "outputs": [],
   "source": [
    "bx = torch.arange(1, 13).reshape(2, 2, 3)\n",
    "by = torch.arange(1, 13).reshape(2, 3, 2)"
   ]
  },
  {
   "cell_type": "code",
   "execution_count": 13,
   "id": "dfae769f",
   "metadata": {},
   "outputs": [
    {
     "data": {
      "text/plain": [
       "tensor([[[ 1,  2,  3],\n",
       "         [ 4,  5,  6]],\n",
       "\n",
       "        [[ 7,  8,  9],\n",
       "         [10, 11, 12]]])"
      ]
     },
     "execution_count": 13,
     "metadata": {},
     "output_type": "execute_result"
    }
   ],
   "source": [
    "bx"
   ]
  },
  {
   "cell_type": "code",
   "execution_count": 14,
   "id": "ff1a9cb4",
   "metadata": {},
   "outputs": [
    {
     "data": {
      "text/plain": [
       "tensor([[[ 1,  2],\n",
       "         [ 3,  4],\n",
       "         [ 5,  6]],\n",
       "\n",
       "        [[ 7,  8],\n",
       "         [ 9, 10],\n",
       "         [11, 12]]])"
      ]
     },
     "execution_count": 14,
     "metadata": {},
     "output_type": "execute_result"
    }
   ],
   "source": [
    "by"
   ]
  },
  {
   "cell_type": "code",
   "execution_count": 15,
   "id": "97c9b578",
   "metadata": {},
   "outputs": [
    {
     "data": {
      "text/plain": [
       "tensor([[[ 22,  28],\n",
       "         [ 49,  64]],\n",
       "\n",
       "        [[220, 244],\n",
       "         [301, 334]]])"
      ]
     },
     "execution_count": 15,
     "metadata": {},
     "output_type": "execute_result"
    }
   ],
   "source": [
    "torch.bmm(bx, by)"
   ]
  },
  {
   "cell_type": "markdown",
   "id": "291cef48",
   "metadata": {},
   "source": [
    "### 矩阵点乘"
   ]
  },
  {
   "cell_type": "markdown",
   "id": "06926b9b",
   "metadata": {},
   "source": [
    "`torch.mul`和`*`等价"
   ]
  },
  {
   "cell_type": "code",
   "execution_count": 16,
   "id": "1299d804",
   "metadata": {},
   "outputs": [
    {
     "data": {
      "text/plain": [
       "tensor([[ 1,  4,  9],\n",
       "        [16, 25, 36]])"
      ]
     },
     "execution_count": 16,
     "metadata": {},
     "output_type": "execute_result"
    }
   ],
   "source": [
    "torch.mul(x.reshape((2, 3)), y.reshape((2, 3)))"
   ]
  },
  {
   "cell_type": "code",
   "execution_count": 17,
   "id": "aaaeb61a",
   "metadata": {},
   "outputs": [
    {
     "data": {
      "text/plain": [
       "tensor([[ 1,  4,  9],\n",
       "        [16, 25, 36]])"
      ]
     },
     "execution_count": 17,
     "metadata": {},
     "output_type": "execute_result"
    }
   ],
   "source": [
    "x.reshape((2, 3)) * y.reshape((2, 3))"
   ]
  },
  {
   "cell_type": "markdown",
   "id": "13d113b7",
   "metadata": {},
   "source": [
    "## 参考文献"
   ]
  },
  {
   "cell_type": "markdown",
   "id": "b08441b4",
   "metadata": {},
   "source": [
    "* https://www.whcsrl.com/blog/1296\n",
    "* https://www.cnblogs.com/long5683/p/11217466.html"
   ]
  }
 ],
 "metadata": {
  "kernelspec": {
   "display_name": "Python 3",
   "language": "python",
   "name": "python3"
  },
  "language_info": {
   "codemirror_mode": {
    "name": "ipython",
    "version": 3
   },
   "file_extension": ".py",
   "mimetype": "text/x-python",
   "name": "python",
   "nbconvert_exporter": "python",
   "pygments_lexer": "ipython3",
   "version": "3.7.10"
  },
  "toc": {
   "base_numbering": 1,
   "nav_menu": {},
   "number_sections": true,
   "sideBar": true,
   "skip_h1_title": false,
   "title_cell": "Table of Contents",
   "title_sidebar": "Contents",
   "toc_cell": false,
   "toc_position": {},
   "toc_section_display": true,
   "toc_window_display": true
  }
 },
 "nbformat": 4,
 "nbformat_minor": 5
}

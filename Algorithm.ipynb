{
 "cells": [
  {
   "cell_type": "markdown",
   "metadata": {
    "deletable": false,
    "editable": false,
    "run_control": {
     "frozen": true
    }
   },
   "source": [
    "## Algorithm"
   ]
  },
  {
   "cell_type": "markdown",
   "metadata": {
    "deletable": false,
    "editable": false,
    "run_control": {
     "frozen": true
    }
   },
   "source": [
    "### Quick Sort"
   ]
  },
  {
   "cell_type": "code",
   "execution_count": 33,
   "metadata": {
    "ExecuteTime": {
     "end_time": "2020-02-01T10:07:52.360631Z",
     "start_time": "2020-02-01T10:07:52.355941Z"
    },
    "deletable": false,
    "editable": false,
    "run_control": {
     "frozen": true
    }
   },
   "outputs": [],
   "source": [
    "def quick_sort(l):\n",
    "    if len(l) <= 1:\n",
    "        return l\n",
    "\n",
    "    pivot = l[0]\n",
    "    left = []\n",
    "    right = []\n",
    "\n",
    "    for item in l[1:]:\n",
    "        if item <= pivot:\n",
    "            left.append(item)\n",
    "        else:\n",
    "            right.append(item)\n",
    "\n",
    "    return quick_sort(left) + [pivot] + quick_sort(right)"
   ]
  },
  {
   "cell_type": "code",
   "execution_count": 50,
   "metadata": {
    "ExecuteTime": {
     "end_time": "2020-02-01T10:07:53.555731Z",
     "start_time": "2020-02-01T10:07:53.553313Z"
    },
    "deletable": false,
    "editable": false,
    "run_control": {
     "frozen": true
    }
   },
   "outputs": [
    {
     "data": {
      "text/plain": [
       "[1, 5, 7, 13, 45, 55, 65, 71, 75, 100]"
      ]
     },
     "execution_count": 50,
     "metadata": {},
     "output_type": "execute_result"
    }
   ],
   "source": [
    "import random\n",
    "\n",
    "l = [random.randint(0, 100) for _ in range(10)]\n",
    "quick_sort(l)"
   ]
  },
  {
   "cell_type": "markdown",
   "metadata": {
    "deletable": false,
    "editable": false,
    "run_control": {
     "frozen": true
    }
   },
   "source": [
    "### Merge Sorted List"
   ]
  },
  {
   "cell_type": "code",
   "execution_count": 60,
   "metadata": {
    "deletable": false,
    "editable": false,
    "run_control": {
     "frozen": true
    }
   },
   "outputs": [],
   "source": [
    "def merge(l1, l2):\n",
    "    l = []\n",
    "\n",
    "    i = 0\n",
    "    j = 0\n",
    "\n",
    "    while i < len(l1):\n",
    "        if l1[i] <= l2[j]:\n",
    "            l.append(l1[i])\n",
    "            i += 1\n",
    "        else:\n",
    "            l.append(l2[j])\n",
    "            j += 1\n",
    "    else:\n",
    "        l +=  l2[j:]\n",
    "\n",
    "    return l"
   ]
  },
  {
   "cell_type": "code",
   "execution_count": 61,
   "metadata": {
    "deletable": false,
    "editable": false,
    "run_control": {
     "frozen": true
    }
   },
   "outputs": [],
   "source": [
    "left = sorted([random.randint(0, 100) for _ in range(10)])\n",
    "right = sorted([random.randint(0, 100) for _ in range(10)])"
   ]
  },
  {
   "cell_type": "code",
   "execution_count": 62,
   "metadata": {
    "deletable": false,
    "editable": false,
    "run_control": {
     "frozen": true
    }
   },
   "outputs": [
    {
     "data": {
      "text/plain": [
       "[1, 7, 7, 12, 15, 30, 37, 44, 47, 56, 62, 63, 64, 69, 71, 78, 85, 87, 91, 93]"
      ]
     },
     "execution_count": 62,
     "metadata": {},
     "output_type": "execute_result"
    }
   ],
   "source": [
    "merge(left, right)"
   ]
  },
  {
   "cell_type": "markdown",
   "metadata": {
    "deletable": false,
    "editable": false,
    "run_control": {
     "frozen": true
    }
   },
   "source": [
    "### Dynamic Programming"
   ]
  },
  {
   "cell_type": "markdown",
   "metadata": {
    "deletable": false,
    "editable": false,
    "run_control": {
     "frozen": true
    }
   },
   "source": [
    "#### Fibnacci"
   ]
  },
  {
   "cell_type": "code",
   "execution_count": 76,
   "metadata": {
    "deletable": false,
    "editable": false,
    "run_control": {
     "frozen": true
    }
   },
   "outputs": [],
   "source": [
    "def fib(n):\n",
    "    if n == 0:\n",
    "        return 1\n",
    "    elif n == 1:\n",
    "        return 1\n",
    "    else:\n",
    "        return fib(n-1) + fib(n-2)"
   ]
  },
  {
   "cell_type": "code",
   "execution_count": 75,
   "metadata": {
    "deletable": false,
    "editable": false,
    "run_control": {
     "frozen": true
    },
    "scrolled": true
   },
   "outputs": [
    {
     "data": {
      "text/plain": [
       "8"
      ]
     },
     "execution_count": 75,
     "metadata": {},
     "output_type": "execute_result"
    }
   ],
   "source": [
    "fib(5)"
   ]
  },
  {
   "cell_type": "markdown",
   "metadata": {
    "deletable": false,
    "editable": false,
    "run_control": {
     "frozen": true
    }
   },
   "source": [
    "### Simulate Queue with Two Stacks"
   ]
  },
  {
   "cell_type": "code",
   "execution_count": 96,
   "metadata": {
    "deletable": false,
    "editable": false,
    "run_control": {
     "frozen": true
    }
   },
   "outputs": [],
   "source": [
    "class Stack(object):\n",
    "    def __init__(self,):\n",
    "        self.buf = []\n",
    "\n",
    "    def push(self, v):\n",
    "        self.buf.append(v)\n",
    "\n",
    "    def pop(self):\n",
    "        return self.buf.pop()\n",
    "\n",
    "    def empty(self):\n",
    "        return len(self.buf) == 0"
   ]
  },
  {
   "cell_type": "code",
   "execution_count": 97,
   "metadata": {
    "deletable": false,
    "editable": false,
    "run_control": {
     "frozen": true
    }
   },
   "outputs": [],
   "source": [
    "class Queue(object):\n",
    "    def __init__(self):\n",
    "        self.stack1 = Stack()\n",
    "        self.stack2 = Stack()\n",
    "\n",
    "    def enqueue(self, v):\n",
    "        self.stack1.push(v)\n",
    "\n",
    "    def dequeue(self):\n",
    "        if self.stack2.empty():\n",
    "            while not self.stack1.empty():\n",
    "                self.stack2.push(self.stack1.pop())\n",
    "\n",
    "        if not self.stack2.empty():\n",
    "            return self.stack2.pop()\n",
    "        else:\n",
    "            return None\n",
    "    \n",
    "    def empty(self):\n",
    "        return self.stack1.empty() and self.stack2.empty()"
   ]
  },
  {
   "cell_type": "code",
   "execution_count": 98,
   "metadata": {
    "deletable": false,
    "editable": false,
    "run_control": {
     "frozen": true
    }
   },
   "outputs": [
    {
     "name": "stdout",
     "output_type": "stream",
     "text": [
      "a\n",
      "b\n",
      "d\n",
      "e\n",
      "f\n",
      "a\n",
      "c\n"
     ]
    }
   ],
   "source": [
    "q = Queue()\n",
    "\n",
    "for item in list('abdefac'):\n",
    "    q.enqueue(item)\n",
    "\n",
    "while not q.empty():\n",
    "    print(q.dequeue())"
   ]
  },
  {
   "cell_type": "markdown",
   "metadata": {},
   "source": [
    "### 递归"
   ]
  },
  {
   "cell_type": "markdown",
   "metadata": {},
   "source": [
    "1. 递归函数要明确输入、输入是什么\n",
    "2. 子问题是什么\n",
    "3. 是否需要回溯"
   ]
  }
 ],
 "metadata": {
  "kernelspec": {
   "display_name": "Python 3",
   "language": "python",
   "name": "python3"
  },
  "language_info": {
   "codemirror_mode": {
    "name": "ipython",
    "version": 3
   },
   "file_extension": ".py",
   "mimetype": "text/x-python",
   "name": "python",
   "nbconvert_exporter": "python",
   "pygments_lexer": "ipython3",
   "version": "3.7.6"
  },
  "toc": {
   "base_numbering": 1,
   "nav_menu": {},
   "number_sections": true,
   "sideBar": true,
   "skip_h1_title": false,
   "title_cell": "Table of Contents",
   "title_sidebar": "Contents",
   "toc_cell": false,
   "toc_position": {},
   "toc_section_display": true,
   "toc_window_display": true
  }
 },
 "nbformat": 4,
 "nbformat_minor": 4
}

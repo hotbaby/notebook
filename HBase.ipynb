{
 "cells": [
  {
   "cell_type": "markdown",
   "id": "manufactured-playing",
   "metadata": {},
   "source": [
    "## 实现"
   ]
  },
  {
   "cell_type": "markdown",
   "id": "motivated-emission",
   "metadata": {},
   "source": [
    "每个HFile都有一个块索引，通过一个磁盘查找就可以实现查询。首先，在内存的块索引进行二分查找，确定可能包含给定健的块，然后读取磁盘块找到实际要找的健。"
   ]
  },
  {
   "cell_type": "markdown",
   "id": "labeled-cursor",
   "metadata": {},
   "source": [
    "每次更新数据时，都会将数据记录在提交日志（commit log）中，在HBase中叫做预写日志（write-ahead log，WAL），然后才将这些数据写入内存中memstore中，一旦内存保存的写入数据累计超过了一个给定的最大值，系统会将这些数据移除内存作为HFie文件刷新到磁盘。数据移除内存后，系统会丢弃对应的提交日志，只保留为持久化到磁盘的提交日志。"
   ]
  },
  {
   "cell_type": "markdown",
   "id": "immediate-chart",
   "metadata": {},
   "source": [
    "因为存储文件是不可被改变的，所以无法通过移除某个健/值对简单地的删除，可行的解决办法是，做个删除标记（delete marker，又称作墓碑标记），表明给定行已经删除的事实。"
   ]
  },
  {
   "cell_type": "markdown",
   "id": "solar-scope",
   "metadata": {},
   "source": [
    "返回数据是包含两部分数据合并的结果，一部分是memstore中还没有写入磁盘的数据，一部分是磁盘上存储的文件。检索时不会用到WALt，只有服务器内存中数据在服务器崩溃前没有写入到磁盘，而后进行恢复数据时才会用到WAL。"
   ]
  },
  {
   "cell_type": "markdown",
   "id": "respected-seeker",
   "metadata": {},
   "source": [
    "HBase架构"
   ]
  },
  {
   "cell_type": "markdown",
   "id": "statutory-drama",
   "metadata": {},
   "source": [
    "![HBase架构](https://bj.bcebos.com/ipic/HBase架构.jpg)"
   ]
  },
  {
   "cell_type": "markdown",
   "id": "otherwise-dominant",
   "metadata": {},
   "source": [
    "HBase有3个主要的组件，客户端库、主服务器和多个Region服务器。"
   ]
  },
  {
   "cell_type": "markdown",
   "id": "understood-velvet",
   "metadata": {},
   "source": [
    "master服务器负责跨region服务器的全局region的负载均衡，将繁忙的服务中的region移动负载较轻的服务器中。主服务器不是实际数据存储或者检索路径的组成部分，它仅提供了负载均衡和集群管理。此外，主服务器还提供了元数据的管理操作，例如：建表和创建列簇（Column Family）。"
   ]
  },
  {
   "cell_type": "markdown",
   "id": "continuous-bunny",
   "metadata": {},
   "source": [
    "### 小结"
   ]
  },
  {
   "cell_type": "markdown",
   "id": "biblical-timer",
   "metadata": {},
   "source": [
    "HBase是一个分布式、强一致性的存储系统，具有近似最优的写性能和出色读性能。"
   ]
  }
 ],
 "metadata": {
  "kernelspec": {
   "display_name": "Python 3",
   "language": "python",
   "name": "python3"
  },
  "language_info": {
   "codemirror_mode": {
    "name": "ipython",
    "version": 3
   },
   "file_extension": ".py",
   "mimetype": "text/x-python",
   "name": "python",
   "nbconvert_exporter": "python",
   "pygments_lexer": "ipython3",
   "version": "3.7.9"
  },
  "toc": {
   "base_numbering": 1,
   "nav_menu": {},
   "number_sections": true,
   "sideBar": true,
   "skip_h1_title": false,
   "title_cell": "Table of Contents",
   "title_sidebar": "Contents",
   "toc_cell": false,
   "toc_position": {},
   "toc_section_display": true,
   "toc_window_display": false
  }
 },
 "nbformat": 4,
 "nbformat_minor": 5
}

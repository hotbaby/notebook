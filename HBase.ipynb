{
 "cells": [
  {
   "cell_type": "markdown",
   "id": "graphic-sacrifice",
   "metadata": {},
   "source": [
    "# HBase"
   ]
  },
  {
   "cell_type": "markdown",
   "id": "vulnerable-diving",
   "metadata": {},
   "source": [
    "## 参考文献"
   ]
  },
  {
   "cell_type": "markdown",
   "id": "concrete-walker",
   "metadata": {},
   "source": [
    "* *https://docs.cloudera.com/runtime/7.2.10/managing-hbase/topics/hbase-perform-scans-using-hbase-shell.html*"
   ]
  },
  {
   "cell_type": "markdown",
   "id": "manufactured-playing",
   "metadata": {},
   "source": [
    "## 实现"
   ]
  },
  {
   "cell_type": "markdown",
   "id": "motivated-emission",
   "metadata": {},
   "source": [
    "每个HFile都有一个块索引，通过一个磁盘查找就可以实现查询。首先，在内存的块索引进行二分查找，确定可能包含给定健的块，然后读取磁盘块找到实际要找的健。"
   ]
  },
  {
   "cell_type": "markdown",
   "id": "labeled-cursor",
   "metadata": {},
   "source": [
    "每次更新数据时，都会将数据记录在提交日志（commit log）中，在HBase中叫做预写日志（write-ahead log，WAL），然后才将这些数据写入内存中memstore中，一旦内存保存的写入数据累计超过了一个给定的最大值，系统会将这些数据移除内存作为HFie文件刷新到磁盘。数据移除内存后，系统会丢弃对应的提交日志，只保留为持久化到磁盘的提交日志。"
   ]
  },
  {
   "cell_type": "markdown",
   "id": "immediate-chart",
   "metadata": {},
   "source": [
    "因为存储文件是不可被改变的，所以无法通过移除某个健/值对简单地的删除，可行的解决办法是，做个删除标记（delete marker，又称作墓碑标记），表明给定行已经删除的事实。"
   ]
  },
  {
   "cell_type": "markdown",
   "id": "solar-scope",
   "metadata": {},
   "source": [
    "返回数据是包含两部分数据合并的结果，一部分是memstore中还没有写入磁盘的数据，一部分是磁盘上存储的文件。检索时不会用到WAL，只有服务器内存中数据在服务器崩溃前没有写入到磁盘，而后进行恢复数据时才会用到WAL。"
   ]
  },
  {
   "cell_type": "markdown",
   "id": "respected-seeker",
   "metadata": {},
   "source": [
    "HBase架构"
   ]
  },
  {
   "cell_type": "markdown",
   "id": "statutory-drama",
   "metadata": {},
   "source": [
    "![HBase架构](https://bj.bcebos.com/ipic/HBase架构.jpg)"
   ]
  },
  {
   "cell_type": "markdown",
   "id": "otherwise-dominant",
   "metadata": {},
   "source": [
    "HBase有3个主要的组件，客户端库、主服务器和多个Region服务器。"
   ]
  },
  {
   "cell_type": "markdown",
   "id": "understood-velvet",
   "metadata": {},
   "source": [
    "master服务器负责跨region服务器的全局region的负载均衡，将繁忙的服务中的region移动负载较轻的服务器中。主服务器不是实际数据存储或者检索路径的组成部分，它仅提供了负载均衡和集群管理。此外，主服务器还提供了元数据的管理操作，例如：建表和创建列簇（Column Family）。"
   ]
  },
  {
   "cell_type": "markdown",
   "id": "continuous-bunny",
   "metadata": {},
   "source": [
    "### 小结"
   ]
  },
  {
   "cell_type": "markdown",
   "id": "biblical-timer",
   "metadata": {},
   "source": [
    "HBase是一个分布式、强一致性的存储系统，具有近似最优的写性能和出色读性能。"
   ]
  },
  {
   "cell_type": "markdown",
   "id": "protected-pound",
   "metadata": {},
   "source": [
    "## HBase数据模型"
   ]
  },
  {
   "cell_type": "markdown",
   "id": "usual-advantage",
   "metadata": {},
   "source": [
    "![](https://pic3.zhimg.com/80/v2-22e7f861a6a079a558a1fb173dbd8b9e_1440w.jpg)"
   ]
  },
  {
   "cell_type": "markdown",
   "id": "numerous-accountability",
   "metadata": {},
   "source": [
    "* `rowkey`是HBase行记录的唯一值\n",
    "* HBase必须`Column Family`，后有`Column`，`Column`必须归属到某个`Column Family`"
   ]
  },
  {
   "cell_type": "markdown",
   "id": "unexpected-current",
   "metadata": {},
   "source": [
    "![](https://pic4.zhimg.com/80/v2-5c2c05489dc0c4af823d26641dc0e477_1440w.jpg)"
   ]
  },
  {
   "cell_type": "markdown",
   "id": "ahead-fitting",
   "metadata": {},
   "source": [
    "HBase本质上是一个Key-Value数据库\n",
    "\n",
    "* key为RowKey+ColumnFamily+ColumnQualifier+Timestamp+KeyType\n",
    "* 删除数据，`KeyType`设置\"DELETE\""
   ]
  },
  {
   "cell_type": "markdown",
   "id": "residential-yemen",
   "metadata": {},
   "source": [
    "## HBase Shell"
   ]
  },
  {
   "cell_type": "markdown",
   "id": "tropical-missile",
   "metadata": {},
   "source": [
    "### HBase Shell基础操作"
   ]
  },
  {
   "cell_type": "markdown",
   "id": "smart-breast",
   "metadata": {},
   "source": [
    "#### 查看所有表"
   ]
  },
  {
   "cell_type": "markdown",
   "id": "photographic-raleigh",
   "metadata": {},
   "source": [
    "```shell\n",
    "list\n",
    "```"
   ]
  },
  {
   "cell_type": "markdown",
   "id": "rental-omega",
   "metadata": {},
   "source": [
    "#### 查看表的Schema"
   ]
  },
  {
   "cell_type": "markdown",
   "id": "crazy-password",
   "metadata": {},
   "source": [
    "```shell\n",
    "describe 'table_name'\n",
    "```"
   ]
  },
  {
   "cell_type": "markdown",
   "id": "specialized-pleasure",
   "metadata": {},
   "source": [
    "#### 创建表"
   ]
  },
  {
   "cell_type": "markdown",
   "id": "million-effectiveness",
   "metadata": {},
   "source": [
    "```shell\n",
    "create 'table_nanme', 'column_family_name'\n",
    "```"
   ]
  },
  {
   "cell_type": "markdown",
   "id": "structured-institution",
   "metadata": {},
   "source": [
    "#### 数据写入"
   ]
  },
  {
   "cell_type": "markdown",
   "id": "sublime-cause",
   "metadata": {},
   "source": [
    "```shell\n",
    "put 'table_name', 'row_key', 'column', 'value'\n",
    "```"
   ]
  },
  {
   "cell_type": "markdown",
   "id": "martial-beverage",
   "metadata": {},
   "source": [
    "#### 数据读取"
   ]
  },
  {
   "cell_type": "markdown",
   "id": "representative-level",
   "metadata": {},
   "source": [
    "```shell\n",
    "get 'table_name', 'rowkey'\n",
    "```"
   ]
  },
  {
   "cell_type": "markdown",
   "id": "removable-baghdad",
   "metadata": {},
   "source": [
    "#### 数据扫描"
   ]
  },
  {
   "cell_type": "markdown",
   "id": "systematic-retailer",
   "metadata": {},
   "source": [
    "```shell\n",
    "scan 'table_name'\n",
    "\n",
    "# limit 1\n",
    "scan 'table_name', {LIMIT=>1}\n",
    "\n",
    "# scan rowkey prefix\n",
    "scan 'table_name',  {ROWPREFIXFILTER => 'phone_md5'}\n",
    "```"
   ]
  },
  {
   "cell_type": "markdown",
   "id": "exotic-nancy",
   "metadata": {},
   "source": [
    "#### 禁用表"
   ]
  },
  {
   "cell_type": "markdown",
   "id": "twelve-sailing",
   "metadata": {},
   "source": [
    "```shell\n",
    "disable 'table_name'\n",
    "```"
   ]
  },
  {
   "cell_type": "markdown",
   "id": "demographic-plumbing",
   "metadata": {},
   "source": [
    "#### 删除表"
   ]
  },
  {
   "cell_type": "markdown",
   "id": "stone-evans",
   "metadata": {},
   "source": [
    "```shell\n",
    "drop 'table_name'\n",
    "```"
   ]
  },
  {
   "cell_type": "markdown",
   "id": "acute-oxygen",
   "metadata": {},
   "source": [
    "> 删除表之前，必须禁用表"
   ]
  },
  {
   "cell_type": "markdown",
   "id": "stock-affair",
   "metadata": {},
   "source": [
    "### HBase过滤器"
   ]
  },
  {
   "cell_type": "markdown",
   "id": "brutal-limit",
   "metadata": {},
   "source": [
    "#### LIMIT"
   ]
  },
  {
   "cell_type": "markdown",
   "id": "composed-reach",
   "metadata": {},
   "source": [
    "```shell\n",
    "scan 'table_name', {LIMIT=>1}\n",
    "```"
   ]
  },
  {
   "cell_type": "markdown",
   "id": "atlantic-blowing",
   "metadata": {},
   "source": [
    "#### ROWPREFIXFILTER"
   ]
  },
  {
   "cell_type": "markdown",
   "id": "lightweight-application",
   "metadata": {},
   "source": [
    "```shell\n",
    "scan 'table_name', {ROWPREFIXFILTER=>'prefix_name'}\n",
    "```"
   ]
  },
  {
   "cell_type": "markdown",
   "id": "hawaiian-frost",
   "metadata": {},
   "source": [
    "#### TIMERANGE"
   ]
  },
  {
   "cell_type": "markdown",
   "id": "swiss-concern",
   "metadata": {},
   "source": [
    "```shell\n",
    "scan 'table_name', {TIMERANGE=>[1636473600000, 1636493600000], LIMIT=>1}\n",
    "```"
   ]
  },
  {
   "cell_type": "markdown",
   "id": "personalized-community",
   "metadata": {},
   "source": [
    "> 按时间范围查找，时间戳的单位为毫秒"
   ]
  },
  {
   "cell_type": "markdown",
   "id": "dimensional-adjustment",
   "metadata": {},
   "source": [
    "#### ValueFilter"
   ]
  },
  {
   "cell_type": "markdown",
   "id": "coastal-identifier",
   "metadata": {},
   "source": [
    "```shell\n",
    " scan 'table_name', {COLUMNS=>'info:type', FILTER=>\"ValueFilter(=, 'substring:6')\", LIMIT=>1}\n",
    "```"
   ]
  },
  {
   "cell_type": "markdown",
   "id": "agricultural-hotel",
   "metadata": {},
   "source": [
    "> 根据字段值查找"
   ]
  }
 ],
 "metadata": {
  "kernelspec": {
   "display_name": "Python 3",
   "language": "python",
   "name": "python3"
  },
  "language_info": {
   "codemirror_mode": {
    "name": "ipython",
    "version": 3
   },
   "file_extension": ".py",
   "mimetype": "text/x-python",
   "name": "python",
   "nbconvert_exporter": "python",
   "pygments_lexer": "ipython3",
   "version": "3.7.9"
  },
  "toc": {
   "base_numbering": 1,
   "nav_menu": {},
   "number_sections": true,
   "sideBar": true,
   "skip_h1_title": false,
   "title_cell": "Table of Contents",
   "title_sidebar": "Contents",
   "toc_cell": false,
   "toc_position": {
    "height": "calc(100% - 180px)",
    "left": "10px",
    "top": "150px",
    "width": "286.7124938964844px"
   },
   "toc_section_display": true,
   "toc_window_display": true
  }
 },
 "nbformat": 4,
 "nbformat_minor": 5
}

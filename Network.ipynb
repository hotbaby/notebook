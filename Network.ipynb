{
 "cells": [
  {
   "cell_type": "markdown",
   "metadata": {},
   "source": [
    "# Network"
   ]
  },
  {
   "cell_type": "markdown",
   "metadata": {},
   "source": [
    "## 参考文献"
   ]
  },
  {
   "cell_type": "markdown",
   "metadata": {},
   "source": [
    "* https://zhangbinalan.gitbooks.io/protocol/content/chapter1.html"
   ]
  },
  {
   "cell_type": "markdown",
   "metadata": {},
   "source": [
    "## TCP"
   ]
  },
  {
   "cell_type": "markdown",
   "metadata": {},
   "source": [
    "#### TCP 报文"
   ]
  },
  {
   "cell_type": "markdown",
   "metadata": {},
   "source": [
    "![](https://bj.bcebos.com/ipic/TCP报文格式.gif)"
   ]
  },
  {
   "cell_type": "markdown",
   "metadata": {
    "ExecuteTime": {
     "end_time": "2020-02-01T09:46:04.365815Z",
     "start_time": "2020-02-01T09:46:04.362472Z"
    }
   },
   "source": [
    "### TCP 有限状态机"
   ]
  },
  {
   "cell_type": "markdown",
   "metadata": {},
   "source": [
    "<img src=\"https://bj.bcebos.com/ipic/TCP状态机.jpeg\" width=\"70%\">"
   ]
  },
  {
   "cell_type": "markdown",
   "metadata": {},
   "source": [
    "#### CLOSE_WAIT"
   ]
  },
  {
   "cell_type": "markdown",
   "metadata": {},
   "source": [
    "**CLOSE_WAIT是TCP被动关闭的一方在收到FIN包回复ACK后进入的状态，如果服务处于该状态的连接过多，一般可能是应用程序没有或不能正常关闭TCP连接，需要重点关注。**"
   ]
  },
  {
   "cell_type": "markdown",
   "metadata": {},
   "source": [
    "#### TIME_WAIT"
   ]
  },
  {
   "cell_type": "markdown",
   "metadata": {},
   "source": [
    "TIME_WAIT是主动关闭TCP的一方发送回复对方FIN发送ACK之后进入的状态。需要等待2MSL释放该连接。"
   ]
  },
  {
   "cell_type": "markdown",
   "metadata": {},
   "source": [
    "什么是2MSL？"
   ]
  },
  {
   "cell_type": "markdown",
   "metadata": {},
   "source": [
    "MSL（Maximum Segment Lifetime）最大报文生存时间。主动关闭的一方需要等待2MSL才能从TIME_WAIT状态变迁到CLOSED状态。"
   ]
  },
  {
   "cell_type": "markdown",
   "metadata": {},
   "source": [
    "为什么需要2MSL？"
   ]
  },
  {
   "cell_type": "markdown",
   "metadata": {},
   "source": [
    "我们假设网络是不可靠的，因此无法保证最后的ACK报文一定能被对方收到，当对方处于LAST_ACK状态的socket可能因为超时重新发送FIN报文，当socket处于TIME_WAIT状态时，可以接受对方的FIN重新发送ACK。"
   ]
  },
  {
   "cell_type": "markdown",
   "metadata": {},
   "source": [
    "## HTTP"
   ]
  },
  {
   "cell_type": "markdown",
   "metadata": {
    "ExecuteTime": {
     "end_time": "2020-02-01T09:57:38.636852Z",
     "start_time": "2020-02-01T09:57:38.633183Z"
    }
   },
   "source": [
    "*https://developer.mozilla.org/zh-CN/docs/Web/HTTP/Overview*"
   ]
  },
  {
   "cell_type": "markdown",
   "metadata": {
    "ExecuteTime": {
     "end_time": "2020-02-01T09:58:20.643150Z",
     "start_time": "2020-02-01T09:58:20.526655Z"
    }
   },
   "source": [
    "![](https://media.prod.mdn.mozit.cloud/attachments/2016/08/09/13687/5d4c4719f4099d5342a5093bdf4a8843/HTTP_Request.png)\n",
    "    "
   ]
  },
  {
   "cell_type": "markdown",
   "metadata": {
    "ExecuteTime": {
     "end_time": "2020-02-01T09:58:31.563701Z",
     "start_time": "2020-02-01T09:58:31.446106Z"
    }
   },
   "source": [
    "![](https://media.prod.mdn.mozit.cloud/attachments/2016/08/09/13691/58390536967466a1a59ba98d06f43433/HTTP_Response.png)"
   ]
  },
  {
   "cell_type": "markdown",
   "metadata": {},
   "source": [
    "### HTTPS"
   ]
  },
  {
   "cell_type": "markdown",
   "metadata": {},
   "source": [
    "*https://zhuanlan.zhihu.com/p/102597710*"
   ]
  },
  {
   "cell_type": "markdown",
   "metadata": {},
   "source": [
    "HTTPS分为两个大的步骤：\n",
    "\n",
    "1. 非对称的加解密\n",
    "2. 对称加解密"
   ]
  },
  {
   "cell_type": "markdown",
   "metadata": {},
   "source": [
    "![](https://pic2.zhimg.com/80/v2-cd198e0929f583fb87cffe9686edf901_hd.jpg)"
   ]
  },
  {
   "cell_type": "markdown",
   "metadata": {},
   "source": [
    "## NetFilter"
   ]
  },
  {
   "cell_type": "markdown",
   "metadata": {},
   "source": [
    "Netfilter是内核防火墙框架，可以实现网络安全策略的很多功能，包括包过滤、数据包处理、地址伪装、逃命代理、网络地址转换（NAT）等。"
   ]
  },
  {
   "cell_type": "markdown",
   "metadata": {},
   "source": [
    "iptables是基于Netfilter接口配置Netfilter配置表。"
   ]
  },
  {
   "cell_type": "markdown",
   "metadata": {},
   "source": [
    "iptables内置了4张表和5条链，4张表分别为RAW、Mangle、NAT和Filter表，5条链又叫做数据包的5个挂载点（Hook Point，可以将其理解为回调函数点，再数据包到达这些位置时，内核会主动调用回调函数），分别是PREROUTING、INPUT、OUTPUT、FORWARD和POSTROUTING。"
   ]
  },
  {
   "cell_type": "markdown",
   "metadata": {},
   "source": [
    "对于不同表的相同链执行顺序，iptables定义了优先级，该优先级从高到低分别raw、mangle、nat和filter。例如，对于PREROUTING链，首先执行raw表的规则，然后执行mangle表的规则，最后执行nat表的规则。"
   ]
  },
  {
   "cell_type": "markdown",
   "metadata": {},
   "source": [
    "![](https://bj.bcebos.com/ipic/iptables表和链的关系.jpg)"
   ]
  },
  {
   "cell_type": "markdown",
   "metadata": {},
   "source": [
    "### iptables 4张表"
   ]
  },
  {
   "cell_type": "markdown",
   "metadata": {},
   "source": [
    "1. Filter表"
   ]
  },
  {
   "cell_type": "markdown",
   "metadata": {},
   "source": [
    "Filter表是iptables的默认表，如果在创建规则时未指定表，那么默认使用Filter表，主要用于包过滤、根据具体规则决定是否放行该数据包（DROP、ACCEPT、REJECT、LOG）"
   ]
  },
  {
   "cell_type": "markdown",
   "metadata": {},
   "source": [
    "Filter表包含了如下三种内建链：\n",
    "\n",
    "* INPUT链：过滤目的地址是本地的所有数据包\n",
    "* OUTPUT链：过滤本机产生的所有数据包\n",
    "* FORWARD链：过滤经过本机的所有数据包（原地址和目的地址都不是本机）"
   ]
  },
  {
   "cell_type": "markdown",
   "metadata": {},
   "source": [
    "2. NAT表"
   ]
  },
  {
   "cell_type": "markdown",
   "metadata": {},
   "source": [
    "NAT表主要用于修改数据包的IP地址、端口的呢更信息，包含了以下三种内建链：\n",
    "\n",
    "* PREROUTING链：DNAT，处理刚到本机并在路由转发前转换数据包的目的地址\n",
    "* POSTORUTING链：SNAT，处理即将离开本机的数据包，转换数据包的原地址\n",
    "* OUTPUT链：MASQUERADE，改变本地产生的数据包的原地址"
   ]
  },
  {
   "cell_type": "markdown",
   "metadata": {},
   "source": [
    "3. Mangle表"
   ]
  },
  {
   "cell_type": "markdown",
   "metadata": {},
   "source": [
    "主要用于修改数据包的TOS、TTL，以及数据包设置Mark标记，已实现QoS调整以及策略路由，它包含了PREROUTING、POSTOURTING、INPUT、OUTPUT和FORWARD。"
   ]
  },
  {
   "cell_type": "markdown",
   "metadata": {},
   "source": [
    "4. Raw表"
   ]
  },
  {
   "cell_type": "markdown",
   "metadata": {},
   "source": [
    "Raw表是iptables在1.2.9版本后新增的表，主要用于决定数据包是否被状态跟踪机制处理。RAW表的规则要优于其他表，包含了两条规则链：OUTPUT和PREROUTING。"
   ]
  },
  {
   "cell_type": "markdown",
   "metadata": {},
   "source": [
    "### iptables规则链处理数据包的时机"
   ]
  },
  {
   "cell_type": "markdown",
   "metadata": {},
   "source": [
    "![iptables规则链处理数据包的时机](https://bj.bcebos.com/ipic/iptables规则链处理数据包的时机.jpg)"
   ]
  },
  {
   "cell_type": "markdown",
   "metadata": {},
   "source": [
    "* 网卡接收数据包后进入内核协议栈被PREROUTING规则链处理，之后由内核协议栈进行路由选择，如果数据包的目的地址是本机，则内核协议栈会将其传给INPUT链处理，INPUT链在允许通过后，数据包由内核空间进入用户空间，被主机进程处理\n",
    "* 如果PREROUTING链处理后的数据包的目的地址不是本机地址，则将其传给FORWARD链进行处理，最后交给POSTROUTING链\n",
    "* 本机进程发出的数据包首先进行路由选择，然后经过OUTPUT链，然后打到POSTROUTING链"
   ]
  },
  {
   "cell_type": "markdown",
   "metadata": {},
   "source": [
    "### iptables规则"
   ]
  },
  {
   "cell_type": "markdown",
   "metadata": {},
   "source": [
    "iptables语法：`iptables [-t 表名] 管理选项 [链名] [条件匹配] [-j 目标动作或跳转]`"
   ]
  },
  {
   "cell_type": "markdown",
   "metadata": {},
   "source": [
    "如果不指定表名，则默认使用filter表；如果不指定链名，则默认设置该表的所有链。"
   ]
  },
  {
   "cell_type": "markdown",
   "metadata": {},
   "source": [
    "* `[-t 表名]`，指定操作那张表，默认为filter表\n",
    "* `-A`，在规则链的最后新增一条规则\n",
    "* `-I`，插入一条规则，原来在该位置的规则向后移动，如果没有指定编号，则默认为1\n",
    "* `-R`，替换某条规则，不会改变规则的顺序\n",
    "* `-P`，设置某条规则的默认动作\n",
    "* `-N`，创建一个新的规则链\n",
    "* `-nL`，查看当前的规则列表\n",
    "* `[-p 协议类型]`，指定规则应用的协议，包括tcp、udp、icmp等\n",
    "* `[-s 源IP地址]`，源主机的IP地址\n",
    "* `[--sport 源端口号]`，数据包的IP的源端口号\n",
    "* `[-d 目标地址]`，目标主机的IP地址\n",
    "* `[--dport 目标端口号]`，数据包的IP的目的端口号"
   ]
  },
  {
   "cell_type": "markdown",
   "metadata": {},
   "source": [
    "![](https://bj.bcebos.com/ipic/iptables命令参数.jpg)"
   ]
  },
  {
   "cell_type": "markdown",
   "metadata": {},
   "source": [
    "先指定表名（未指定默认为filter表），再指定链名，最后指定个动作。\n",
    "\n",
    "示例：\n",
    "\n",
    "`iptables -t raw -A OUTPUT -p icmp -j TRACE`\n",
    "\n",
    "`iptbales -t raw -A POSTROUTING -p icmp -j TRACE`"
   ]
  },
  {
   "cell_type": "markdown",
   "metadata": {},
   "source": [
    "> 通过上述配置，可以在`/var/log/syslog`里看到数据包的传输日志了。"
   ]
  }
 ],
 "metadata": {
  "kernelspec": {
   "display_name": "Python 3",
   "language": "python",
   "name": "python3"
  },
  "language_info": {
   "codemirror_mode": {
    "name": "ipython",
    "version": 3
   },
   "file_extension": ".py",
   "mimetype": "text/x-python",
   "name": "python",
   "nbconvert_exporter": "python",
   "pygments_lexer": "ipython3",
   "version": "3.7.9"
  },
  "toc": {
   "base_numbering": 1,
   "nav_menu": {
    "height": "593px",
    "width": "205px"
   },
   "number_sections": true,
   "sideBar": true,
   "skip_h1_title": false,
   "title_cell": "Table of Contents",
   "title_sidebar": "Contents",
   "toc_cell": false,
   "toc_position": {
    "height": "calc(100% - 180px)",
    "left": "10px",
    "top": "150px",
    "width": "409.6px"
   },
   "toc_section_display": true,
   "toc_window_display": true
  }
 },
 "nbformat": 4,
 "nbformat_minor": 4
}

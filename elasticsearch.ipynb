{
 "cells": [
  {
   "cell_type": "markdown",
   "id": "fleet-planet",
   "metadata": {},
   "source": [
    "# Elasticsearch"
   ]
  },
  {
   "cell_type": "markdown",
   "id": "improved-inquiry",
   "metadata": {},
   "source": [
    "## 安装Elasticsearch和Kibana"
   ]
  },
  {
   "cell_type": "markdown",
   "id": "adjusted-child",
   "metadata": {},
   "source": [
    "```shell\n",
    "# 安装Elasticsearch\n",
    "docker run -d --restart always \\\n",
    "              --name elasticsearch \\\n",
    "              -p 9200:9200 \\\n",
    "              -p 9300:9300 \\\n",
    "              -e \"discovery.type=single-node\" \\\n",
    "              -v /data/elasticsearch/data:/usr/share/elasticsearch/data \\\n",
    "              -v /data/elasticsearch/logs:/usr/share/elasticsearch/logs \\\n",
    "              elasticsearch:6.7.2\n",
    "\n",
    "\n",
    "# 安装Kibana\n",
    "docker run -d --restart always \\\n",
    "              --name kibana \\\n",
    "              -p 5601:5601 \\\n",
    "              --link elasticsearch \\\n",
    "              kibana:6.7.2\n",
    "```"
   ]
  },
  {
   "cell_type": "markdown",
   "id": "tribal-producer",
   "metadata": {},
   "source": [
    "## 索引管理"
   ]
  },
  {
   "cell_type": "markdown",
   "id": "diverse-audit",
   "metadata": {},
   "source": [
    "### 创建索引"
   ]
  },
  {
   "cell_type": "markdown",
   "id": "spectacular-perth",
   "metadata": {},
   "source": [
    "参考文献： https://www.elastic.co/guide/cn/elasticsearch/guide/current/_add-an-index.html"
   ]
  },
  {
   "cell_type": "markdown",
   "id": "driven-argentina",
   "metadata": {},
   "source": [
    "请求报文："
   ]
  },
  {
   "cell_type": "markdown",
   "id": "persistent-sleeping",
   "metadata": {},
   "source": [
    "```json\n",
    "PUT /my_index\n",
    "{\n",
    "  \"settings\": {\n",
    "    \"number_of_replicas\": 1,\n",
    "    \"number_of_shards\": 1\n",
    "  }\n",
    "}\n",
    "```"
   ]
  },
  {
   "cell_type": "markdown",
   "id": "processed-sociology",
   "metadata": {},
   "source": [
    "> HTTP方式使用`PUT`"
   ]
  },
  {
   "cell_type": "markdown",
   "id": "handled-highway",
   "metadata": {},
   "source": [
    "响应报文："
   ]
  },
  {
   "cell_type": "markdown",
   "id": "through-burns",
   "metadata": {},
   "source": [
    "```json\n",
    "{\n",
    "  \"acknowledged\" : true,\n",
    "  \"shards_acknowledged\" : true,\n",
    "  \"index\" : \"my_index\"\n",
    "}\n",
    "```"
   ]
  },
  {
   "cell_type": "markdown",
   "id": "oriental-universe",
   "metadata": {},
   "source": [
    "### 查看索引"
   ]
  },
  {
   "cell_type": "markdown",
   "id": "increased-symphony",
   "metadata": {},
   "source": [
    "#### 查看索引"
   ]
  },
  {
   "cell_type": "markdown",
   "id": "personalized-professional",
   "metadata": {},
   "source": [
    "请求报文："
   ]
  },
  {
   "cell_type": "markdown",
   "id": "dynamic-denver",
   "metadata": {},
   "source": [
    "```http\n",
    "GET /my_index\n",
    "```"
   ]
  },
  {
   "cell_type": "markdown",
   "id": "educated-greene",
   "metadata": {},
   "source": [
    "响应报文："
   ]
  },
  {
   "cell_type": "markdown",
   "id": "presidential-surprise",
   "metadata": {},
   "source": [
    "```json\n",
    "{\n",
    "  \"my_index\" : {\n",
    "    \"aliases\" : { },\n",
    "    \"mappings\" : { },\n",
    "    \"settings\" : {\n",
    "      \"index\" : {\n",
    "        \"creation_date\" : \"1640341377828\",\n",
    "        \"number_of_shards\" : \"1\",\n",
    "        \"number_of_replicas\" : \"1\",\n",
    "        \"uuid\" : \"0UIbkQH6QK6b5WUifpb0dw\",\n",
    "        \"version\" : {\n",
    "          \"created\" : \"6070299\"\n",
    "        },\n",
    "        \"provided_name\" : \"my_index\"\n",
    "      }\n",
    "    }\n",
    "  }\n",
    "}\n",
    "```"
   ]
  },
  {
   "cell_type": "markdown",
   "id": "strong-generic",
   "metadata": {},
   "source": [
    "#### 查看索引`mappings`"
   ]
  },
  {
   "cell_type": "markdown",
   "id": "imposed-harris",
   "metadata": {},
   "source": [
    "```http\n",
    "PUT /my_index/_doc/1\n",
    "{\n",
    "  \"name\": \"孟阳阳\",\n",
    "  \"birthday\": \"2021-01-01\"\n",
    "}\n",
    "```"
   ]
  },
  {
   "cell_type": "markdown",
   "id": "eight-ordinance",
   "metadata": {},
   "source": [
    "请求报文："
   ]
  },
  {
   "cell_type": "markdown",
   "id": "solved-donor",
   "metadata": {},
   "source": [
    "```http\n",
    "GET /my_index/_mappings\n",
    "```"
   ]
  },
  {
   "cell_type": "markdown",
   "id": "metropolitan-dubai",
   "metadata": {},
   "source": [
    "响应报文："
   ]
  },
  {
   "cell_type": "markdown",
   "id": "narrow-midwest",
   "metadata": {},
   "source": [
    "```json\n",
    "{\n",
    "  \"my_index\" : {\n",
    "    \"mappings\" : {\n",
    "      \"_doc\" : {\n",
    "        \"properties\" : {\n",
    "          \"birthday\" : {\n",
    "            \"type\" : \"date\"\n",
    "          },\n",
    "          \"name\" : {\n",
    "            \"type\" : \"text\",\n",
    "            \"fields\" : {\n",
    "              \"keyword\" : {\n",
    "                \"type\" : \"keyword\",\n",
    "                \"ignore_above\" : 256\n",
    "              }\n",
    "            }\n",
    "          }\n",
    "        }\n",
    "      }\n",
    "    }\n",
    "  }\n",
    "}\n",
    "```"
   ]
  },
  {
   "cell_type": "markdown",
   "id": "chinese-tunnel",
   "metadata": {},
   "source": [
    "#### 查看索引`settings`"
   ]
  },
  {
   "cell_type": "markdown",
   "id": "requested-resistance",
   "metadata": {},
   "source": [
    "请求报文："
   ]
  },
  {
   "cell_type": "markdown",
   "id": "engaged-vampire",
   "metadata": {},
   "source": [
    "```http\n",
    "GET /my_index/_settings\n",
    "```"
   ]
  },
  {
   "cell_type": "markdown",
   "id": "expressed-norman",
   "metadata": {},
   "source": [
    "响应报文："
   ]
  },
  {
   "cell_type": "markdown",
   "id": "nasty-stanley",
   "metadata": {},
   "source": [
    "```json\n",
    "{\n",
    "  \"my_index\" : {\n",
    "    \"settings\" : {\n",
    "      \"index\" : {\n",
    "        \"creation_date\" : \"1640341377828\",\n",
    "        \"number_of_shards\" : \"1\",\n",
    "        \"number_of_replicas\" : \"1\",\n",
    "        \"uuid\" : \"0UIbkQH6QK6b5WUifpb0dw\",\n",
    "        \"version\" : {\n",
    "          \"created\" : \"6070299\"\n",
    "        },\n",
    "        \"provided_name\" : \"my_index\"\n",
    "      }\n",
    "    }\n",
    "  }\n",
    "}\n",
    "```"
   ]
  },
  {
   "cell_type": "markdown",
   "id": "derived-history",
   "metadata": {},
   "source": [
    "## 文档管理"
   ]
  },
  {
   "cell_type": "markdown",
   "id": "afraid-developer",
   "metadata": {},
   "source": [
    "### 创建文档"
   ]
  },
  {
   "cell_type": "markdown",
   "id": "collected-fifth",
   "metadata": {},
   "source": [
    "请求报文："
   ]
  },
  {
   "cell_type": "markdown",
   "id": "noted-canal",
   "metadata": {},
   "source": [
    "```http\n",
    "PUT /my_index/_doc/1\n",
    "{\n",
    "  \"name\": \"孟阳阳\",\n",
    "  \"birthday\": \"2021-01-01\"\n",
    "}\n",
    "```"
   ]
  },
  {
   "cell_type": "markdown",
   "id": "proprietary-history",
   "metadata": {},
   "source": [
    "响应报文"
   ]
  },
  {
   "cell_type": "markdown",
   "id": "surface-agent",
   "metadata": {},
   "source": [
    "```json\n",
    "{\n",
    "  \"_index\" : \"my_index\",\n",
    "  \"_type\" : \"_doc\",\n",
    "  \"_id\" : \"2\",\n",
    "  \"_version\" : 1,\n",
    "  \"result\" : \"created\",\n",
    "  \"_shards\" : {\n",
    "    \"total\" : 2,\n",
    "    \"successful\" : 1,\n",
    "    \"failed\" : 0\n",
    "  },\n",
    "  \"_seq_no\" : 2,\n",
    "  \"_primary_term\" : 1\n",
    "}\n",
    "\n",
    "```"
   ]
  },
  {
   "cell_type": "markdown",
   "id": "portable-cylinder",
   "metadata": {},
   "source": [
    "### 查看文档"
   ]
  },
  {
   "cell_type": "markdown",
   "id": "charged-boost",
   "metadata": {},
   "source": [
    "请求报文："
   ]
  },
  {
   "cell_type": "markdown",
   "id": "reasonable-oasis",
   "metadata": {},
   "source": [
    "```http\n",
    "GET /my_index/_doc/1\n",
    "```"
   ]
  },
  {
   "cell_type": "markdown",
   "id": "governmental-animation",
   "metadata": {},
   "source": [
    "响应报文："
   ]
  },
  {
   "cell_type": "markdown",
   "id": "engaging-flower",
   "metadata": {},
   "source": [
    "```json\n",
    "{\n",
    "  \"_index\" : \"my_index\",\n",
    "  \"_type\" : \"_doc\",\n",
    "  \"_id\" : \"1\",\n",
    "  \"_version\" : 2,\n",
    "  \"_seq_no\" : 1,\n",
    "  \"_primary_term\" : 1,\n",
    "  \"found\" : true,\n",
    "  \"_source\" : {\n",
    "    \"name\" : \"孟阳阳\",\n",
    "    \"birthday\" : \"2021-01-01\"\n",
    "  }\n",
    "}\n",
    "```"
   ]
  }
 ],
 "metadata": {
  "kernelspec": {
   "display_name": "Python 3",
   "language": "python",
   "name": "python3"
  },
  "language_info": {
   "codemirror_mode": {
    "name": "ipython",
    "version": 3
   },
   "file_extension": ".py",
   "mimetype": "text/x-python",
   "name": "python",
   "nbconvert_exporter": "python",
   "pygments_lexer": "ipython3",
   "version": "3.7.9"
  },
  "toc": {
   "base_numbering": 1,
   "nav_menu": {},
   "number_sections": true,
   "sideBar": true,
   "skip_h1_title": false,
   "title_cell": "Table of Contents",
   "title_sidebar": "Contents",
   "toc_cell": false,
   "toc_position": {},
   "toc_section_display": true,
   "toc_window_display": true
  }
 },
 "nbformat": 4,
 "nbformat_minor": 5
}

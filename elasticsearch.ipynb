{
 "cells": [
  {
   "cell_type": "markdown",
   "id": "improved-inquiry",
   "metadata": {},
   "source": [
    "安装Elasticsearch和Kibana"
   ]
  },
  {
   "cell_type": "markdown",
   "id": "adjusted-child",
   "metadata": {},
   "source": [
    "```shell\n",
    "# 安装Elasticsearch\n",
    "docker run -d --restart always \\\n",
    "              --name elasticsearch \\\n",
    "              -p 9200:9200 \\\n",
    "              -p 9300:9300 \\\n",
    "              -e \"discovery.type=single-node\" \\\n",
    "              -v /data/elasticsearch/data:/usr/share/elasticsearch/data \\\n",
    "              -v /data/elasticsearch/logs:/usr/share/elasticsearch/logs \\\n",
    "              elasticsearch:6.7.2\n",
    "\n",
    "\n",
    "# 安装Kibana\n",
    "docker run -d --restart always \\\n",
    "              --name kibana \\\n",
    "              -p 5601:5601 \\\n",
    "              --link elasticsearch \\\n",
    "              kibana:6.7.2\n",
    "```"
   ]
  }
 ],
 "metadata": {
  "kernelspec": {
   "display_name": "Python 3",
   "language": "python",
   "name": "python3"
  },
  "language_info": {
   "codemirror_mode": {
    "name": "ipython",
    "version": 3
   },
   "file_extension": ".py",
   "mimetype": "text/x-python",
   "name": "python",
   "nbconvert_exporter": "python",
   "pygments_lexer": "ipython3",
   "version": "3.7.9"
  },
  "toc": {
   "base_numbering": 1,
   "nav_menu": {},
   "number_sections": true,
   "sideBar": true,
   "skip_h1_title": false,
   "title_cell": "Table of Contents",
   "title_sidebar": "Contents",
   "toc_cell": false,
   "toc_position": {},
   "toc_section_display": true,
   "toc_window_display": false
  }
 },
 "nbformat": 4,
 "nbformat_minor": 5
}

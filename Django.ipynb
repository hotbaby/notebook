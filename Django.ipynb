{
 "cells": [
  {
   "cell_type": "markdown",
   "metadata": {
    "deletable": false,
    "editable": false,
    "run_control": {
     "frozen": true
    }
   },
   "source": [
    "## Django"
   ]
  },
  {
   "cell_type": "markdown",
   "metadata": {
    "deletable": false,
    "editable": false,
    "run_control": {
     "frozen": true
    }
   },
   "source": [
    "### Django MVT"
   ]
  },
  {
   "cell_type": "markdown",
   "metadata": {
    "deletable": false,
    "editable": false,
    "run_control": {
     "frozen": true
    }
   },
   "source": [
    "![](https://processon.com/chart_image/5c1ca66ce4b095ccfeea964d.png)"
   ]
  },
  {
   "cell_type": "markdown",
   "metadata": {
    "deletable": false,
    "editable": false,
    "run_control": {
     "frozen": true
    }
   },
   "source": [
    "### WSGI"
   ]
  },
  {
   "cell_type": "markdown",
   "metadata": {
    "deletable": false,
    "editable": false,
    "run_control": {
     "frozen": true
    }
   },
   "source": [
    "WSGI(Web Service Gateway Interface)定义了WEB服务器与Python WEB应用程序标准接口，提高了WEB 应用在不同WEB服务的可移植性。\n",
    "\n",
    "WSGI接口包含两侧：服务器（或者网关）侧和应用框架侧。服务器调用应用程序侧的callable对象。\n",
    "\n",
    "一个callable对象可以是一个函数、方法、类或者有__call__方法的对象实例。\n"
   ]
  },
  {
   "cell_type": "markdown",
   "metadata": {
    "deletable": false,
    "editable": false,
    "run_control": {
     "frozen": true
    }
   },
   "source": [
    "#### Application"
   ]
  },
  {
   "cell_type": "markdown",
   "metadata": {
    "deletable": false,
    "editable": false,
    "run_control": {
     "frozen": true
    }
   },
   "source": [
    "```python\n",
    "\n",
    "def simple_app(environ, start_response):\n",
    "    \"\"\"Simple possible application object\"\"\"\n",
    "    status = '200 OK'\n",
    "    response_headers = [('Content-Type', 'text/plain')]\n",
    "    start_respnse(status, respone_headers)\n",
    "    return ['Hello World!\\n']\n",
    "\n",
    "\n",
    "class AppClass(object):\n",
    "    \"\"\"Produce the same object, but using a class\"\"\"\n",
    "    def __init__(self, environ, start_response):\n",
    "        self.environ = environ\n",
    "        self.start = start_response\n",
    "\n",
    "    def __iter__(self):\n",
    "        status = '200 OK'\n",
    "        respones_headers = [('Content-Type', 'text/plain')]\n",
    "        self.start(status, response_headers)\n",
    "        yield 'Hello World!\\n'\n",
    "```"
   ]
  },
  {
   "cell_type": "markdown",
   "metadata": {
    "deletable": false,
    "editable": false,
    "run_control": {
     "frozen": true
    }
   },
   "source": [
    "#### Web Service"
   ]
  },
  {
   "cell_type": "markdown",
   "metadata": {
    "deletable": false,
    "editable": false,
    "run_control": {
     "frozen": true
    }
   },
   "source": [
    "```python\n",
    "\n",
    "def run_with_cgi(application):\n",
    "    environ = dict(os.environ.items())\n",
    "    environ['wsgi.input'] = sys.stdin\n",
    "    environ['wsgi.errors'] = sys.stderr\n",
    "    environ['wsgi.version'] = (1, 0)\n",
    "    environ['wsgi.multithread'] = True\n",
    "    environ['wsgi.multiprocess'] = True\n",
    "    environ['wsgi.run_once'] = True\n",
    "    environ['wgi.url_scheme'] = 'http'\n",
    "\n",
    "    headers_set = []\n",
    "    headers_sent = []\n",
    "    \n",
    "    def write(data):\n",
    "        if not headers_set:\n",
    "            raise AssertionError('write() before start_respones()')\n",
    "        elif not headers_sent:\n",
    "            # Before the first outpu, send the stored headers\n",
    "            status, respone_headers = headers_sent[:] = headers_set\n",
    "            sys.stdout.write('Status: %s\\r\\n' % status)\n",
    "            for header in respone_headers:\n",
    "                sys.stdout.write('%s: %s\\rn\\n' % header)\n",
    "            sys.stdout.write('\\r\\n')\n",
    "\n",
    "        sys.stdout.write(data)\n",
    "        sys.stdout.flush()\n",
    "\n",
    "    def start_response(status, respone_headers):\n",
    "        headers_set[:] = [status, respone_headers]\n",
    "        return write\n",
    "\n",
    "    result = application(environ, start_response)\n",
    "    try:\n",
    "        for data in resutl:\n",
    "            if data:\n",
    "                write(data)     # 直到body出现，才发送status, headers数据\n",
    "\n",
    "        if not headers_sent:\n",
    "            write('')   # 如果body为空，发送status, headers数据\n",
    "    finally:\n",
    "        if hasattr(result, 'close'):\n",
    "            result.close()\n",
    "```"
   ]
  },
  {
   "cell_type": "markdown",
   "metadata": {
    "deletable": false,
    "editable": false,
    "run_control": {
     "frozen": true
    }
   },
   "source": [
    "### Django Middelware"
   ]
  },
  {
   "cell_type": "markdown",
   "metadata": {
    "deletable": false,
    "editable": false,
    "run_control": {
     "frozen": true
    }
   },
   "source": [
    "* *https://github.com/django/deps/blob/master/final/0005-improved-middleware.rst*\n",
    "* *https://docs.djangoproject.com/en/1.10/topics/http/middleware/*"
   ]
  },
  {
   "cell_type": "markdown",
   "metadata": {
    "deletable": false,
    "editable": false,
    "run_control": {
     "frozen": true
    }
   },
   "source": [
    "\n",
    "```python\n",
    "class MiddlewareMixin:\n",
    "    def __init__(self, get_response=None):\n",
    "        self.get_response = get_response\n",
    "        super().__init__()\n",
    "\n",
    "    def __call__(self, request):\n",
    "        response = None\n",
    "        if hasattr(self, 'process_request'):\n",
    "            response = self.process_request(request)\n",
    "        response = response or self.get_response(request)\n",
    "        if hasattr(self, 'process_response'):\n",
    "            response = self.process_response(request, response)\n",
    "        return response\n",
    "```"
   ]
  },
  {
   "cell_type": "markdown",
   "metadata": {
    "deletable": false,
    "editable": false,
    "run_control": {
     "frozen": true
    }
   },
   "source": [
    "```python\n",
    "from django.utils.depreaction import MiddlewareMixin\n",
    "\n",
    "\n",
    "class ExampleMiddleware(MiddlewareMixin):\n",
    "    def process_request(self, request):\n",
    "        return None\n",
    "\n",
    "    def process_exceptions(self, request, exception):\n",
    "        return None  # or return HttpResponse()\n",
    "\n",
    "    def process_response(self, request, response):\n",
    "        return response\n",
    "```"
   ]
  },
  {
   "cell_type": "markdown",
   "metadata": {
    "deletable": false,
    "editable": false,
    "run_control": {
     "frozen": true
    }
   },
   "source": [
    "#### Load middleware"
   ]
  },
  {
   "cell_type": "markdown",
   "metadata": {
    "deletable": false,
    "editable": false,
    "run_control": {
     "frozen": true
    }
   },
   "source": [
    "```python\n",
    "class WSGIHandler(base.BaseHandler):\n",
    "    request_class = WSGIRequest\n",
    "\n",
    "    def __init__(self, *args, **kwargs):\n",
    "        super().__init__(*args, **kwargs)\n",
    "        self.load_middleware()\n",
    "```"
   ]
  },
  {
   "cell_type": "markdown",
   "metadata": {
    "deletable": false,
    "editable": false,
    "run_control": {
     "frozen": true
    }
   },
   "source": [
    "```python\n",
    "\n",
    "class BaseHandler:\n",
    "    _view_middleware = None\n",
    "    _template_response_middleware = None\n",
    "    _exception_middleware = None\n",
    "    _middleware_chain = None\n",
    "\n",
    "    def load_middleware(self):\n",
    "        \"\"\"\n",
    "        Populate middleware lists from settings.MIDDLEWARE.\n",
    "\n",
    "        Must be called after the environment is fixed (see __call__ in subclasses).\n",
    "        \"\"\"\n",
    "        self._view_middleware = []\n",
    "        self._template_response_middleware = []\n",
    "        self._exception_middleware = []\n",
    "\n",
    "        handler = convert_exception_to_response(self._get_response)\n",
    "        for middleware_path in reversed(settings.MIDDLEWARE):\n",
    "            middleware = import_string(middleware_path)\n",
    "            try:\n",
    "                mw_instance = middleware(handler)\n",
    "            except MiddlewareNotUsed as exc:\n",
    "                if settings.DEBUG:\n",
    "                    if str(exc):\n",
    "                        logger.debug('MiddlewareNotUsed(%r): %s', middleware_path, exc)\n",
    "                    else:\n",
    "                        logger.debug('MiddlewareNotUsed: %r', middleware_path)\n",
    "                continue\n",
    "\n",
    "            if mw_instance is None:\n",
    "                raise ImproperlyConfigured(\n",
    "                    'Middleware factory %s returned None.' % middleware_path\n",
    "                )\n",
    "\n",
    "            if hasattr(mw_instance, 'process_view'):\n",
    "                self._view_middleware.insert(0, mw_instance.process_view)\n",
    "            if hasattr(mw_instance, 'process_template_response'):\n",
    "                self._template_response_middleware.append(mw_instance.process_template_response)\n",
    "            if hasattr(mw_instance, 'process_exception'):\n",
    "                self._exception_middleware.append(mw_instance.process_exception)\n",
    "\n",
    "            handler = convert_exception_to_response(mw_instance)\n",
    "\n",
    "        # We only assign to this when initialization is complete as it is used\n",
    "        # as a flag for initialization being complete.\n",
    "        self._middleware_chain = handler\n",
    "```"
   ]
  },
  {
   "cell_type": "markdown",
   "metadata": {
    "deletable": false,
    "editable": false,
    "run_control": {
     "frozen": true
    }
   },
   "source": [
    "#### Run Middleware"
   ]
  },
  {
   "cell_type": "markdown",
   "metadata": {
    "deletable": false,
    "editable": false,
    "run_control": {
     "frozen": true
    }
   },
   "source": [
    "```python\n",
    "class WSGIHandler(base.BaseHandler):\n",
    "    request_class = WSGIRequest\n",
    "\n",
    "    def __call__(self, environ, start_response):\n",
    "        set_script_prefix(get_script_name(environ))\n",
    "        signals.request_started.send(sender=self.__class__, environ=environ)\n",
    "        request = self.request_class(environ)\n",
    "        response = self.get_response(request)\n",
    "```"
   ]
  },
  {
   "cell_type": "markdown",
   "metadata": {
    "deletable": false,
    "editable": false,
    "run_control": {
     "frozen": true
    }
   },
   "source": [
    "```python\n",
    "\n",
    "class BaseHandler:\n",
    "    _view_middleware = None\n",
    "    _template_response_middleware = None\n",
    "    _exception_middleware = None\n",
    "    _middleware_chain = None\n",
    "\n",
    "    def get_response(self, request):\n",
    "        \"\"\"Return an HttpResponse object for the given HttpRequest.\"\"\"\n",
    "        # Setup default url resolver for this thread\n",
    "        set_urlconf(settings.ROOT_URLCONF)\n",
    "        response = self._middleware_chain(request)\n",
    "        response._closable_objects.append(request)\n",
    "        if response.status_code >= 400:\n",
    "            log_response(\n",
    "                '%s: %s', response.reason_phrase, request.path,\n",
    "                response=response,\n",
    "                request=request,\n",
    "            )\n",
    "        return response\n",
    "\n",
    "```"
   ]
  },
  {
   "cell_type": "markdown",
   "metadata": {
    "deletable": false,
    "editable": false,
    "run_control": {
     "frozen": true
    }
   },
   "source": [
    "### Django Signal"
   ]
  },
  {
   "cell_type": "markdown",
   "metadata": {
    "deletable": false,
    "editable": false,
    "run_control": {
     "frozen": true
    }
   },
   "source": [
    "信号实现了一个复杂系统中子系统之间的解耦，一个子系统的状态发生改变时，通过信号同步（或通知）其他依赖于该系统的系统更新状态，实现了状态的一致性。"
   ]
  },
  {
   "cell_type": "markdown",
   "metadata": {
    "deletable": false,
    "editable": false,
    "run_control": {
     "frozen": true
    }
   },
   "source": [
    "#### Theory"
   ]
  },
  {
   "cell_type": "markdown",
   "metadata": {
    "deletable": false,
    "editable": false,
    "run_control": {
     "frozen": true
    }
   },
   "source": [
    "##### Create Signal"
   ]
  },
  {
   "cell_type": "markdown",
   "metadata": {
    "deletable": false,
    "editable": false,
    "run_control": {
     "frozen": true
    }
   },
   "source": [
    "```python\n",
    "class Signal:\n",
    "    \"\"\"\n",
    "    Base class for all signals\n",
    "\n",
    "    Internal attributes:\n",
    "\n",
    "        receivers\n",
    "            { receiverkey (id) : weakref(receiver) }\n",
    "    \"\"\"\n",
    "    def __init__(self, providing_args=None, use_caching=False):\n",
    "        \"\"\"\n",
    "        Create a new signal.\n",
    "\n",
    "        providing_args\n",
    "            A list of the arguments this signal can pass along in a send() call.\n",
    "        \"\"\"\n",
    "        self.receivers = []\n",
    "        if providing_args is None:\n",
    "            providing_args = []\n",
    "        self.providing_args = set(providing_args)\n",
    "        self.lock = threading.Lock()\n",
    "        self.use_caching = use_caching\n",
    "        # For convenience we create empty caches even if they are not used.\n",
    "        # A note about caching: if use_caching is defined, then for each\n",
    "        # distinct sender we cache the receivers that sender has in\n",
    "        # 'sender_receivers_cache'. The cache is cleaned when .connect() or\n",
    "        # .disconnect() is called and populated on send().\n",
    "        self.sender_receivers_cache = weakref.WeakKeyDictionary() if use_caching else {}\n",
    "        self._dead_receivers = False\n",
    "```"
   ]
  },
  {
   "cell_type": "markdown",
   "metadata": {
    "deletable": false,
    "editable": false,
    "run_control": {
     "frozen": true
    }
   },
   "source": [
    "> lock 保证线程安全\n",
    "\n",
    "> 为了防止调用被释放了对象，信号内部保持对receiver调用对象的弱引用，每次发送信号之前，检查该对象是否存在，如果不存在，则标记_dead_receivers为True,等待清楚。"
   ]
  },
  {
   "cell_type": "markdown",
   "metadata": {
    "deletable": false,
    "editable": false,
    "run_control": {
     "frozen": true
    }
   },
   "source": [
    "##### Connect Signal"
   ]
  },
  {
   "cell_type": "code",
   "execution_count": 10,
   "metadata": {
    "deletable": false,
    "editable": false,
    "run_control": {
     "frozen": true
    }
   },
   "outputs": [],
   "source": [
    "\n",
    "class Signal():\n",
    "\n",
    "    def connect(self, receiver, sender=None, weak=True, dispatch_uid=None):\n",
    "        \"\"\"\n",
    "        Connect receiver to sender for signal.\n",
    "\n",
    "        Arguments:\n",
    "\n",
    "            receiver\n",
    "                A function or an instance method which is to receive signals.\n",
    "                Receivers must be hashable objects.\n",
    "\n",
    "                If weak is True, then receiver must be weak referenceable.\n",
    "\n",
    "                Receivers must be able to accept keyword arguments.\n",
    "\n",
    "                If a receiver is connected with a dispatch_uid argument, it\n",
    "                will not be added if another receiver was already connected\n",
    "                with that dispatch_uid.\n",
    "\n",
    "            sender\n",
    "                The sender to which the receiver should respond. Must either be\n",
    "                a Python object, or None to receive events from any sender.\n",
    "\n",
    "            weak\n",
    "                Whether to use weak references to the receiver. By default, the\n",
    "                module will attempt to use weak references to the receiver\n",
    "                objects. If this parameter is false, then strong references will\n",
    "                be used.\n",
    "\n",
    "            dispatch_uid\n",
    "                An identifier used to uniquely identify a particular instance of\n",
    "                a receiver. This will usually be a string, though it may be\n",
    "                anything hashable.\n",
    "        \"\"\"\n",
    "        from django.conf import settings\n",
    "\n",
    "        # If DEBUG is on, check that we got a good receiver\n",
    "        if settings.configured and settings.DEBUG:\n",
    "            assert callable(receiver), \"Signal receivers must be callable.\"\n",
    "\n",
    "            # Check for **kwargs\n",
    "            if not func_accepts_kwargs(receiver):\n",
    "                raise ValueError(\"Signal receivers must accept keyword arguments (**kwargs).\")\n",
    "\n",
    "        if dispatch_uid:\n",
    "            lookup_key = (dispatch_uid, _make_id(sender))\n",
    "        else:\n",
    "            lookup_key = (_make_id(receiver), _make_id(sender))\n",
    "\n",
    "        if weak:\n",
    "            ref = weakref.ref\n",
    "            receiver_object = receiver\n",
    "            # Check for bound methods\n",
    "            if hasattr(receiver, '__self__') and hasattr(receiver, '__func__'):\n",
    "                ref = weakref.WeakMethod\n",
    "                receiver_object = receiver.__self__\n",
    "            receiver = ref(receiver)\n",
    "            weakref.finalize(receiver_object, self._remove_receiver)\n",
    "\n",
    "        with self.lock:\n",
    "            self._clear_dead_receivers()\n",
    "            if not any(r_key == lookup_key for r_key, _ in self.receivers):\n",
    "                self.receivers.append((lookup_key, receiver))\n",
    "            self.sender_receivers_cache.clear()"
   ]
  },
  {
   "cell_type": "markdown",
   "metadata": {
    "deletable": false,
    "editable": false,
    "run_control": {
     "frozen": true
    }
   },
   "source": [
    "> 当weak参数为True时，signal内部维护的是对象的弱引用，当对象的引用计数为0，被GC释放时，`_remove_receiver`函数被回掉， `_dead_receivers`变量设置为True，"
   ]
  },
  {
   "cell_type": "markdown",
   "metadata": {
    "deletable": false,
    "editable": false,
    "run_control": {
     "frozen": true
    }
   },
   "source": [
    "##### Send Signal"
   ]
  },
  {
   "cell_type": "code",
   "execution_count": 12,
   "metadata": {
    "deletable": false,
    "editable": false,
    "run_control": {
     "frozen": true
    }
   },
   "outputs": [],
   "source": [
    "class Signal():\n",
    "    def send(self, sender, **named):\n",
    "        \"\"\"\n",
    "        Send signal from sender to all connected receivers.\n",
    "\n",
    "        If any receiver raises an error, the error propagates back through send,\n",
    "        terminating the dispatch loop. So it's possible that all receivers\n",
    "        won't be called if an error is raised.\n",
    "\n",
    "        Arguments:\n",
    "\n",
    "            sender\n",
    "                The sender of the signal. Either a specific object or None.\n",
    "\n",
    "            named\n",
    "                Named arguments which will be passed to receivers.\n",
    "\n",
    "        Return a list of tuple pairs [(receiver, response), ... ].\n",
    "        \"\"\"\n",
    "        if not self.receivers or self.sender_receivers_cache.get(sender) is NO_RECEIVERS:\n",
    "            return []\n",
    "\n",
    "        return [\n",
    "            (receiver, receiver(signal=self, sender=sender, **named))\n",
    "            for receiver in self._live_receivers(sender)\n",
    "        ]\n"
   ]
  },
  {
   "cell_type": "markdown",
   "metadata": {
    "deletable": false,
    "editable": false,
    "run_control": {
     "frozen": true
    }
   },
   "source": [
    "##### Disconnect Signal"
   ]
  },
  {
   "cell_type": "code",
   "execution_count": 14,
   "metadata": {
    "deletable": false,
    "editable": false,
    "run_control": {
     "frozen": true
    }
   },
   "outputs": [],
   "source": [
    "class Signal():\n",
    "    def disconnect(self, receiver=None, sender=None, dispatch_uid=None):\n",
    "        \"\"\"\n",
    "        Disconnect receiver from sender for signal.\n",
    "\n",
    "        If weak references are used, disconnect need not be called. The receiver\n",
    "        will be removed from dispatch automatically.\n",
    "\n",
    "        Arguments:\n",
    "\n",
    "            receiver\n",
    "                The registered receiver to disconnect. May be none if\n",
    "                dispatch_uid is specified.\n",
    "\n",
    "            sender\n",
    "                The registered sender to disconnect\n",
    "\n",
    "            dispatch_uid\n",
    "                the unique identifier of the receiver to disconnect\n",
    "        \"\"\"\n",
    "        if dispatch_uid:\n",
    "            lookup_key = (dispatch_uid, _make_id(sender))\n",
    "        else:\n",
    "            lookup_key = (_make_id(receiver), _make_id(sender))\n",
    "\n",
    "        disconnected = False\n",
    "        with self.lock:\n",
    "            self._clear_dead_receivers()\n",
    "            for index in range(len(self.receivers)):\n",
    "                (r_key, _) = self.receivers[index]\n",
    "                if r_key == lookup_key:\n",
    "                    disconnected = True\n",
    "                    del self.receivers[index]\n",
    "                    break\n",
    "            self.sender_receivers_cache.clear()\n",
    "        return disconnected"
   ]
  },
  {
   "cell_type": "markdown",
   "metadata": {
    "deletable": false,
    "editable": false,
    "run_control": {
     "frozen": true
    }
   },
   "source": [
    "**观察者设计模式**"
   ]
  },
  {
   "cell_type": "markdown",
   "metadata": {
    "deletable": false,
    "editable": false,
    "run_control": {
     "frozen": true
    }
   },
   "source": [
    "定义对象间一对多的依赖关系，当一个对象的状体发生改变时，所有依赖于它的对象都得到通知并被自动更新。\n",
    "\n",
    "将一系统分割成一系列相互协作的类有一个副作用：需要维护对象间的一致性。我们不希望为了维持一致性而使各类聚合，这样就降低了可重用性。\n",
    "\n",
    "observer模式描述了如何建立这种关系。这一模式的关键对象是目标（subject）和观察者（observer）.一个目标可以有任意数量的观察者。一旦目标的状态发生改变，所有的观察者都得到通知。作为对这个通知的响应，每个观察者都将查询目标以使其状态与目标的状态同步。\n",
    "\n",
    "这种交互也成为发布-订阅（publish-subscribe）.目标是通知的发布者，可以有任意数目的观察者订阅并接收通知。"
   ]
  },
  {
   "cell_type": "markdown",
   "metadata": {
    "deletable": false,
    "editable": false,
    "run_control": {
     "frozen": true
    }
   },
   "source": [
    "### Django Cache"
   ]
  },
  {
   "cell_type": "markdown",
   "metadata": {
    "deletable": false,
    "editable": false,
    "run_control": {
     "frozen": true
    }
   },
   "source": [
    "*https://mengyangyang.org/2017/04/06/django-cache/*"
   ]
  },
  {
   "cell_type": "markdown",
   "metadata": {
    "deletable": false,
    "editable": false,
    "run_control": {
     "frozen": true
    }
   },
   "source": [
    "每次用户请求一个页面，Web服务器都要进行很多计算，查询数据库，合成模板，处理业务逻辑等，再将页面返回给用户．后续的相同资源的请求，服务器都需要重复这些计算．\n",
    "\n",
    "django提供了缓存机制，每次将资源的响应的副本存储指定的位置，下次用户再发起相同的请求时，服务器不再需要进行类似的计算，直接将上次响应的副本返回给用户．这样既减少服务器的负载，又降低用户的请求时延，提高了用户体验．"
   ]
  },
  {
   "cell_type": "markdown",
   "metadata": {
    "deletable": false,
    "editable": false,
    "run_control": {
     "frozen": true
    }
   },
   "source": [
    "![](http://processon.com/chart_image/5a28e148e4b0dce08036fe4e.png)"
   ]
  },
  {
   "cell_type": "markdown",
   "metadata": {
    "deletable": false,
    "editable": false,
    "run_control": {
     "frozen": true
    }
   },
   "source": [
    "#### CacheHandler"
   ]
  },
  {
   "cell_type": "markdown",
   "metadata": {
    "deletable": false,
    "editable": false,
    "run_control": {
     "frozen": true
    }
   },
   "source": [
    "\n",
    "```python\n",
    "class CacheHandler:\n",
    "    \"\"\"\n",
    "    A Cache Handler to manage access to Cache instances.\n",
    "\n",
    "    Ensure only one instance of each alias exists per thread.\n",
    "    \"\"\"\n",
    "    def __init__(self):\n",
    "        self._caches = local()\n",
    "\n",
    "    def __getitem__(self, alias):\n",
    "        try:\n",
    "            return self._caches.caches[alias]\n",
    "        except AttributeError:\n",
    "            self._caches.caches = {}\n",
    "        except KeyError:\n",
    "            pass\n",
    "\n",
    "        if alias not in settings.CACHES:\n",
    "            raise InvalidCacheBackendError(\n",
    "                \"Could not find config for '%s' in settings.CACHES\" % alias\n",
    "            )\n",
    "\n",
    "        cache = _create_cache(alias)\n",
    "        self._caches.caches[alias] = cache\n",
    "        return cache\n",
    "\n",
    "    def all(self):\n",
    "        return getattr(self._caches, 'caches', {}).values()\n",
    "\n",
    "\n",
    "caches = CacheHandler()\n",
    "```"
   ]
  },
  {
   "cell_type": "markdown",
   "metadata": {
    "deletable": false,
    "editable": false,
    "run_control": {
     "frozen": true
    }
   },
   "source": [
    "#### Backends"
   ]
  },
  {
   "cell_type": "markdown",
   "metadata": {
    "deletable": false,
    "editable": false,
    "run_control": {
     "frozen": true
    }
   },
   "source": [
    "采用模板方法的设计模式，通过抽象基类BaseCache声明了一套缓存操作接口，而将接口实现延迟到具体的子类中。\n",
    "\n",
    "BaseCache 是一个抽象类，定义了缓存通用的操作接口和参数默认值．\n",
    "\n",
    "其中重要的参数：\n",
    "\n",
    "    key 生成机制\n",
    "    timeout 超时时间\n",
    "    max_entries 最大条目数\n",
    "    cull_frequency 更新频率\n"
   ]
  },
  {
   "cell_type": "markdown",
   "metadata": {
    "deletable": false,
    "editable": false,
    "run_control": {
     "frozen": true
    }
   },
   "source": [
    "#### Cache Middleware"
   ]
  },
  {
   "cell_type": "markdown",
   "metadata": {
    "deletable": false,
    "editable": false,
    "run_control": {
     "frozen": true
    }
   },
   "source": [
    "缓存中间件的工作原理（参考实现代码）：\n",
    "\n",
    "* 只有状态码为200的，方法为HEAD,GET请求的响应被缓存\n",
    "* 检测缓存中是否已缓存该请求的响应对象\n",
    "* 如果命中，返回原始响应对象的一个浅拷贝（shallow copy）\n",
    "* 如果未命中，继续处理view函数\n",
    "* 根据请求的header决定是否需要缓存\n",
    "* 设置响应的ETag, Last-Modified, Expires, Cache-Control HTTP header.\n"
   ]
  },
  {
   "cell_type": "markdown",
   "metadata": {
    "deletable": false,
    "editable": false,
    "run_control": {
     "frozen": true
    }
   },
   "source": [
    "> 在response阶段，中间件的处理顺序是bottom-top, UPdateCacheMiddleware必须最后被执行，因此放在靠前的位置．在request阶段，中间件的处理顺序是top-bottom, FetchFromCacheMiddleware必须最后被执行，因此放在靠后的位置．"
   ]
  },
  {
   "cell_type": "markdown",
   "metadata": {
    "deletable": false,
    "editable": false,
    "run_control": {
     "frozen": true
    }
   },
   "source": [
    "```python\n",
    "\n",
    "class FetchFromCacheMiddleware(MiddlewareMixin):\n",
    "    \n",
    "    def process_request(self, request):\n",
    "      \"\"\"\n",
    "      Checks whether the page is already cached and returns the cached\n",
    "      version if available.\n",
    "      \"\"\"\n",
    "        # 只缓存HEAD, GET的请求\n",
    "        if request.method not in ('GET', 'HEAD'):\n",
    "          request._cache_update_cache = False\n",
    "          return None  # Don't bother checking the cache.\n",
    "\n",
    "# 获取GET方法的cache_key,如果不存在，则设置_cache_update_cache标志位为True，需要更新缓存\n",
    "        # try and get the cached GET response\n",
    "      cache_key = get_cache_key(request, self.key_prefix, 'GET', cache=self.cache)\n",
    "      if cache_key is None:\n",
    "          request._cache_update_cache = True\n",
    "          return None  # No cache information available, need to rebuild.\n",
    "      response = self.cache.get(cache_key)\n",
    "        # 如果cache为命中，而且请求的方法为HEAD,则获取请求方法为HEAD的cache_key\n",
    "        # if it wasn't found and we are looking for a HEAD, try looking just for that\n",
    "      if response is None and request.method == 'HEAD':\n",
    "          cache_key = get_cache_key(request, self.key_prefix, 'HEAD', cache=self.cache)\n",
    "          response = self.cache.get(cache_key)\n",
    "\n",
    "# 缓存都未命中，设置_cache_update_cache标志位为True,调用view函数，并更新缓存\n",
    "        if response is None:\n",
    "          request._cache_update_cache = True\n",
    "          return None  # No cache information available, need to rebuild.\n",
    "\n",
    "# 缓存命中，设置_cache_update_cahe标志为False, 不调用view函数，不更新缓存\n",
    "        # hit, return cached response\n",
    "      request._cache_update_cache = False\n",
    "      return response\n",
    "```"
   ]
  },
  {
   "cell_type": "markdown",
   "metadata": {
    "deletable": false,
    "editable": false,
    "run_control": {
     "frozen": true
    }
   },
   "source": [
    "```python\n",
    "\n",
    "class UpdateCacheMiddleware(MiddlewareMixin):\n",
    "\n",
    "   def _should_update_cache(self, request, response):\n",
    "      return hasattr(request, '_cache_update_cache') and request._cache_update_cache\n",
    "\n",
    "  def process_response(self, request, response):\n",
    "      \"\"\"Sets the cache, if needed.\"\"\"\n",
    "        # 不缓存，直接返回Response\n",
    "        if not self._should_update_cache(request, response):\n",
    "          # We don't need to update the cache, just return.\n",
    "          return response\n",
    "\n",
    "# 如果是流数据或状态码不为200, 不缓存\n",
    "        if response.streaming or response.status_code != 200:\n",
    "          return response\n",
    "\n",
    "# 如果是私有数据，不缓存\n",
    "        # Don't cache responses that set a user-specific (and maybe security\n",
    "      # sensitive) cookie in response to a cookie-less request.\n",
    "      if not request.COOKIES and response.cookies and has_vary_header(response, 'Cookie'):\n",
    "          return response\n",
    "\n",
    "      # Try to get the timeout from the \"max-age\" section of the \"Cache-\n",
    "      # Control\" header before reverting to using the default cache_timeout\n",
    "      # length.\n",
    "      timeout = get_max_age(response)\n",
    "      if timeout is None:\n",
    "          timeout = self.cache_timeout\n",
    "      elif timeout == 0:\n",
    "          # max-age was set to 0, don't bother caching.\n",
    "          return response\n",
    "      \n",
    "        # 设置缓存的HTTP头部信息\n",
    "        patch_response_headers(response, timeout)\n",
    "        # 缓存响应\n",
    "        if timeout:\n",
    "          cache_key = learn_cache_key(request, response, timeout, self.key_prefix, cache=self.cache)\n",
    "          if hasattr(response, 'render') and callable(response.render):\n",
    "              response.add_post_render_callback(\n",
    "                  lambda r: self.cache.set(cache_key, r, timeout)\n",
    "              )\n",
    "          else:\n",
    "              self.cache.set(cache_key, response, timeout)\n",
    "      return response\n",
    "```"
   ]
  },
  {
   "cell_type": "markdown",
   "metadata": {
    "deletable": false,
    "editable": false,
    "run_control": {
     "frozen": true
    }
   },
   "source": [
    "![](http://processon.com/chart_image/5a556a1ae4b0abe85d497768.png)"
   ]
  },
  {
   "cell_type": "markdown",
   "metadata": {
    "deletable": false,
    "editable": false,
    "run_control": {
     "frozen": true
    }
   },
   "source": [
    "### Django Auth"
   ]
  },
  {
   "cell_type": "markdown",
   "metadata": {
    "deletable": false,
    "editable": false,
    "run_control": {
     "frozen": true
    }
   },
   "source": [
    "```py\n",
    "MIDDLEWARE = [\n",
    "    'django.contrib.sessions.middleware.SessionMiddleware',\n",
    "    'django.contrib.auth.middleware.AuthenticationMiddleware',\n",
    "]\n",
    "```"
   ]
  },
  {
   "cell_type": "markdown",
   "metadata": {
    "deletable": false,
    "editable": false,
    "run_control": {
     "frozen": true
    }
   },
   "source": [
    "Session中间件`SessionMiddleware`用于加载和回写session信息。"
   ]
  },
  {
   "cell_type": "markdown",
   "metadata": {
    "deletable": false,
    "editable": false,
    "run_control": {
     "frozen": true
    }
   },
   "source": [
    "Auth中间件`AuthenticationMiddleware`用于加载`user`对象（延迟加载），并作为`request`的属性保存起来。"
   ]
  },
  {
   "cell_type": "markdown",
   "metadata": {
    "deletable": false,
    "editable": false,
    "run_control": {
     "frozen": true
    }
   },
   "source": [
    "#### Django Session"
   ]
  },
  {
   "cell_type": "markdown",
   "metadata": {
    "deletable": false,
    "editable": false,
    "run_control": {
     "frozen": true
    }
   },
   "source": [
    "**Middleware**"
   ]
  },
  {
   "cell_type": "markdown",
   "metadata": {
    "deletable": false,
    "editable": false,
    "run_control": {
     "frozen": true
    }
   },
   "source": [
    "`process_request`加载session，保存在`request.session`对象里， `process_response`检查是否更新，如果需要，则更新cookie."
   ]
  },
  {
   "cell_type": "markdown",
   "metadata": {
    "deletable": false,
    "editable": false,
    "run_control": {
     "frozen": true
    }
   },
   "source": [
    "```py\n",
    "class SessionBase:\n",
    "    \"\"\"\n",
    "    Base class for all Session classes.\n",
    "    \"\"\"\n",
    "    TEST_COOKIE_NAME = 'testcookie'\n",
    "    TEST_COOKIE_VALUE = 'worked'\n",
    "\n",
    "    __not_given = object()\n",
    "\n",
    "    def __init__(self, session_key=None):\n",
    "        self._session_key = session_key\n",
    "        self.accessed = False\n",
    "        self.modified = False\n",
    "        self.serializer = import_string(settings.SESSION_SERIALIZER)\n",
    "\n",
    "    def __contains__(self, key):\n",
    "        return key in self._session\n",
    "\n",
    "    def __getitem__(self, key):\n",
    "        return self._session[key]\n",
    "\n",
    "    def __setitem__(self, key, value):\n",
    "        self._session[key] = value\n",
    "        self.modified = True\n",
    "\n",
    "    def __delitem__(self, key):\n",
    "        del self._session[key]\n",
    "        self.modified = True\n",
    "```"
   ]
  },
  {
   "cell_type": "markdown",
   "metadata": {
    "deletable": false,
    "editable": false,
    "run_control": {
     "frozen": true
    }
   },
   "source": [
    "> 重载`_getitem__`, `__setitem__`, `__delitem__`方法，记录session的更新。"
   ]
  },
  {
   "cell_type": "markdown",
   "metadata": {
    "deletable": false,
    "editable": false,
    "run_control": {
     "frozen": true
    }
   },
   "source": [
    "```py\n",
    "class SessionMiddleware(MiddlewareMixin):\n",
    "    def __init__(self, get_response=None):\n",
    "        self.get_response = get_response\n",
    "        engine = import_module(settings.SESSION_ENGINE)\n",
    "        self.SessionStore = engine.SessionStore\n",
    "\n",
    "    def process_request(self, request):\n",
    "        session_key = request.COOKIES.get(settings.SESSION_COOKIE_NAME)\n",
    "        request.session = self.SessionStore(session_key)\n",
    "\n",
    "    def process_response(self, request, response):\n",
    "        \"\"\"\n",
    "        If request.session was modified, or if the configuration is to save the\n",
    "        session every time, save the changes and set a session cookie or delete\n",
    "        the session cookie if the session has been emptied.\n",
    "        \"\"\"\n",
    "        try:\n",
    "            accessed = request.session.accessed\n",
    "            modified = request.session.modified\n",
    "            empty = request.session.is_empty()\n",
    "        except AttributeError:\n",
    "            pass\n",
    "        else:\n",
    "            # First check if we need to delete this cookie.\n",
    "            # The session should be deleted only if the session is entirely empty\n",
    "            if settings.SESSION_COOKIE_NAME in request.COOKIES and empty:\n",
    "                response.delete_cookie(\n",
    "                    settings.SESSION_COOKIE_NAME,\n",
    "                    path=settings.SESSION_COOKIE_PATH,\n",
    "                    domain=settings.SESSION_COOKIE_DOMAIN,\n",
    "                )\n",
    "            else:\n",
    "                if accessed:\n",
    "                    patch_vary_headers(response, ('Cookie',))\n",
    "                if (modified or settings.SESSION_SAVE_EVERY_REQUEST) and not empty:\n",
    "                    if request.session.get_expire_at_browser_close():\n",
    "                        max_age = None\n",
    "                        expires = None\n",
    "                    else:\n",
    "                        max_age = request.session.get_expiry_age()\n",
    "                        expires_time = time.time() + max_age\n",
    "                        expires = http_date(expires_time)\n",
    "                    # Save the session data and refresh the client cookie.\n",
    "                    # Skip session save for 500 responses, refs #3881.\n",
    "                    if response.status_code != 500:\n",
    "                        try:\n",
    "                            request.session.save()\n",
    "                        except UpdateError:\n",
    "                            raise SuspiciousOperation(\n",
    "                                \"The request's session was deleted before the \"\n",
    "                                \"request completed. The user may have logged \"\n",
    "                                \"out in a concurrent request, for example.\"\n",
    "                            )\n",
    "                        response.set_cookie(\n",
    "                            settings.SESSION_COOKIE_NAME,\n",
    "                            request.session.session_key, max_age=max_age,\n",
    "                            expires=expires, domain=settings.SESSION_COOKIE_DOMAIN,\n",
    "                            path=settings.SESSION_COOKIE_PATH,\n",
    "                            secure=settings.SESSION_COOKIE_SECURE or None,\n",
    "                            httponly=settings.SESSION_COOKIE_HTTPONLY or None,\n",
    "                            samesite=settings.SESSION_COOKIE_SAMESITE,\n",
    "                        )\n",
    "        return response\n",
    "```"
   ]
  },
  {
   "cell_type": "markdown",
   "metadata": {
    "deletable": false,
    "editable": false,
    "run_control": {
     "frozen": true
    }
   },
   "source": [
    "#### Django Authentication"
   ]
  },
  {
   "cell_type": "markdown",
   "metadata": {
    "deletable": false,
    "editable": false,
    "run_control": {
     "frozen": true
    }
   },
   "source": [
    "**Middleware**"
   ]
  },
  {
   "cell_type": "markdown",
   "metadata": {
    "deletable": false,
    "editable": false,
    "run_control": {
     "frozen": true
    }
   },
   "source": [
    "加载uesr对象。"
   ]
  },
  {
   "cell_type": "markdown",
   "metadata": {
    "deletable": false,
    "editable": false,
    "run_control": {
     "frozen": true
    }
   },
   "source": [
    "```py\n",
    "class AuthenticationMiddleware(MiddlewareMixin):\n",
    "    def process_request(self, request):\n",
    "        assert hasattr(request, 'session'), (\n",
    "            \"The Django authentication middleware requires session middleware \"\n",
    "            \"to be installed. Edit your MIDDLEWARE%s setting to insert \"\n",
    "            \"'django.contrib.sessions.middleware.SessionMiddleware' before \"\n",
    "            \"'django.contrib.auth.middleware.AuthenticationMiddleware'.\"\n",
    "        ) % (\"_CLASSES\" if settings.MIDDLEWARE is None else \"\")\n",
    "        request.user = SimpleLazyObject(lambda: get_user(request))\n",
    "```"
   ]
  },
  {
   "cell_type": "markdown",
   "metadata": {
    "deletable": false,
    "editable": false,
    "run_control": {
     "frozen": true
    }
   },
   "source": [
    "> 加载user对象，是延迟加载，只有当真正访问user对象，才会出发相关的动作。"
   ]
  },
  {
   "cell_type": "markdown",
   "metadata": {
    "deletable": false,
    "editable": false,
    "run_control": {
     "frozen": true
    }
   },
   "source": [
    "```py\n",
    "def get_user(request):\n",
    "    if not hasattr(request, '_cached_user'):\n",
    "        request._cached_user = auth.get_user(request)\n",
    "    return request._cached_user\n",
    "\n",
    "\n",
    "def get_user(request):\n",
    "    \"\"\"\n",
    "    Return the user model instance associated with the given request session.\n",
    "    If no user is retrieved, return an instance of `AnonymousUser`.\n",
    "    \"\"\"\n",
    "    from .models import AnonymousUser\n",
    "    user = None\n",
    "    try:\n",
    "        user_id = _get_user_session_key(request)\n",
    "        backend_path = request.session[BACKEND_SESSION_KEY]\n",
    "    except KeyError:\n",
    "        pass\n",
    "    else:\n",
    "        if backend_path in settings.AUTHENTICATION_BACKENDS:\n",
    "            backend = load_backend(backend_path)\n",
    "            user = backend.get_user(user_id)\n",
    "            # Verify the session\n",
    "            if hasattr(user, 'get_session_auth_hash'):\n",
    "                session_hash = request.session.get(HASH_SESSION_KEY)\n",
    "                session_hash_verified = session_hash and constant_time_compare(\n",
    "                    session_hash,\n",
    "                    user.get_session_auth_hash()\n",
    "                )\n",
    "                if not session_hash_verified:\n",
    "                    request.session.flush()\n",
    "                    user = None\n",
    "\n",
    "    return user or AnonymousUser()\n",
    "```"
   ]
  },
  {
   "cell_type": "markdown",
   "metadata": {
    "deletable": false,
    "editable": false,
    "run_control": {
     "frozen": true
    }
   },
   "source": [
    "> 如何是匿名用户，是`AnonymousUser()`"
   ]
  },
  {
   "cell_type": "markdown",
   "metadata": {
    "deletable": false,
    "editable": false,
    "run_control": {
     "frozen": true
    }
   },
   "source": [
    "### Django Exception"
   ]
  },
  {
   "cell_type": "markdown",
   "metadata": {
    "deletable": false,
    "editable": false,
    "run_control": {
     "frozen": true
    }
   },
   "source": [
    "*https://mengyangyang.org/2017/12/06/django-exception/*"
   ]
  },
  {
   "cell_type": "markdown",
   "metadata": {
    "deletable": false,
    "editable": false,
    "run_control": {
     "frozen": true
    }
   },
   "source": [
    "基于django技术栈实现的WEB应用，生产环境中都会关闭DEBUG选项，Django默认只会输出很少的错误信息，不利于开发人员快速定位、解决问题。为了解决此问题，考虑定制Django默认的错误处理，还原错误现场，配合错误日志、邮件报警快速发现、解决BUG。"
   ]
  },
  {
   "cell_type": "markdown",
   "metadata": {
    "deletable": false,
    "editable": false,
    "run_control": {
     "frozen": true
    }
   },
   "source": [
    "### Django Database Routing"
   ]
  },
  {
   "cell_type": "markdown",
   "metadata": {
    "deletable": false,
    "editable": false,
    "run_control": {
     "frozen": true
    }
   },
   "source": [
    "django ORM数据模型配置数据库．\n",
    "\n",
    "django支持多个数据库，通过django ORM定义数据模型，比如class User(Model)，无法通过class Meta配置管理该数据模型对应的数据库，只能使用默认数据库default．\n",
    "\n",
    "django ConnectionRouter解决数据模型与数据库映射．"
   ]
  },
  {
   "cell_type": "markdown",
   "metadata": {
    "deletable": false,
    "editable": false,
    "run_control": {
     "frozen": true
    }
   },
   "source": [
    "#### DB router"
   ]
  },
  {
   "cell_type": "markdown",
   "metadata": {
    "deletable": false,
    "editable": false,
    "run_control": {
     "frozen": true
    }
   },
   "source": [
    "```python\n",
    "\n",
    "import logging\n",
    "from django.conf import settings\n",
    "\n",
    "_logger = logging.getLogger('django')\n",
    "\n",
    "class DatabaseRouter(object):\n",
    "    \"\"\"\n",
    "    Database router to control the  models for differrent db.\n",
    "    \"\"\"\n",
    "\n",
    "    DEFAULT_DB = 'default'\n",
    "\n",
    "    def _db(self, model, **hints):\n",
    "        db = getattr(model, '_database', None)\n",
    "        if not db:\n",
    "            return self.DEFAULT_DB\n",
    "\n",
    "        if db in settings.DATABASES.keys():\n",
    "            return db\n",
    "        else:\n",
    "            _logger.warn('%s not exist' % db)\n",
    "            return self.DEFAULT_DB\n",
    "\n",
    "    def db_for_read(self, model, **hints):\n",
    "        return self._db(model, **hints)\n",
    "\n",
    "    def db_for_write(self, model, **hints):\n",
    "        return self._db(model, **hints)\n",
    "    \n",
    "```"
   ]
  },
  {
   "cell_type": "markdown",
   "metadata": {
    "deletable": false,
    "editable": false,
    "run_control": {
     "frozen": true
    }
   },
   "source": [
    "#### Config DB router"
   ]
  },
  {
   "cell_type": "code",
   "execution_count": 27,
   "metadata": {
    "deletable": false,
    "editable": false,
    "run_control": {
     "frozen": true
    }
   },
   "outputs": [],
   "source": [
    "DATABASE_ROUTERS = ['db_router.DatabaseRouter']"
   ]
  },
  {
   "cell_type": "markdown",
   "metadata": {
    "deletable": false,
    "editable": false,
    "run_control": {
     "frozen": true
    }
   },
   "source": [
    "#### Theory"
   ]
  },
  {
   "cell_type": "markdown",
   "metadata": {
    "deletable": false,
    "editable": false,
    "run_control": {
     "frozen": true
    }
   },
   "source": [
    "```python\n",
    "class ConnectionRouter(object):\n",
    "\n",
    "    @cached_property\n",
    "    def routers(self):\n",
    "        if self._routers is None:\n",
    "            self._routers = settings.DATABASE_ROUTERS\n",
    "        routers = []\n",
    "        for r in self._routers:\n",
    "            if isinstance(r, six.string_types):\n",
    "                router = import_string(r)()\n",
    "            else:\n",
    "                router = r\n",
    "            routers.append(router)\n",
    "        return routers\n",
    "\n",
    "    def _router_func(action):\n",
    "        def _route_db(self, model, **hints):\n",
    "            chosen_db = None\n",
    "            for router in self.routers:\n",
    "                try:\n",
    "                    method = getattr(router, action)\n",
    "                except AttributeError:\n",
    "                    # If the router doesn't have a method, skip to the next one.\n",
    "                    pass\n",
    "                else:\n",
    "                    chosen_db = method(model, **hints)\n",
    "                    if chosen_db:\n",
    "                        return chosen_db\n",
    "            instance = hints.get('instance')\n",
    "            if instance is not None and instance._state.db:\n",
    "                return instance._state.db\n",
    "            return DEFAULT_DB_ALIAS\n",
    "        return _route_db\n",
    "\n",
    "    db_for_read = _router_func('db_for_read')\n",
    "    db_for_write = _router_func('db_for_write')\n",
    "```"
   ]
  },
  {
   "cell_type": "markdown",
   "metadata": {
    "deletable": false,
    "editable": false,
    "run_control": {
     "frozen": true
    }
   },
   "source": [
    "**Router initialization**"
   ]
  },
  {
   "cell_type": "markdown",
   "metadata": {
    "deletable": false,
    "editable": false,
    "run_control": {
     "frozen": true
    }
   },
   "source": [
    "```python\n",
    "router = ConnectionRouter()\n",
    "```"
   ]
  },
  {
   "cell_type": "markdown",
   "metadata": {
    "deletable": false,
    "editable": false,
    "run_control": {
     "frozen": true
    }
   },
   "source": [
    "**Call router**"
   ]
  },
  {
   "cell_type": "markdown",
   "metadata": {
    "deletable": false,
    "editable": false,
    "run_control": {
     "frozen": true
    }
   },
   "source": [
    "```python\n",
    "class QuerySet(object):\n",
    "\n",
    "    @property\n",
    "    def db(self):\n",
    "        \"Return the database that will be used if this query is executed now\"\n",
    "        if self._for_write:\n",
    "            return self._db or router.db_for_write(self.model, **self._hints)\n",
    "        return self._db or router.db_for_read(self.model, **self._hints)\n",
    "    \n",
    "```"
   ]
  },
  {
   "cell_type": "markdown",
   "metadata": {
    "deletable": false,
    "editable": false,
    "run_control": {
     "frozen": true
    }
   },
   "source": [
    "## Django Rest Framework"
   ]
  },
  {
   "cell_type": "markdown",
   "metadata": {
    "deletable": false,
    "editable": false,
    "run_control": {
     "frozen": true
    }
   },
   "source": [
    "*https://www.django-rest-framework.org/*"
   ]
  }
 ],
 "metadata": {
  "kernelspec": {
   "display_name": "Python 3",
   "language": "python",
   "name": "python3"
  },
  "language_info": {
   "codemirror_mode": {
    "name": "ipython",
    "version": 3
   },
   "file_extension": ".py",
   "mimetype": "text/x-python",
   "name": "python",
   "nbconvert_exporter": "python",
   "pygments_lexer": "ipython3",
   "version": "3.7.10"
  },
  "toc": {
   "base_numbering": 1,
   "nav_menu": {},
   "number_sections": true,
   "sideBar": true,
   "skip_h1_title": false,
   "title_cell": "Table of Contents",
   "title_sidebar": "Contents",
   "toc_cell": false,
   "toc_position": {
    "height": "calc(100% - 180px)",
    "left": "10px",
    "top": "150px",
    "width": "236.2px"
   },
   "toc_section_display": true,
   "toc_window_display": true
  }
 },
 "nbformat": 4,
 "nbformat_minor": 4
}

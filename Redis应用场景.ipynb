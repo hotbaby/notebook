{
 "cells": [
  {
   "cell_type": "markdown",
   "metadata": {},
   "source": [
    "# 缓存"
   ]
  },
  {
   "cell_type": "markdown",
   "metadata": {},
   "source": [
    "## 缓存雪崩、缓存击穿和缓存穿透"
   ]
  },
  {
   "cell_type": "markdown",
   "metadata": {},
   "source": [
    "### 缓存雪崩"
   ]
  },
  {
   "cell_type": "markdown",
   "metadata": {},
   "source": [
    "什么是缓存雪崩？"
   ]
  },
  {
   "cell_type": "markdown",
   "metadata": {},
   "source": [
    "当某一时刻出现大面积缓存失效的情况，导致大量的请求直接打在数据库上，导致数据库的压力巨大，在高并发场景下，可能导致数据库宕机。"
   ]
  },
  {
   "cell_type": "markdown",
   "metadata": {},
   "source": [
    "分析"
   ]
  },
  {
   "cell_type": "markdown",
   "metadata": {},
   "source": [
    "造成缓存雪崩的关键是同一时间大量缓存key失效，为什么会出现这种情况？使用了相同的过期时间，或者Redis宕机。"
   ]
  },
  {
   "cell_type": "markdown",
   "metadata": {},
   "source": [
    "解决"
   ]
  },
  {
   "cell_type": "markdown",
   "metadata": {},
   "source": [
    "1. Reis Sentinel高可用方案，提高容灾能力\n",
    "2. 使用熔断机制，流量超过一定的阈值时，直接返回系统繁忙\n",
    "3. 设置key的过期时间，加一个随机值"
   ]
  },
  {
   "cell_type": "markdown",
   "metadata": {},
   "source": [
    "### 缓存击穿"
   ]
  },
  {
   "cell_type": "markdown",
   "metadata": {},
   "source": [
    "什么是缓存击穿?"
   ]
  },
  {
   "cell_type": "markdown",
   "metadata": {},
   "source": [
    "其实跟缓存雪崩有点类似，缓存雪崩是大规模的key失效，而缓存击穿是一个热点的Key，有大并发集中对其进行访问，突然间这个Key失效了，导致大并发全部打在数据库上，导致数据库压力剧增。这种现象就叫做缓存击穿。"
   ]
  },
  {
   "cell_type": "markdown",
   "metadata": {},
   "source": [
    "分析"
   ]
  },
  {
   "cell_type": "markdown",
   "metadata": {},
   "source": [
    "关键在于某个热点的key失效了，导致大并发集中打在数据库上。所以要从两个方面解决，第一是否可以考虑热点key不设置过期时间，第二是否可以考虑降低打在数据库上的请求数量。"
   ]
  },
  {
   "cell_type": "markdown",
   "metadata": {},
   "source": [
    "解决"
   ]
  },
  {
   "cell_type": "markdown",
   "metadata": {},
   "source": [
    "如果业务允许的话，对于热点的key可以设置永不过期的key。"
   ]
  },
  {
   "cell_type": "markdown",
   "metadata": {},
   "source": [
    "### 缓存穿透"
   ]
  },
  {
   "cell_type": "markdown",
   "metadata": {},
   "source": [
    "什么是缓存穿透？"
   ]
  },
  {
   "cell_type": "markdown",
   "metadata": {},
   "source": [
    "我们使用Redis大部分情况都是通过Key查询对应的值，假如发送的请求传进来的key是不存在Redis中的，那么就查不到缓存，查不到缓存就会去数据库查询。假如有大量这样的请求，这些请求像“穿透”了缓存一样直接打在数据库上，这种现象就叫做缓存穿透。"
   ]
  },
  {
   "cell_type": "markdown",
   "metadata": {},
   "source": [
    "分析"
   ]
  },
  {
   "cell_type": "markdown",
   "metadata": {},
   "source": [
    "关键在于在Redis查不到key值，这和缓存击穿有根本的区别，区别在于缓存穿透的情况是传进来的key在Redis中是不存在的。假如有黑客传进大量的不存在的key，那么大量的请求打在数据库上是很致命的问题，所以在日常开发中要对参数做好校验，一些非法的参数，不可能存在的key就直接返回错误提示，要对调用方保持这种“不信任”的心态。"
   ]
  },
  {
   "cell_type": "markdown",
   "metadata": {},
   "source": [
    "解决方案"
   ]
  },
  {
   "cell_type": "markdown",
   "metadata": {},
   "source": [
    "把无效的Key存进Redis中。如果Redis查不到数据，数据库也查不到，我们把这个Key值保存进Redis，设置value=\"null\"，当下次再通过这个Key查询时就不需要再查询数据库。这种处理方式肯定是有问题的，假如传进来的这个不存在的Key值每次都是随机的，那存进Redis也没有意义。"
   ]
  },
  {
   "cell_type": "markdown",
   "metadata": {},
   "source": [
    "# 秒杀"
   ]
  },
  {
   "cell_type": "markdown",
   "metadata": {},
   "source": [
    "参考文献https://www.zixuephp.net/article-499.html"
   ]
  },
  {
   "cell_type": "markdown",
   "metadata": {},
   "source": [
    "```python\n",
    "# encoding: utf8\n",
    "\n",
    "import time\n",
    "import threading\n",
    "from redis import Redis\n",
    "from redis.exceptions import WatchError\n",
    "\n",
    "total_goods = 10\n",
    "GOT_USER_KEY = 'buy_users'\n",
    "GOT_NUM_KEY = 'got_num'\n",
    "\n",
    "conn = Redis()\n",
    "\n",
    "\n",
    "def buy(user_id):\n",
    "    if int(conn.get(GOT_NUM_KEY)) >= total_goods:\n",
    "        print('已售罄')\n",
    "        return\n",
    "\n",
    "    with conn.pipeline() as p:\n",
    "        try:\n",
    "            p.watch(GOT_NUM_KEY)\n",
    "\n",
    "            p.multi()\n",
    "            p.hset(GOT_USER_KEY, user_id, int(time.time()))\n",
    "            p.incr(GOT_NUM_KEY)\n",
    "            ret = p.execute()\n",
    "            print('%s 抢购成功, ret: %s' % (user_id, ret))\n",
    "        except WatchError:\n",
    "            print('%s 抢购失败，请稍后重试！' % user_id)\n",
    "\n",
    "\n",
    "def main():\n",
    "    ts = []\n",
    "    conn.set(GOT_NUM_KEY, 0)\n",
    "    conn.delete(GOT_USER_KEY)\n",
    "\n",
    "    for i in range(100):\n",
    "        t = threading.Thread(target=buy, args=(i,))\n",
    "        ts.append(t)\n",
    "\n",
    "    for t in ts:\n",
    "        t.start()\n",
    "\n",
    "    for t in ts:\n",
    "        t.join()\n",
    "\n",
    "    print('done')\n",
    "\n",
    "\n",
    "if __name__ == '__main__':\n",
    "    main()\n",
    "    \n",
    "```"
   ]
  },
  {
   "cell_type": "markdown",
   "metadata": {},
   "source": [
    "# References\n",
    "\n",
    "* *https://www.iteye.com/blog/carlosfu-2248185*\n",
    "* *https://baijiahao.baidu.com/s?id=1619572269435584821&wfr=spider&for=pc*\n",
    "* *https://www.zixuephp.net/article-499.html*"
   ]
  }
 ],
 "metadata": {
  "kernelspec": {
   "display_name": "Python 3",
   "language": "python",
   "name": "python3"
  },
  "language_info": {
   "codemirror_mode": {
    "name": "ipython",
    "version": 3
   },
   "file_extension": ".py",
   "mimetype": "text/x-python",
   "name": "python",
   "nbconvert_exporter": "python",
   "pygments_lexer": "ipython3",
   "version": "3.7.9"
  },
  "toc": {
   "base_numbering": 1,
   "nav_menu": {},
   "number_sections": true,
   "sideBar": true,
   "skip_h1_title": false,
   "title_cell": "Table of Contents",
   "title_sidebar": "Contents",
   "toc_cell": false,
   "toc_position": {},
   "toc_section_display": true,
   "toc_window_display": true
  }
 },
 "nbformat": 4,
 "nbformat_minor": 4
}

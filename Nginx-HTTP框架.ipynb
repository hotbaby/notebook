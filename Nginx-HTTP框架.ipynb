{
 "cells": [
  {
   "cell_type": "markdown",
   "id": "continued-temperature",
   "metadata": {},
   "source": [
    "# Nginx HTTP框架"
   ]
  },
  {
   "cell_type": "markdown",
   "id": "surrounded-singapore",
   "metadata": {},
   "source": [
    "## HTTP框架的初始化"
   ]
  },
  {
   "cell_type": "markdown",
   "id": "worthy-paint",
   "metadata": {},
   "source": [
    "### HTTP请求的11个处理阶段"
   ]
  },
  {
   "cell_type": "markdown",
   "id": "eleven-indian",
   "metadata": {},
   "source": [
    "`src/http/ngx_http_core_module.h`"
   ]
  },
  {
   "cell_type": "markdown",
   "id": "demographic-disorder",
   "metadata": {},
   "source": [
    "```c\n",
    "typedef enum\n",
    "{\n",
    "    // 接受到完整的HTTP请求头处理的HTTP阶段\n",
    "    NGX_HTTP_POST_READ_PHASE = 0,\n",
    "\n",
    "    // 请求的URI和Location表达式匹配前，修改请求的URI\n",
    "    NGX_HTTP_SERVER_REWRITE_PHASE,\n",
    "\n",
    "    // 根据请求的URI匹配Location表达式\n",
    "    NGX_HTTP_FIND_CONFIG_PHASE,\n",
    "\n",
    "    // 寻找匹配Location后，再修改请求的URI\n",
    "    NGX_HTTP_REWRITE_PHASE,\n",
    "\n",
    "    // 这个阶段用于rewrite重写URI后，防止错误的nginx.conf导致死循环\n",
    "    NGX_HTTP_POST_REWRITE_PHASE,\n",
    "\n",
    "    NGX_HTTP_PREACCESS_PHASE,\n",
    "    NGX_HTTP_ACCESS_PHASE,\n",
    "    NGX_HTTP_POST_ACCESS_PHASE,\n",
    "\n",
    "    NGX_HTTP_TRY_FILES_PHASE,\n",
    "\n",
    "    // 处理HTTP请求内容阶段\n",
    "    NGX_HTTP_CONTENT_PHASE,\n",
    "\n",
    "    // 处理完请求记录日志阶段\n",
    "    NGX_HTTP_LOG_PHASEs\n",
    "} ngx_http_phases;\n",
    "```"
   ]
  },
  {
   "cell_type": "markdown",
   "id": "selective-saying",
   "metadata": {},
   "source": [
    "## HTTP框架的执行流程"
   ]
  },
  {
   "cell_type": "markdown",
   "id": "opened-taiwan",
   "metadata": {},
   "source": [
    "在请求的生命周期内，基于事件驱动的HTTP框架是怎么处理网络事件，以及怎么集成HTTP模块功能处理HTTP请求。"
   ]
  },
  {
   "cell_type": "markdown",
   "id": "acknowledged-anniversary",
   "metadata": {},
   "source": [
    "HTTP框架存在的主要目的：\n",
    "\n",
    "* Nginx的事件框架主要针对的是传输层TCP，作为Web服务器需要处理的HTTP，HTTP框架针对基于TCP的事件框架解决好HTTP的网络传输、解析和组装等问题\n",
    "* 事件驱动框架性能是很好，但开发效率不高，HTTP业务通常比较复杂，我们希望HTTP模块拥有事件框架高性能的同时，尽量只关注业务。HTTP框架为HTTP模块屏蔽事件驱动架构，使得HTTP模块不需要关系网络事件的处理，同时又能灵活介入11阶段以处理请求"
   ]
  },
  {
   "cell_type": "markdown",
   "id": "rental-philadelphia",
   "metadata": {},
   "source": [
    "HTTP框架处理的流程：\n",
    "\n",
    "* 与客户端建立TCP连接\n",
    "* 接收、解析HTTP请求头行和头\n",
    "* 根据`nginx.conf`配置，找到对应HTTP模块依次处理"
   ]
  },
  {
   "cell_type": "markdown",
   "id": "economic-radar",
   "metadata": {},
   "source": [
    "对于TCP网络事件，可以粗略的分为读事件和写事件，读事件可以细粉为收到SYN包的新的连接事件、收到FIN包的连接关闭事件，以及套接字缓冲区接收的TCP流。"
   ]
  }
 ],
 "metadata": {
  "kernelspec": {
   "display_name": "Python 3",
   "language": "python",
   "name": "python3"
  },
  "language_info": {
   "codemirror_mode": {
    "name": "ipython",
    "version": 3
   },
   "file_extension": ".py",
   "mimetype": "text/x-python",
   "name": "python",
   "nbconvert_exporter": "python",
   "pygments_lexer": "ipython3",
   "version": "3.7.9"
  },
  "toc": {
   "base_numbering": 1,
   "nav_menu": {},
   "number_sections": true,
   "sideBar": true,
   "skip_h1_title": false,
   "title_cell": "Table of Contents",
   "title_sidebar": "Contents",
   "toc_cell": false,
   "toc_position": {},
   "toc_section_display": true,
   "toc_window_display": true
  }
 },
 "nbformat": 4,
 "nbformat_minor": 5
}

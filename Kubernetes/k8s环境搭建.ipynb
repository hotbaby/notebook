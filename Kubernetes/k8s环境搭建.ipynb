{
 "cells": [
  {
   "cell_type": "markdown",
   "id": "likely-zoning",
   "metadata": {},
   "source": [
    "# k8s环境搭建"
   ]
  },
  {
   "cell_type": "markdown",
   "id": "committed-yeast",
   "metadata": {},
   "source": [
    "## 目标"
   ]
  },
  {
   "cell_type": "markdown",
   "id": "reported-grave",
   "metadata": {},
   "source": [
    "搭建一个多master节点、多worker节点集群环境，用于学习kubernets的架构（公司的kubernetes环境受限，无法使用k8s新特性），并将自己的应用服务迁移部署到k8s集群内。"
   ]
  },
  {
   "cell_type": "markdown",
   "id": "floral-involvement",
   "metadata": {},
   "source": [
    "## 环境准备"
   ]
  },
  {
   "cell_type": "markdown",
   "id": "received-combining",
   "metadata": {},
   "source": [
    "etcd集群至少需要3个节点，因此master高可用集群也至少需要3个节点，另外配置2个工作节点。\n",
    "\n",
    "华为云等云服务提供商租赁虚拟机VM的成本比较高，因此在物理上通过VirtualBox虚拟化技术虚拟VM。"
   ]
  },
  {
   "cell_type": "markdown",
   "id": "accepted-wholesale",
   "metadata": {},
   "source": [
    "### VirtualBox构建虚拟VM"
   ]
  },
  {
   "cell_type": "markdown",
   "id": "dutch-attack",
   "metadata": {},
   "source": [
    "物理机软、硬件环境："
   ]
  },
  {
   "cell_type": "markdown",
   "id": "greek-warehouse",
   "metadata": {},
   "source": [
    "|资源|配置|\n",
    "|---|---|\n",
    "|CPU|20 Core|\n",
    "|内存|64GB|\n",
    "|磁盘|SSD 1T、HHD 2T|\n",
    "|操作系统|Ubuntu 18.04|"
   ]
  },
  {
   "cell_type": "markdown",
   "id": "bored-concord",
   "metadata": {},
   "source": [
    "网络要求：\n",
    "\n",
    "* 虚拟机之间能互相通信\n",
    "* 虚拟机能访问公网"
   ]
  },
  {
   "cell_type": "markdown",
   "id": "northern-container",
   "metadata": {},
   "source": [
    "**开始使用NAT Network网络模式，但过段时间后物理机和虚拟机之间无法进行网络通信，后面将网络模式切换为桥接模式。**"
   ]
  },
  {
   "cell_type": "markdown",
   "id": "diagnostic-passing",
   "metadata": {},
   "source": [
    "软件版本：\n",
    "\n",
    "|软件|版本|\n",
    "|---|---|\n",
    "|VirtualBox|`6.0.24`|\n",
    "|镜像|`Ubuntu 18.04`|"
   ]
  },
  {
   "cell_type": "markdown",
   "id": "thrown-covering",
   "metadata": {},
   "source": [
    "> **VirtualBox尽量匹配上述版本。**"
   ]
  },
  {
   "cell_type": "markdown",
   "id": "binary-empty",
   "metadata": {},
   "source": [
    "实操过程省略。"
   ]
  },
  {
   "cell_type": "markdown",
   "id": "loaded-assets",
   "metadata": {},
   "source": [
    "### 配置虚拟机免密登录"
   ]
  },
  {
   "cell_type": "markdown",
   "id": "educated-prisoner",
   "metadata": {},
   "source": [
    "机器列表："
   ]
  },
  {
   "cell_type": "markdown",
   "id": "pregnant-opening",
   "metadata": {},
   "source": [
    "`/etc/hosts`\n",
    "\n",
    "```\n",
    "# vms\n",
    "172.30.12.169 vm1\n",
    "172.30.12.170 vm2\n",
    "172.30.12.171 vm3\n",
    "172.30.12.172 vm4\n",
    "172.30.12.175 vm5\n",
    "```"
   ]
  },
  {
   "cell_type": "markdown",
   "id": "presidential-dover",
   "metadata": {},
   "source": [
    "VM1作为主要的ssh登录机器，能通过ssh免密登录到其他所有机器。"
   ]
  },
  {
   "cell_type": "markdown",
   "id": "intense-address",
   "metadata": {},
   "source": [
    "1. VM安装`openssh-server`\n",
    "2. 配置VM1免密登录其他所有VM"
   ]
  },
  {
   "cell_type": "markdown",
   "id": "assured-wheel",
   "metadata": {},
   "source": [
    "实操过程省略。"
   ]
  },
  {
   "cell_type": "markdown",
   "id": "wired-departure",
   "metadata": {},
   "source": [
    "### 配置虚拟机sudo免密输入"
   ]
  },
  {
   "cell_type": "markdown",
   "id": "blond-concern",
   "metadata": {},
   "source": [
    "更新`/etc/sudoers`文件\n",
    "\n",
    "sudo vim `/etc/sudoers`\n",
    "\n",
    "```\n",
    "user_name ALL=(ALL:ALL) ALL\n",
    "user_name ALL=(ALL) NOPASSWD: ALL\n",
    "```"
   ]
  },
  {
   "cell_type": "markdown",
   "id": "directed-basis",
   "metadata": {},
   "source": [
    "### 配置物理机登录虚拟机"
   ]
  },
  {
   "cell_type": "markdown",
   "id": "finnish-regard",
   "metadata": {},
   "source": [
    "虚拟机到物理机的ssh隧道："
   ]
  },
  {
   "cell_type": "markdown",
   "id": "psychological-element",
   "metadata": {},
   "source": [
    "1. 虚拟机安装autossh `sudo apt install autossh`，创建ssh隧道 `autossh -NfR 9999:localhost:22 user_name@ip`\n",
    "2. 物理机安装sshpass `sudo apt install sshpass`，登录到虚拟机 `sshpass -p user_name ssh localhost -p9999`"
   ]
  },
  {
   "cell_type": "markdown",
   "id": "incorporate-editing",
   "metadata": {},
   "source": [
    "> 网络模式从**NAT Network**改成**桥接**模式后，4层网络是互通的，不再需要端口或ssh隧道。"
   ]
  },
  {
   "cell_type": "markdown",
   "id": "excess-theory",
   "metadata": {},
   "source": [
    "### 更新Ubuntu软件源"
   ]
  },
  {
   "cell_type": "markdown",
   "id": "excellent-camel",
   "metadata": {},
   "source": [
    "参考清华大学开源软件镜像站: https://mirrors.tuna.tsinghua.edu.cn/help/ubuntu/"
   ]
  },
  {
   "cell_type": "markdown",
   "id": "talented-producer",
   "metadata": {},
   "source": [
    "初始化系统环境："
   ]
  },
  {
   "cell_type": "markdown",
   "id": "checked-snake",
   "metadata": {},
   "source": [
    "```shell\n",
    "sudo apt-get -y install build-essential libssl-dev git zsh\n",
    "\n",
    "```"
   ]
  },
  {
   "cell_type": "markdown",
   "id": "endless-connectivity",
   "metadata": {},
   "source": [
    "### 安装ohmyzsh"
   ]
  },
  {
   "cell_type": "markdown",
   "id": "coupled-provincial",
   "metadata": {},
   "source": [
    "参考文献：https://github.com/ohmyzsh/ohmyzsh"
   ]
  },
  {
   "cell_type": "markdown",
   "id": "alpine-minister",
   "metadata": {},
   "source": [
    "## 搭建k8s集群"
   ]
  },
  {
   "cell_type": "markdown",
   "id": "weird-india",
   "metadata": {},
   "source": [
    "### 环境准备"
   ]
  },
  {
   "cell_type": "markdown",
   "id": "recent-velvet",
   "metadata": {},
   "source": [
    "参考文献："
   ]
  },
  {
   "cell_type": "markdown",
   "id": "photographic-moore",
   "metadata": {},
   "source": [
    "* https://v1-19.docs.kubernetes.io/zh/docs/setup/production-environment/tools/kubeadm/install-kubeadm/"
   ]
  },
  {
   "cell_type": "markdown",
   "id": "ecological-eugene",
   "metadata": {},
   "source": [
    "#### 配置Linux"
   ]
  },
  {
   "cell_type": "markdown",
   "id": "opening-detail",
   "metadata": {},
   "source": [
    "```shell\n",
    "\n",
    "# 禁用交换分区\n",
    "sudo swapoff -a\n",
    "sudo sed -i '/swap/s/^/#/' /etc/fstab\n",
    "\n",
    "# 配置 br_netfilter\n",
    "cat <<EOF | sudo tee /etc/sysctl.d/k8s.conf\n",
    "net.bridge.bridge-nf-call-ip6tables=1\n",
    "net.bridge.bridge-nf-call-iptables=1\n",
    "EOF\n",
    "\n",
    "sudo sysctl --system\n",
    "\n",
    "# 禁用 SELinux，Debian默认没有安装Selinux，CentOS默认安selinux\n",
    "# sudo setenforce 0\n",
    "# sudo sed -i 's/^SELINUX=enforcing$/SELINUX=disabled/' /etc/selinux/config\n",
    "\n",
    "# 安装ntp\n",
    "sudo apt install -y ntpdate\n",
    "\n",
    "# 关闭防火墙\n",
    "sudo ufw disable\n",
    "```"
   ]
  },
  {
   "cell_type": "markdown",
   "id": "sound-sense",
   "metadata": {},
   "source": [
    "#### 安装docker"
   ]
  },
  {
   "cell_type": "markdown",
   "id": "permanent-israeli",
   "metadata": {},
   "source": [
    "参考文献："
   ]
  },
  {
   "cell_type": "markdown",
   "id": "disturbed-pickup",
   "metadata": {},
   "source": [
    "* https://phoenixnap.com/kb/how-to-install-docker-on-ubuntu-18-04\n",
    "* *docker notebook*"
   ]
  },
  {
   "cell_type": "markdown",
   "id": "powered-religion",
   "metadata": {},
   "source": [
    "#### 安转kubeadm"
   ]
  },
  {
   "cell_type": "markdown",
   "id": "dutch-track",
   "metadata": {},
   "source": [
    "```shell\n",
    "sudo apt update && sudo apt install -y apt-transport-https curl\n",
    "curl -s https://mirrors.aliyun.com/kubernetes/apt/doc/apt-key.gpg | sudo apt-key add -\n",
    "\n",
    "cat <<EOF | sudo tee /etc/apt/sources.list.d/kubernetes.list\n",
    "deb https://mirrors.aliyun.com/kubernetes/apt/ kubernetes-xenial main\n",
    "EOF\n",
    "\n",
    "# 安装kubeadm\n",
    "sudo apt update \n",
    "sudo apt install -y kubeadm=1.19.16-00  kubelet=1.19.16-00 kubectl=1.19.16-00\n",
    "```"
   ]
  },
  {
   "cell_type": "markdown",
   "id": "competitive-drama",
   "metadata": {},
   "source": [
    "> `apt-cache madison kubeadm`查看历史版本"
   ]
  },
  {
   "cell_type": "markdown",
   "id": "needed-virus",
   "metadata": {},
   "source": [
    "### 创建集群"
   ]
  },
  {
   "cell_type": "markdown",
   "id": "coupled-compression",
   "metadata": {},
   "source": [
    "参考文献："
   ]
  },
  {
   "cell_type": "markdown",
   "id": "understanding-adult",
   "metadata": {},
   "source": [
    "* [使用 kubeadm 创建集群](https://v1-19.docs.kubernetes.io/zh/docs/setup/production-environment/tools/kubeadm/create-cluster-kubeadm/)\n",
    "* [利用 kubeadm 创建高可用集群](https://kubernetes.io/zh/docs/setup/production-environment/tools/kubeadm/high-availability/)\n",
    "* [搭建高可用负载均衡器: haproxy+keepalived](https://developer.aliyun.com/article/609851)\n",
    "* [High Availability Considerations](https://github.com/kubernetes/kubeadm/blob/main/docs/ha-considerations.md#options-for-software-load-balancing)"
   ]
  },
  {
   "cell_type": "markdown",
   "id": "dried-choice",
   "metadata": {},
   "source": [
    "#### 搭建高可用负载均衡器"
   ]
  },
  {
   "cell_type": "markdown",
   "id": "celtic-palestinian",
   "metadata": {},
   "source": [
    "```shell\n",
    "#安装keepalived haproxy\n",
    "sudo apt install -y keepalived haproxy\n",
    "\n",
    "# 配置keepalived、haproxy\n",
    "\n",
    "# 重启keepalived、haproxy\n",
    "sudo systemctl restart keepalived\n",
    "sudo systemctl restart haproxy\n",
    "```"
   ]
  },
  {
   "cell_type": "markdown",
   "id": "effective-valuable",
   "metadata": {},
   "source": [
    "keepalvied、haproxy配置参考：[High Availability Considerations](https://github.com/kubernetes/kubeadm/blob/main/docs/ha-considerations.md#options-for-software-load-balancing)"
   ]
  },
  {
   "cell_type": "markdown",
   "id": "other-mention",
   "metadata": {},
   "source": [
    ">VIP为`172.30.12.250`，端口为`6443`"
   ]
  },
  {
   "cell_type": "markdown",
   "id": "silent-support",
   "metadata": {},
   "source": [
    "#### 初始化控制平面"
   ]
  },
  {
   "cell_type": "markdown",
   "id": "funny-browse",
   "metadata": {},
   "source": [
    "```shell\n",
    "sudo kubeadm init \\\n",
    "        --apiserver-advertise-address 0.0.0.0 \\\n",
    "        --apiserver-bind-port 6443 \\\n",
    "        --control-plane-endpoint \"172.30.12.250:8443\" \\\n",
    "        --upload-certs \\\n",
    "        --image-repository registry.cn-hangzhou.aliyuncs.com/google_containers \n",
    "```"
   ]
  },
  {
   "cell_type": "markdown",
   "id": "prospective-reward",
   "metadata": {},
   "source": [
    "> 通过`--image-repository`更换默认的镜像仓库地址。"
   ]
  },
  {
   "cell_type": "markdown",
   "id": "single-performance",
   "metadata": {},
   "source": [
    "首次初始化，终端最后输出日志："
   ]
  },
  {
   "cell_type": "markdown",
   "id": "neither-ordinance",
   "metadata": {},
   "source": [
    "```log\n",
    "To start using your cluster, you need to run the following as a regular user:\n",
    "\n",
    "  mkdir -p $HOME/.kube\n",
    "  sudo cp -i /etc/kubernetes/admin.conf $HOME/.kube/config\n",
    "  sudo chown $(id -u):$(id -g) $HOME/.kube/config\n",
    "\n",
    "You should now deploy a pod network to the cluster.\n",
    "Run \"kubectl apply -f [podnetwork].yaml\" with one of the options listed at:\n",
    "  https://kubernetes.io/docs/concepts/cluster-administration/addons/\n",
    "\n",
    "You can now join any number of the control-plane node running the following command on each as root:\n",
    "\n",
    "  kubeadm join 172.30.12.250:8443 --token 07x0ps.84245sbldawrta77 \\\n",
    "    --discovery-token-ca-cert-hash sha256:836e505073fde384891dff86386f499b2ed1146f141326c8c02c145aa4a17c1f \\\n",
    "    --control-plane --certificate-key 7b45c0656c53b5fde7b46cb2c50ed46e0088aec213061e336aa8c722a1aad021\n",
    "\n",
    "Please note that the certificate-key gives access to cluster sensitive data, keep it secret!\n",
    "As a safeguard, uploaded-certs will be deleted in two hours; If necessary, you can use\n",
    "\"kubeadm init phase upload-certs --upload-certs\" to reload certs afterward.\n",
    "\n",
    "Then you can join any number of worker nodes by running the following on each as root:\n",
    "\n",
    "kubeadm join 172.30.12.250:8443 --token 07x0ps.84245sbldawrta77 \\\n",
    "    --discovery-token-ca-cert-hash sha256:836e505073fde384891dff86386f499b2ed1146f141326c8c02c145aa4a17c1f\n",
    "```"
   ]
  },
  {
   "cell_type": "markdown",
   "id": "plastic-efficiency",
   "metadata": {},
   "source": [
    "配置kubectl访问k8s集群："
   ]
  },
  {
   "cell_type": "markdown",
   "id": "killing-immigration",
   "metadata": {},
   "source": [
    "```shell\n",
    "  mkdir -p $HOME/.kube\n",
    "  sudo cp -i /etc/kubernetes/admin.conf $HOME/.kube/config\n",
    "  sudo chown $(id -u):$(id -g) $HOME/.kube/config\n",
    "```"
   ]
  },
  {
   "cell_type": "markdown",
   "id": "formed-tulsa",
   "metadata": {},
   "source": [
    "#### 安装网络插件"
   ]
  },
  {
   "cell_type": "markdown",
   "id": "dominican-profit",
   "metadata": {},
   "source": [
    "```shell\n",
    "wget https://docs.projectcalico.org/v3.8/manifests/calico.yaml\n",
    "kubectl apply -f calico.yaml\n",
    "```"
   ]
  },
  {
   "cell_type": "markdown",
   "id": "detailed-rating",
   "metadata": {},
   "source": [
    "#### 加入其他master节点"
   ]
  },
  {
   "cell_type": "markdown",
   "id": "monthly-sector",
   "metadata": {},
   "source": [
    "先初始化环境，安装kubeadm、kubelet和kubectl，再执行`kubeadm join`"
   ]
  },
  {
   "cell_type": "markdown",
   "id": "shared-myrtle",
   "metadata": {},
   "source": [
    "```shell\n",
    "sudo kubeadm join 172.30.12.250:8443 --token 07x0ps.84245sbldawrta77 \\\n",
    "    --discovery-token-ca-cert-hash sha256:836e505073fde384891dff86386f499b2ed1146f141326c8c02c145aa4a17c1f \\\n",
    "    --control-plane --certificate-key 7b45c0656c53b5fde7b46cb2c50ed46e0088aec213061e336aa8c722a1aad021\n",
    "```"
   ]
  },
  {
   "cell_type": "markdown",
   "id": "final-stationery",
   "metadata": {},
   "source": [
    "#### 加入工作节点"
   ]
  },
  {
   "cell_type": "markdown",
   "id": "informed-gasoline",
   "metadata": {},
   "source": [
    "先初始化环境，安装kubeadm、kubelet和kubectl，再执行`kubeadm join`"
   ]
  },
  {
   "cell_type": "markdown",
   "id": "stable-skating",
   "metadata": {},
   "source": [
    "```shell\n",
    "sudo kubeadm join 172.30.12.250:8443 --token 07x0ps.84245sbldawrta77 \\\n",
    "    --discovery-token-ca-cert-hash sha256:836e505073fde384891dff86386f499b2ed1146f141326c8c02c145aa4a17c1f\n",
    "```"
   ]
  },
  {
   "cell_type": "markdown",
   "id": "wired-coordinate",
   "metadata": {},
   "source": [
    "### 集成metrics-server"
   ]
  },
  {
   "cell_type": "markdown",
   "id": "express-liverpool",
   "metadata": {},
   "source": [
    "参考文献：*k8s集成metrics-server notebook*"
   ]
  },
  {
   "cell_type": "markdown",
   "id": "quarterly-gates",
   "metadata": {},
   "source": [
    "### 配置默认存储类"
   ]
  },
  {
   "cell_type": "markdown",
   "id": "needed-swedish",
   "metadata": {},
   "source": [
    "参考文献：*k8s存储类 notebook*"
   ]
  },
  {
   "cell_type": "markdown",
   "id": "professional-tongue",
   "metadata": {},
   "source": [
    "### 集成kubesphere"
   ]
  },
  {
   "cell_type": "markdown",
   "id": "homeless-router",
   "metadata": {},
   "source": [
    "参考文献：*k8s集成kubesphere*"
   ]
  }
 ],
 "metadata": {
  "kernelspec": {
   "display_name": "Python 3",
   "language": "python",
   "name": "python3"
  },
  "language_info": {
   "codemirror_mode": {
    "name": "ipython",
    "version": 3
   },
   "file_extension": ".py",
   "mimetype": "text/x-python",
   "name": "python",
   "nbconvert_exporter": "python",
   "pygments_lexer": "ipython3",
   "version": "3.7.9"
  },
  "toc": {
   "base_numbering": 1,
   "nav_menu": {},
   "number_sections": true,
   "sideBar": true,
   "skip_h1_title": false,
   "title_cell": "Table of Contents",
   "title_sidebar": "Contents",
   "toc_cell": false,
   "toc_position": {
    "height": "calc(100% - 180px)",
    "left": "10px",
    "top": "150px",
    "width": "409.59375px"
   },
   "toc_section_display": true,
   "toc_window_display": true
  }
 },
 "nbformat": 4,
 "nbformat_minor": 5
}

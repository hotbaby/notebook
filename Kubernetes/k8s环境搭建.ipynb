{
 "cells": [
  {
   "cell_type": "markdown",
   "id": "likely-zoning",
   "metadata": {},
   "source": [
    "# k8s环境搭建"
   ]
  },
  {
   "cell_type": "markdown",
   "id": "committed-yeast",
   "metadata": {},
   "source": [
    "## 目标"
   ]
  },
  {
   "cell_type": "markdown",
   "id": "reported-grave",
   "metadata": {},
   "source": [
    "搭建一个多master节点、多worker节点集群环境，用于学习kubernets的架构（公司的kubernetes环境受限，无法使用k8s新特性），并将自己的应用服务迁移部署到k8s集群内。"
   ]
  },
  {
   "cell_type": "markdown",
   "id": "floral-involvement",
   "metadata": {},
   "source": [
    "## 环境准备"
   ]
  },
  {
   "cell_type": "markdown",
   "id": "sound-electricity",
   "metadata": {},
   "source": [
    "etcd集群至少需要3个节点，因此master高可用集群也至少需要3个节点，另外配置2个工作节点。"
   ]
  },
  {
   "cell_type": "markdown",
   "id": "tamil-sleep",
   "metadata": {},
   "source": [
    "华为云等云服务提供商租赁虚拟机VM的成本比较高，因此在物理上通过VirtualBox虚拟化技术虚拟VM。"
   ]
  },
  {
   "cell_type": "markdown",
   "id": "accepted-wholesale",
   "metadata": {},
   "source": [
    "### VirtualBox构建虚拟VM"
   ]
  },
  {
   "cell_type": "markdown",
   "id": "dutch-attack",
   "metadata": {},
   "source": [
    "物理机软、硬件环境："
   ]
  },
  {
   "cell_type": "markdown",
   "id": "greek-warehouse",
   "metadata": {},
   "source": [
    "|资源|配置|\n",
    "|---|---|\n",
    "|CPU|20 Core|\n",
    "|内存|64GB|\n",
    "|磁盘|SSD 1T、HHD 2T|\n",
    "|操作系统|Ubuntu 18.04|"
   ]
  },
  {
   "cell_type": "markdown",
   "id": "bored-concord",
   "metadata": {},
   "source": [
    "网络要求：\n",
    "\n",
    "* 虚拟机之间能互相通信\n",
    "* 虚拟机能访问公网"
   ]
  },
  {
   "cell_type": "markdown",
   "id": "northern-container",
   "metadata": {},
   "source": [
    "VirtualBox的NAT Network可以满足上述要求。VirutalBox `NAT Network`配置参考[VirtualBOX NAT Network配置](https://www.cnblogs.com/ddvv/p/6882514.html)。"
   ]
  },
  {
   "cell_type": "markdown",
   "id": "diagnostic-passing",
   "metadata": {},
   "source": [
    "软件版本：\n",
    "\n",
    "|软件|版本|\n",
    "|---|---|\n",
    "|VirtualBox|`6.0.24`|\n",
    "|镜像|`Ubuntu 18.04`|"
   ]
  },
  {
   "cell_type": "markdown",
   "id": "thrown-covering",
   "metadata": {},
   "source": [
    "> **VirtualBox尽量匹配上述版本，否则，可能无法创建虚拟机，无法配置`NAT Network`网络模式。**"
   ]
  },
  {
   "cell_type": "markdown",
   "id": "expensive-technology",
   "metadata": {},
   "source": [
    "虚拟Ubuntu主机并配置端口转发："
   ]
  },
  {
   "cell_type": "markdown",
   "id": "floating-vietnam",
   "metadata": {},
   "source": [
    "1. 使用VirtualBox虚拟Ubuntu-VM1 ~ Ubuntu-VM5共5台虚拟机器，其中VM1 ~ VM3作为k8s的master节点，VM4、VM5作为k8s的工作节点\n",
    "2. 配置端口转发，物理机能够将通过ssh登录到虚拟机，http、https的流量转发到虚拟机内部"
   ]
  },
  {
   "cell_type": "markdown",
   "id": "binary-empty",
   "metadata": {},
   "source": [
    "实操过程省略。"
   ]
  },
  {
   "cell_type": "markdown",
   "id": "loaded-assets",
   "metadata": {},
   "source": [
    "### 配置虚拟机免密登录"
   ]
  },
  {
   "cell_type": "markdown",
   "id": "educated-prisoner",
   "metadata": {},
   "source": [
    "机器列表："
   ]
  },
  {
   "cell_type": "markdown",
   "id": "pregnant-opening",
   "metadata": {},
   "source": [
    "`/etc/hosts`\n",
    "\n",
    "```\n",
    "10.0.2.4 Ubuntu-VM1 vm1\n",
    "10.0.2.5 Ubuntu-VM2 vm2\n",
    "10.0.2.6 Ubuntu-VM3 vm3\n",
    "10.0.2.7 Ubuntu-VM4 vm4\n",
    "10.0.2.8 Ubuntu-VM5 vm5\n",
    "```"
   ]
  },
  {
   "cell_type": "markdown",
   "id": "presidential-dover",
   "metadata": {},
   "source": [
    "VM1作为主要的ssh登录机器，能通过ssh免密登录到其他所有机器。"
   ]
  },
  {
   "cell_type": "markdown",
   "id": "intense-address",
   "metadata": {},
   "source": [
    "1. VM安装`openssh-server`\n",
    "2. 配置VM1免密登录其他所有VM"
   ]
  },
  {
   "cell_type": "markdown",
   "id": "assured-wheel",
   "metadata": {},
   "source": [
    "实操过程省略。"
   ]
  },
  {
   "cell_type": "markdown",
   "id": "wired-departure",
   "metadata": {},
   "source": [
    "### 配置虚拟机sudo免密输入"
   ]
  },
  {
   "cell_type": "markdown",
   "id": "blond-concern",
   "metadata": {},
   "source": [
    "更新`/etc/sudoers`文件\n",
    "\n",
    "sudo vim `/etc/sudoers`\n",
    "\n",
    "```\n",
    "user_name ALL=(ALL:ALL) ALL\n",
    "user_name ALL=(ALL) NOPASSWD: ALL\n",
    "```"
   ]
  },
  {
   "cell_type": "markdown",
   "id": "directed-basis",
   "metadata": {},
   "source": [
    "### 配置物理机登录虚拟机"
   ]
  },
  {
   "cell_type": "markdown",
   "id": "daily-drunk",
   "metadata": {},
   "source": [
    "通过物理机登录虚拟主要有两种方式："
   ]
  },
  {
   "cell_type": "markdown",
   "id": "conventional-communications",
   "metadata": {},
   "source": [
    "1. 通过VirutalBox配置端口转发\n",
    "2. 创建虚拟机到物理机ssh隧道"
   ]
  },
  {
   "cell_type": "markdown",
   "id": "wrong-psychology",
   "metadata": {},
   "source": [
    "配置VitualBox端口转发："
   ]
  },
  {
   "cell_type": "markdown",
   "id": "according-yesterday",
   "metadata": {},
   "source": [
    "实操过程省略。"
   ]
  },
  {
   "cell_type": "markdown",
   "id": "finnish-regard",
   "metadata": {},
   "source": [
    "虚拟机到物理机的ssh隧道："
   ]
  },
  {
   "cell_type": "markdown",
   "id": "psychological-element",
   "metadata": {},
   "source": [
    "1. 虚拟机安装autossh `sudo apt install autossh`，创建ssh隧道 `autossh -NfR 9999:localhost:22 user_name@ip`\n",
    "2. 物理机安装sshpass `sudo apt install sshpass`，登录到虚拟机 `sshpass -p user_name ssh localhost -p999`"
   ]
  },
  {
   "cell_type": "markdown",
   "id": "alpine-minister",
   "metadata": {},
   "source": [
    "## 搭建k8s集群"
   ]
  }
 ],
 "metadata": {
  "kernelspec": {
   "display_name": "Python 3",
   "language": "python",
   "name": "python3"
  },
  "language_info": {
   "codemirror_mode": {
    "name": "ipython",
    "version": 3
   },
   "file_extension": ".py",
   "mimetype": "text/x-python",
   "name": "python",
   "nbconvert_exporter": "python",
   "pygments_lexer": "ipython3",
   "version": "3.7.9"
  },
  "toc": {
   "base_numbering": 1,
   "nav_menu": {},
   "number_sections": true,
   "sideBar": true,
   "skip_h1_title": false,
   "title_cell": "Table of Contents",
   "title_sidebar": "Contents",
   "toc_cell": false,
   "toc_position": {},
   "toc_section_display": true,
   "toc_window_display": true
  }
 },
 "nbformat": 4,
 "nbformat_minor": 5
}

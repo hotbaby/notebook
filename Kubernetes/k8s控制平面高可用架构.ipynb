{
 "cells": [
  {
   "cell_type": "markdown",
   "id": "2ec59924",
   "metadata": {},
   "source": [
    "# k8s控制平面高可用架构"
   ]
  },
  {
   "cell_type": "markdown",
   "id": "7da8a614",
   "metadata": {},
   "source": [
    "## 参考文献"
   ]
  },
  {
   "cell_type": "markdown",
   "id": "c9e72084",
   "metadata": {},
   "source": [
    "* https://www.kubernetes.org.cn/6964.html\n",
    "* https://kubernetes.io/zh/docs/setup/production-environment/tools/kubeadm/high-availability/\n",
    "* https://kubernetes.io/zh/docs/setup/production-environment/tools/kubeadm/ha-topology/"
   ]
  },
  {
   "cell_type": "markdown",
   "id": "fec88c62",
   "metadata": {},
   "source": [
    "## 部署架构"
   ]
  },
  {
   "cell_type": "markdown",
   "id": "18fbd13d",
   "metadata": {},
   "source": [
    "![](https://www.kubernetes.org.cn/img/2020/03/k8s-ha.png)"
   ]
  },
  {
   "cell_type": "markdown",
   "id": "5fd3041f",
   "metadata": {},
   "source": [
    "* 负载均衡器提供一个VIP，流量负载到`keepalived` master节点上，当`keepalived`节点出现故障，vip自动漂到其他可用节点；\n",
    "* `haproxy`负责将流量负载到`apiserver`节点；\n",
    "* 三个`apiserver`会同时工作，**`controller-manager`和`scheduler`只会有一个节点工作，其他处于backup状态**。"
   ]
  }
 ],
 "metadata": {
  "kernelspec": {
   "display_name": "Python 3",
   "language": "python",
   "name": "python3"
  },
  "language_info": {
   "codemirror_mode": {
    "name": "ipython",
    "version": 3
   },
   "file_extension": ".py",
   "mimetype": "text/x-python",
   "name": "python",
   "nbconvert_exporter": "python",
   "pygments_lexer": "ipython3",
   "version": "3.7.10"
  },
  "toc": {
   "base_numbering": 1,
   "nav_menu": {},
   "number_sections": true,
   "sideBar": true,
   "skip_h1_title": false,
   "title_cell": "Table of Contents",
   "title_sidebar": "Contents",
   "toc_cell": false,
   "toc_position": {},
   "toc_section_display": true,
   "toc_window_display": false
  }
 },
 "nbformat": 4,
 "nbformat_minor": 5
}

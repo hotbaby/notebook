{
 "cells": [
  {
   "cell_type": "markdown",
   "id": "advised-diploma",
   "metadata": {},
   "source": [
    "# k8s集成apisix-ingress"
   ]
  },
  {
   "cell_type": "markdown",
   "id": "deluxe-patrol",
   "metadata": {},
   "source": [
    "## 环境依赖"
   ]
  },
  {
   "cell_type": "markdown",
   "id": "intensive-reminder",
   "metadata": {},
   "source": [
    "* kubesphere\n",
    "* helm"
   ]
  },
  {
   "cell_type": "markdown",
   "id": "suitable-above",
   "metadata": {},
   "source": [
    "安装helm，直接下载helm的tar包，解压后移动到`/usr/local/bin/`目录下。"
   ]
  },
  {
   "cell_type": "markdown",
   "id": "recognized-cameroon",
   "metadata": {},
   "source": [
    "## 实践"
   ]
  },
  {
   "cell_type": "markdown",
   "id": "athletic-assurance",
   "metadata": {},
   "source": [
    "创建namespace"
   ]
  },
  {
   "cell_type": "markdown",
   "id": "driving-belarus",
   "metadata": {},
   "source": [
    "```shell\n",
    "kubectl create ns ingress-apisix\n",
    "```"
   ]
  },
  {
   "cell_type": "markdown",
   "id": "minute-fifty",
   "metadata": {},
   "source": [
    "安装apisix"
   ]
  },
  {
   "cell_type": "markdown",
   "id": "sacred-alabama",
   "metadata": {},
   "source": [
    "```shell\n",
    "helm install --debug --dry-run apisix charts/apisix --set gateway.type=NodePort --namespace ingress-apisix  --set admin.allow.ipList=\"\"\n",
    "```"
   ]
  },
  {
   "cell_type": "markdown",
   "id": "solved-launch",
   "metadata": {},
   "source": [
    "> 预安装helm install --debug --dry-run apisix charts/apisix，用于校验配置，实际安装时去掉--debug --dry-run参数"
   ]
  },
  {
   "cell_type": "markdown",
   "id": "charged-series",
   "metadata": {},
   "source": [
    "> 可以通过`--set etcd.host={http://10.100.19.180:2379\\,http://10.100.19.178:2379\\,http://10.100.19.180:2379} `指定外部etcd"
   ]
  },
  {
   "cell_type": "markdown",
   "id": "reserved-signature",
   "metadata": {},
   "source": [
    "安装apisix-ingress-controller"
   ]
  },
  {
   "cell_type": "markdown",
   "id": "disturbed-collection",
   "metadata": {},
   "source": [
    "```shell\n",
    "helm install --debug apisix-ingress-controller charts/apisix-ingress-controller --namespace ingress-apisix\n",
    "```"
   ]
  },
  {
   "cell_type": "markdown",
   "id": "broken-enlargement",
   "metadata": {},
   "source": [
    "安装apisix-dashboard"
   ]
  },
  {
   "cell_type": "markdown",
   "id": "duplicate-worst",
   "metadata": {},
   "source": [
    "```shell\n",
    "helm install --debug --dry-run apisix-dashboard charts/apisix-dashboard --namespace ingress-apisix \n",
    "```"
   ]
  },
  {
   "cell_type": "markdown",
   "id": "ranging-balloon",
   "metadata": {},
   "source": [
    "> 可以通过` --set config.conf.etcd.endpoints{http://10.100.19.180:2379\\,http://10.100.19.178:2379\\,http://10.100.19.180:2379}`指定etcd endpoint"
   ]
  },
  {
   "cell_type": "markdown",
   "id": "activated-petroleum",
   "metadata": {},
   "source": [
    "## 参考文献"
   ]
  },
  {
   "cell_type": "markdown",
   "id": "governmental-archives",
   "metadata": {},
   "source": [
    "- https://apisix.apache.org/docs/ingress-controller/deployments/kubesphere/\n",
    "- https://github.com/helm/helm/releases/tag/v3.6.3\n",
    "  - https://github.com/apache/apisix-helm-chart\n",
    "- https://helm.sh/docs/intro/install/\n"
   ]
  }
 ],
 "metadata": {
  "kernelspec": {
   "display_name": "Python 3",
   "language": "python",
   "name": "python3"
  },
  "language_info": {
   "codemirror_mode": {
    "name": "ipython",
    "version": 3
   },
   "file_extension": ".py",
   "mimetype": "text/x-python",
   "name": "python",
   "nbconvert_exporter": "python",
   "pygments_lexer": "ipython3",
   "version": "3.7.9"
  },
  "toc": {
   "base_numbering": 1,
   "nav_menu": {},
   "number_sections": true,
   "sideBar": true,
   "skip_h1_title": false,
   "title_cell": "Table of Contents",
   "title_sidebar": "Contents",
   "toc_cell": false,
   "toc_position": {},
   "toc_section_display": true,
   "toc_window_display": false
  }
 },
 "nbformat": 4,
 "nbformat_minor": 5
}

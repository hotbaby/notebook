{
 "cells": [
  {
   "cell_type": "markdown",
   "id": "7cbbf95f",
   "metadata": {},
   "source": [
    "apt-get /var/lib/dpkg/lock-frontend问题"
   ]
  },
  {
   "cell_type": "markdown",
   "id": "062ef011",
   "metadata": {},
   "source": [
    "Q:"
   ]
  },
  {
   "cell_type": "markdown",
   "id": "74cf06ff",
   "metadata": {},
   "source": [
    "apt install 报错："
   ]
  },
  {
   "cell_type": "markdown",
   "id": "4b9f40df",
   "metadata": {},
   "source": [
    "```\n",
    "E: Could not get lock /var/lib/dpkg/lock-frontend - open (11: Resource temporarily unavailable)\n",
    "E: Unable to acquire the dpkg frontend lock (/var/lib/dpkg/lock-frontend), is another process using it?\n",
    "```"
   ]
  },
  {
   "cell_type": "markdown",
   "id": "fa59703e",
   "metadata": {},
   "source": [
    "A:"
   ]
  },
  {
   "cell_type": "markdown",
   "id": "d0e20dbe",
   "metadata": {},
   "source": [
    "```shell\n",
    "sudo rm /var/lib/dpkg/lock-frontend\n",
    "sudo rm /var/lib/dpkg/lock\n",
    "sudo rm /var/cache/apt/archives/lock\n",
    "```"
   ]
  }
 ],
 "metadata": {
  "kernelspec": {
   "display_name": "Python 3",
   "language": "python",
   "name": "python3"
  },
  "language_info": {
   "codemirror_mode": {
    "name": "ipython",
    "version": 3
   },
   "file_extension": ".py",
   "mimetype": "text/x-python",
   "name": "python",
   "nbconvert_exporter": "python",
   "pygments_lexer": "ipython3",
   "version": "3.7.10"
  },
  "toc": {
   "base_numbering": 1,
   "nav_menu": {},
   "number_sections": true,
   "sideBar": true,
   "skip_h1_title": false,
   "title_cell": "Table of Contents",
   "title_sidebar": "Contents",
   "toc_cell": false,
   "toc_position": {},
   "toc_section_display": true,
   "toc_window_display": false
  }
 },
 "nbformat": 4,
 "nbformat_minor": 5
}

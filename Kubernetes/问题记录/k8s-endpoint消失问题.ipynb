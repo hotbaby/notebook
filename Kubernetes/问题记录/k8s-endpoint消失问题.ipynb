{
 "cells": [
  {
   "cell_type": "markdown",
   "id": "15bf8485",
   "metadata": {},
   "source": [
    "# k8s endpoint消失问题"
   ]
  },
  {
   "cell_type": "markdown",
   "id": "9b03880c",
   "metadata": {},
   "source": [
    "## 参考文献"
   ]
  },
  {
   "cell_type": "markdown",
   "id": "6b0b6cef",
   "metadata": {},
   "source": [
    "* [k8s endpoint 消失问题](https://xuxinkun.github.io/2017/09/18/kube-endpoint-disappear/)\n",
    "* [k8s pod 生命周期](https://kubernetes.io/zh/docs/concepts/workloads/pods/pod-lifecycle/)"
   ]
  },
  {
   "cell_type": "markdown",
   "id": "89ad7f5c",
   "metadata": {},
   "source": [
    "## 问题分析"
   ]
  },
  {
   "cell_type": "markdown",
   "id": "e5d410f2",
   "metadata": {},
   "source": [
    "查看service状态"
   ]
  },
  {
   "cell_type": "markdown",
   "id": "9d9ec3b4",
   "metadata": {},
   "source": [
    "`k get svc streamsets-4 -n bdp`"
   ]
  },
  {
   "cell_type": "markdown",
   "id": "800a1462",
   "metadata": {},
   "source": [
    "```\n",
    "NAME           TYPE       CLUSTER-IP      EXTERNAL-IP   PORT(S)           AGE\n",
    "streamsets-4   NodePort   10.99.121.152   <none>        18630:30631/TCP   391d\n",
    "```"
   ]
  },
  {
   "cell_type": "markdown",
   "id": "c5396f59",
   "metadata": {},
   "source": [
    "`k describe svc streamsets-4 -n bdp`"
   ]
  },
  {
   "cell_type": "markdown",
   "id": "9792bccd",
   "metadata": {},
   "source": [
    "```\n",
    "Name:                     streamsets-4\n",
    "Namespace:                bdp\n",
    "Labels:                   run=streamsets-4\n",
    "Annotations:              kubectl.kubernetes.io/last-applied-configuration:\n",
    "                            {\"apiVersion\":\"v1\",\"kind\":\"Service\",\"metadata\":{\"annotations\":{},\"labels\":{\"run\":\"streamsets-4\"},\"name\":\"streamsets-4\",\"namespace\":\"bdp\"},...\n",
    "Selector:                 run=streamsets-4\n",
    "Type:                     NodePort\n",
    "IP:                       10.99.121.152\n",
    "Port:                     <unset>  18630/TCP\n",
    "TargetPort:               18630/TCP\n",
    "NodePort:                 <unset>  30631/TCP\n",
    "Endpoints:  # 问题点，不应该为空\n",
    "Session Affinity:         None\n",
    "External Traffic Policy:  Cluster\n",
    "Events:                   <none>\n",
    "```"
   ]
  },
  {
   "cell_type": "markdown",
   "id": "76ba7726",
   "metadata": {},
   "source": [
    "> Note：Endpoints为空"
   ]
  },
  {
   "cell_type": "markdown",
   "id": "2246c81c",
   "metadata": {},
   "source": [
    "查看endpoint状态"
   ]
  },
  {
   "cell_type": "markdown",
   "id": "d899e2bb",
   "metadata": {},
   "source": [
    "`k get ep streamsets-4 -nbdp`"
   ]
  },
  {
   "cell_type": "markdown",
   "id": "b154eaa1",
   "metadata": {},
   "source": [
    "```\n",
    "NAME           ENDPOINTS   AGE\n",
    "streamsets-4               391d\n",
    "```\n"
   ]
  },
  {
   "cell_type": "markdown",
   "id": "56a3970b",
   "metadata": {},
   "source": [
    "` k get ep streamsets-4 -nbdp -oyaml`"
   ]
  },
  {
   "cell_type": "markdown",
   "id": "05467800",
   "metadata": {},
   "source": [
    "```yaml\n",
    "apiVersion: v1\n",
    "kind: Endpoints\n",
    "metadata:\n",
    "  annotations:\n",
    "    endpoints.kubernetes.io/last-change-trigger-time: \"2022-01-18T02:04:48Z\"\n",
    "  creationTimestamp: \"2020-12-23T06:20:18Z\"\n",
    "  labels:\n",
    "    run: streamsets-4\n",
    "  name: streamsets-4\n",
    "  namespace: bdp\n",
    "  resourceVersion: \"154825784\"\n",
    "  selfLink: /api/v1/namespaces/bdp/endpoints/streamsets-4\n",
    "  uid: 81206da0-f4df-47e5-a00f-b4f3ff87810a\n",
    "subsets:\n",
    "- notReadyAddresses:\n",
    "  - ip: 10.244.89.167\n",
    "    nodeName: k8s-node-03\n",
    "    targetRef:\n",
    "      kind: Pod\n",
    "      name: streamsets-4-87db655c6-mggt4\n",
    "      namespace: bdp\n",
    "      resourceVersion: \"154825779\"\n",
    "      uid: 1999349e-43c6-4d79-b4a6-68886c2df848\n",
    "  ports:\n",
    "  - port: 18630\n",
    "    protocol: TCP\n",
    "```"
   ]
  },
  {
   "cell_type": "markdown",
   "id": "8c47a161",
   "metadata": {},
   "source": [
    "参考文献https://xuxinkun.github.io/2017/09/18/kube-endpoint-disappear/ 分析是pod状态异常"
   ]
  },
  {
   "cell_type": "markdown",
   "id": "5a7923b1",
   "metadata": {},
   "source": [
    "查看pod、deployment状态"
   ]
  },
  {
   "cell_type": "markdown",
   "id": "3f502d29",
   "metadata": {},
   "source": [
    "```\n",
    "[root@k8s-master-01 zhaobingfeng]# k get pod -n bdp -lrun=streamsets-4\n",
    "NAME                           READY   STATUS    RESTARTS   AGE\n",
    "streamsets-4-87db655c6-mggt4   1/1     Running   1          57d\n",
    "\n",
    "[root@k8s-master-01 zhaobingfeng]# k get deployment streamsets-4 -n bdp\n",
    "NAME           READY   UP-TO-DATE   AVAILABLE   AGE\n",
    "streamsets-4   0/1     1            0           391d\n",
    "```"
   ]
  },
  {
   "cell_type": "markdown",
   "id": "690dc64d",
   "metadata": {},
   "source": [
    "` k get pod -n bdp -lrun=streamsets-4 -oyaml`"
   ]
  },
  {
   "cell_type": "markdown",
   "id": "b36081ce",
   "metadata": {},
   "source": [
    "```yaml\n",
    "...\n",
    "\n",
    "  status:\n",
    "    conditions:\n",
    "    - lastProbeTime: null\n",
    "      lastTransitionTime: \"2021-11-22T06:33:17Z\"\n",
    "      status: \"True\"\n",
    "      type: Initialized\n",
    "    - lastProbeTime: null\n",
    "      lastTransitionTime: \"2022-01-18T02:04:48Z\"\n",
    "      status: \"False\" # 问题点，应该是True\n",
    "      type: Ready\n",
    "    - lastProbeTime: null\n",
    "      lastTransitionTime: \"2021-11-22T06:40:59Z\"\n",
    "      status: \"True\"\n",
    "      type: ContainersReady\n",
    "    - lastProbeTime: null\n",
    "      lastTransitionTime: \"2021-11-22T06:33:17Z\"\n",
    "      status: \"True\"\n",
    "      type: PodScheduled\n",
    "    containerStatuses:\n",
    "    - containerID: docker://89b380c712fc811066808c42e51cd1e702ddebd92c953113247faadfdd8d8d63\n",
    "      image: 10.100.31.135:5000/com.credithc/streamset-service:v2\n",
    "      imageID: docker-pullable://10.100.31.135:5000/com.credithc/streamset-service@sha256:5277ea055faa9b14339d4382e7e5f8b07c3e4794fa61cac8774c3d72e99bc4bc\n",
    "      lastState:\n",
    "        terminated:\n",
    "          containerID: docker://f19d56826b10f3c510d092e3444f427ceb5f43528b033564cc57ee2f5c136e83\n",
    "          exitCode: 137\n",
    "          finishedAt: \"2021-11-22T06:39:56Z\"\n",
    "          reason: Error\n",
    "          startedAt: \"2021-11-22T06:33:24Z\"\n",
    "\n",
    "...\n",
    "```"
   ]
  },
  {
   "cell_type": "markdown",
   "id": "91d7a6cc",
   "metadata": {},
   "source": [
    "> type: Ready 的status为False"
   ]
  },
  {
   "cell_type": "markdown",
   "id": "3dec939a",
   "metadata": {},
   "source": [
    "## 问题解决"
   ]
  },
  {
   "cell_type": "markdown",
   "id": "299fe005",
   "metadata": {},
   "source": [
    "删除pod重启"
   ]
  }
 ],
 "metadata": {
  "kernelspec": {
   "display_name": "Python 3",
   "language": "python",
   "name": "python3"
  },
  "language_info": {
   "codemirror_mode": {
    "name": "ipython",
    "version": 3
   },
   "file_extension": ".py",
   "mimetype": "text/x-python",
   "name": "python",
   "nbconvert_exporter": "python",
   "pygments_lexer": "ipython3",
   "version": "3.7.10"
  },
  "toc": {
   "base_numbering": 1,
   "nav_menu": {},
   "number_sections": true,
   "sideBar": true,
   "skip_h1_title": false,
   "title_cell": "Table of Contents",
   "title_sidebar": "Contents",
   "toc_cell": false,
   "toc_position": {},
   "toc_section_display": true,
   "toc_window_display": false
  }
 },
 "nbformat": 4,
 "nbformat_minor": 5
}

{
 "cells": [
  {
   "cell_type": "markdown",
   "id": "a0c793d0",
   "metadata": {},
   "source": [
    "# k8s集成istio"
   ]
  },
  {
   "cell_type": "markdown",
   "id": "06e89165",
   "metadata": {},
   "source": [
    "## 参考文献"
   ]
  },
  {
   "cell_type": "markdown",
   "id": "221261c3",
   "metadata": {},
   "source": [
    "* *https://kubesphere.io/zh/docs/pluggable-components/service-mesh/*\n",
    "* *https://istio.io/latest/zh/docs/setup/platform-setup/kubesphere/*"
   ]
  },
  {
   "cell_type": "markdown",
   "id": "b62bed91",
   "metadata": {},
   "source": [
    "先安装`kubesphere`，通过`kubesphere`安装`istio`."
   ]
  }
 ],
 "metadata": {
  "kernelspec": {
   "display_name": "Python 3",
   "language": "python",
   "name": "python3"
  },
  "language_info": {
   "codemirror_mode": {
    "name": "ipython",
    "version": 3
   },
   "file_extension": ".py",
   "mimetype": "text/x-python",
   "name": "python",
   "nbconvert_exporter": "python",
   "pygments_lexer": "ipython3",
   "version": "3.7.10"
  },
  "toc": {
   "base_numbering": 1,
   "nav_menu": {},
   "number_sections": true,
   "sideBar": true,
   "skip_h1_title": false,
   "title_cell": "Table of Contents",
   "title_sidebar": "Contents",
   "toc_cell": false,
   "toc_position": {},
   "toc_section_display": true,
   "toc_window_display": false
  }
 },
 "nbformat": 4,
 "nbformat_minor": 5
}

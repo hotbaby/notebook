{
 "cells": [
  {
   "cell_type": "markdown",
   "id": "reasonable-locator",
   "metadata": {},
   "source": [
    "# k8s工作负载"
   ]
  },
  {
   "cell_type": "markdown",
   "id": "accessory-plane",
   "metadata": {},
   "source": [
    "## 工作负载cronjob"
   ]
  },
  {
   "cell_type": "markdown",
   "id": "elementary-merchant",
   "metadata": {},
   "source": [
    "参考文献：https://kubernetes.io/zh/docs/tasks/job/automated-tasks-with-cron-jobs/"
   ]
  },
  {
   "cell_type": "markdown",
   "id": "cardiovascular-cincinnati",
   "metadata": {},
   "source": [
    "生成cronjob.yaml模板文件"
   ]
  },
  {
   "cell_type": "markdown",
   "id": "monetary-riverside",
   "metadata": {},
   "source": [
    "```shell\n",
    "# 生成yaml文件\n",
    "k create cronjob hello --image=busybox --schedule=\"0/10 * * * *\" --dry-run='client' -o yaml\n",
    "```"
   ]
  },
  {
   "cell_type": "markdown",
   "id": "simplified-liberal",
   "metadata": {},
   "source": [
    "`hello-cronjob.yaml`"
   ]
  },
  {
   "cell_type": "markdown",
   "id": "persistent-court",
   "metadata": {},
   "source": [
    "```yaml\n",
    "apiVersion: batch/v1beta1\n",
    "kind: CronJob\n",
    "metadata:\n",
    "  creationTimestamp: null\n",
    "  name: hello\n",
    "spec:\n",
    "  jobTemplate:\n",
    "    metadata:\n",
    "      creationTimestamp: null\n",
    "      name: hello\n",
    "    spec:\n",
    "      template:\n",
    "        metadata:\n",
    "          creationTimestamp: null\n",
    "        spec:\n",
    "          containers:\n",
    "          - image: busybox\n",
    "            name: hello\n",
    "            resources: {}\n",
    "            command:\n",
    "            - /bin/sh\n",
    "            - -c\n",
    "            - date; echo Hello from the Kubernetes cluster\n",
    "          restartPolicy: OnFailure\n",
    "  schedule: 0/10 * * * *\n",
    "status: {}\n",
    "```"
   ]
  },
  {
   "cell_type": "markdown",
   "id": "exceptional-given",
   "metadata": {},
   "source": [
    "> 增加`spec.jobTemplate.spec.containers.command` `/bin/sh -c date; echo Hello from Kubernetes cluster`"
   ]
  },
  {
   "cell_type": "markdown",
   "id": "chicken-break",
   "metadata": {},
   "source": [
    "创建cronjob:"
   ]
  },
  {
   "cell_type": "markdown",
   "id": "spatial-romantic",
   "metadata": {},
   "source": [
    "```shell\n",
    "kubectl apply -f hello-cronjob.yaml\n",
    "```"
   ]
  },
  {
   "cell_type": "markdown",
   "id": "broken-practitioner",
   "metadata": {},
   "source": [
    "查看cronjob"
   ]
  },
  {
   "cell_type": "markdown",
   "id": "british-respect",
   "metadata": {},
   "source": [
    "```shell\n",
    "kubectl get cronjob hello\n",
    "```"
   ]
  },
  {
   "cell_type": "markdown",
   "id": "general-cleveland",
   "metadata": {},
   "source": [
    "输出类似于"
   ]
  },
  {
   "cell_type": "markdown",
   "id": "protected-baptist",
   "metadata": {},
   "source": [
    "```\n",
    "NAME    SCHEDULE       SUSPEND   ACTIVE   LAST SCHEDULE   AGE\n",
    "hello   0/10 * * * *   False     0        <none>          88s\n",
    "```"
   ]
  },
  {
   "cell_type": "markdown",
   "id": "superior-given",
   "metadata": {},
   "source": [
    "删除cronjob"
   ]
  },
  {
   "cell_type": "markdown",
   "id": "confidential-filling",
   "metadata": {},
   "source": [
    "```shell\n",
    "kubectl delete cronjob hello\n",
    "```"
   ]
  },
  {
   "cell_type": "markdown",
   "id": "elect-kennedy",
   "metadata": {},
   "source": [
    "cron时间表语法"
   ]
  },
  {
   "cell_type": "markdown",
   "id": "gothic-consequence",
   "metadata": {},
   "source": [
    "```\n",
    "# ┌───────────── 分钟 (0 - 59)\n",
    "# │ ┌───────────── 小时 (0 - 23)\n",
    "# │ │ ┌───────────── 月的某天 (1 - 31)\n",
    "# │ │ │ ┌───────────── 月份 (1 - 12)\n",
    "# │ │ │ │ ┌───────────── 周的某天 (0 - 6)（周日到周一；在某些系统上，7 也是星期日）\n",
    "# │ │ │ │ │\n",
    "# │ │ │ │ │\n",
    "# │ │ │ │ │\n",
    "# * * * * *\n",
    "```"
   ]
  },
  {
   "cell_type": "markdown",
   "id": "international-anger",
   "metadata": {},
   "source": [
    "参考文献：https://crontab.guru/#"
   ]
  },
  {
   "cell_type": "markdown",
   "id": "handmade-concert",
   "metadata": {},
   "source": [
    "cron调度示例"
   ]
  },
  {
   "cell_type": "markdown",
   "id": "american-slovenia",
   "metadata": {},
   "source": [
    "|输入|描述|相当于|\n",
    "|----|---|-----|\n",
    "|@yearly (or @annually)|\t每年 1 月 1 日的午夜运行一次\t|0 0 1 1 *|\n",
    "|@monthly\t|每月第一天的午夜运行一次|\t0 0 1 * *|\n",
    "|@weekly|\t每周的周日午夜运行一次\t|0 0 * * 0|\n",
    "|@daily (or @midnight)\t|每天午夜运行一次\t|0 0 * * *|\n",
    "|@hourly|\t每小时的开始一次|\t0 * * * *|\n",
    "|@minute|每分钟执行一次|0/10 * * * * |"
   ]
  },
  {
   "cell_type": "markdown",
   "id": "adolescent-benjamin",
   "metadata": {},
   "source": [
    "## FAQ"
   ]
  },
  {
   "cell_type": "markdown",
   "id": "aerial-unemployment",
   "metadata": {},
   "source": [
    "### Q：cron每天定时执行任务，任务执行时间不准确？"
   ]
  },
  {
   "cell_type": "markdown",
   "id": "strange-celtic",
   "metadata": {},
   "source": [
    "A：`kube-controller-manager`pod的时区与主机Node上的时区不一致导致。"
   ]
  },
  {
   "cell_type": "markdown",
   "id": "complex-constant",
   "metadata": {},
   "source": [
    "修改`kube-controller-manager.yaml`配置文件`sudo vim /etc/kubernetes/manifests/kube-controller-manager.yaml`，将Node上的`/etc/localtime`挂载controller-manager的pod中。"
   ]
  },
  {
   "cell_type": "markdown",
   "id": "peripheral-guide",
   "metadata": {},
   "source": [
    "```yaml\n",
    "    volumeMounts:\n",
    "    - mountPath: /etc/ssl/certs\n",
    "      name: ca-certs\n",
    "      readOnly: true\n",
    "    - name: localtime\n",
    "      mountPath: /etc/localtime\n",
    "      readOnly: true\n",
    "  volumes:\n",
    "  - hostPath:\n",
    "      path: /etc/ssl/certs\n",
    "      type: DirectoryOrCreate\n",
    "    name: ca-certs\n",
    "  - hostPath:\n",
    "      path: /etc/localtime\n",
    "    name: localtime\n",
    "```"
   ]
  }
 ],
 "metadata": {
  "kernelspec": {
   "display_name": "Python 3",
   "language": "python",
   "name": "python3"
  },
  "language_info": {
   "codemirror_mode": {
    "name": "ipython",
    "version": 3
   },
   "file_extension": ".py",
   "mimetype": "text/x-python",
   "name": "python",
   "nbconvert_exporter": "python",
   "pygments_lexer": "ipython3",
   "version": "3.7.9"
  },
  "toc": {
   "base_numbering": 1,
   "nav_menu": {},
   "number_sections": true,
   "sideBar": true,
   "skip_h1_title": false,
   "title_cell": "Table of Contents",
   "title_sidebar": "Contents",
   "toc_cell": false,
   "toc_position": {},
   "toc_section_display": true,
   "toc_window_display": true
  }
 },
 "nbformat": 4,
 "nbformat_minor": 5
}

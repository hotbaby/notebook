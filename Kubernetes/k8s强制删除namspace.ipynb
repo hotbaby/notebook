{
 "cells": [
  {
   "cell_type": "markdown",
   "id": "d8b78a3a",
   "metadata": {},
   "source": [
    "k8s强制删除namespace"
   ]
  },
  {
   "cell_type": "markdown",
   "id": "562f6e58",
   "metadata": {},
   "source": [
    "```shell\n",
    "kubectl get ns istio-system -o json > istio-system.json\n",
    "\n",
    "kubectl replace --raw \"/api/v1/namespaces/istio-system/finalize\" -f istio-system.json\n",
    "```"
   ]
  }
 ],
 "metadata": {
  "kernelspec": {
   "display_name": "Python 3",
   "language": "python",
   "name": "python3"
  },
  "language_info": {
   "codemirror_mode": {
    "name": "ipython",
    "version": 3
   },
   "file_extension": ".py",
   "mimetype": "text/x-python",
   "name": "python",
   "nbconvert_exporter": "python",
   "pygments_lexer": "ipython3",
   "version": "3.7.10"
  }
 },
 "nbformat": 4,
 "nbformat_minor": 5
}

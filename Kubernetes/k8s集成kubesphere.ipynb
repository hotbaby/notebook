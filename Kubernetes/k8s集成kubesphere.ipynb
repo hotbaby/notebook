{
 "cells": [
  {
   "cell_type": "markdown",
   "id": "preliminary-pocket",
   "metadata": {},
   "source": [
    "k8s集成kubesphere"
   ]
  },
  {
   "cell_type": "markdown",
   "id": "informational-blogger",
   "metadata": {},
   "source": [
    "参考文献："
   ]
  },
  {
   "cell_type": "markdown",
   "id": "filled-spectrum",
   "metadata": {},
   "source": [
    "* https://kubesphere.io/zh/docs/quick-start/minimal-kubesphere-on-k8s/"
   ]
  },
  {
   "cell_type": "markdown",
   "id": "roman-entrance",
   "metadata": {},
   "source": [
    "依赖："
   ]
  },
  {
   "cell_type": "markdown",
   "id": "understood-saver",
   "metadata": {},
   "source": [
    "* 默认存储类\n",
    "* Metrics Server"
   ]
  },
  {
   "cell_type": "markdown",
   "id": "greenhouse-private",
   "metadata": {},
   "source": [
    "kubernetes版本为`v1.19.16`，选定kubesphere版本为`v3.2.0`"
   ]
  },
  {
   "cell_type": "markdown",
   "id": "short-thanks",
   "metadata": {},
   "source": [
    "```shell\n",
    "# 安装kubsphere\n",
    "kubectl apply -f https://github.com/kubesphere/ks-installer/releases/download/v3.2.0/kubesphere-installer.yaml;\n",
    "kubectl apply -f https://github.com/kubesphere/ks-installer/releases/download/v3.2.0/cluster-configuration.yaml;\n",
    "```"
   ]
  },
  {
   "cell_type": "markdown",
   "id": "finished-yukon",
   "metadata": {},
   "source": [
    "```shell\n",
    "# 检查日志\n",
    "kubectl logs -n kubesphere-system $(kubectl get pod -n kubesphere-system -l app=ks-install -o jsonpath='{.items[0].metadata.name}') -f\n",
    "```"
   ]
  }
 ],
 "metadata": {
  "kernelspec": {
   "display_name": "Python 3",
   "language": "python",
   "name": "python3"
  },
  "language_info": {
   "codemirror_mode": {
    "name": "ipython",
    "version": 3
   },
   "file_extension": ".py",
   "mimetype": "text/x-python",
   "name": "python",
   "nbconvert_exporter": "python",
   "pygments_lexer": "ipython3",
   "version": "3.7.9"
  },
  "toc": {
   "base_numbering": 1,
   "nav_menu": {},
   "number_sections": true,
   "sideBar": true,
   "skip_h1_title": false,
   "title_cell": "Table of Contents",
   "title_sidebar": "Contents",
   "toc_cell": false,
   "toc_position": {},
   "toc_section_display": true,
   "toc_window_display": false
  }
 },
 "nbformat": 4,
 "nbformat_minor": 5
}

{
 "cells": [
  {
   "cell_type": "markdown",
   "id": "prerequisite-penalty",
   "metadata": {},
   "source": [
    "# k8s客户端kubectl"
   ]
  },
  {
   "cell_type": "markdown",
   "id": "minute-moderator",
   "metadata": {},
   "source": [
    "## 安装kubectl"
   ]
  },
  {
   "cell_type": "markdown",
   "id": "agreed-patent",
   "metadata": {},
   "source": [
    "```shell\n",
    "sudo apt update && sudo apt install -y apt-transport-https curl\n",
    "curl -s https://mirrors.aliyun.com/kubernetes/apt/doc/apt-key.gpg | sudo apt-key add -\n",
    "\n",
    "cat <<EOF | sudo tee /etc/apt/sources.list.d/kubernetes.list\n",
    "deb https://mirrors.aliyun.com/kubernetes/apt/ kubernetes-xenial main\n",
    "EOF\n",
    "\n",
    "# 安装kubectl\n",
    "sudo apt update;\n",
    "sudo apt install -y kubectl=1.19.16-00\n",
    "```"
   ]
  },
  {
   "cell_type": "markdown",
   "id": "infectious-affiliation",
   "metadata": {},
   "source": [
    "> apt-cache madison kubectl 查看历史版本"
   ]
  },
  {
   "cell_type": "markdown",
   "id": "honey-allergy",
   "metadata": {},
   "source": [
    "## kubectl命令补全"
   ]
  },
  {
   "cell_type": "markdown",
   "id": "meaningful-image",
   "metadata": {},
   "source": [
    "参考文献：https://kubernetes.io/zh/docs/tasks/tools/included/optional-kubectl-configs-zsh/"
   ]
  },
  {
   "cell_type": "markdown",
   "id": "contemporary-consent",
   "metadata": {},
   "source": [
    "将下面的内容添加到`~/.zshrc`文件中"
   ]
  },
  {
   "cell_type": "markdown",
   "id": "powerful-omaha",
   "metadata": {},
   "source": [
    "```shell\n",
    "source <(kubectl completion zsh)\n",
    "```"
   ]
  },
  {
   "cell_type": "markdown",
   "id": "copyrighted-couple",
   "metadata": {},
   "source": [
    "为kubectl添加别名"
   ]
  },
  {
   "cell_type": "markdown",
   "id": "manufactured-vehicle",
   "metadata": {},
   "source": [
    "```shell\n",
    "echo 'alias k=kubectl' >>~/.zshrc\n",
    "echo 'compdef __start_kubectl k' >>~/.zshrc\n",
    "```"
   ]
  }
 ],
 "metadata": {
  "kernelspec": {
   "display_name": "Python 3",
   "language": "python",
   "name": "python3"
  },
  "language_info": {
   "codemirror_mode": {
    "name": "ipython",
    "version": 3
   },
   "file_extension": ".py",
   "mimetype": "text/x-python",
   "name": "python",
   "nbconvert_exporter": "python",
   "pygments_lexer": "ipython3",
   "version": "3.7.9"
  },
  "toc": {
   "base_numbering": 1,
   "nav_menu": {},
   "number_sections": true,
   "sideBar": true,
   "skip_h1_title": false,
   "title_cell": "Table of Contents",
   "title_sidebar": "Contents",
   "toc_cell": false,
   "toc_position": {},
   "toc_section_display": true,
   "toc_window_display": false
  }
 },
 "nbformat": 4,
 "nbformat_minor": 5
}

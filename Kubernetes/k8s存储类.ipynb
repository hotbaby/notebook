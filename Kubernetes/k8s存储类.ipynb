{
 "cells": [
  {
   "cell_type": "markdown",
   "id": "tight-project",
   "metadata": {},
   "source": [
    "# k8s存储类"
   ]
  },
  {
   "cell_type": "markdown",
   "id": "russian-atlas",
   "metadata": {},
   "source": [
    "## 参考文献"
   ]
  },
  {
   "cell_type": "markdown",
   "id": "weekly-advertiser",
   "metadata": {},
   "source": [
    "* https://www.cnblogs.com/panwenbin-logs/p/12196286.html\n",
    "* https://kubernetes.io/zh/docs/tasks/administer-cluster/change-default-storage-class/"
   ]
  },
  {
   "cell_type": "markdown",
   "id": "extended-paste",
   "metadata": {},
   "source": [
    "## 存储类原理"
   ]
  },
  {
   "cell_type": "markdown",
   "id": "statistical-bailey",
   "metadata": {},
   "source": [
    "![](https://bj.bcebos.com/ipic/k8s存储类.png)"
   ]
  },
  {
   "cell_type": "markdown",
   "id": "funded-authorization",
   "metadata": {},
   "source": [
    "## 实践"
   ]
  },
  {
   "cell_type": "markdown",
   "id": "significant-harrison",
   "metadata": {},
   "source": [
    "创建NFS服务器："
   ]
  },
  {
   "cell_type": "markdown",
   "id": "laden-muscle",
   "metadata": {},
   "source": [
    "参考文献：*NFS服务器 notebook* "
   ]
  },
  {
   "cell_type": "markdown",
   "id": "clear-valve",
   "metadata": {},
   "source": [
    "实践："
   ]
  },
  {
   "cell_type": "markdown",
   "id": "consistent-responsibility",
   "metadata": {},
   "source": [
    "`nfs-rbac.yaml`"
   ]
  },
  {
   "cell_type": "markdown",
   "id": "gorgeous-affairs",
   "metadata": {},
   "source": [
    "```yaml\n",
    "apiVersion: v1\n",
    "kind: ServiceAccount\n",
    "metadata:\n",
    "  name: nfs-client-provisioner\n",
    "  namespace: default\n",
    "---\n",
    "kind: ClusterRole\n",
    "apiVersion: rbac.authorization.k8s.io/v1\n",
    "metadata:\n",
    "  name: nfs-client-provisioner-runner\n",
    "rules:\n",
    "  - apiGroups: [\"\"]\n",
    "    resources: [\"persistentvolumes\"]\n",
    "    verbs: [\"get\", \"list\", \"watch\", \"create\", \"delete\"]\n",
    "  - apiGroups: [\"\"]\n",
    "    resources: [\"persistentvolumeclaims\"]\n",
    "    verbs: [\"get\", \"list\", \"watch\", \"update\"]\n",
    "  - apiGroups: [\"storage.k8s.io\"]\n",
    "    resources: [\"storageclasses\"]\n",
    "    verbs: [\"get\", \"list\", \"watch\"]\n",
    "  - apiGroups: [\"\"]\n",
    "    resources: [\"events\"]\n",
    "    verbs: [\"create\", \"update\", \"patch\"]\n",
    "---\n",
    "kind: ClusterRoleBinding\n",
    "apiVersion: rbac.authorization.k8s.io/v1\n",
    "metadata:\n",
    "  name: run-nfs-client-provisioner\n",
    "subjects:\n",
    "  - kind: ServiceAccount\n",
    "    name: nfs-client-provisioner\n",
    "    # replace with namespace where provisioner is deployed\n",
    "    namespace: default\n",
    "roleRef:\n",
    "  kind: ClusterRole\n",
    "  name: nfs-client-provisioner-runner\n",
    "  apiGroup: rbac.authorization.k8s.io\n",
    "---\n",
    "kind: Role\n",
    "apiVersion: rbac.authorization.k8s.io/v1\n",
    "metadata:\n",
    "  name: leader-locking-nfs-client-provisioner\n",
    "    # replace with namespace where provisioner is deployed\n",
    "  namespace: default\n",
    "rules:\n",
    "  - apiGroups: [\"\"]\n",
    "    resources: [\"endpoints\"]\n",
    "    verbs: [\"get\", \"list\", \"watch\", \"create\", \"update\", \"patch\"]\n",
    "---\n",
    "kind: RoleBinding\n",
    "apiVersion: rbac.authorization.k8s.io/v1\n",
    "metadata:\n",
    "  name: leader-locking-nfs-client-provisioner\n",
    "subjects:\n",
    "  - kind: ServiceAccount\n",
    "    name: nfs-client-provisioner\n",
    "    # replace with namespace where provisioner is deployed\n",
    "    namespace: default\n",
    "roleRef:\n",
    "  kind: Role\n",
    "  name: leader-locking-nfs-client-provisioner\n",
    "  apiGroup: rbac.authorization.k8s.io\n",
    "```"
   ]
  },
  {
   "cell_type": "markdown",
   "id": "friendly-factory",
   "metadata": {},
   "source": [
    "`nfs-storage-class.yaml`"
   ]
  },
  {
   "cell_type": "markdown",
   "id": "medium-president",
   "metadata": {},
   "source": [
    "```yaml\n",
    "apiVersion: storage.k8s.io/v1\n",
    "kind: StorageClass\n",
    "metadata:\n",
    "  name: managed-nfs-storage\n",
    "provisioner:  ${NFS_PROVISIONER_NAME} #这里的名称要和provisioner配置文件中的环境变量PROVISIONER_NAME保持一致\n",
    "parameters:\n",
    "  archiveOnDelete: \"false\"\n",
    "```"
   ]
  },
  {
   "cell_type": "markdown",
   "id": "packed-burton",
   "metadata": {},
   "source": [
    "* ` ${NFS_PROVISIONER_NAME}`存储提供着名字，要与`nfs-provisioner.yaml`对应的名字保持一致。"
   ]
  },
  {
   "cell_type": "markdown",
   "id": "alpha-header",
   "metadata": {},
   "source": [
    "`nfs-provisioner.yaml`"
   ]
  },
  {
   "cell_type": "markdown",
   "id": "altered-basketball",
   "metadata": {},
   "source": [
    "```yaml\n",
    "apiVersion: apps/v1\n",
    "kind: Deployment\n",
    "metadata:\n",
    "  name: nfs-client-provisioner\n",
    "  labels:\n",
    "    app: nfs-client-provisioner\n",
    "  namespace: default\n",
    "spec:\n",
    "  replicas: 1\n",
    "  selector:\n",
    "    matchLabels:\n",
    "      app: nfs-client-provisioner\n",
    "  strategy:\n",
    "    type: Recreate\n",
    "  selector:\n",
    "    matchLabels:\n",
    "      app: nfs-client-provisioner\n",
    "  template:\n",
    "    metadata:\n",
    "      labels:\n",
    "        app: nfs-client-provisioner\n",
    "    spec:\n",
    "      serviceAccountName: nfs-client-provisioner\n",
    "      containers:\n",
    "        - name: nfs-client-provisioner\n",
    "          image: quay.io/external_storage/nfs-client-provisioner:latest\n",
    "          volumeMounts:\n",
    "            - name: nfs-client-root\n",
    "              mountPath: /persistentvolumes\n",
    "          env:\n",
    "            - name: PROVISIONER_NAME\n",
    "              value: ${NFS_PROVISIONER_NAME}  #provisioner名称,请确保该名称与 nfs-StorageClass.yaml文件中的provisioner名称保持一致\n",
    "            - name: NFS_SERVER\n",
    "              value: ${NFS_SERVER_IP}\n",
    "            - name: NFS_PATH  \n",
    "              value: ${NFS_EXPORT_DIR}\n",
    "      volumes:\n",
    "        - name: nfs-client-root\n",
    "          nfs:\n",
    "            server: ${NFS_SERVER_IP}\n",
    "            path: ${NFS_EXPORT_DIR}\n",
    "```"
   ]
  },
  {
   "cell_type": "markdown",
   "id": "determined-cologne",
   "metadata": {},
   "source": [
    "* `${NFS_SERVER_IP}` NFS服务器IP；\n",
    "* `${NFS_EXPORT_IDR}` NFS服务器导出目录；\n",
    "* `${NFS_PROVISIONER_NAME` 存储提供者名字，要与`nfs-storage-class.yaml`对应的名字保持一致。"
   ]
  },
  {
   "cell_type": "markdown",
   "id": "encouraging-relationship",
   "metadata": {},
   "source": [
    "设置默认存储类"
   ]
  },
  {
   "cell_type": "markdown",
   "id": "convertible-stock",
   "metadata": {},
   "source": [
    "```shell\n",
    "# 查看存储类\n",
    "kubectl get storageclass;\n",
    "\n",
    "# 设置默认存储类\n",
    "kubectl patch storageclass <storage-class-name> -p '{\"metadata\": {\"annotations\":{\"storageclass.kubernetes.io/is-default-class\":\"true\"}}}'\n",
    "```"
   ]
  },
  {
   "cell_type": "markdown",
   "id": "smoking-habitat",
   "metadata": {},
   "source": [
    "所有的k8s集群节点安装nfs客户端"
   ]
  },
  {
   "cell_type": "markdown",
   "id": "worthy-circus",
   "metadata": {},
   "source": [
    "```shell\n",
    "# 安装nfs客户端\n",
    "sudo apt install -y nfs-common\n",
    "```"
   ]
  },
  {
   "cell_type": "markdown",
   "id": "lesbian-license",
   "metadata": {},
   "source": [
    ">**重要：k8s所有节点都必须安装nfs客户端，否则可能导致很多无法创建PV，进到引起其他的异常，最终导致服务启动失败。**"
   ]
  },
  {
   "cell_type": "markdown",
   "id": "weighted-bunny",
   "metadata": {},
   "source": [
    "## FAQ"
   ]
  },
  {
   "cell_type": "markdown",
   "id": "tight-survey",
   "metadata": {},
   "source": [
    "Q：K8s创建nfs存储卷报错“ bad option; for several filesystems (e.g. nfs, cifs) you might need a /sbin/mount.”"
   ]
  },
  {
   "cell_type": "markdown",
   "id": "consecutive-concept",
   "metadata": {},
   "source": [
    "A：k8s节点机器未安装nfs导致，`sudo apt install -y nfs-common`可以修复此问题。"
   ]
  }
 ],
 "metadata": {
  "kernelspec": {
   "display_name": "Python 3",
   "language": "python",
   "name": "python3"
  },
  "language_info": {
   "codemirror_mode": {
    "name": "ipython",
    "version": 3
   },
   "file_extension": ".py",
   "mimetype": "text/x-python",
   "name": "python",
   "nbconvert_exporter": "python",
   "pygments_lexer": "ipython3",
   "version": "3.7.9"
  },
  "toc": {
   "base_numbering": 1,
   "nav_menu": {},
   "number_sections": true,
   "sideBar": true,
   "skip_h1_title": false,
   "title_cell": "Table of Contents",
   "title_sidebar": "Contents",
   "toc_cell": false,
   "toc_position": {},
   "toc_section_display": true,
   "toc_window_display": true
  }
 },
 "nbformat": 4,
 "nbformat_minor": 5
}

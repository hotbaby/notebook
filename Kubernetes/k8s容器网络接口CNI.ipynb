{
 "cells": [
  {
   "cell_type": "markdown",
   "id": "christian-midwest",
   "metadata": {},
   "source": [
    "# k8s容器网络接口CNI"
   ]
  },
  {
   "cell_type": "markdown",
   "id": "formed-albert",
   "metadata": {},
   "source": [
    "## 参考文献"
   ]
  },
  {
   "cell_type": "markdown",
   "id": "cultural-radar",
   "metadata": {},
   "source": [
    "* [CNI官方文档](https://www.cni.dev)\n",
    "* [CNI规范](https://www.cni.dev/docs/spec/)\n",
    "* [CNI简介](https://www.youtube.com/watch?v=YjjrQiJOyME)\n",
    "* [深入剖析CNI](https://www.youtube.com/watch?v=zChkx-AB5Xc)"
   ]
  }
 ],
 "metadata": {
  "kernelspec": {
   "display_name": "Python 3",
   "language": "python",
   "name": "python3"
  },
  "language_info": {
   "codemirror_mode": {
    "name": "ipython",
    "version": 3
   },
   "file_extension": ".py",
   "mimetype": "text/x-python",
   "name": "python",
   "nbconvert_exporter": "python",
   "pygments_lexer": "ipython3",
   "version": "3.7.9"
  },
  "toc": {
   "base_numbering": 1,
   "nav_menu": {},
   "number_sections": true,
   "sideBar": true,
   "skip_h1_title": false,
   "title_cell": "Table of Contents",
   "title_sidebar": "Contents",
   "toc_cell": false,
   "toc_position": {},
   "toc_section_display": true,
   "toc_window_display": false
  }
 },
 "nbformat": 4,
 "nbformat_minor": 5
}

{
 "cells": [
  {
   "cell_type": "markdown",
   "id": "responsible-efficiency",
   "metadata": {},
   "source": [
    "# k8s集成metrics-server"
   ]
  },
  {
   "cell_type": "markdown",
   "id": "organic-cancer",
   "metadata": {},
   "source": [
    "## 参考文献"
   ]
  },
  {
   "cell_type": "markdown",
   "id": "tender-chorus",
   "metadata": {},
   "source": [
    "* https://github.com/kubernetes-sigs/metrics-server"
   ]
  },
  {
   "cell_type": "markdown",
   "id": "green-reporter",
   "metadata": {},
   "source": [
    "## 实践"
   ]
  },
  {
   "cell_type": "markdown",
   "id": "affected-pittsburgh",
   "metadata": {},
   "source": [
    "```shell\n",
    "kubectl apply -f https://github.com/kubernetes-sigs/metrics-server/releases/download/v0.5.2/components.yaml\n",
    "```"
   ]
  },
  {
   "cell_type": "markdown",
   "id": "coastal-necklace",
   "metadata": {},
   "source": [
    "* 镜像地址替换为阿里云镜像`registry.cn-hangzhou.aliyuncs.com/google_containers/metrics-server:v0.5.2`\n",
    "* metrics-server启动参数增加`--kubelet-insecure-tls`"
   ]
  },
  {
   "cell_type": "markdown",
   "id": "according-vocabulary",
   "metadata": {},
   "source": [
    "## FAQ"
   ]
  },
  {
   "cell_type": "markdown",
   "id": "constant-jefferson",
   "metadata": {},
   "source": [
    "Q: metrics-server error because it doesn't contain any IP SANs?"
   ]
  },
  {
   "cell_type": "markdown",
   "id": "handy-underwear",
   "metadata": {},
   "source": [
    "A: 更新`metrics-server` deployment，启动增加`--kubelet-insecure-tls`参数，参考github issue https://github.com/kubernetes-sigs/metrics-server/issues/196"
   ]
  },
  {
   "cell_type": "markdown",
   "id": "banner-transcription",
   "metadata": {},
   "source": [
    "```yaml\n",
    "apiVersion: apps/v1\n",
    "kind: Deployment\n",
    "  labels:\n",
    "    k8s-app: metrics-server\n",
    "  name: metrics-server\n",
    "  namespace: kube-system\n",
    "spec:\n",
    "  progressDeadlineSeconds: 600\n",
    "  replicas: 1\n",
    "  revisionHistoryLimit: 10\n",
    "  selector:\n",
    "    matchLabels:\n",
    "      k8s-app: metrics-server\n",
    "  strategy:\n",
    "    rollingUpdate:\n",
    "      maxSurge: 25%\n",
    "      maxUnavailable: 0\n",
    "    type: RollingUpdate\n",
    "  template:\n",
    "    metadata:\n",
    "      creationTimestamp: null\n",
    "      labels:\n",
    "        k8s-app: metrics-server\n",
    "    spec:\n",
    "      containers:\n",
    "      - args:\n",
    "        - --cert-dir=/tmp\n",
    "        - --secure-port=4443\n",
    "        - --kubelet-preferred-address-types=InternalIP,ExternalIP,Hostname\n",
    "        - --kubelet-use-node-status-port\n",
    "        - --metric-resolution=15s\n",
    "        - --kubelet-insecure-tls\n",
    "```"
   ]
  }
 ],
 "metadata": {
  "kernelspec": {
   "display_name": "Python 3",
   "language": "python",
   "name": "python3"
  },
  "language_info": {
   "codemirror_mode": {
    "name": "ipython",
    "version": 3
   },
   "file_extension": ".py",
   "mimetype": "text/x-python",
   "name": "python",
   "nbconvert_exporter": "python",
   "pygments_lexer": "ipython3",
   "version": "3.7.10"
  },
  "toc": {
   "base_numbering": 1,
   "nav_menu": {},
   "number_sections": true,
   "sideBar": true,
   "skip_h1_title": false,
   "title_cell": "Table of Contents",
   "title_sidebar": "Contents",
   "toc_cell": false,
   "toc_position": {},
   "toc_section_display": true,
   "toc_window_display": false
  }
 },
 "nbformat": 4,
 "nbformat_minor": 5
}

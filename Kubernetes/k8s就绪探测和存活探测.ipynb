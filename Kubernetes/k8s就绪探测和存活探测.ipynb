{
 "cells": [
  {
   "cell_type": "markdown",
   "id": "74c1a663",
   "metadata": {},
   "source": [
    "# Readiness and Liveness Probe"
   ]
  },
  {
   "cell_type": "markdown",
   "id": "56a2f9e2",
   "metadata": {},
   "source": [
    "## 参考文献"
   ]
  },
  {
   "cell_type": "markdown",
   "id": "2e2009e8",
   "metadata": {},
   "source": [
    "* *https://kubernetes.io/docs/tasks/configure-pod-container/configure-liveness-readiness-startup-probes/*"
   ]
  },
  {
   "cell_type": "markdown",
   "id": "794751c0",
   "metadata": {},
   "source": [
    "## 就绪探测"
   ]
  },
  {
   "cell_type": "markdown",
   "id": "3201a11a",
   "metadata": {},
   "source": [
    "kubelet就绪探测成功后，容器就可以接收实际的流量了。"
   ]
  },
  {
   "cell_type": "markdown",
   "id": "9742810c",
   "metadata": {},
   "source": [
    "```\n",
    "The kubelet uses readiness probes to know when a container is ready to start accepting traffic. A Pod is considered ready when all of its containers are ready. One use of this signal is to control which Pods are used as backends for Services. When a Pod is not ready, it is removed from Service load balancers.\n",
    "```"
   ]
  },
  {
   "cell_type": "markdown",
   "id": "a8ee9c51",
   "metadata": {},
   "source": [
    "## 存活探测"
   ]
  },
  {
   "cell_type": "markdown",
   "id": "34f85871",
   "metadata": {},
   "source": [
    "kubelet存活探测失败，就会重启容器。"
   ]
  },
  {
   "cell_type": "markdown",
   "id": "8c265580",
   "metadata": {},
   "source": [
    "```\n",
    "The kubelet uses liveness probes to know when to restart a container. For example, liveness probes could catch a deadlock, where an application is running, but unable to make progress. Restarting a container in such a state can help to make the application more available despite bugs.\n",
    "```"
   ]
  },
  {
   "cell_type": "markdown",
   "id": "171061fd",
   "metadata": {},
   "source": [
    "## 配置探测器"
   ]
  },
  {
   "cell_type": "markdown",
   "id": "c66ea4ac",
   "metadata": {},
   "source": [
    "* `initialDelaySeconds`：容器启动后要等待多少秒后存活和就绪探测器才被初始化，默认是 0 秒，最小值是 0。\n",
    "* `periodSeconds`：执行探测的时间间隔（单位是秒）。默认是 10 秒。最小值是 1。\n",
    "* `timeoutSeconds`：探测的超时后等待多少秒。默认值是 1 秒。最小值是 1。\n",
    "* `successThreshold`：探测器在失败后，被视为成功的最小连续成功数。默认值是 1。 存活和启动探测的这个值必须是 1。最小值是 1。\n",
    "* `failureThreshold`：当探测失败时，Kubernetes 的重试次数。 存活探测情况下的放弃就意味着重新启动容器。 就绪探测情况下的放弃 Pod 会被打上未就绪的标签。默认值是 3。最小值是 1。"
   ]
  },
  {
   "cell_type": "markdown",
   "id": "9037a5b8",
   "metadata": {},
   "source": [
    "### HTTP探测"
   ]
  },
  {
   "cell_type": "markdown",
   "id": "f1f1de38",
   "metadata": {},
   "source": [
    "* `host`：连接使用的主机名，默认是 Pod 的 IP。也可以在 HTTP 头中设置 “Host” 来代替。\n",
    "* `scheme` ：用于设置连接主机的方式（HTTP 还是 HTTPS）。默认是 HTTP。\n",
    "* `path`：访问 HTTP 服务的路径。默认值为 \"/\"。\n",
    "* `httpHeaders`：请求中自定义的 HTTP 头。HTTP 头字段允许重复。\n",
    "* `port`：访问容器的端口号或者端口名。如果数字必须在 1 ～ 65535 之间。"
   ]
  },
  {
   "cell_type": "markdown",
   "id": "de78ae5a",
   "metadata": {},
   "source": [
    "```yaml\n",
    "livenessProbe:\n",
    "  httpGet:\n",
    "    path: /healthz\n",
    "    port: liveness-port\n",
    "    httpHeaders:\n",
    "      - name: Accept\n",
    "        value: application/json\n",
    "\n",
    "```"
   ]
  },
  {
   "cell_type": "markdown",
   "id": "4b8f982e",
   "metadata": {},
   "source": [
    "### TCP探测"
   ]
  },
  {
   "cell_type": "markdown",
   "id": "369f97aa",
   "metadata": {},
   "source": [
    "```yaml\n",
    "livenessProbe:\n",
    "  tcpSocket:\n",
    "    port: 8080\n",
    "  initialDelaySeconds: 15\n",
    "  periodSeconds: 20\n",
    "```"
   ]
  },
  {
   "cell_type": "markdown",
   "id": "ab965b50",
   "metadata": {},
   "source": [
    "示例："
   ]
  },
  {
   "cell_type": "markdown",
   "id": "40b2584f",
   "metadata": {},
   "source": [
    "```yaml\n",
    "apiVersion: v1\n",
    "kind: Pod\n",
    "metadata:\n",
    "  name: goproxy\n",
    "  labels:\n",
    "    app: goproxy\n",
    "spec:\n",
    "  containers:\n",
    "  - name: goproxy\n",
    "    image: k8s.gcr.io/goproxy:0.1\n",
    "    ports:\n",
    "    - containerPort: 8080\n",
    "    readinessProbe:\n",
    "      tcpSocket:\n",
    "        port: 8080\n",
    "      initialDelaySeconds: 5\n",
    "      periodSeconds: 10\n",
    "    livenessProbe:\n",
    "      tcpSocket:\n",
    "        port: 8080\n",
    "      initialDelaySeconds: 15\n",
    "      periodSeconds: 20\n",
    "\n",
    "```"
   ]
  }
 ],
 "metadata": {
  "kernelspec": {
   "display_name": "Python 3",
   "language": "python",
   "name": "python3"
  },
  "language_info": {
   "codemirror_mode": {
    "name": "ipython",
    "version": 3
   },
   "file_extension": ".py",
   "mimetype": "text/x-python",
   "name": "python",
   "nbconvert_exporter": "python",
   "pygments_lexer": "ipython3",
   "version": "3.7.10"
  },
  "toc": {
   "base_numbering": 1,
   "nav_menu": {},
   "number_sections": true,
   "sideBar": true,
   "skip_h1_title": false,
   "title_cell": "Table of Contents",
   "title_sidebar": "Contents",
   "toc_cell": false,
   "toc_position": {},
   "toc_section_display": true,
   "toc_window_display": true
  }
 },
 "nbformat": 4,
 "nbformat_minor": 5
}

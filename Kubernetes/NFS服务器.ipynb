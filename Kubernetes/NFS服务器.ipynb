{
 "cells": [
  {
   "cell_type": "markdown",
   "id": "finite-centre",
   "metadata": {},
   "source": [
    "# NFS服务器"
   ]
  },
  {
   "cell_type": "markdown",
   "id": "determined-proxy",
   "metadata": {},
   "source": [
    "安装nfs-kernel-server和nfs-common："
   ]
  },
  {
   "cell_type": "markdown",
   "id": "incident-smart",
   "metadata": {},
   "source": [
    "\n",
    "```shell\n",
    "sudo apt install -y nfs-kernel-server nfs-common\n",
    "```"
   ]
  },
  {
   "cell_type": "markdown",
   "id": "inclusive-thailand",
   "metadata": {},
   "source": [
    "配置导出目录："
   ]
  },
  {
   "cell_type": "markdown",
   "id": "tested-raising",
   "metadata": {},
   "source": [
    "```shell\n",
    "mkdir /data/nfs;\n",
    "sudo chown -R nobody:nogroup /data/nfs;\n",
    "sudo chmod 777 /data/nfs;\n",
    "```"
   ]
  },
  {
   "cell_type": "markdown",
   "id": "instant-allocation",
   "metadata": {},
   "source": [
    "`sudo vim /etc/exports`"
   ]
  },
  {
   "cell_type": "markdown",
   "id": "conscious-milwaukee",
   "metadata": {},
   "source": [
    "```shell\n",
    "# 增加导出目录\n",
    "/data/nfs *(rw,sync,no_root_squash,no_subtree_check)\n",
    "```"
   ]
  },
  {
   "cell_type": "markdown",
   "id": "phantom-logic",
   "metadata": {},
   "source": [
    "```shell\n",
    "sudo exportfs -a \n",
    "```"
   ]
  },
  {
   "cell_type": "markdown",
   "id": "geographic-accommodation",
   "metadata": {},
   "source": [
    "重启nfs-kernel-server："
   ]
  },
  {
   "cell_type": "markdown",
   "id": "soviet-interface",
   "metadata": {},
   "source": [
    "```shell\n",
    "sudo systemctl restart nfs-kernel-server\n",
    "```"
   ]
  },
  {
   "cell_type": "markdown",
   "id": "burning-anaheim",
   "metadata": {},
   "source": [
    "测试："
   ]
  },
  {
   "cell_type": "markdown",
   "id": "split-jacob",
   "metadata": {},
   "source": [
    "```shell\n",
    "sudo apt install -y nfs-common;\n",
    "sudo mount ip:/data/nfs /mnt\n",
    "```"
   ]
  }
 ],
 "metadata": {
  "kernelspec": {
   "display_name": "Python 3",
   "language": "python",
   "name": "python3"
  },
  "language_info": {
   "codemirror_mode": {
    "name": "ipython",
    "version": 3
   },
   "file_extension": ".py",
   "mimetype": "text/x-python",
   "name": "python",
   "nbconvert_exporter": "python",
   "pygments_lexer": "ipython3",
   "version": "3.7.9"
  },
  "toc": {
   "base_numbering": 1,
   "nav_menu": {},
   "number_sections": true,
   "sideBar": true,
   "skip_h1_title": false,
   "title_cell": "Table of Contents",
   "title_sidebar": "Contents",
   "toc_cell": false,
   "toc_position": {},
   "toc_section_display": true,
   "toc_window_display": false
  }
 },
 "nbformat": 4,
 "nbformat_minor": 5
}

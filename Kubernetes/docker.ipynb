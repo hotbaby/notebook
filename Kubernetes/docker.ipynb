{
 "cells": [
  {
   "cell_type": "markdown",
   "id": "conservative-knitting",
   "metadata": {},
   "source": [
    "# docker"
   ]
  },
  {
   "cell_type": "markdown",
   "id": "august-colony",
   "metadata": {},
   "source": [
    "## 安装docker"
   ]
  },
  {
   "cell_type": "markdown",
   "id": "realistic-saskatchewan",
   "metadata": {},
   "source": [
    "```shell\n",
    "# 安装Docker\n",
    "sudo apt install -y docker.io;\n",
    "sudo systemctl start docker;\n",
    "sudo systemctl enable docker;\n",
    "\n",
    "# alids docker\n",
    "echo 'alias d=\"docker\"' >> ~/.zshrc && source ~/.zshrc;\n",
    "```"
   ]
  },
  {
   "cell_type": "markdown",
   "id": "solved-mixture",
   "metadata": {},
   "source": [
    "## docker免输入sudo"
   ]
  },
  {
   "cell_type": "markdown",
   "id": "structural-allah",
   "metadata": {},
   "source": [
    "```shell\n",
    "# docker免sudo\n",
    "sudo groupadd docker;\n",
    "sudo gpasswd -a ${USER} docker;\n",
    "sudo service docker restart;\n",
    "newgrp - docker;\n",
    "```"
   ]
  },
  {
   "cell_type": "markdown",
   "id": "massive-chick",
   "metadata": {},
   "source": [
    "## docker registry"
   ]
  },
  {
   "cell_type": "markdown",
   "id": "architectural-lightweight",
   "metadata": {},
   "source": [
    "\n",
    "```shell\n",
    "docker run -d \\\n",
    "           -p 5000:5000 \\\n",
    "           --restart=always \\\n",
    "           -v /data/registry:/var/lib/registry \\\n",
    "           --name registry registry\n",
    " ```"
   ]
  },
  {
   "cell_type": "markdown",
   "id": "delayed-wright",
   "metadata": {},
   "source": [
    "## docker registry web"
   ]
  },
  {
   "cell_type": "markdown",
   "id": "recorded-manhattan",
   "metadata": {},
   "source": [
    "参考：https://hub.docker.com/r/hyper/docker-registry-web"
   ]
  },
  {
   "cell_type": "markdown",
   "id": "working-moore",
   "metadata": {},
   "source": [
    "运行docker-registry-web："
   ]
  },
  {
   "cell_type": "markdown",
   "id": "continent-subcommittee",
   "metadata": {},
   "source": [
    "```shell\n",
    "docker pull hyper/docker-registry-web;\n",
    "\n",
    "# http\n",
    "IP=172.30.12.122\n",
    "PORT=5001\n",
    "docker run -d \\\n",
    "           --restart=always \\\n",
    "           -p $PORT:8080 \\\n",
    "           --name registry-web \\\n",
    "           --link registry \\\n",
    "           -e REGISTRY_URL=http://$IP:5000/v2 \\\n",
    "           -e REGISTRY_NAME=$IP:5000 hyper/docker-registry-web\n",
    "```"
   ]
  },
  {
   "cell_type": "markdown",
   "id": "ready-legislation",
   "metadata": {},
   "source": [
    "访问Docker-registry-web: `http://IP:PORT`"
   ]
  },
  {
   "cell_type": "markdown",
   "id": "surprised-terror",
   "metadata": {},
   "source": [
    "## 配置非安全http访问docker registry"
   ]
  },
  {
   "cell_type": "markdown",
   "id": "educated-durham",
   "metadata": {},
   "source": [
    "`sudo vim /etc/docker/daemon.json`"
   ]
  },
  {
   "cell_type": "markdown",
   "id": "postal-familiar",
   "metadata": {},
   "source": [
    "```json\n",
    "{\n",
    "    \"insecure-registries\":[\"IP:PORT\"] \n",
    "}\n",
    "```"
   ]
  },
  {
   "cell_type": "markdown",
   "id": "physical-filename",
   "metadata": {},
   "source": [
    "重启Docker："
   ]
  },
  {
   "cell_type": "markdown",
   "id": "played-bones",
   "metadata": {},
   "source": [
    "```shell\n",
    "sudo systemctl daemon-reload;\n",
    "sudo systemctl restart docker;\n",
    "```"
   ]
  },
  {
   "cell_type": "markdown",
   "id": "particular-oklahoma",
   "metadata": {},
   "source": [
    "## 阿里云镜像k8s仓库"
   ]
  },
  {
   "cell_type": "markdown",
   "id": "lined-equipment",
   "metadata": {},
   "source": [
    "`registry.cn-hangzhou.aliyuncs.com/google_containers `"
   ]
  },
  {
   "cell_type": "markdown",
   "id": "7b16a413",
   "metadata": {},
   "source": [
    "## docker启动服务"
   ]
  },
  {
   "cell_type": "markdown",
   "id": "00d611ab",
   "metadata": {},
   "source": [
    "### docker启动MySQL"
   ]
  },
  {
   "cell_type": "markdown",
   "id": "c655ad54",
   "metadata": {},
   "source": [
    "```shell\n",
    "docker run -d  \\\n",
    "           --restart always \\\n",
    "           --name mysql \\\n",
    "           -p 3306:3306 \\\n",
    "           -v /data/mysql:/var/lib/mysql \\\n",
    "           -e MYSQL_ROOT_PASSWORD=password \\\n",
    "           -e TZ=Asia/Shanghai \\\n",
    "           mysql:5.7\n",
    "```"
   ]
  },
  {
   "cell_type": "markdown",
   "id": "38026b47",
   "metadata": {},
   "source": [
    "## 查看Docker容器的启动参数"
   ]
  },
  {
   "cell_type": "markdown",
   "id": "9ac83f87",
   "metadata": {},
   "source": [
    "参考 https://github.com/lavie/runlike"
   ]
  },
  {
   "cell_type": "markdown",
   "id": "13984657",
   "metadata": {},
   "source": [
    "```shell\n",
    "# 安装runlike\n",
    "pip install runlike\n",
    "\n",
    "# 查看容器启动参数\n",
    "runlike -p container_id\n",
    "```"
   ]
  }
 ],
 "metadata": {
  "kernelspec": {
   "display_name": "Python 3",
   "language": "python",
   "name": "python3"
  },
  "language_info": {
   "codemirror_mode": {
    "name": "ipython",
    "version": 3
   },
   "file_extension": ".py",
   "mimetype": "text/x-python",
   "name": "python",
   "nbconvert_exporter": "python",
   "pygments_lexer": "ipython3",
   "version": "3.7.10"
  },
  "toc": {
   "base_numbering": 1,
   "nav_menu": {},
   "number_sections": true,
   "sideBar": true,
   "skip_h1_title": false,
   "title_cell": "Table of Contents",
   "title_sidebar": "Contents",
   "toc_cell": false,
   "toc_position": {
    "height": "calc(100% - 180px)",
    "left": "10px",
    "top": "150px",
    "width": "286.7124938964844px"
   },
   "toc_section_display": true,
   "toc_window_display": true
  }
 },
 "nbformat": 4,
 "nbformat_minor": 5
}

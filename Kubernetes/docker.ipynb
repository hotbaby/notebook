{
 "cells": [
  {
   "cell_type": "markdown",
   "id": "conservative-knitting",
   "metadata": {},
   "source": [
    "# docker"
   ]
  },
  {
   "cell_type": "markdown",
   "id": "august-colony",
   "metadata": {},
   "source": [
    "## 安装docker"
   ]
  },
  {
   "cell_type": "markdown",
   "id": "realistic-saskatchewan",
   "metadata": {},
   "source": [
    "```shell\n",
    "# 安装Docker\n",
    "sudo apt install -y docker.io;\n",
    "sudo systemctl start docker;\n",
    "sudo systemctl enable docker;\n",
    "\n",
    "# alids docker\n",
    "echo 'alias d=\"docker\"' >> ~/.zshrc && source ~/.zshrc;\n",
    "```"
   ]
  },
  {
   "cell_type": "markdown",
   "id": "solved-mixture",
   "metadata": {},
   "source": [
    "## docker免输入sudo"
   ]
  },
  {
   "cell_type": "markdown",
   "id": "structural-allah",
   "metadata": {},
   "source": [
    "```shell\n",
    "# docker免sudo\n",
    "sudo groupadd docker;\n",
    "sudo gpasswd -a ${USER} docker;\n",
    "sudo service docker restart;\n",
    "newgrp - docker;\n",
    "```"
   ]
  },
  {
   "cell_type": "markdown",
   "id": "massive-chick",
   "metadata": {},
   "source": [
    "## docker registry"
   ]
  },
  {
   "cell_type": "markdown",
   "id": "architectural-lightweight",
   "metadata": {},
   "source": [
    "\n",
    "```shell\n",
    "docker run -d \\\n",
    "           -p 5000:5000 \\\n",
    "           --restart=always \\\n",
    "           -v /data/registry:/var/lib/registry \\\n",
    "           --name registry registry\n",
    " ```"
   ]
  },
  {
   "cell_type": "markdown",
   "id": "delayed-wright",
   "metadata": {},
   "source": [
    "## docker registry web"
   ]
  },
  {
   "cell_type": "markdown",
   "id": "recorded-manhattan",
   "metadata": {},
   "source": [
    "参考：https://hub.docker.com/r/hyper/docker-registry-web"
   ]
  },
  {
   "cell_type": "markdown",
   "id": "working-moore",
   "metadata": {},
   "source": [
    "运行docker-registry-web："
   ]
  },
  {
   "cell_type": "markdown",
   "id": "continent-subcommittee",
   "metadata": {},
   "source": [
    "```shell\n",
    "docker pull hyper/docker-registry-web;\n",
    "\n",
    "# http\n",
    "IP=172.30.12.122\n",
    "PORT=5001\n",
    "docker run -d \\\n",
    "           --restart=always \\\n",
    "           -p $PORT:8080 \\\n",
    "           --name registry-web \\\n",
    "           --link registry \\\n",
    "           -e REGISTRY_URL=http://$IP:5000/v2 \\\n",
    "           -e REGISTRY_NAME=$IP:5000 hyper/docker-registry-web\n",
    "```"
   ]
  },
  {
   "cell_type": "markdown",
   "id": "ready-legislation",
   "metadata": {},
   "source": [
    "访问Docker-registry-web: `http://IP:PORT`"
   ]
  },
  {
   "cell_type": "markdown",
   "id": "surprised-terror",
   "metadata": {},
   "source": [
    "## 配置非安全http访问docker registry"
   ]
  },
  {
   "cell_type": "markdown",
   "id": "educated-durham",
   "metadata": {},
   "source": [
    "`sudo vim /etc/docker/daemon.json`"
   ]
  },
  {
   "cell_type": "markdown",
   "id": "postal-familiar",
   "metadata": {},
   "source": [
    "```json\n",
    "{\n",
    "    \"insecure-registries\":[\"IP:PORT\"] \n",
    "}\n",
    "```"
   ]
  },
  {
   "cell_type": "markdown",
   "id": "physical-filename",
   "metadata": {},
   "source": [
    "重启Docker："
   ]
  },
  {
   "cell_type": "markdown",
   "id": "played-bones",
   "metadata": {},
   "source": [
    "```shell\n",
    "sudo systemctl daemon-reload;\n",
    "sudo systemctl restart docker;\n",
    "```"
   ]
  },
  {
   "cell_type": "markdown",
   "id": "particular-oklahoma",
   "metadata": {},
   "source": [
    "## 阿里云镜像k8s仓库"
   ]
  },
  {
   "cell_type": "markdown",
   "id": "lined-equipment",
   "metadata": {},
   "source": [
    "`registry.cn-hangzhou.aliyuncs.com/google_containers `"
   ]
  }
 ],
 "metadata": {
  "kernelspec": {
   "display_name": "Python 3",
   "language": "python",
   "name": "python3"
  },
  "language_info": {
   "codemirror_mode": {
    "name": "ipython",
    "version": 3
   },
   "file_extension": ".py",
   "mimetype": "text/x-python",
   "name": "python",
   "nbconvert_exporter": "python",
   "pygments_lexer": "ipython3",
   "version": "3.7.9"
  },
  "toc": {
   "base_numbering": 1,
   "nav_menu": {},
   "number_sections": true,
   "sideBar": true,
   "skip_h1_title": false,
   "title_cell": "Table of Contents",
   "title_sidebar": "Contents",
   "toc_cell": false,
   "toc_position": {
    "height": "calc(100% - 180px)",
    "left": "10px",
    "top": "150px",
    "width": "286.7124938964844px"
   },
   "toc_section_display": true,
   "toc_window_display": true
  }
 },
 "nbformat": 4,
 "nbformat_minor": 5
}

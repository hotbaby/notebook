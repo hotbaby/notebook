{
 "cells": [
  {
   "cell_type": "markdown",
   "id": "4f2e5aca",
   "metadata": {},
   "source": [
    "# 异步IO-Selector"
   ]
  },
  {
   "cell_type": "code",
   "execution_count": 1,
   "id": "8cffb747",
   "metadata": {},
   "outputs": [],
   "source": [
    "import socket\n",
    "import selectors\n",
    "from selectors import SelectorKey\n",
    "from typing import Any"
   ]
  },
  {
   "cell_type": "code",
   "execution_count": 2,
   "id": "0d6368a7",
   "metadata": {},
   "outputs": [],
   "source": [
    "sel = selectors.DefaultSelector()"
   ]
  },
  {
   "cell_type": "code",
   "execution_count": 3,
   "id": "cf75c7ec",
   "metadata": {},
   "outputs": [],
   "source": [
    "def read(sock: socket.socket, mask):\n",
    "    data = sock.recv(1000)\n",
    "    if data:\n",
    "        print(f'receive msg: {data.decode()}, mask: {mask}')\n",
    "        sock.send(data)\n",
    "    else:\n",
    "        print(f'closing {sock}')\n",
    "        sel.unregister(conn)\n",
    "        sock.close()"
   ]
  },
  {
   "cell_type": "code",
   "execution_count": 4,
   "id": "df0445c9",
   "metadata": {},
   "outputs": [],
   "source": [
    "def accept(sock: socket.socket, mask):\n",
    "    conn, addr = sock.accept()\n",
    "    print(f'accept connection from {addr}, mask: {mask}')\n",
    "    conn.setblocking(False)\n",
    "    sel.register(conn, selectors.EVENT_READ, read)"
   ]
  },
  {
   "cell_type": "code",
   "execution_count": 5,
   "id": "945ded78",
   "metadata": {},
   "outputs": [],
   "source": [
    "def main():\n",
    "    sock = socket.socket()\n",
    "    sock.setsockopt(socket.SOL_SOCKET, socket.SO_REUSEADDR, 1)\n",
    "    addr = ('localhost', 4444)\n",
    "    sock.bind(addr)\n",
    "    sock.listen(100)\n",
    "    sock.setblocking(False)\n",
    "    print(f'listen address: {addr}, and waiting connection.')\n",
    "\n",
    "    sel.register(sock, selectors.EVENT_READ, accept)\n",
    "\n",
    "    while True:\n",
    "        print('selecting...')\n",
    "        events = sel.select()\n",
    "        for key, mask in events:\n",
    "            callback = key.data\n",
    "            callback(key.fileobj, mask)"
   ]
  }
 ],
 "metadata": {
  "kernelspec": {
   "display_name": "Python 3",
   "language": "python",
   "name": "python3"
  },
  "language_info": {
   "codemirror_mode": {
    "name": "ipython",
    "version": 3
   },
   "file_extension": ".py",
   "mimetype": "text/x-python",
   "name": "python",
   "nbconvert_exporter": "python",
   "pygments_lexer": "ipython3",
   "version": "3.7.10"
  },
  "toc": {
   "base_numbering": 1,
   "nav_menu": {},
   "number_sections": true,
   "sideBar": true,
   "skip_h1_title": false,
   "title_cell": "Table of Contents",
   "title_sidebar": "Contents",
   "toc_cell": false,
   "toc_position": {},
   "toc_section_display": true,
   "toc_window_display": false
  }
 },
 "nbformat": 4,
 "nbformat_minor": 5
}

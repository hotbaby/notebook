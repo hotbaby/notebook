{
 "cells": [
  {
   "cell_type": "markdown",
   "id": "5c1c9193",
   "metadata": {},
   "source": [
    "# 异步IO-Coroutine和Task"
   ]
  },
  {
   "cell_type": "markdown",
   "id": "3c645283",
   "metadata": {},
   "source": [
    "## 参考文献"
   ]
  },
  {
   "cell_type": "markdown",
   "id": "36af3682",
   "metadata": {},
   "source": [
    "* https://docs.python.org/3/library/asyncio-task.html"
   ]
  },
  {
   "cell_type": "code",
   "execution_count": 1,
   "id": "596ea417",
   "metadata": {},
   "outputs": [],
   "source": [
    "import asyncio\n",
    "import time\n",
    "import datetime"
   ]
  },
  {
   "cell_type": "markdown",
   "id": "6f2e5ddb",
   "metadata": {},
   "source": [
    "## Coroutine"
   ]
  },
  {
   "cell_type": "markdown",
   "id": "337101b3",
   "metadata": {},
   "source": [
    "通过`async`和`await`实现asyncio应用。"
   ]
  },
  {
   "cell_type": "code",
   "execution_count": 2,
   "id": "5e36680b",
   "metadata": {},
   "outputs": [],
   "source": [
    "async def hello():\n",
    "    print('Hello')\n",
    "    await asyncio.sleep(1)\n",
    "    print('World!')"
   ]
  },
  {
   "cell_type": "markdown",
   "id": "d56cfbed",
   "metadata": {},
   "source": [
    "`Croutine`对象"
   ]
  },
  {
   "cell_type": "code",
   "execution_count": 3,
   "id": "5e56fb00",
   "metadata": {
    "scrolled": false
   },
   "outputs": [
    {
     "data": {
      "text/plain": [
       "<coroutine object hello at 0x7ffd403fd830>"
      ]
     },
     "execution_count": 3,
     "metadata": {},
     "output_type": "execute_result"
    }
   ],
   "source": [
    "hello()"
   ]
  },
  {
   "cell_type": "code",
   "execution_count": 4,
   "id": "f298504d",
   "metadata": {
    "scrolled": true
   },
   "outputs": [
    {
     "name": "stdout",
     "output_type": "stream",
     "text": [
      "Hello\n",
      "World!\n"
     ]
    }
   ],
   "source": [
    "await hello()"
   ]
  },
  {
   "cell_type": "code",
   "execution_count": 5,
   "id": "fbdfcbd1",
   "metadata": {},
   "outputs": [],
   "source": [
    "async def say_after(delay: int, message: str):\n",
    "    await asyncio.sleep(delay)\n",
    "    print(message)"
   ]
  },
  {
   "cell_type": "code",
   "execution_count": 6,
   "id": "62739dee",
   "metadata": {},
   "outputs": [],
   "source": [
    "async def main():\n",
    "    print(f'Start at {time.strftime(\"%X\")}')\n",
    "    await say_after(1, 'Hello')\n",
    "    await say_after(2, 'World!')\n",
    "    \n",
    "    # 运行时间3秒\n",
    "    print(f'Finished at {time.strftime(\"%X\")}')"
   ]
  },
  {
   "cell_type": "code",
   "execution_count": 7,
   "id": "61ab14d9",
   "metadata": {
    "scrolled": false
   },
   "outputs": [
    {
     "name": "stdout",
     "output_type": "stream",
     "text": [
      "Start at 14:21:20\n",
      "Hello\n",
      "World!\n",
      "Finished at 14:21:23\n"
     ]
    }
   ],
   "source": [
    "await main()"
   ]
  },
  {
   "cell_type": "markdown",
   "id": "a1501781",
   "metadata": {},
   "source": [
    "`asyncio.create_task`将`coroutine`作为`Task`并行运行。"
   ]
  },
  {
   "cell_type": "code",
   "execution_count": 8,
   "id": "fd1d6ee8",
   "metadata": {},
   "outputs": [],
   "source": [
    "async def main():\n",
    "    task1 = asyncio.create_task(say_after(1, 'Hello'))\n",
    "    task2= asyncio.create_task(say_after(2, 'World!'))\n",
    "    \n",
    "    print(f'Start at {time.strftime(\"%X\")}')\n",
    "    await task1\n",
    "    await task2\n",
    "    \n",
    "    # 运行时间2秒\n",
    "    print(f'Finished at {time.strftime(\"%X\")}')"
   ]
  },
  {
   "cell_type": "code",
   "execution_count": 9,
   "id": "aa8cae75",
   "metadata": {
    "scrolled": true
   },
   "outputs": [
    {
     "name": "stdout",
     "output_type": "stream",
     "text": [
      "Start at 14:21:23\n",
      "Hello\n",
      "World!\n",
      "Finished at 14:21:25\n"
     ]
    }
   ],
   "source": [
    "await main()"
   ]
  },
  {
   "cell_type": "markdown",
   "id": "0c663743",
   "metadata": {},
   "source": [
    "## Awaitables"
   ]
  },
  {
   "cell_type": "markdown",
   "id": "005af398",
   "metadata": {},
   "source": [
    "当对象是`Awaitable`对象时，可以通过`await`表达式。"
   ]
  },
  {
   "cell_type": "markdown",
   "id": "30c695fc",
   "metadata": {},
   "source": [
    "三种主要Awaitablel类型：`Coroutine`、`Task`和`Future`。"
   ]
  },
  {
   "cell_type": "markdown",
   "id": "5463e5de",
   "metadata": {},
   "source": [
    "### Coroutine"
   ]
  },
  {
   "cell_type": "code",
   "execution_count": 10,
   "id": "daf961f4",
   "metadata": {},
   "outputs": [],
   "source": [
    "async def nested():\n",
    "    return 42"
   ]
  },
  {
   "cell_type": "code",
   "execution_count": 11,
   "id": "d391b7a7",
   "metadata": {},
   "outputs": [
    {
     "data": {
      "text/plain": [
       "<coroutine object nested at 0x7ffd28a549e0>"
      ]
     },
     "execution_count": 11,
     "metadata": {},
     "output_type": "execute_result"
    }
   ],
   "source": [
    "nested()"
   ]
  },
  {
   "cell_type": "markdown",
   "id": "bbef75fc",
   "metadata": {},
   "source": [
    "* `async def` 定义`coroutine`函数\n",
    "* 调用`couroutine`函数，返回`coroutine`对象"
   ]
  },
  {
   "cell_type": "markdown",
   "id": "02a068ea",
   "metadata": {},
   "source": [
    "### Task"
   ]
  },
  {
   "cell_type": "markdown",
   "id": "76e1e270",
   "metadata": {},
   "source": [
    "Task用来并发的调度`Coroutine`."
   ]
  },
  {
   "cell_type": "markdown",
   "id": "203ceb7b",
   "metadata": {},
   "source": [
    "通过`asyncio.create_taks()`可以将`Coroutine`封装成`Task`，`coroutine`调度后自动执行。"
   ]
  },
  {
   "cell_type": "code",
   "execution_count": 12,
   "id": "719bcd57",
   "metadata": {},
   "outputs": [
    {
     "data": {
      "text/plain": [
       "42"
      ]
     },
     "execution_count": 12,
     "metadata": {},
     "output_type": "execute_result"
    }
   ],
   "source": [
    "task = asyncio.create_task(nested())\n",
    "await task"
   ]
  },
  {
   "cell_type": "markdown",
   "id": "5e3994f5",
   "metadata": {},
   "source": [
    "### Future"
   ]
  },
  {
   "cell_type": "markdown",
   "id": "237c1e9c",
   "metadata": {},
   "source": [
    "Future是底层`awaitable`对象，表示异步操作的结果。"
   ]
  },
  {
   "cell_type": "code",
   "execution_count": 13,
   "id": "4fd41dfd",
   "metadata": {},
   "outputs": [],
   "source": [
    "async def delay(seconds: int, future: asyncio.Future):\n",
    "    await asyncio.sleep(seconds)\n",
    "    future.set_result('200')\n",
    "\n",
    "\n",
    "async def main():\n",
    "    loop = asyncio.get_event_loop()\n",
    "    future = loop.create_future()\n",
    "    asyncio.create_task(delay(1, future))\n",
    "\n",
    "    # wait future done.\n",
    "    await future\n",
    "    print(f'future done, result {future.result()}')\n"
   ]
  },
  {
   "cell_type": "code",
   "execution_count": 14,
   "id": "7987593d",
   "metadata": {},
   "outputs": [
    {
     "name": "stdout",
     "output_type": "stream",
     "text": [
      "future done, result 200\n"
     ]
    }
   ],
   "source": [
    "await main()"
   ]
  },
  {
   "cell_type": "markdown",
   "id": "ac9cca13",
   "metadata": {},
   "source": [
    "## Sleeping"
   ]
  },
  {
   "cell_type": "markdown",
   "id": "1396c6d7",
   "metadata": {},
   "source": [
    "`coroutine asyncio.sleep(delay, result=None)`"
   ]
  },
  {
   "cell_type": "markdown",
   "id": "bc8d2eab",
   "metadata": {},
   "source": [
    "* 如果提供了`result`参数，结束时返回给调用者\n",
    "* `sleep`会挂起当前任务，允许其他任务执行"
   ]
  },
  {
   "cell_type": "markdown",
   "id": "7c409efd",
   "metadata": {},
   "source": [
    "## Running Task Cooncurrently"
   ]
  },
  {
   "cell_type": "code",
   "execution_count": 26,
   "id": "13d50f07",
   "metadata": {},
   "outputs": [],
   "source": [
    "async def factorial(name: str, number: int):\n",
    "    f = 1\n",
    "    for i in range(2, number+1):\n",
    "        print(f'Task {name}: compute factorial({number}), concurrently i={i}...')\n",
    "        f *= i\n",
    "        await asyncio.sleep(1)\n",
    "        \n",
    "    print(f'Task {name}: factorial({number}) = {f} ')\n",
    "    return f"
   ]
  },
  {
   "cell_type": "code",
   "execution_count": 27,
   "id": "6ebeb398",
   "metadata": {},
   "outputs": [],
   "source": [
    "async def main():\n",
    "    L = await asyncio.gather(\n",
    "        factorial('A', 2),\n",
    "        factorial('B', 3),\n",
    "        factorial('C', 4)\n",
    "    )\n",
    "    print(L)"
   ]
  },
  {
   "cell_type": "code",
   "execution_count": 30,
   "id": "ee15dcc1",
   "metadata": {},
   "outputs": [
    {
     "name": "stdout",
     "output_type": "stream",
     "text": [
      "Task A: compute factorial(2), concurrently i=2...\n",
      "Task B: compute factorial(3), concurrently i=2...\n",
      "Task C: compute factorial(4), concurrently i=2...\n",
      "Task A: factorial(2) = 2 \n",
      "Task B: compute factorial(3), concurrently i=3...\n",
      "Task C: compute factorial(4), concurrently i=3...\n",
      "Task B: factorial(3) = 6 \n",
      "Task C: compute factorial(4), concurrently i=4...\n",
      "Task C: factorial(4) = 24 \n",
      "[2, 6, 24]\n"
     ]
    }
   ],
   "source": [
    "await main()"
   ]
  },
  {
   "cell_type": "markdown",
   "id": "f509e61e",
   "metadata": {},
   "source": [
    "## Timeout"
   ]
  },
  {
   "cell_type": "code",
   "execution_count": 34,
   "id": "18959dd8",
   "metadata": {},
   "outputs": [],
   "source": [
    "async def eternity():\n",
    "    await asyncio.sleep(3600)\n",
    "    print('yay!')"
   ]
  },
  {
   "cell_type": "code",
   "execution_count": 35,
   "id": "f54cd93f",
   "metadata": {},
   "outputs": [],
   "source": [
    "async def main():\n",
    "    try:\n",
    "        await asyncio.wait_for(eternity(), timeout=1)\n",
    "    except asyncio.TimeoutError:\n",
    "        print('Timeout')"
   ]
  },
  {
   "cell_type": "code",
   "execution_count": 36,
   "id": "9c4d4f67",
   "metadata": {},
   "outputs": [
    {
     "name": "stdout",
     "output_type": "stream",
     "text": [
      "Timeout\n"
     ]
    }
   ],
   "source": [
    "await main()"
   ]
  },
  {
   "cell_type": "markdown",
   "id": "7757ae8f",
   "metadata": {},
   "source": [
    "## Introspection"
   ]
  },
  {
   "cell_type": "code",
   "execution_count": 39,
   "id": "27576926",
   "metadata": {},
   "outputs": [
    {
     "data": {
      "text/plain": [
       "<Task pending coro=<eternity() running at <ipython-input-34-d201bdf6629b>:1>>"
      ]
     },
     "execution_count": 39,
     "metadata": {},
     "output_type": "execute_result"
    }
   ],
   "source": [
    "asyncio.create_task(eternity())"
   ]
  },
  {
   "cell_type": "markdown",
   "id": "40fbf599",
   "metadata": {},
   "source": [
    "当前任务"
   ]
  },
  {
   "cell_type": "code",
   "execution_count": 44,
   "id": "fe6d568c",
   "metadata": {},
   "outputs": [],
   "source": [
    "asyncio.current_task()"
   ]
  },
  {
   "cell_type": "markdown",
   "id": "0ff54962",
   "metadata": {},
   "source": [
    "所有的任务"
   ]
  },
  {
   "cell_type": "code",
   "execution_count": 43,
   "id": "3db1197a",
   "metadata": {},
   "outputs": [
    {
     "data": {
      "text/plain": [
       "{<Task pending coro=<eternity() running at <ipython-input-34-d201bdf6629b>:2> wait_for=<Future pending cb=[<TaskWakeupMethWrapper object at 0x7ffd205a1310>()]>>}"
      ]
     },
     "execution_count": 43,
     "metadata": {},
     "output_type": "execute_result"
    }
   ],
   "source": [
    "asyncio.all_tasks()"
   ]
  },
  {
   "cell_type": "markdown",
   "id": "a326fdfa",
   "metadata": {},
   "source": [
    "## Task"
   ]
  },
  {
   "cell_type": "code",
   "execution_count": 49,
   "id": "5f76c9ac",
   "metadata": {},
   "outputs": [],
   "source": [
    "async def cancel_me():\n",
    "    print(f'cancel_me(): before sleep')\n",
    "    \n",
    "    try:\n",
    "        await asyncio.sleep(3600)\n",
    "    except asyncio.CancelledError:\n",
    "        print(f'cancel_me(): cancle sleep')\n",
    "        raise\n",
    "    finally:\n",
    "        print(f'cancel_me(): after sleep')"
   ]
  },
  {
   "cell_type": "code",
   "execution_count": 50,
   "id": "39fd694b",
   "metadata": {},
   "outputs": [],
   "source": [
    "async def main():\n",
    "    task = asyncio.create_task(cancel_me())\n",
    "    await asyncio.sleep(1)\n",
    "    \n",
    "    task.cancel()\n",
    "    \n",
    "    try:\n",
    "        await task\n",
    "        \n",
    "    except asyncio.CancelledError:\n",
    "        print('main(): cancel_me is cancelled now.')"
   ]
  },
  {
   "cell_type": "code",
   "execution_count": 51,
   "id": "a09a7fb5",
   "metadata": {},
   "outputs": [
    {
     "name": "stdout",
     "output_type": "stream",
     "text": [
      "cancel_me(): before sleep\n",
      "cancel_me(): cancle sleep\n",
      "cancel_me(): after sleep\n",
      "main(): cancel_me is cancelled now.\n"
     ]
    }
   ],
   "source": [
    "await main()"
   ]
  }
 ],
 "metadata": {
  "kernelspec": {
   "display_name": "Python 3",
   "language": "python",
   "name": "python3"
  },
  "language_info": {
   "codemirror_mode": {
    "name": "ipython",
    "version": 3
   },
   "file_extension": ".py",
   "mimetype": "text/x-python",
   "name": "python",
   "nbconvert_exporter": "python",
   "pygments_lexer": "ipython3",
   "version": "3.7.10"
  },
  "toc": {
   "base_numbering": 1,
   "nav_menu": {},
   "number_sections": true,
   "sideBar": true,
   "skip_h1_title": false,
   "title_cell": "Table of Contents",
   "title_sidebar": "Contents",
   "toc_cell": false,
   "toc_position": {
    "height": "calc(100% - 180px)",
    "left": "10px",
    "top": "150px",
    "width": "236.818px"
   },
   "toc_section_display": true,
   "toc_window_display": true
  }
 },
 "nbformat": 4,
 "nbformat_minor": 5
}

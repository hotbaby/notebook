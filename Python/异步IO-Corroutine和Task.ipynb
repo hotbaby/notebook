{
 "cells": [
  {
   "cell_type": "markdown",
   "id": "5c1c9193",
   "metadata": {},
   "source": [
    "# 异步IO-Coroutine和Task"
   ]
  },
  {
   "cell_type": "code",
   "execution_count": 1,
   "id": "596ea417",
   "metadata": {},
   "outputs": [],
   "source": [
    "import asyncio\n",
    "import time\n",
    "import datetime"
   ]
  },
  {
   "cell_type": "markdown",
   "id": "6f2e5ddb",
   "metadata": {},
   "source": [
    "## Coroutine"
   ]
  },
  {
   "cell_type": "markdown",
   "id": "337101b3",
   "metadata": {},
   "source": [
    "通过`async`和`await`实现asyncio应用。"
   ]
  },
  {
   "cell_type": "code",
   "execution_count": 2,
   "id": "5e36680b",
   "metadata": {},
   "outputs": [],
   "source": [
    "async def hello():\n",
    "    print('Hello')\n",
    "    await asyncio.sleep(1)\n",
    "    print('World!')"
   ]
  },
  {
   "cell_type": "markdown",
   "id": "d56cfbed",
   "metadata": {},
   "source": [
    "`Croutine`对象"
   ]
  },
  {
   "cell_type": "code",
   "execution_count": 3,
   "id": "5e56fb00",
   "metadata": {
    "scrolled": true
   },
   "outputs": [
    {
     "data": {
      "text/plain": [
       "<coroutine object hello at 0x7ffd403fd830>"
      ]
     },
     "execution_count": 3,
     "metadata": {},
     "output_type": "execute_result"
    }
   ],
   "source": [
    "hello()"
   ]
  },
  {
   "cell_type": "code",
   "execution_count": 4,
   "id": "f298504d",
   "metadata": {
    "scrolled": false
   },
   "outputs": [
    {
     "name": "stdout",
     "output_type": "stream",
     "text": [
      "Hello\n",
      "World!\n"
     ]
    }
   ],
   "source": [
    "await hello()"
   ]
  },
  {
   "cell_type": "code",
   "execution_count": 5,
   "id": "fbdfcbd1",
   "metadata": {},
   "outputs": [],
   "source": [
    "async def say_after(delay: int, message: str):\n",
    "    await asyncio.sleep(delay)\n",
    "    print(message)"
   ]
  },
  {
   "cell_type": "code",
   "execution_count": 6,
   "id": "62739dee",
   "metadata": {},
   "outputs": [],
   "source": [
    "async def main():\n",
    "    print(f'Start at {time.strftime(\"%X\")}')\n",
    "    await say_after(1, 'Hello')\n",
    "    await say_after(2, 'World!')\n",
    "    \n",
    "    # 运行时间3秒\n",
    "    print(f'Finished at {time.strftime(\"%X\")}')"
   ]
  },
  {
   "cell_type": "code",
   "execution_count": 7,
   "id": "61ab14d9",
   "metadata": {
    "scrolled": true
   },
   "outputs": [
    {
     "name": "stdout",
     "output_type": "stream",
     "text": [
      "Start at 14:21:20\n",
      "Hello\n",
      "World!\n",
      "Finished at 14:21:23\n"
     ]
    }
   ],
   "source": [
    "await main()"
   ]
  },
  {
   "cell_type": "markdown",
   "id": "a1501781",
   "metadata": {},
   "source": [
    "`asyncio.create_task`将`coroutine`作为`Task`并行运行。"
   ]
  },
  {
   "cell_type": "code",
   "execution_count": 8,
   "id": "fd1d6ee8",
   "metadata": {},
   "outputs": [],
   "source": [
    "async def main():\n",
    "    task1 = asyncio.create_task(say_after(1, 'Hello'))\n",
    "    task2= asyncio.create_task(say_after(2, 'World!'))\n",
    "    \n",
    "    print(f'Start at {time.strftime(\"%X\")}')\n",
    "    await task1\n",
    "    await task2\n",
    "    \n",
    "    # 运行时间2秒\n",
    "    print(f'Finished at {time.strftime(\"%X\")}')"
   ]
  },
  {
   "cell_type": "code",
   "execution_count": 9,
   "id": "aa8cae75",
   "metadata": {
    "scrolled": true
   },
   "outputs": [
    {
     "name": "stdout",
     "output_type": "stream",
     "text": [
      "Start at 14:21:23\n",
      "Hello\n",
      "World!\n",
      "Finished at 14:21:25\n"
     ]
    }
   ],
   "source": [
    "await main()"
   ]
  },
  {
   "cell_type": "markdown",
   "id": "0c663743",
   "metadata": {},
   "source": [
    "## Awaitables"
   ]
  },
  {
   "cell_type": "markdown",
   "id": "005af398",
   "metadata": {},
   "source": [
    "当对象是`Awaitable`对象时，可以通过`await`表达式。"
   ]
  },
  {
   "cell_type": "markdown",
   "id": "30c695fc",
   "metadata": {},
   "source": [
    "三种主要Awaitablel类型：`Coroutine`、`Task`和`Future`。"
   ]
  },
  {
   "cell_type": "markdown",
   "id": "5463e5de",
   "metadata": {},
   "source": [
    "### Coroutine"
   ]
  },
  {
   "cell_type": "code",
   "execution_count": 10,
   "id": "daf961f4",
   "metadata": {},
   "outputs": [],
   "source": [
    "async def nested():\n",
    "    return 42"
   ]
  },
  {
   "cell_type": "code",
   "execution_count": 11,
   "id": "d391b7a7",
   "metadata": {},
   "outputs": [
    {
     "data": {
      "text/plain": [
       "<coroutine object nested at 0x7ffd28a549e0>"
      ]
     },
     "execution_count": 11,
     "metadata": {},
     "output_type": "execute_result"
    }
   ],
   "source": [
    "nested()"
   ]
  },
  {
   "cell_type": "markdown",
   "id": "bbef75fc",
   "metadata": {},
   "source": [
    "* `async def` 定义`coroutine`函数\n",
    "* 调用`couroutine`函数，返回`coroutine`对象"
   ]
  },
  {
   "cell_type": "markdown",
   "id": "02a068ea",
   "metadata": {},
   "source": [
    "### Task"
   ]
  },
  {
   "cell_type": "markdown",
   "id": "76e1e270",
   "metadata": {},
   "source": [
    "Task用来并发的调度`Coroutine`."
   ]
  },
  {
   "cell_type": "markdown",
   "id": "203ceb7b",
   "metadata": {},
   "source": [
    "通过`asyncio.create_taks()`可以将`Coroutine`封装成`Task`，`coroutine`调度后自动执行。"
   ]
  },
  {
   "cell_type": "code",
   "execution_count": 12,
   "id": "719bcd57",
   "metadata": {},
   "outputs": [
    {
     "data": {
      "text/plain": [
       "42"
      ]
     },
     "execution_count": 12,
     "metadata": {},
     "output_type": "execute_result"
    }
   ],
   "source": [
    "task = asyncio.create_task(nested())\n",
    "await task"
   ]
  },
  {
   "cell_type": "markdown",
   "id": "5e3994f5",
   "metadata": {},
   "source": [
    "### Future"
   ]
  },
  {
   "cell_type": "markdown",
   "id": "237c1e9c",
   "metadata": {},
   "source": [
    "Future是底层`awaitable`对象，表示异步操作的结果。"
   ]
  },
  {
   "cell_type": "code",
   "execution_count": 13,
   "id": "4fd41dfd",
   "metadata": {},
   "outputs": [],
   "source": [
    "async def delay(seconds: int, future: asyncio.Future):\n",
    "    await asyncio.sleep(seconds)\n",
    "    future.set_result('200')\n",
    "\n",
    "\n",
    "async def main():\n",
    "    loop = asyncio.get_event_loop()\n",
    "    future = loop.create_future()\n",
    "    asyncio.create_task(delay(1, future))\n",
    "\n",
    "    # wait future done.\n",
    "    await future\n",
    "    print(f'future done, result {future.result()}')\n"
   ]
  },
  {
   "cell_type": "code",
   "execution_count": 14,
   "id": "7987593d",
   "metadata": {},
   "outputs": [
    {
     "name": "stdout",
     "output_type": "stream",
     "text": [
      "future done, result 200\n"
     ]
    }
   ],
   "source": [
    "await main()"
   ]
  }
 ],
 "metadata": {
  "kernelspec": {
   "display_name": "Python 3",
   "language": "python",
   "name": "python3"
  },
  "language_info": {
   "codemirror_mode": {
    "name": "ipython",
    "version": 3
   },
   "file_extension": ".py",
   "mimetype": "text/x-python",
   "name": "python",
   "nbconvert_exporter": "python",
   "pygments_lexer": "ipython3",
   "version": "3.7.10"
  },
  "toc": {
   "base_numbering": 1,
   "nav_menu": {},
   "number_sections": true,
   "sideBar": true,
   "skip_h1_title": false,
   "title_cell": "Table of Contents",
   "title_sidebar": "Contents",
   "toc_cell": false,
   "toc_position": {},
   "toc_section_display": true,
   "toc_window_display": false
  }
 },
 "nbformat": 4,
 "nbformat_minor": 5
}

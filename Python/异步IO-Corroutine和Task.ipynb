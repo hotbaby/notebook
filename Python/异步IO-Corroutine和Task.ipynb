{
 "cells": [
  {
   "cell_type": "markdown",
   "id": "fd45aa2f",
   "metadata": {},
   "source": [
    "# 异步IO-Coroutine和Task"
   ]
  },
  {
   "cell_type": "code",
   "execution_count": 1,
   "id": "55a81c8e",
   "metadata": {},
   "outputs": [],
   "source": [
    "import asyncio\n",
    "import time\n",
    "import datetime"
   ]
  },
  {
   "cell_type": "markdown",
   "id": "d9e149fc",
   "metadata": {},
   "source": [
    "## Coroutine"
   ]
  },
  {
   "cell_type": "markdown",
   "id": "31833653",
   "metadata": {},
   "source": [
    "通过`async`和`await`实现asyncio应用。"
   ]
  },
  {
   "cell_type": "code",
   "execution_count": 2,
   "id": "a110bdd6",
   "metadata": {},
   "outputs": [],
   "source": [
    "async def hello():\n",
    "    print('Hello')\n",
    "    await asyncio.sleep(1)\n",
    "    print('World!')"
   ]
  },
  {
   "cell_type": "markdown",
   "id": "da028cf9",
   "metadata": {},
   "source": [
    "`Croutine`对象"
   ]
  },
  {
   "cell_type": "code",
   "execution_count": 3,
   "id": "41b86b34",
   "metadata": {
    "scrolled": true
   },
   "outputs": [
    {
     "data": {
      "text/plain": [
       "<coroutine object hello at 0x7fb6f8616290>"
      ]
     },
     "execution_count": 3,
     "metadata": {},
     "output_type": "execute_result"
    }
   ],
   "source": [
    "hello()"
   ]
  },
  {
   "cell_type": "code",
   "execution_count": 4,
   "id": "4ebfb5fa",
   "metadata": {
    "scrolled": false
   },
   "outputs": [
    {
     "name": "stdout",
     "output_type": "stream",
     "text": [
      "Hello\n",
      "World!\n"
     ]
    }
   ],
   "source": [
    "await hello()"
   ]
  },
  {
   "cell_type": "code",
   "execution_count": 5,
   "id": "c9fc8d31",
   "metadata": {},
   "outputs": [],
   "source": [
    "async def say_after(delay: int, message: str):\n",
    "    await asyncio.sleep(delay)\n",
    "    print(message)"
   ]
  },
  {
   "cell_type": "code",
   "execution_count": 6,
   "id": "15441b4d",
   "metadata": {},
   "outputs": [],
   "source": [
    "async def main():\n",
    "    print(f'Start at {time.strftime(\"%X\")}')\n",
    "    await say_after(1, 'Hello')\n",
    "    await say_after(2, 'World!')\n",
    "    \n",
    "    # 运行时间3秒\n",
    "    print(f'Finished at {time.strftime(\"%X\")}')"
   ]
  },
  {
   "cell_type": "code",
   "execution_count": 7,
   "id": "1fef4994",
   "metadata": {
    "scrolled": true
   },
   "outputs": [
    {
     "name": "stdout",
     "output_type": "stream",
     "text": [
      "Start at 14:14:06\n",
      "Hello\n",
      "World!\n",
      "Finished at 14:14:09\n"
     ]
    }
   ],
   "source": [
    "await main()"
   ]
  },
  {
   "cell_type": "markdown",
   "id": "7552a330",
   "metadata": {},
   "source": [
    "`asyncio.create_task`将`coroutine`作为`Task`并行运行。"
   ]
  },
  {
   "cell_type": "code",
   "execution_count": 8,
   "id": "e2993d4c",
   "metadata": {},
   "outputs": [],
   "source": [
    "async def main():\n",
    "    task1 = asyncio.create_task(say_after(1, 'Hello'))\n",
    "    task2= asyncio.create_task(say_after(2, 'World!'))\n",
    "    \n",
    "    print(f'Start at {time.strftime(\"%X\")}')\n",
    "    await task1\n",
    "    await task2\n",
    "    \n",
    "    # 运行时间2秒\n",
    "    print(f'Finished at {time.strftime(\"%X\")}')"
   ]
  },
  {
   "cell_type": "code",
   "execution_count": 9,
   "id": "7233c4a4",
   "metadata": {
    "scrolled": true
   },
   "outputs": [
    {
     "name": "stdout",
     "output_type": "stream",
     "text": [
      "Start at 14:14:09\n",
      "Hello\n",
      "World!\n",
      "Finished at 14:14:11\n"
     ]
    }
   ],
   "source": [
    "await main()"
   ]
  },
  {
   "cell_type": "markdown",
   "id": "f4ac1faf",
   "metadata": {},
   "source": [
    "## Awaitables"
   ]
  },
  {
   "cell_type": "markdown",
   "id": "0c63d1f9",
   "metadata": {},
   "source": [
    "当对象是`Awaitable`对象时，可以通过`await`表达式。"
   ]
  },
  {
   "cell_type": "markdown",
   "id": "2121fdd4",
   "metadata": {},
   "source": [
    "三种主要Awaitablel类型：`Coroutine`、`Task`和`Future`"
   ]
  },
  {
   "cell_type": "markdown",
   "id": "bd046139",
   "metadata": {},
   "source": [
    "### Coroutine"
   ]
  },
  {
   "cell_type": "code",
   "execution_count": 10,
   "id": "ce21e4d6",
   "metadata": {},
   "outputs": [],
   "source": [
    "async def nested():\n",
    "    return 42"
   ]
  },
  {
   "cell_type": "code",
   "execution_count": 11,
   "id": "e8bb862f",
   "metadata": {},
   "outputs": [
    {
     "data": {
      "text/plain": [
       "<coroutine object nested at 0x7fb6c8612200>"
      ]
     },
     "execution_count": 11,
     "metadata": {},
     "output_type": "execute_result"
    }
   ],
   "source": [
    "nested()"
   ]
  },
  {
   "cell_type": "markdown",
   "id": "23426f18",
   "metadata": {},
   "source": [
    "* `async def` 定义`coroutine`函数\n",
    "* 调用`couroutine`函数，返回`coroutine`对象"
   ]
  },
  {
   "cell_type": "markdown",
   "id": "ad547b9c",
   "metadata": {},
   "source": [
    "### Task"
   ]
  },
  {
   "cell_type": "markdown",
   "id": "6de29fda",
   "metadata": {},
   "source": [
    "Task用来并发的调度`Coroutine`."
   ]
  },
  {
   "cell_type": "markdown",
   "id": "8cfcbfd9",
   "metadata": {},
   "source": [
    "通过`asyncio.create_taks()`可以将`Coroutine`封装成`Task`，`coroutine`自动的调度执行。"
   ]
  },
  {
   "cell_type": "code",
   "execution_count": 12,
   "id": "49ed8ef7",
   "metadata": {},
   "outputs": [
    {
     "data": {
      "text/plain": [
       "42"
      ]
     },
     "execution_count": 12,
     "metadata": {},
     "output_type": "execute_result"
    }
   ],
   "source": [
    "task = asyncio.create_task(nested())\n",
    "await task"
   ]
  },
  {
   "cell_type": "markdown",
   "id": "f18260ae",
   "metadata": {},
   "source": [
    "### Future"
   ]
  },
  {
   "cell_type": "markdown",
   "id": "f3eca709",
   "metadata": {},
   "source": [
    "Future是底层`awaitable`对象，表示异步操作的结果。"
   ]
  },
  {
   "cell_type": "code",
   "execution_count": 13,
   "id": "0e51f7ac",
   "metadata": {},
   "outputs": [],
   "source": [
    "async def delay(seconds: int, future: asyncio.Future):\n",
    "    await asyncio.sleep(seconds)\n",
    "    future.set_result('200')\n",
    "\n",
    "\n",
    "async def main():\n",
    "    loop = asyncio.get_event_loop()\n",
    "    future = loop.create_future()\n",
    "    asyncio.create_task(delay(1, future))\n",
    "\n",
    "    # wait future done.\n",
    "    await future\n",
    "    print(f'future done, result {future.result()}')\n"
   ]
  },
  {
   "cell_type": "code",
   "execution_count": 14,
   "id": "916f8af5",
   "metadata": {},
   "outputs": [
    {
     "name": "stdout",
     "output_type": "stream",
     "text": [
      "future done, result 200\n"
     ]
    }
   ],
   "source": [
    "await main()"
   ]
  }
 ],
 "metadata": {
  "kernelspec": {
   "display_name": "Python 3",
   "language": "python",
   "name": "python3"
  },
  "language_info": {
   "codemirror_mode": {
    "name": "ipython",
    "version": 3
   },
   "file_extension": ".py",
   "mimetype": "text/x-python",
   "name": "python",
   "nbconvert_exporter": "python",
   "pygments_lexer": "ipython3",
   "version": "3.7.10"
  },
  "toc": {
   "base_numbering": 1,
   "nav_menu": {},
   "number_sections": true,
   "sideBar": true,
   "skip_h1_title": false,
   "title_cell": "Table of Contents",
   "title_sidebar": "Contents",
   "toc_cell": false,
   "toc_position": {},
   "toc_section_display": true,
   "toc_window_display": false
  }
 },
 "nbformat": 4,
 "nbformat_minor": 5
}

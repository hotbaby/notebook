{
 "cells": [
  {
   "cell_type": "markdown",
   "id": "b4fd8252",
   "metadata": {},
   "source": [
    "# Python dataclass"
   ]
  },
  {
   "cell_type": "markdown",
   "id": "dbd795c1",
   "metadata": {},
   "source": [
    "## 参考文献"
   ]
  },
  {
   "cell_type": "markdown",
   "id": "fbb0217e",
   "metadata": {},
   "source": [
    "* https://www.python.org/dev/peps/pep-0557/\n",
    "* https://docs.python.org/3/library/dataclasses.html"
   ]
  },
  {
   "cell_type": "markdown",
   "id": "c1900ec8",
   "metadata": {},
   "source": [
    "## 代码示例"
   ]
  },
  {
   "cell_type": "code",
   "execution_count": 1,
   "id": "ab61a025",
   "metadata": {},
   "outputs": [],
   "source": [
    "import dataclasses\n",
    "from dataclasses import dataclass, field\n",
    "from typing import List"
   ]
  },
  {
   "cell_type": "code",
   "execution_count": 2,
   "id": "ea761bc8",
   "metadata": {},
   "outputs": [],
   "source": [
    "@dataclass\n",
    "class Point:\n",
    "    x: float\n",
    "    y: float        "
   ]
  },
  {
   "cell_type": "code",
   "execution_count": 3,
   "id": "f36e5a3a",
   "metadata": {},
   "outputs": [],
   "source": [
    "p = Point(9, 10)"
   ]
  },
  {
   "cell_type": "markdown",
   "id": "e2a5df1c",
   "metadata": {},
   "source": [
    "访问dataclass属性"
   ]
  },
  {
   "cell_type": "code",
   "execution_count": 4,
   "id": "dae1dd4e",
   "metadata": {},
   "outputs": [
    {
     "data": {
      "text/plain": [
       "(9, 10)"
      ]
     },
     "execution_count": 4,
     "metadata": {},
     "output_type": "execute_result"
    }
   ],
   "source": [
    "p.x, p.y"
   ]
  },
  {
   "cell_type": "markdown",
   "id": "c4452f91",
   "metadata": {},
   "source": [
    "`__post_init__`"
   ]
  },
  {
   "cell_type": "code",
   "execution_count": 5,
   "id": "38c51306",
   "metadata": {},
   "outputs": [],
   "source": [
    "@dataclass\n",
    "class C:\n",
    "    a: float\n",
    "    b: float\n",
    "    c: float = field(init=False)\n",
    "        \n",
    "    def __post_init__(self):\n",
    "        self.c = self.a + self.b"
   ]
  },
  {
   "cell_type": "code",
   "execution_count": 6,
   "id": "558f8e89",
   "metadata": {},
   "outputs": [],
   "source": [
    "ins = C(1, 2)"
   ]
  },
  {
   "cell_type": "code",
   "execution_count": 7,
   "id": "9843b4b6",
   "metadata": {},
   "outputs": [
    {
     "data": {
      "text/plain": [
       "(1, 3)"
      ]
     },
     "execution_count": 7,
     "metadata": {},
     "output_type": "execute_result"
    }
   ],
   "source": [
    "ins.a, ins.c"
   ]
  },
  {
   "cell_type": "markdown",
   "id": "d44be5fd",
   "metadata": {},
   "source": [
    "dataclass对象转化成字典"
   ]
  },
  {
   "cell_type": "code",
   "execution_count": 8,
   "id": "c89e0eb6",
   "metadata": {},
   "outputs": [
    {
     "data": {
      "text/plain": [
       "{'x': 9, 'y': 10}"
      ]
     },
     "execution_count": 8,
     "metadata": {},
     "output_type": "execute_result"
    }
   ],
   "source": [
    "dataclasses.asdict(p)"
   ]
  },
  {
   "cell_type": "markdown",
   "id": "307ddbf2",
   "metadata": {},
   "source": [
    "dataclass对象转化成元组"
   ]
  },
  {
   "cell_type": "code",
   "execution_count": 9,
   "id": "59b5e310",
   "metadata": {},
   "outputs": [
    {
     "data": {
      "text/plain": [
       "(9, 10)"
      ]
     },
     "execution_count": 9,
     "metadata": {},
     "output_type": "execute_result"
    }
   ],
   "source": [
    "dataclasses.astuple(p)"
   ]
  }
 ],
 "metadata": {
  "kernelspec": {
   "display_name": "Python 3",
   "language": "python",
   "name": "python3"
  },
  "language_info": {
   "codemirror_mode": {
    "name": "ipython",
    "version": 3
   },
   "file_extension": ".py",
   "mimetype": "text/x-python",
   "name": "python",
   "nbconvert_exporter": "python",
   "pygments_lexer": "ipython3",
   "version": "3.7.10"
  },
  "toc": {
   "base_numbering": 1,
   "nav_menu": {},
   "number_sections": true,
   "sideBar": true,
   "skip_h1_title": false,
   "title_cell": "Table of Contents",
   "title_sidebar": "Contents",
   "toc_cell": false,
   "toc_position": {},
   "toc_section_display": true,
   "toc_window_display": false
  }
 },
 "nbformat": 4,
 "nbformat_minor": 5
}

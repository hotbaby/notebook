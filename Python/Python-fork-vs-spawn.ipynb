{
 "cells": [
  {
   "cell_type": "markdown",
   "id": "1cb2383e",
   "metadata": {},
   "source": [
    "# Python fork vs spawn"
   ]
  },
  {
   "cell_type": "markdown",
   "id": "f3f489f2",
   "metadata": {},
   "source": [
    "Python文档解释："
   ]
  },
  {
   "cell_type": "markdown",
   "id": "1b5b8d02",
   "metadata": {},
   "source": [
    "```\n",
    "spawn\n",
    "\n",
    "    The parent process starts a fresh Python interpreter process. The child process will only inherit those resources necessary to run the process object’s run() method. In particular, unnecessary file descriptors and handles from the parent process will not be inherited. Starting a process using this method is rather slow compared to using fork or forkserver.\n",
    "\n",
    "    Available on Unix and Windows. The default on Windows and macOS.\n",
    "\n",
    "fork\n",
    "\n",
    "    The parent process uses os.fork() to fork the Python interpreter. The child process, when it begins, is effectively identical to the parent process. All resources of the parent are inherited by the child process. Note that safely forking a multithreaded process is problematic.\n",
    "\n",
    "    Available on Unix only. The default on Unix.\n",
    "```"
   ]
  },
  {
   "cell_type": "markdown",
   "id": "5d8b1ecd",
   "metadata": {},
   "source": [
    "- fork子进程会复制父进程的资源，包括打开的文件描述等资源；\n",
    "- spawn子进程只会复制父进程必须的资源，不包括打开的文件描述等资源；\n",
    "- 从速度上讲，spawn比fork要慢；\n",
    "- 从实现上件，spawn会fork父进程资源，再调用exec替换原来的进程上下文。"
   ]
  },
  {
   "cell_type": "markdown",
   "id": "b0c82b0b",
   "metadata": {},
   "source": [
    "## 参考文献"
   ]
  },
  {
   "cell_type": "markdown",
   "id": "9e5f74e4",
   "metadata": {},
   "source": [
    "* https://docs.python.org/3/library/multiprocessing.html#contexts-and-start-methods\n",
    "* https://stackoverflow.com/questions/64095876/multiprocessing-fork-vs-spawn"
   ]
  }
 ],
 "metadata": {
  "kernelspec": {
   "display_name": "Python 3 (ipykernel)",
   "language": "python",
   "name": "python3"
  },
  "language_info": {
   "codemirror_mode": {
    "name": "ipython",
    "version": 3
   },
   "file_extension": ".py",
   "mimetype": "text/x-python",
   "name": "python",
   "nbconvert_exporter": "python",
   "pygments_lexer": "ipython3",
   "version": "3.9.12"
  }
 },
 "nbformat": 4,
 "nbformat_minor": 5
}

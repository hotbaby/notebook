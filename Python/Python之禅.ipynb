{
 "cells": [
  {
   "cell_type": "markdown",
   "id": "enhanced-terminal",
   "metadata": {
    "deletable": false,
    "editable": false,
    "run_control": {
     "frozen": true
    }
   },
   "source": [
    "The Zen of Python, by Tim Peters\n",
    "\n",
    "* Beautiful is better than ugly.\n",
    "* Explicit is better than implicit.\n",
    "* Simple is better than complex.\n",
    "* Complex is better than complicated.\n",
    "* Flat is better than nested.\n",
    "* Sparse is better than dense.\n",
    "* Readability counts.\n",
    "* Special cases aren't special enough to break the rules.\n",
    "* Although practicality beats purity.\n",
    "* Errors should never pass silently.\n",
    "* Unless explicitly silenced.\n",
    "* In the face of ambiguity, refuse the temptation to guess.\n",
    "* There should be one-- and preferably only one --obvious way to do it.\n",
    "* Although that way may not be obvious at first unless you're Dutch.\n",
    "* Now is better than never.\n",
    "* Although never is often better than *right* now.\n",
    "* If the implementation is hard to explain, it's a bad idea.\n",
    "* If the implementation is easy to explain, it may be a good idea.\n",
    "* Namespaces are one honking great idea -- let's do more of those!"
   ]
  }
 ],
 "metadata": {
  "kernelspec": {
   "display_name": "Python 3",
   "language": "python",
   "name": "python3"
  },
  "language_info": {
   "codemirror_mode": {
    "name": "ipython",
    "version": 3
   },
   "file_extension": ".py",
   "mimetype": "text/x-python",
   "name": "python",
   "nbconvert_exporter": "python",
   "pygments_lexer": "ipython3",
   "version": "3.7.9"
  },
  "toc": {
   "base_numbering": 1,
   "nav_menu": {},
   "number_sections": true,
   "sideBar": true,
   "skip_h1_title": false,
   "title_cell": "Table of Contents",
   "title_sidebar": "Contents",
   "toc_cell": false,
   "toc_position": {},
   "toc_section_display": true,
   "toc_window_display": false
  }
 },
 "nbformat": 4,
 "nbformat_minor": 5
}

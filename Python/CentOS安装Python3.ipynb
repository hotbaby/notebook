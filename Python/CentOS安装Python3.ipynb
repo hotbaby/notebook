{
 "cells": [
  {
   "cell_type": "markdown",
   "id": "c97b54eb",
   "metadata": {},
   "source": [
    "# CentOS安装Python3"
   ]
  },
  {
   "cell_type": "markdown",
   "id": "5da56939",
   "metadata": {},
   "source": [
    "## 参考文献"
   ]
  },
  {
   "cell_type": "markdown",
   "id": "8ea1ae24",
   "metadata": {},
   "source": [
    "* https://stackoverflow.com/questions/56552390/how-to-fix-ssl-module-in-python-is-not-available-in-centos\n",
    "* https://zhuanlan.zhihu.com/p/107078238"
   ]
  },
  {
   "cell_type": "markdown",
   "id": "af616147",
   "metadata": {},
   "source": [
    "No module named '_ctypes'的解决办法"
   ]
  },
  {
   "cell_type": "markdown",
   "id": "c7994aec",
   "metadata": {},
   "source": [
    "```shell\n",
    "yum install -y libffi libffi-devel gcc gcc-c++\n",
    "```"
   ]
  },
  {
   "cell_type": "markdown",
   "id": "168a6e37",
   "metadata": {},
   "source": [
    "安装最新版本的openssl"
   ]
  },
  {
   "cell_type": "markdown",
   "id": "4e3bafbd",
   "metadata": {},
   "source": [
    "```shell\n",
    "# 获取版本为1.1.1的openssl安装包\n",
    "wget http://www.openssl.org/source/openssl-1.1.1.tar.gz\n",
    "\n",
    "# 解压安装文件包\n",
    "tar -zxvf openssl-1.1.1.tar.gz\n",
    "\n",
    "cd openssl-1.1.1\n",
    "\n",
    "# 配置 , 编译 , 安装 , 默认路径为/usr/local/openssl\n",
    "./config --prefix=/usr/local/openssl shared zlib\n",
    "make && make install\n",
    "```"
   ]
  },
  {
   "cell_type": "markdown",
   "id": "24f00294",
   "metadata": {},
   "source": [
    "设置环境变量LD_LIBRARY_PATH"
   ]
  },
  {
   "cell_type": "markdown",
   "id": "49d01363",
   "metadata": {},
   "source": [
    "```shell\n",
    "echo \"export LD_LIBRARY_PATH=$LD_LIBRARY_PATH:/usr/local/openssl/lib\" >> $HOME/.bash_profile\n",
    "source $HOME/.bash_profile\n",
    "\n",
    "ln -s /usr/local/openssl/lib/libssl.so.1.1 /usr/lib64/libssl.so.1.1\n",
    "ln -s /usr/local/openssl/lib/libcrypto.so.1.1 /usr/lib64/libcrypto.so.1.1\n",
    "\n",
    "```"
   ]
  },
  {
   "cell_type": "markdown",
   "id": "31039836",
   "metadata": {},
   "source": [
    "安装python3"
   ]
  },
  {
   "cell_type": "markdown",
   "id": "0477631f",
   "metadata": {},
   "source": [
    "```shell\n",
    "# 下载python3.7安装文件\n",
    "wget https://www.python.org/ftp/python/3.7.0/Python-3.7.0.tgz\n",
    "\n",
    "# 解压python3.7安装文件\n",
    "tar -zxvf Python-3.7.0.tgz\n",
    "\n",
    "# 配置 , 编译 , 安装 , 配置openssl路径 , 否则无法使用最新版openssl进行编译\n",
    "./configure  --with-openssl=/usr/local/openssl\n",
    "make && make install\n",
    "```"
   ]
  },
  {
   "cell_type": "markdown",
   "id": "5228512e",
   "metadata": {},
   "source": [
    "测试"
   ]
  },
  {
   "cell_type": "markdown",
   "id": "ce39f3ca",
   "metadata": {},
   "source": [
    "```shell\n",
    "# 执行python3.7 , 进入python环境\n",
    "python3.7\n",
    "\n",
    "# 导入ssl模块 , 测试是否安装成功\n",
    "import ssl\n",
    "```"
   ]
  },
  {
   "cell_type": "markdown",
   "id": "71f0735e",
   "metadata": {},
   "source": [
    "> centos6 会有SSL问题。"
   ]
  }
 ],
 "metadata": {
  "kernelspec": {
   "display_name": "Python 3",
   "language": "python",
   "name": "python3"
  },
  "language_info": {
   "codemirror_mode": {
    "name": "ipython",
    "version": 3
   },
   "file_extension": ".py",
   "mimetype": "text/x-python",
   "name": "python",
   "nbconvert_exporter": "python",
   "pygments_lexer": "ipython3",
   "version": "3.7.10"
  },
  "toc": {
   "base_numbering": 1,
   "nav_menu": {},
   "number_sections": true,
   "sideBar": true,
   "skip_h1_title": false,
   "title_cell": "Table of Contents",
   "title_sidebar": "Contents",
   "toc_cell": false,
   "toc_position": {},
   "toc_section_display": true,
   "toc_window_display": false
  }
 },
 "nbformat": 4,
 "nbformat_minor": 5
}

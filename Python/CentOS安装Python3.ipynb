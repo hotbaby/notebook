{
 "cells": [
  {
   "cell_type": "markdown",
   "id": "forced-refund",
   "metadata": {},
   "source": [
    "# CentOS安装Python3"
   ]
  },
  {
   "cell_type": "markdown",
   "id": "rapid-cleaners",
   "metadata": {},
   "source": [
    "参考文献："
   ]
  },
  {
   "cell_type": "markdown",
   "id": "failing-charter",
   "metadata": {},
   "source": [
    "* https://stackoverflow.com/questions/56552390/how-to-fix-ssl-module-in-python-is-not-available-in-centos"
   ]
  },
  {
   "cell_type": "markdown",
   "id": "polished-speech",
   "metadata": {},
   "source": [
    "```shell\n",
    "# 下载源码\n",
    "cd /opt/python3;\n",
    "wget https://www.python.org/ftp/python/3.7.11/Python-3.7.11.tgz\n",
    "\n",
    "# 安装依赖\n",
    "yum install zlib-devel readline-devel -y\n",
    "\n",
    "# 编译\n",
    "sudo tar xzf Python-3.7.11.tgz;\n",
    "./configure  --prefix=/opt/python3\n",
    "make && make install\n",
    "```"
   ]
  },
  {
   "cell_type": "markdown",
   "id": "british-equilibrium",
   "metadata": {},
   "source": [
    "> centos6 会有SSL问题。"
   ]
  }
 ],
 "metadata": {
  "kernelspec": {
   "display_name": "Python 3",
   "language": "python",
   "name": "python3"
  },
  "language_info": {
   "codemirror_mode": {
    "name": "ipython",
    "version": 3
   },
   "file_extension": ".py",
   "mimetype": "text/x-python",
   "name": "python",
   "nbconvert_exporter": "python",
   "pygments_lexer": "ipython3",
   "version": "3.7.9"
  },
  "toc": {
   "base_numbering": 1,
   "nav_menu": {},
   "number_sections": true,
   "sideBar": true,
   "skip_h1_title": false,
   "title_cell": "Table of Contents",
   "title_sidebar": "Contents",
   "toc_cell": false,
   "toc_position": {},
   "toc_section_display": true,
   "toc_window_display": false
  }
 },
 "nbformat": 4,
 "nbformat_minor": 5
}

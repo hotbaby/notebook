{
 "cells": [
  {
   "cell_type": "markdown",
   "id": "28e61b52",
   "metadata": {},
   "source": [
    "## 安装conda环境"
   ]
  },
  {
   "cell_type": "markdown",
   "id": "6ca42750",
   "metadata": {},
   "source": [
    "```shell\n",
    "\n",
    "conda_bin=Anaconda3-2019.03-Linux-x86_64.sh\n",
    "\n",
    "wget -c https://repo.anaconda.com/archive/${conda_bin}\n",
    "\n",
    "bash ${conda_bin}\n",
    "```"
   ]
  },
  {
   "cell_type": "markdown",
   "id": "fbceb8fa",
   "metadata": {},
   "source": [
    "## 创建环境"
   ]
  },
  {
   "cell_type": "markdown",
   "id": "571f2400",
   "metadata": {},
   "source": [
    "```shell\n",
    "conda create -n env_name python=3.8\n",
    "```"
   ]
  },
  {
   "cell_type": "markdown",
   "id": "98f61a54",
   "metadata": {},
   "source": [
    "## 参考文献\n",
    "\n",
    "* https://repo.anaconda.com/archive/"
   ]
  }
 ],
 "metadata": {
  "kernelspec": {
   "display_name": "Python 3",
   "language": "python",
   "name": "python3"
  },
  "language_info": {
   "codemirror_mode": {
    "name": "ipython",
    "version": 3
   },
   "file_extension": ".py",
   "mimetype": "text/x-python",
   "name": "python",
   "nbconvert_exporter": "python",
   "pygments_lexer": "ipython3",
   "version": "3.7.10"
  },
  "toc": {
   "base_numbering": 1,
   "nav_menu": {},
   "number_sections": true,
   "sideBar": true,
   "skip_h1_title": false,
   "title_cell": "Table of Contents",
   "title_sidebar": "Contents",
   "toc_cell": false,
   "toc_position": {},
   "toc_section_display": true,
   "toc_window_display": false
  }
 },
 "nbformat": 4,
 "nbformat_minor": 5
}

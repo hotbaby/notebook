{
 "cells": [
  {
   "cell_type": "markdown",
   "id": "secondary-consent",
   "metadata": {},
   "source": [
    "# Python数据结构"
   ]
  },
  {
   "cell_type": "markdown",
   "id": "federal-omega",
   "metadata": {},
   "source": [
    "## 序列数组"
   ]
  },
  {
   "cell_type": "markdown",
   "id": "champion-bundle",
   "metadata": {},
   "source": [
    "### 内置序列类型概览"
   ]
  },
  {
   "cell_type": "markdown",
   "id": "understood-xerox",
   "metadata": {},
   "source": [
    "* 容器序列，list、tuple和collections.deque这些序列可以存放不同类型的数据\n",
    "* 扁平序列，str、bytes、bytearray、memoryview和array.array，这些序列只能容纳一种类型"
   ]
  },
  {
   "cell_type": "markdown",
   "id": "russian-helping",
   "metadata": {},
   "source": [
    "容器序列存放的是它们所包含的任意类型对象的引用，而扁平序列里存放的是值而不是引用。换句话说，扁平序列其实是一种连续的内存空间。"
   ]
  },
  {
   "cell_type": "markdown",
   "id": "steady-blond",
   "metadata": {},
   "source": [
    "序列还可以分类为：\n",
    "\n",
    "* 可变序列，list、bytearray、array.array、collections.deque和memoryview\n",
    "* 不可变序列，tuple、str和bytes"
   ]
  },
  {
   "cell_type": "markdown",
   "id": "independent-account",
   "metadata": {},
   "source": [
    "![](https://bj.bcebos.com/ipic/Python-MutableSequence.jpg)"
   ]
  },
  {
   "cell_type": "markdown",
   "id": "native-editing",
   "metadata": {},
   "source": [
    "### 列表推导"
   ]
  },
  {
   "cell_type": "code",
   "execution_count": 21,
   "id": "tamil-tanzania",
   "metadata": {},
   "outputs": [
    {
     "data": {
      "text/plain": [
       "[36, 162, 163, 165, 8364, 164]"
      ]
     },
     "execution_count": 21,
     "metadata": {},
     "output_type": "execute_result"
    }
   ],
   "source": [
    "symbols = '$¢£¥€¤'\n",
    "codes = [ord(symbol) for symbol in symbols]\n",
    "codes    "
   ]
  },
  {
   "cell_type": "markdown",
   "id": "assigned-documentation",
   "metadata": {},
   "source": [
    "### 元组不仅仅是不可变的记录"
   ]
  },
  {
   "cell_type": "markdown",
   "id": "sublime-wildlife",
   "metadata": {},
   "source": [
    "一些Python教程把元组描述成\"不可变的列表\"，然而这并没有完全概括元组的特点。"
   ]
  },
  {
   "cell_type": "markdown",
   "id": "international-benefit",
   "metadata": {},
   "source": [
    "#### 元组和记录"
   ]
  },
  {
   "cell_type": "markdown",
   "id": "english-coupon",
   "metadata": {},
   "source": [
    "元组其实是对数据的记录：元组的每个元素都存放了记录中中一个字段的数据。"
   ]
  },
  {
   "cell_type": "code",
   "execution_count": 22,
   "id": "connected-michigan",
   "metadata": {},
   "outputs": [],
   "source": [
    "cooridnator = (33.9425, -118.408056)"
   ]
  },
  {
   "cell_type": "markdown",
   "id": "hired-marine",
   "metadata": {},
   "source": [
    "#### 元组拆包"
   ]
  },
  {
   "cell_type": "code",
   "execution_count": 24,
   "id": "younger-tours",
   "metadata": {},
   "outputs": [
    {
     "name": "stdout",
     "output_type": "stream",
     "text": [
      "33.9425 -118.408056\n"
     ]
    }
   ],
   "source": [
    "latitude, longitude = (33.9425, -118.408056)\n",
    "print(latitude, longitude)"
   ]
  },
  {
   "cell_type": "code",
   "execution_count": 25,
   "id": "complimentary-petite",
   "metadata": {},
   "outputs": [
    {
     "name": "stdout",
     "output_type": "stream",
     "text": [
      "0 1 [2, 3, 4, 5, 6, 7, 8, 9]\n"
     ]
    }
   ],
   "source": [
    "a, b, *tail = range(10)\n",
    "print(a, b, tail)"
   ]
  },
  {
   "cell_type": "markdown",
   "id": "spoken-hollow",
   "metadata": {},
   "source": [
    "#### 命名元组"
   ]
  },
  {
   "cell_type": "code",
   "execution_count": 29,
   "id": "higher-jackson",
   "metadata": {},
   "outputs": [
    {
     "data": {
      "text/plain": [
       "(City(name='Tokyo', country='JP', population=36.933, coordinates=(35.689722, 139.691667)),\n",
       " 'JP')"
      ]
     },
     "execution_count": 29,
     "metadata": {},
     "output_type": "execute_result"
    }
   ],
   "source": [
    "from collections import namedtuple\n",
    "\n",
    "City = namedtuple('City', 'name country population coordinates')\n",
    "tokyo = City('Tokyo', 'JP', 36.933, (35.689722, 139.691667))\n",
    "tokyo, tokyo.country"
   ]
  },
  {
   "cell_type": "markdown",
   "id": "polish-present",
   "metadata": {},
   "source": [
    "### 切片"
   ]
  },
  {
   "cell_type": "markdown",
   "id": "harmful-startup",
   "metadata": {},
   "source": [
    "[] 运算符里还可以使用以逗号分开的多个索引或者是切片，外部库 NumPy 里就用到了这 个特性。"
   ]
  },
  {
   "cell_type": "code",
   "execution_count": 36,
   "id": "extreme-particular",
   "metadata": {},
   "outputs": [
    {
     "data": {
      "text/plain": [
       "[3, 4, 5]"
      ]
     },
     "execution_count": 36,
     "metadata": {},
     "output_type": "execute_result"
    }
   ],
   "source": [
    "l = list(range(10))\n",
    "l[3:6]"
   ]
  },
  {
   "cell_type": "code",
   "execution_count": 30,
   "id": "little-invasion",
   "metadata": {},
   "outputs": [
    {
     "data": {
      "text/plain": [
       "slice(1, 10, 2)"
      ]
     },
     "execution_count": 30,
     "metadata": {},
     "output_type": "execute_result"
    }
   ],
   "source": [
    "slice(1, 10, 2)"
   ]
  },
  {
   "cell_type": "markdown",
   "id": "valid-manhattan",
   "metadata": {},
   "source": [
    "#### 切片赋值"
   ]
  },
  {
   "cell_type": "code",
   "execution_count": 31,
   "id": "little-stranger",
   "metadata": {},
   "outputs": [
    {
     "data": {
      "text/plain": [
       "[0, 1, 2, 3, 4, 5, 6, 7, 8, 9]"
      ]
     },
     "execution_count": 31,
     "metadata": {},
     "output_type": "execute_result"
    }
   ],
   "source": [
    "l = list(range(10))\n",
    "l"
   ]
  },
  {
   "cell_type": "code",
   "execution_count": 33,
   "id": "formal-operations",
   "metadata": {},
   "outputs": [
    {
     "data": {
      "text/plain": [
       "[0, 1, 20, 30, 6, 7, 8, 9]"
      ]
     },
     "execution_count": 33,
     "metadata": {},
     "output_type": "execute_result"
    }
   ],
   "source": [
    "l[2:5] = [20, 30]\n",
    "l"
   ]
  },
  {
   "cell_type": "markdown",
   "id": "about-looking",
   "metadata": {},
   "source": [
    "### list.sort方法和内置函数sorted"
   ]
  },
  {
   "cell_type": "markdown",
   "id": "surface-ballot",
   "metadata": {},
   "source": [
    "list.sort 方法会就地排序列表，与 list.sort 相反的是内置函数 sorted，它会新建一个列表作为返回值"
   ]
  },
  {
   "cell_type": "markdown",
   "id": "computational-niagara",
   "metadata": {},
   "source": [
    "## 字典和集合"
   ]
  },
  {
   "cell_type": "markdown",
   "id": "chicken-kingston",
   "metadata": {},
   "source": [
    "dict类型是Python语言的基石。模块的命名空间、实例的属性和函数关键字参数都可以看到dict的身影。"
   ]
  },
  {
   "cell_type": "markdown",
   "id": "external-portfolio",
   "metadata": {},
   "source": [
    "![](http://processon.com/chart_image/6178fa067d9c08459fb6c1f3.png)"
   ]
  },
  {
   "cell_type": "markdown",
   "id": "dramatic-operations",
   "metadata": {},
   "source": [
    "标准库里的所有映射类型都使用dict来实现的，**只有可散列的类型才能作为映射的健**。"
   ]
  },
  {
   "cell_type": "markdown",
   "id": "handed-indication",
   "metadata": {},
   "source": [
    "什么是可散列的数据类型？"
   ]
  },
  {
   "cell_type": "markdown",
   "id": "unnecessary-edgar",
   "metadata": {},
   "source": [
    "如果一个对象是可散列的，那么在这个对象的生命周期内，它的散列值是不变的，而且这个对象要实现`__hash__`方法。另外可散列对象还要有`__eq__`方法，这样才能跟其他健比较。如果两个可散列对象是相等的，那么它们的散列值一定是一样的。"
   ]
  },
  {
   "cell_type": "markdown",
   "id": "cooked-found",
   "metadata": {},
   "source": [
    "> https://docs.python.org/3/glossary.html#term-hashable"
   ]
  },
  {
   "cell_type": "markdown",
   "id": "brutal-firmware",
   "metadata": {},
   "source": [
    "原子不可变数据类型（str、bytes和数值类型）是可散列的，frozenset也是可散列的。"
   ]
  },
  {
   "cell_type": "markdown",
   "id": "exterior-optimum",
   "metadata": {},
   "source": [
    "### 字典推导"
   ]
  },
  {
   "cell_type": "markdown",
   "id": "outer-tampa",
   "metadata": {},
   "source": [
    "dict comprehension."
   ]
  },
  {
   "cell_type": "markdown",
   "id": "bright-clearing",
   "metadata": {},
   "source": [
    "字典推导(dictcomp)可以从任何以键值对作为元素的可迭 代对象中构建出字典。"
   ]
  },
  {
   "cell_type": "code",
   "execution_count": 6,
   "id": "modular-questionnaire",
   "metadata": {},
   "outputs": [
    {
     "name": "stdout",
     "output_type": "stream",
     "text": [
      "{\"86\": \"China\", \"91\": \"India\", \"1\": \"United States\"}\n"
     ]
    }
   ],
   "source": [
    "import json\n",
    "\n",
    "\n",
    "DIAL_CODES = [(86, 'China'), (91, 'India'),  (1, 'United States')]\n",
    "\n",
    "country_codes = {code: country for code, country in DIAL_CODES}\n",
    "print(json.dumps(country_codes, ensure_ascii=False))"
   ]
  },
  {
   "cell_type": "markdown",
   "id": "guided-affair",
   "metadata": {},
   "source": [
    "### defaultdict处理健值找不到的情况"
   ]
  },
  {
   "cell_type": "code",
   "execution_count": 7,
   "id": "touched-directory",
   "metadata": {},
   "outputs": [],
   "source": [
    "import collections"
   ]
  },
  {
   "cell_type": "code",
   "execution_count": 8,
   "id": "preceding-albert",
   "metadata": {},
   "outputs": [],
   "source": [
    "dd = collections.defaultdict(list)"
   ]
  },
  {
   "cell_type": "code",
   "execution_count": 9,
   "id": "adolescent-julian",
   "metadata": {},
   "outputs": [
    {
     "data": {
      "text/plain": [
       "[]"
      ]
     },
     "execution_count": 9,
     "metadata": {},
     "output_type": "execute_result"
    }
   ],
   "source": [
    "dd['key']"
   ]
  },
  {
   "cell_type": "markdown",
   "id": "beginning-notion",
   "metadata": {},
   "source": [
    "### 特殊的方法`__missing__`"
   ]
  },
  {
   "cell_type": "markdown",
   "id": "harmful-reconstruction",
   "metadata": {},
   "source": [
    "如果一个类继承了`dict`，然后这个继承类提供了`__missing__`方法，那么在`__getitem__`碰到找不到健的时候，Python会自动调用它，而不是抛出一个KeyError的遗产。"
   ]
  },
  {
   "cell_type": "markdown",
   "id": "checked-plane",
   "metadata": {},
   "source": [
    "> `__missing__`只会被`__getitem__`调用，对get或`__contains__`方法没有影响。"
   ]
  },
  {
   "cell_type": "code",
   "execution_count": 13,
   "id": "incredible-orlando",
   "metadata": {},
   "outputs": [
    {
     "name": "stdout",
     "output_type": "stream",
     "text": [
      "Call __missing__ method\n"
     ]
    }
   ],
   "source": [
    "class MyDict(dict):\n",
    "    \n",
    "    def __missing__(self, key):\n",
    "        print('Call __missing__ method')\n",
    "\n",
    "\n",
    "o = MyDict()\n",
    "o['key']"
   ]
  },
  {
   "cell_type": "markdown",
   "id": "organized-boundary",
   "metadata": {},
   "source": [
    "### 字典的变种"
   ]
  },
  {
   "cell_type": "markdown",
   "id": "sunset-scott",
   "metadata": {},
   "source": [
    "* `collections.OrderDict`\n",
    "* `collections.ChainMap`\n",
    "* `collections.Counter`"
   ]
  },
  {
   "cell_type": "markdown",
   "id": "amateur-prefix",
   "metadata": {},
   "source": [
    "### 不可变的映射类型"
   ]
  },
  {
   "cell_type": "markdown",
   "id": "statistical-barcelona",
   "metadata": {},
   "source": [
    "types 模块中引入了一个封装类名叫 MappingProxyType。如果给这个类 一个映射，它会返回一个只读的映射视图。虽然是个只读视图，但是它是动态的。这意味 着如果对原映射做出了改动，我们通过这个视图可以观察到，但是无法通过这个视图对原 映射做出修改。"
   ]
  },
  {
   "cell_type": "code",
   "execution_count": 14,
   "id": "muslim-outdoors",
   "metadata": {},
   "outputs": [],
   "source": [
    "from types import MappingProxyType"
   ]
  },
  {
   "cell_type": "code",
   "execution_count": 15,
   "id": "bearing-drove",
   "metadata": {},
   "outputs": [],
   "source": [
    "d = {'key': 'value'}"
   ]
  },
  {
   "cell_type": "code",
   "execution_count": 16,
   "id": "hollywood-litigation",
   "metadata": {},
   "outputs": [],
   "source": [
    "d_proxy = MappingProxyType(d)"
   ]
  },
  {
   "cell_type": "code",
   "execution_count": 17,
   "id": "grand-suicide",
   "metadata": {},
   "outputs": [
    {
     "data": {
      "text/plain": [
       "'value'"
      ]
     },
     "execution_count": 17,
     "metadata": {},
     "output_type": "execute_result"
    }
   ],
   "source": [
    "d_proxy['key']"
   ]
  },
  {
   "cell_type": "markdown",
   "id": "devoted-custody",
   "metadata": {},
   "source": [
    "\n",
    "抛出异常\n",
    "\n",
    "```python\n",
    "# d_proxy['key'] = 'value'\n",
    "\n",
    "---------------------------------------------------------------------------\n",
    "TypeError                                 Traceback (most recent call last)\n",
    "<ipython-input-18-3bfdada09354> in <module>()\n",
    "----> 1 d_proxy['key'] = 'value'\n",
    "\n",
    "TypeError: 'mappingproxy' object does not support item assignment\n",
    "\n",
    "\n",
    "```"
   ]
  },
  {
   "cell_type": "markdown",
   "id": "after-right",
   "metadata": {},
   "source": [
    "## 文本和字符序列"
   ]
  },
  {
   "cell_type": "markdown",
   "id": "gorgeous-weekend",
   "metadata": {},
   "source": [
    "### 了解编解码问题"
   ]
  },
  {
   "cell_type": "markdown",
   "id": "structural-neighborhood",
   "metadata": {},
   "source": [
    "虽然有个一般性的 UnicodeError 异常，但是报告错误时几乎都会指明具体的异常: \n",
    "* UnicodeEncodeError(把字符串转换成二进制序列时)\n",
    "* UnicodeDecodeError(把二进制序列转换成字符串时)"
   ]
  }
 ],
 "metadata": {
  "kernelspec": {
   "display_name": "Python 3",
   "language": "python",
   "name": "python3"
  },
  "language_info": {
   "codemirror_mode": {
    "name": "ipython",
    "version": 3
   },
   "file_extension": ".py",
   "mimetype": "text/x-python",
   "name": "python",
   "nbconvert_exporter": "python",
   "pygments_lexer": "ipython3",
   "version": "3.7.10"
  },
  "toc": {
   "base_numbering": 1,
   "nav_menu": {},
   "number_sections": true,
   "sideBar": true,
   "skip_h1_title": false,
   "title_cell": "Table of Contents",
   "title_sidebar": "Contents",
   "toc_cell": false,
   "toc_position": {
    "height": "calc(100% - 180px)",
    "left": "10px",
    "top": "150px",
    "width": "325.817px"
   },
   "toc_section_display": true,
   "toc_window_display": true
  }
 },
 "nbformat": 4,
 "nbformat_minor": 5
}

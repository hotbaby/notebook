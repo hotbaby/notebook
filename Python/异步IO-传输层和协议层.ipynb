{
 "cells": [
  {
   "cell_type": "markdown",
   "id": "dd25147f",
   "metadata": {},
   "source": [
    "# 异步IO-传输层和协议层"
   ]
  },
  {
   "cell_type": "markdown",
   "id": "91a586c1",
   "metadata": {},
   "source": [
    "## 参考文献"
   ]
  },
  {
   "cell_type": "markdown",
   "id": "43c45f2b",
   "metadata": {},
   "source": [
    "* https://docs.python.org/3/library/asyncio-protocol.html"
   ]
  },
  {
   "cell_type": "markdown",
   "id": "ad785e98",
   "metadata": {},
   "source": [
    "```\n",
    "At the highest level, the transport is concerned with how bytes are transmitted, while the protocol determines which bytes to transmit (and to some extent when).\n",
    "\n",
    "A different way of saying the same thing: a transport is an abstraction for a socket (or similar I/O endpoint) while a protocol is an abstraction for an application, from the transport’s point of view.\n",
    "\n",
    "Yet another view is the transport and protocol interfaces together define an abstract interface for using network I/O and interprocess I/O.\n",
    "\n",
    "There is always a 1:1 relationship between transport and protocol objects: the protocol calls transport methods to send data, while the transport calls protocol methods to pass it data that has been received.\n",
    "```\n"
   ]
  },
  {
   "cell_type": "markdown",
   "id": "c8d985e4",
   "metadata": {},
   "source": [
    "* 从更高的level看，传输层关心的是byte如何传输，协议层哪些byte可以传输；\n",
    "* 换一种表达方式，传输层是socket的抽象，协议层是应用的抽象；\n",
    "* 从另外一个角度看，传输层和协议层接口一起定义了网络IO的抽象接口；\n",
    "* 传输层和协议层的关系，协议层调用传输层接口发送数据，传输层调用协议层接口把收到数据传输到应用。"
   ]
  },
  {
   "cell_type": "markdown",
   "id": "f0428be2",
   "metadata": {},
   "source": [
    "## 代码示例"
   ]
  },
  {
   "cell_type": "markdown",
   "id": "0b8d72bf",
   "metadata": {},
   "source": [
    "### Echo TCP Server"
   ]
  },
  {
   "cell_type": "code",
   "execution_count": 1,
   "id": "14136c1a",
   "metadata": {},
   "outputs": [],
   "source": [
    "# encoding: utf8\n",
    "\n",
    "import asyncio\n",
    "from asyncio import transports\n",
    "from asyncio import AbstractServer\n",
    "\n",
    "\n",
    "class EchoServerProtocol(asyncio.Protocol):\n",
    "\n",
    "    def connection_made(self, transport: transports.BaseTransport) -> None:\n",
    "        peer_name = transport.get_extra_info('peername')\n",
    "        print(f'Connection from {peer_name}')\n",
    "        self.transport = transport  # type: transports.BaseTransport\n",
    "\n",
    "    def data_received(self, data: bytes) -> None:\n",
    "        message = data.decode()\n",
    "        print(f'Data received: {message}')\n",
    "\n",
    "        print(f'Send {message}')\n",
    "        self.transport.write(data)\n",
    "\n",
    "        print('Close the client socket')\n",
    "        self.transport.close()\n",
    "\n",
    "\n",
    "async def main():\n",
    "    loop = asyncio.get_event_loop()\n",
    "\n",
    "    server = await loop.create_server(lambda: EchoServerProtocol(), \n",
    "                                      host='127.0.0.1', port=9999)  # type: AbstractServer\n",
    "\n",
    "    async with server:\n",
    "        await server.serve_forever()\n",
    "\n",
    "\n",
    "# if __name__ == '__main__':\n",
    "#     asyncio.run(main())\n"
   ]
  },
  {
   "cell_type": "markdown",
   "id": "d39b9f55",
   "metadata": {},
   "source": [
    "### Echo TCP Client"
   ]
  },
  {
   "cell_type": "code",
   "execution_count": 2,
   "id": "801970fa",
   "metadata": {},
   "outputs": [],
   "source": [
    "# encoding: utf8\n",
    "\n",
    "import asyncio\n",
    "from asyncio import Transport\n",
    "from asyncio import Future\n",
    "\n",
    "\n",
    "class EchoServerProtocol(asyncio.Protocol):\n",
    "\n",
    "    def __init__(self, message: str, on_conn_lost: Future):\n",
    "        self.message = message\n",
    "        self.on_conn_lost = on_conn_lost\n",
    "\n",
    "    def connection_made(self, transport: Transport) -> None:\n",
    "        transport.write(self.message.encode())\n",
    "        print(f'Data sent: {self.message}')\n",
    "\n",
    "    def data_received(self, data: bytes) -> None:\n",
    "        print(f'Data received: {data.decode()}')\n",
    "\n",
    "    def connection_lost(self, exc: Exception) -> None:\n",
    "        print('The server close the connection')\n",
    "        self.on_conn_lost.set_result(True)\n",
    "\n",
    "\n",
    "async def main():\n",
    "    loop = asyncio.get_event_loop()\n",
    "\n",
    "    on_conn_lost = loop.create_future()     # type: asyncio.Future\n",
    "    message = 'Hello World!'\n",
    "\n",
    "    transport, protocol = await loop.create_connection(lambda: EchoServerProtocol(message, on_conn_lost),\n",
    "                                                       host='127.0.0.1', port=9999)\n",
    "\n",
    "    try:\n",
    "        await on_conn_lost\n",
    "    finally:\n",
    "        transport.close()\n",
    "\n",
    "\n",
    "# if __name__ == '__main__':\n",
    "#     asyncio.run(main())\n"
   ]
  }
 ],
 "metadata": {
  "kernelspec": {
   "display_name": "Python 3",
   "language": "python",
   "name": "python3"
  },
  "language_info": {
   "codemirror_mode": {
    "name": "ipython",
    "version": 3
   },
   "file_extension": ".py",
   "mimetype": "text/x-python",
   "name": "python",
   "nbconvert_exporter": "python",
   "pygments_lexer": "ipython3",
   "version": "3.7.10"
  },
  "toc": {
   "base_numbering": 1,
   "nav_menu": {},
   "number_sections": true,
   "sideBar": true,
   "skip_h1_title": false,
   "title_cell": "Table of Contents",
   "title_sidebar": "Contents",
   "toc_cell": false,
   "toc_position": {
    "height": "calc(100% - 180px)",
    "left": "10px",
    "top": "150px",
    "width": "252.827px"
   },
   "toc_section_display": true,
   "toc_window_display": true
  }
 },
 "nbformat": 4,
 "nbformat_minor": 5
}

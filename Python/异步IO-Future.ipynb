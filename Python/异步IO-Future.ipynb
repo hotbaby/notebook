{
 "cells": [
  {
   "cell_type": "markdown",
   "id": "8346063a",
   "metadata": {},
   "source": [
    "# 异步IO-Future"
   ]
  },
  {
   "cell_type": "markdown",
   "id": "f3f4d607",
   "metadata": {},
   "source": [
    "## 参考文献"
   ]
  },
  {
   "cell_type": "markdown",
   "id": "10ead3c8",
   "metadata": {},
   "source": [
    "* *https://docs.python.org/3/library/asyncio-future.html*"
   ]
  },
  {
   "cell_type": "markdown",
   "id": "ab7f2407",
   "metadata": {},
   "source": [
    "## 代码示例"
   ]
  },
  {
   "cell_type": "code",
   "execution_count": 1,
   "id": "253c0612",
   "metadata": {},
   "outputs": [],
   "source": [
    "# encoding: utf8\n",
    "\n",
    "import asyncio\n",
    "\n",
    "from typing import Any\n",
    "\n",
    "\n",
    "async def set_after(future: asyncio.Future, delay: int, value: Any) -> None:\n",
    "    await asyncio.sleep(delay)\n",
    "\n",
    "    future.set_result(value)\n",
    "\n",
    "\n",
    "async def main():\n",
    "    loop = asyncio.get_event_loop()\n",
    "    future = loop.create_future()\n",
    "\n",
    "    loop.create_task(set_after(future, 3, '... world'))\n",
    "\n",
    "    print('hello ...')\n",
    "    result = await future\n",
    "    print(result)\n",
    "\n",
    "\n",
    "# if __name__ == '__main__':\n",
    "#     asyncio.run(main())\n"
   ]
  }
 ],
 "metadata": {
  "kernelspec": {
   "display_name": "Python 3",
   "language": "python",
   "name": "python3"
  },
  "language_info": {
   "codemirror_mode": {
    "name": "ipython",
    "version": 3
   },
   "file_extension": ".py",
   "mimetype": "text/x-python",
   "name": "python",
   "nbconvert_exporter": "python",
   "pygments_lexer": "ipython3",
   "version": "3.7.10"
  },
  "toc": {
   "base_numbering": 1,
   "nav_menu": {},
   "number_sections": true,
   "sideBar": true,
   "skip_h1_title": false,
   "title_cell": "Table of Contents",
   "title_sidebar": "Contents",
   "toc_cell": false,
   "toc_position": {},
   "toc_section_display": true,
   "toc_window_display": false
  }
 },
 "nbformat": 4,
 "nbformat_minor": 5
}

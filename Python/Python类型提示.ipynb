{
 "cells": [
  {
   "cell_type": "markdown",
   "id": "directed-belfast",
   "metadata": {},
   "source": [
    "# Python类型提示"
   ]
  },
  {
   "cell_type": "markdown",
   "id": "activated-laser",
   "metadata": {},
   "source": [
    "## 参考文献"
   ]
  },
  {
   "cell_type": "markdown",
   "id": "light-colombia",
   "metadata": {},
   "source": [
    "* https://sikasjc.github.io/2018/07/14/type-hint-in-python/\n",
    "* https://docs.python.org/3/library/typing.html\n",
    "* [Python PEP483 The Theory of Type Hints](https://www.python.org/dev/peps/pep-0483/)\n",
    "* [Python PEP484 Type Hints](https://www.python.org/dev/peps/pep-0484/)"
   ]
  }
 ],
 "metadata": {
  "kernelspec": {
   "display_name": "Python 3",
   "language": "python",
   "name": "python3"
  },
  "language_info": {
   "codemirror_mode": {
    "name": "ipython",
    "version": 3
   },
   "file_extension": ".py",
   "mimetype": "text/x-python",
   "name": "python",
   "nbconvert_exporter": "python",
   "pygments_lexer": "ipython3",
   "version": "3.7.9"
  },
  "toc": {
   "base_numbering": 1,
   "nav_menu": {},
   "number_sections": true,
   "sideBar": true,
   "skip_h1_title": false,
   "title_cell": "Table of Contents",
   "title_sidebar": "Contents",
   "toc_cell": false,
   "toc_position": {},
   "toc_section_display": true,
   "toc_window_display": false
  }
 },
 "nbformat": 4,
 "nbformat_minor": 5
}

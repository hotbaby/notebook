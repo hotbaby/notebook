{
 "cells": [
  {
   "cell_type": "markdown",
   "id": "27060e0b",
   "metadata": {},
   "source": [
    "# 异步IO-Stream"
   ]
  },
  {
   "cell_type": "markdown",
   "id": "705a9915",
   "metadata": {},
   "source": [
    "## 参考文献"
   ]
  },
  {
   "cell_type": "markdown",
   "id": "d3a8fae8",
   "metadata": {},
   "source": [
    "* https://docs.python.org/3/library/asyncio-stream.html"
   ]
  },
  {
   "cell_type": "markdown",
   "id": "cf22777c",
   "metadata": {},
   "source": [
    "## 代码示例"
   ]
  },
  {
   "cell_type": "markdown",
   "id": "270534f7",
   "metadata": {},
   "source": [
    "### Echo Server"
   ]
  },
  {
   "cell_type": "code",
   "execution_count": 2,
   "id": "795a0864",
   "metadata": {},
   "outputs": [],
   "source": [
    "# encoding: utf8\n",
    "\n",
    "import asyncio\n",
    "\n",
    "\n",
    "async def handle_echo(reader: asyncio.StreamReader, writer: asyncio.StreamWriter):\n",
    "    data = await reader.read(100)\n",
    "    message = data.decode()\n",
    "    addr = writer.get_extra_info('peername')\n",
    "    print(f'Received {message!r} from {addr!r}')\n",
    "\n",
    "    print(f'Send {message}')\n",
    "    writer.write(message.encode())\n",
    "    await writer.drain()\n",
    "\n",
    "    print(f'Close connection')\n",
    "    writer.close()\n",
    "\n",
    "\n",
    "async def main():\n",
    "    server = await asyncio.start_server(handle_echo, '127.0.0.1', 9999)   # type: asyncio.Server\n",
    "    addrs = ', '.join(str(sock.getsockname()) for sock in server.sockets)\n",
    "    print(f'Serving on {addrs}')\n",
    "\n",
    "    async with server:\n",
    "        await server.serve_forever()\n",
    "\n",
    "\n",
    "# if __name__ == '__main__':\n",
    "#     asyncio.run(main())\n"
   ]
  },
  {
   "cell_type": "markdown",
   "id": "67ad6033",
   "metadata": {},
   "source": [
    "### Echo Client"
   ]
  },
  {
   "cell_type": "code",
   "execution_count": 3,
   "id": "53a0f500",
   "metadata": {},
   "outputs": [],
   "source": [
    "# encoding: utf8\n",
    "\n",
    "import asyncio\n",
    "\n",
    "\n",
    "async def tcp_echo_client(message: str):\n",
    "    reader, writer = await asyncio.open_connection('127.0.0.1', 9999)     # type: asyncio.StreamReader, asyncio.StreamWriter\n",
    "    print(f'Send {message}')\n",
    "    writer.write(message.encode())\n",
    "\n",
    "    data = await reader.read(100)\n",
    "    print(f'Received {data.decode()}')\n",
    "\n",
    "    print(f'Close connection')\n",
    "    writer.close()\n",
    "\n",
    "\n",
    "# if __name__ == '__main__':\n",
    "#     asyncio.run(tcp_echo_client('Hello World!'))\n"
   ]
  }
 ],
 "metadata": {
  "kernelspec": {
   "display_name": "Python 3",
   "language": "python",
   "name": "python3"
  },
  "language_info": {
   "codemirror_mode": {
    "name": "ipython",
    "version": 3
   },
   "file_extension": ".py",
   "mimetype": "text/x-python",
   "name": "python",
   "nbconvert_exporter": "python",
   "pygments_lexer": "ipython3",
   "version": "3.7.10"
  },
  "toc": {
   "base_numbering": 1,
   "nav_menu": {},
   "number_sections": true,
   "sideBar": true,
   "skip_h1_title": false,
   "title_cell": "Table of Contents",
   "title_sidebar": "Contents",
   "toc_cell": false,
   "toc_position": {},
   "toc_section_display": true,
   "toc_window_display": false
  }
 },
 "nbformat": 4,
 "nbformat_minor": 5
}

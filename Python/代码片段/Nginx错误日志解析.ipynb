{
 "cells": [
  {
   "cell_type": "markdown",
   "id": "5d3f03f8",
   "metadata": {},
   "source": [
    "# Nginx错误日志分析"
   ]
  },
  {
   "cell_type": "markdown",
   "id": "f8d17679",
   "metadata": {},
   "source": [
    "## 加载、解析数据"
   ]
  },
  {
   "cell_type": "code",
   "execution_count": 1,
   "id": "77c3d390",
   "metadata": {},
   "outputs": [],
   "source": [
    "# encoding: utf8\n",
    "\n",
    "import os\n",
    "import re\n",
    "import json\n",
    "import logging\n",
    "import datetime\n",
    "from typing import Dict, List\n",
    "\n",
    "logging.basicConfig(format=logging.BASIC_FORMAT, level=logging.INFO)\n",
    "\n",
    "logger = logging.getLogger()\n",
    "\n",
    "# nginx error 格式：YYYY/MM/DD HH:MM:SS [LEVEL] PID#TID: *CID MESSAGE\n",
    "# PID: 进程ID\n",
    "# TID: 线程ID\n",
    "# CID: 连接connection标识\n",
    "pattern = re.compile('(\\d{4}/\\d{2}/\\d{2} \\d{2}:\\d{2}:\\d{2})\\ \\[(.+)\\] (\\d+)#(\\d+): \\*(\\d+) (.*)')\n",
    "\n",
    "\n",
    "def parse_error_log_line(line: str) -> Dict:\n",
    "    if not pattern.match(line):\n",
    "        logger.warning(f'log: {line} parse error!')\n",
    "        return\n",
    "\n",
    "    items = pattern.findall(line)[0]\n",
    "    record = dict(zip(('time', 'level', 'pid', 'tid', 'cid', 'message'), items))\n",
    "    message = record['message']\n",
    "    message = list(map(str.strip, message.split(',')))\n",
    "    record['message'] = message[0]\n",
    "    for item in message[1:]:\n",
    "        k, *v = list(item.split(':'))\n",
    "        record[k] = ''.join(v).strip()\n",
    "\n",
    "    # tm_str = record['time']\n",
    "    # record['time'] = datetime.datetime.strptime(tm_str, '%Y/%m/%d %H:%M:%S')\n",
    "\n",
    "    return record\n",
    "\n",
    "\n",
    "def parse_error_log_file(file_path: str) -> List[Dict]:\n",
    "    records = []\n",
    "\n",
    "    with open(file_path) as f:\n",
    "        for line in f.readlines():\n",
    "            records.append(parse_error_log_line(line))\n",
    "\n",
    "    return records\n",
    "\n",
    "\n",
    "def parse_error_log_dir(file_path_dir: str) -> List[Dict]:\n",
    "    records = []\n",
    "\n",
    "    for root, dirs, files in os.walk(file_path_dir):\n",
    "        for path in files:\n",
    "            file_path = os.path.join(root, path)\n",
    "            records.extend(parse_error_log_file(file_path))\n",
    "\n",
    "    return sorted(records, key=lambda x: x['time'])\n"
   ]
  },
  {
   "cell_type": "code",
   "execution_count": 2,
   "id": "cec2c3bc",
   "metadata": {},
   "outputs": [],
   "source": [
    "nginx_error_log_path = '/Users/hotbaby/hengchang/nginx-logs'"
   ]
  },
  {
   "cell_type": "code",
   "execution_count": 3,
   "id": "6ded1fef",
   "metadata": {},
   "outputs": [],
   "source": [
    "records = parse_error_log_dir(nginx_error_log_path)"
   ]
  },
  {
   "cell_type": "markdown",
   "id": "ebb40ec4",
   "metadata": {},
   "source": [
    "分析数据的时间范围"
   ]
  },
  {
   "cell_type": "code",
   "execution_count": 4,
   "id": "32bfa8a7",
   "metadata": {},
   "outputs": [
    {
     "name": "stdout",
     "output_type": "stream",
     "text": [
      "start time: 2022/01/22 03:08:03, end time: 2022/01/28 03:21:00\n"
     ]
    }
   ],
   "source": [
    "print(f\"start time: {records[0]['time']}, end time: {records[-1]['time']}\")"
   ]
  },
  {
   "cell_type": "markdown",
   "id": "4a931170",
   "metadata": {},
   "source": [
    "数据示例"
   ]
  },
  {
   "cell_type": "code",
   "execution_count": 5,
   "id": "6e0108ac",
   "metadata": {},
   "outputs": [
    {
     "name": "stdout",
     "output_type": "stream",
     "text": [
      "{\n",
      "    \"time\": \"2022/01/22 03:08:03\",\n",
      "    \"level\": \"error\",\n",
      "    \"pid\": \"15691\",\n",
      "    \"tid\": \"0\",\n",
      "    \"cid\": \"567380300\",\n",
      "    \"message\": \"upstream timed out (110: Connection timed out) while reading response header from upstream\",\n",
      "    \"client\": \"10.100.251.243\",\n",
      "    \"server\": \"default_server\",\n",
      "    \"request\": \"\\\"POST /api/v1/sdc/zcdf/query HTTP/1.1\\\"\",\n",
      "    \"upstream\": \"\\\"http//10.100.31.24131080/api/v1/sdc/zcdf/query\\\"\",\n",
      "    \"host\": \"\\\"api.bdp.credithc.com\\\"\"\n",
      "}\n"
     ]
    }
   ],
   "source": [
    "print(json.dumps(records[0], indent=4, ensure_ascii=False))"
   ]
  },
  {
   "cell_type": "markdown",
   "id": "7163d27a",
   "metadata": {},
   "source": [
    "## 分析、统计数据"
   ]
  },
  {
   "cell_type": "markdown",
   "id": "ba55caca",
   "metadata": {},
   "source": [
    "### 数据示例"
   ]
  },
  {
   "cell_type": "code",
   "execution_count": 6,
   "id": "fe4ac7bd",
   "metadata": {},
   "outputs": [],
   "source": [
    "import pandas as pd"
   ]
  },
  {
   "cell_type": "code",
   "execution_count": 7,
   "id": "abd68b46",
   "metadata": {},
   "outputs": [],
   "source": [
    "pd.set_option('display.max_columns', None)\n",
    "pd.set_option('display.max_rows', None)\n",
    "pd.set_option('display.expand_frame_repr', False)\n",
    "pd.set_option('display.max_colwidth', 100)"
   ]
  },
  {
   "cell_type": "code",
   "execution_count": 8,
   "id": "549056df",
   "metadata": {},
   "outputs": [],
   "source": [
    "df = pd.DataFrame.from_records(records)"
   ]
  },
  {
   "cell_type": "markdown",
   "id": "a8ba5d9a",
   "metadata": {},
   "source": [
    "数据预处理"
   ]
  },
  {
   "cell_type": "code",
   "execution_count": 9,
   "id": "e06ce862",
   "metadata": {},
   "outputs": [],
   "source": [
    "df['tm_str'] = df['time']\n",
    "df['datetime'] = pd.to_datetime(df['time'])\n",
    "df['date'] = df['datetime'].dt.date\n",
    "df['time'] = df['datetime'].dt.time"
   ]
  },
  {
   "cell_type": "markdown",
   "id": "7d241dbf",
   "metadata": {},
   "source": [
    "数据示例"
   ]
  },
  {
   "cell_type": "code",
   "execution_count": 10,
   "id": "2006e267",
   "metadata": {},
   "outputs": [],
   "source": [
    "columns = ['datetime', 'level', 'pid', 'tid', 'cid', 'message', 'client', 'server', 'request', 'upstream', 'host']"
   ]
  },
  {
   "cell_type": "code",
   "execution_count": 11,
   "id": "292280f3",
   "metadata": {},
   "outputs": [
    {
     "data": {
      "text/html": [
       "<div>\n",
       "<style scoped>\n",
       "    .dataframe tbody tr th:only-of-type {\n",
       "        vertical-align: middle;\n",
       "    }\n",
       "\n",
       "    .dataframe tbody tr th {\n",
       "        vertical-align: top;\n",
       "    }\n",
       "\n",
       "    .dataframe thead th {\n",
       "        text-align: right;\n",
       "    }\n",
       "</style>\n",
       "<table border=\"1\" class=\"dataframe\">\n",
       "  <thead>\n",
       "    <tr style=\"text-align: right;\">\n",
       "      <th></th>\n",
       "      <th>0</th>\n",
       "    </tr>\n",
       "  </thead>\n",
       "  <tbody>\n",
       "    <tr>\n",
       "      <th>datetime</th>\n",
       "      <td>2022-01-22 03:08:03</td>\n",
       "    </tr>\n",
       "    <tr>\n",
       "      <th>level</th>\n",
       "      <td>error</td>\n",
       "    </tr>\n",
       "    <tr>\n",
       "      <th>pid</th>\n",
       "      <td>15691</td>\n",
       "    </tr>\n",
       "    <tr>\n",
       "      <th>tid</th>\n",
       "      <td>0</td>\n",
       "    </tr>\n",
       "    <tr>\n",
       "      <th>cid</th>\n",
       "      <td>567380300</td>\n",
       "    </tr>\n",
       "    <tr>\n",
       "      <th>message</th>\n",
       "      <td>upstream timed out (110: Connection timed out) while reading response header from upstream</td>\n",
       "    </tr>\n",
       "    <tr>\n",
       "      <th>client</th>\n",
       "      <td>10.100.251.243</td>\n",
       "    </tr>\n",
       "    <tr>\n",
       "      <th>server</th>\n",
       "      <td>default_server</td>\n",
       "    </tr>\n",
       "    <tr>\n",
       "      <th>request</th>\n",
       "      <td>\"POST /api/v1/sdc/zcdf/query HTTP/1.1\"</td>\n",
       "    </tr>\n",
       "    <tr>\n",
       "      <th>upstream</th>\n",
       "      <td>\"http//10.100.31.24131080/api/v1/sdc/zcdf/query\"</td>\n",
       "    </tr>\n",
       "    <tr>\n",
       "      <th>host</th>\n",
       "      <td>\"api.bdp.credithc.com\"</td>\n",
       "    </tr>\n",
       "  </tbody>\n",
       "</table>\n",
       "</div>"
      ],
      "text/plain": [
       "                                                                                                   0\n",
       "datetime                                                                         2022-01-22 03:08:03\n",
       "level                                                                                          error\n",
       "pid                                                                                            15691\n",
       "tid                                                                                                0\n",
       "cid                                                                                        567380300\n",
       "message   upstream timed out (110: Connection timed out) while reading response header from upstream\n",
       "client                                                                                10.100.251.243\n",
       "server                                                                                default_server\n",
       "request                                                       \"POST /api/v1/sdc/zcdf/query HTTP/1.1\"\n",
       "upstream                                            \"http//10.100.31.24131080/api/v1/sdc/zcdf/query\"\n",
       "host                                                                          \"api.bdp.credithc.com\""
      ]
     },
     "execution_count": 11,
     "metadata": {},
     "output_type": "execute_result"
    }
   ],
   "source": [
    "df[columns].head(1).T"
   ]
  },
  {
   "cell_type": "markdown",
   "id": "6f42e82a",
   "metadata": {},
   "source": [
    "### 每天错误统计"
   ]
  },
  {
   "cell_type": "code",
   "execution_count": 12,
   "id": "0fbeb3a0",
   "metadata": {},
   "outputs": [],
   "source": [
    "tmp_df = df[['date', 'pid']].groupby('date').count()\n",
    "tmp_df = tmp_df.reset_index()\n",
    "tmp_df.columns = ['日期', '错误数量']\n",
    "day_error_stats = tmp_df"
   ]
  },
  {
   "cell_type": "code",
   "execution_count": 13,
   "id": "9f2f9477",
   "metadata": {},
   "outputs": [
    {
     "data": {
      "text/html": [
       "<div>\n",
       "<style scoped>\n",
       "    .dataframe tbody tr th:only-of-type {\n",
       "        vertical-align: middle;\n",
       "    }\n",
       "\n",
       "    .dataframe tbody tr th {\n",
       "        vertical-align: top;\n",
       "    }\n",
       "\n",
       "    .dataframe thead th {\n",
       "        text-align: right;\n",
       "    }\n",
       "</style>\n",
       "<table border=\"1\" class=\"dataframe\">\n",
       "  <thead>\n",
       "    <tr style=\"text-align: right;\">\n",
       "      <th></th>\n",
       "      <th>日期</th>\n",
       "      <th>错误数量</th>\n",
       "    </tr>\n",
       "  </thead>\n",
       "  <tbody>\n",
       "    <tr>\n",
       "      <th>0</th>\n",
       "      <td>2022-01-22</td>\n",
       "      <td>1630</td>\n",
       "    </tr>\n",
       "    <tr>\n",
       "      <th>1</th>\n",
       "      <td>2022-01-23</td>\n",
       "      <td>1797</td>\n",
       "    </tr>\n",
       "    <tr>\n",
       "      <th>2</th>\n",
       "      <td>2022-01-24</td>\n",
       "      <td>1901</td>\n",
       "    </tr>\n",
       "    <tr>\n",
       "      <th>3</th>\n",
       "      <td>2022-01-25</td>\n",
       "      <td>1873</td>\n",
       "    </tr>\n",
       "    <tr>\n",
       "      <th>4</th>\n",
       "      <td>2022-01-26</td>\n",
       "      <td>1869</td>\n",
       "    </tr>\n",
       "    <tr>\n",
       "      <th>5</th>\n",
       "      <td>2022-01-27</td>\n",
       "      <td>1538</td>\n",
       "    </tr>\n",
       "    <tr>\n",
       "      <th>6</th>\n",
       "      <td>2022-01-28</td>\n",
       "      <td>269</td>\n",
       "    </tr>\n",
       "  </tbody>\n",
       "</table>\n",
       "</div>"
      ],
      "text/plain": [
       "           日期  错误数量\n",
       "0  2022-01-22  1630\n",
       "1  2022-01-23  1797\n",
       "2  2022-01-24  1901\n",
       "3  2022-01-25  1873\n",
       "4  2022-01-26  1869\n",
       "5  2022-01-27  1538\n",
       "6  2022-01-28   269"
      ]
     },
     "execution_count": 13,
     "metadata": {},
     "output_type": "execute_result"
    }
   ],
   "source": [
    "day_error_stats"
   ]
  },
  {
   "cell_type": "markdown",
   "id": "11e4253b",
   "metadata": {},
   "source": [
    "### 错误域名统计"
   ]
  },
  {
   "cell_type": "code",
   "execution_count": 14,
   "id": "f8466962",
   "metadata": {},
   "outputs": [],
   "source": [
    "tmp_df = df[['host', 'pid']].groupby(['host']).count().reset_index()\n",
    "tmp_df.columns = ['域名', '错误数量']\n",
    "tmp_df = tmp_df.sort_values(by=['错误数量'], ascending=False).reset_index(drop=True)\n",
    "domain_error_stats = tmp_df"
   ]
  },
  {
   "cell_type": "code",
   "execution_count": 15,
   "id": "f9b5bc9a",
   "metadata": {},
   "outputs": [
    {
     "data": {
      "text/html": [
       "<div>\n",
       "<style scoped>\n",
       "    .dataframe tbody tr th:only-of-type {\n",
       "        vertical-align: middle;\n",
       "    }\n",
       "\n",
       "    .dataframe tbody tr th {\n",
       "        vertical-align: top;\n",
       "    }\n",
       "\n",
       "    .dataframe thead th {\n",
       "        text-align: right;\n",
       "    }\n",
       "</style>\n",
       "<table border=\"1\" class=\"dataframe\">\n",
       "  <thead>\n",
       "    <tr style=\"text-align: right;\">\n",
       "      <th></th>\n",
       "      <th>域名</th>\n",
       "      <th>错误数量</th>\n",
       "    </tr>\n",
       "  </thead>\n",
       "  <tbody>\n",
       "    <tr>\n",
       "      <th>0</th>\n",
       "      <td>\"streamsets-3.bdp.credithc.com\"</td>\n",
       "      <td>8710</td>\n",
       "    </tr>\n",
       "    <tr>\n",
       "      <th>1</th>\n",
       "      <td>\"api.bdp.credithc.com\"</td>\n",
       "      <td>2033</td>\n",
       "    </tr>\n",
       "    <tr>\n",
       "      <th>2</th>\n",
       "      <td>\"monitor.bdp.credithc.com80\"</td>\n",
       "      <td>54</td>\n",
       "    </tr>\n",
       "    <tr>\n",
       "      <th>3</th>\n",
       "      <td>\"monitor.bdp.credithc.com\"</td>\n",
       "      <td>41</td>\n",
       "    </tr>\n",
       "    <tr>\n",
       "      <th>4</th>\n",
       "      <td>\"10.100.251.42\"</td>\n",
       "      <td>32</td>\n",
       "    </tr>\n",
       "  </tbody>\n",
       "</table>\n",
       "</div>"
      ],
      "text/plain": [
       "                                域名  错误数量\n",
       "0  \"streamsets-3.bdp.credithc.com\"  8710\n",
       "1           \"api.bdp.credithc.com\"  2033\n",
       "2     \"monitor.bdp.credithc.com80\"    54\n",
       "3       \"monitor.bdp.credithc.com\"    41\n",
       "4                  \"10.100.251.42\"    32"
      ]
     },
     "execution_count": 15,
     "metadata": {},
     "output_type": "execute_result"
    }
   ],
   "source": [
    "domain_error_stats[domain_error_stats.错误数量 > 10]"
   ]
  },
  {
   "cell_type": "code",
   "execution_count": 16,
   "id": "644ade5b",
   "metadata": {},
   "outputs": [],
   "source": [
    "tmp_df = df[['date', 'host', 'pid']].groupby(['date', 'host']).count()\n",
    "tmp_df.columns = ['错误数量']\n",
    "date_domain_error_stats = tmp_df"
   ]
  },
  {
   "cell_type": "code",
   "execution_count": 17,
   "id": "17cb9542",
   "metadata": {
    "scrolled": false
   },
   "outputs": [
    {
     "data": {
      "text/html": [
       "<div>\n",
       "<style scoped>\n",
       "    .dataframe tbody tr th:only-of-type {\n",
       "        vertical-align: middle;\n",
       "    }\n",
       "\n",
       "    .dataframe tbody tr th {\n",
       "        vertical-align: top;\n",
       "    }\n",
       "\n",
       "    .dataframe thead th {\n",
       "        text-align: right;\n",
       "    }\n",
       "</style>\n",
       "<table border=\"1\" class=\"dataframe\">\n",
       "  <thead>\n",
       "    <tr style=\"text-align: right;\">\n",
       "      <th></th>\n",
       "      <th></th>\n",
       "      <th>错误数量</th>\n",
       "    </tr>\n",
       "    <tr>\n",
       "      <th>date</th>\n",
       "      <th>host</th>\n",
       "      <th></th>\n",
       "    </tr>\n",
       "  </thead>\n",
       "  <tbody>\n",
       "    <tr>\n",
       "      <th rowspan=\"5\" valign=\"top\">2022-01-22</th>\n",
       "      <th>\"10.100.251.42\"</th>\n",
       "      <td>12</td>\n",
       "    </tr>\n",
       "    <tr>\n",
       "      <th>\"api.bdp.credithc.com\"</th>\n",
       "      <td>297</td>\n",
       "    </tr>\n",
       "    <tr>\n",
       "      <th>\"monitor.bdp.credithc.com\"</th>\n",
       "      <td>16</td>\n",
       "    </tr>\n",
       "    <tr>\n",
       "      <th>\"monitor.bdp.credithc.com80\"</th>\n",
       "      <td>19</td>\n",
       "    </tr>\n",
       "    <tr>\n",
       "      <th>\"streamsets-3.bdp.credithc.com\"</th>\n",
       "      <td>1286</td>\n",
       "    </tr>\n",
       "    <tr>\n",
       "      <th rowspan=\"2\" valign=\"top\">2022-01-23</th>\n",
       "      <th>\"api.bdp.credithc.com\"</th>\n",
       "      <td>349</td>\n",
       "    </tr>\n",
       "    <tr>\n",
       "      <th>\"streamsets-3.bdp.credithc.com\"</th>\n",
       "      <td>1434</td>\n",
       "    </tr>\n",
       "    <tr>\n",
       "      <th rowspan=\"3\" valign=\"top\">2022-01-24</th>\n",
       "      <th>\"api.bdp.credithc.com\"</th>\n",
       "      <td>429</td>\n",
       "    </tr>\n",
       "    <tr>\n",
       "      <th>\"monitor.bdp.credithc.com\"</th>\n",
       "      <td>13</td>\n",
       "    </tr>\n",
       "    <tr>\n",
       "      <th>\"streamsets-3.bdp.credithc.com\"</th>\n",
       "      <td>1438</td>\n",
       "    </tr>\n",
       "    <tr>\n",
       "      <th rowspan=\"2\" valign=\"top\">2022-01-25</th>\n",
       "      <th>\"api.bdp.credithc.com\"</th>\n",
       "      <td>403</td>\n",
       "    </tr>\n",
       "    <tr>\n",
       "      <th>\"streamsets-3.bdp.credithc.com\"</th>\n",
       "      <td>1462</td>\n",
       "    </tr>\n",
       "    <tr>\n",
       "      <th rowspan=\"2\" valign=\"top\">2022-01-26</th>\n",
       "      <th>\"api.bdp.credithc.com\"</th>\n",
       "      <td>414</td>\n",
       "    </tr>\n",
       "    <tr>\n",
       "      <th>\"streamsets-3.bdp.credithc.com\"</th>\n",
       "      <td>1432</td>\n",
       "    </tr>\n",
       "    <tr>\n",
       "      <th rowspan=\"2\" valign=\"top\">2022-01-27</th>\n",
       "      <th>\"api.bdp.credithc.com\"</th>\n",
       "      <td>102</td>\n",
       "    </tr>\n",
       "    <tr>\n",
       "      <th>\"streamsets-3.bdp.credithc.com\"</th>\n",
       "      <td>1428</td>\n",
       "    </tr>\n",
       "    <tr>\n",
       "      <th rowspan=\"2\" valign=\"top\">2022-01-28</th>\n",
       "      <th>\"api.bdp.credithc.com\"</th>\n",
       "      <td>39</td>\n",
       "    </tr>\n",
       "    <tr>\n",
       "      <th>\"streamsets-3.bdp.credithc.com\"</th>\n",
       "      <td>230</td>\n",
       "    </tr>\n",
       "  </tbody>\n",
       "</table>\n",
       "</div>"
      ],
      "text/plain": [
       "                                            错误数量\n",
       "date       host                                 \n",
       "2022-01-22 \"10.100.251.42\"                    12\n",
       "           \"api.bdp.credithc.com\"            297\n",
       "           \"monitor.bdp.credithc.com\"         16\n",
       "           \"monitor.bdp.credithc.com80\"       19\n",
       "           \"streamsets-3.bdp.credithc.com\"  1286\n",
       "2022-01-23 \"api.bdp.credithc.com\"            349\n",
       "           \"streamsets-3.bdp.credithc.com\"  1434\n",
       "2022-01-24 \"api.bdp.credithc.com\"            429\n",
       "           \"monitor.bdp.credithc.com\"         13\n",
       "           \"streamsets-3.bdp.credithc.com\"  1438\n",
       "2022-01-25 \"api.bdp.credithc.com\"            403\n",
       "           \"streamsets-3.bdp.credithc.com\"  1462\n",
       "2022-01-26 \"api.bdp.credithc.com\"            414\n",
       "           \"streamsets-3.bdp.credithc.com\"  1432\n",
       "2022-01-27 \"api.bdp.credithc.com\"            102\n",
       "           \"streamsets-3.bdp.credithc.com\"  1428\n",
       "2022-01-28 \"api.bdp.credithc.com\"             39\n",
       "           \"streamsets-3.bdp.credithc.com\"   230"
      ]
     },
     "execution_count": 17,
     "metadata": {},
     "output_type": "execute_result"
    }
   ],
   "source": [
    "date_domain_error_stats[date_domain_error_stats.错误数量 > 10]"
   ]
  },
  {
   "cell_type": "markdown",
   "id": "33b5845f",
   "metadata": {},
   "source": [
    "### 错误路由统计"
   ]
  },
  {
   "cell_type": "code",
   "execution_count": 18,
   "id": "d31c7dee",
   "metadata": {},
   "outputs": [],
   "source": [
    "tmp_df = df[['host', 'request', 'pid']].groupby(by=['host', 'request']).count()\n",
    "tmp_df.columns = ['错误数量']\n",
    "path_error_stats = tmp_df"
   ]
  },
  {
   "cell_type": "code",
   "execution_count": 19,
   "id": "4c6711ad",
   "metadata": {
    "scrolled": false
   },
   "outputs": [
    {
     "data": {
      "text/html": [
       "<div>\n",
       "<style scoped>\n",
       "    .dataframe tbody tr th:only-of-type {\n",
       "        vertical-align: middle;\n",
       "    }\n",
       "\n",
       "    .dataframe tbody tr th {\n",
       "        vertical-align: top;\n",
       "    }\n",
       "\n",
       "    .dataframe thead th {\n",
       "        text-align: right;\n",
       "    }\n",
       "</style>\n",
       "<table border=\"1\" class=\"dataframe\">\n",
       "  <thead>\n",
       "    <tr style=\"text-align: right;\">\n",
       "      <th></th>\n",
       "      <th></th>\n",
       "      <th>错误数量</th>\n",
       "    </tr>\n",
       "    <tr>\n",
       "      <th>host</th>\n",
       "      <th>request</th>\n",
       "      <th></th>\n",
       "    </tr>\n",
       "  </thead>\n",
       "  <tbody>\n",
       "    <tr>\n",
       "      <th>\"10.100.251.42\"</th>\n",
       "      <th>\"POST /sdc/api1/balance HTTP/1.1\"</th>\n",
       "      <td>32</td>\n",
       "    </tr>\n",
       "    <tr>\n",
       "      <th rowspan=\"7\" valign=\"top\">\"api.bdp.credithc.com\"</th>\n",
       "      <th>\"POST /api/v1/sdc/zcdf/query HTTP/1.1\"</th>\n",
       "      <td>400</td>\n",
       "    </tr>\n",
       "    <tr>\n",
       "      <th>\"POST /bdp/baihang/pushReport HTTP/1.1\"</th>\n",
       "      <td>182</td>\n",
       "    </tr>\n",
       "    <tr>\n",
       "      <th>\"POST /bdp/bairong HTTP/1.1\"</th>\n",
       "      <td>16</td>\n",
       "    </tr>\n",
       "    <tr>\n",
       "      <th>\"POST /bdp/position HTTP/1.1\"</th>\n",
       "      <td>48</td>\n",
       "    </tr>\n",
       "    <tr>\n",
       "      <th>\"POST /bdp/spider/data HTTP/1.1\"</th>\n",
       "      <td>13</td>\n",
       "    </tr>\n",
       "    <tr>\n",
       "      <th>\"POST /sdc/mdsp/el2/v1/staffInfoSpecified HTTP/1.1\"</th>\n",
       "      <td>12</td>\n",
       "    </tr>\n",
       "    <tr>\n",
       "      <th>\"POST /sdc/sqlquery/dhsj/fqzk HTTP/1.1\"</th>\n",
       "      <td>1202</td>\n",
       "    </tr>\n",
       "    <tr>\n",
       "      <th>\"monitor.bdp.credithc.com\"</th>\n",
       "      <th>\"POST /instances HTTP/1.1\"</th>\n",
       "      <td>41</td>\n",
       "    </tr>\n",
       "    <tr>\n",
       "      <th>\"monitor.bdp.credithc.com80\"</th>\n",
       "      <th>\"POST /instances HTTP/1.1\"</th>\n",
       "      <td>54</td>\n",
       "    </tr>\n",
       "    <tr>\n",
       "      <th>\"streamsets-3.bdp.credithc.com\"</th>\n",
       "      <th>\"GET /rest/ping HTTP/1.1\"</th>\n",
       "      <td>8710</td>\n",
       "    </tr>\n",
       "  </tbody>\n",
       "</table>\n",
       "</div>"
      ],
      "text/plain": [
       "                                                                                     错误数量\n",
       "host                            request                                                  \n",
       "\"10.100.251.42\"                 \"POST /sdc/api1/balance HTTP/1.1\"                      32\n",
       "\"api.bdp.credithc.com\"          \"POST /api/v1/sdc/zcdf/query HTTP/1.1\"                400\n",
       "                                \"POST /bdp/baihang/pushReport HTTP/1.1\"               182\n",
       "                                \"POST /bdp/bairong HTTP/1.1\"                           16\n",
       "                                \"POST /bdp/position HTTP/1.1\"                          48\n",
       "                                \"POST /bdp/spider/data HTTP/1.1\"                       13\n",
       "                                \"POST /sdc/mdsp/el2/v1/staffInfoSpecified HTTP/1.1\"    12\n",
       "                                \"POST /sdc/sqlquery/dhsj/fqzk HTTP/1.1\"              1202\n",
       "\"monitor.bdp.credithc.com\"      \"POST /instances HTTP/1.1\"                             41\n",
       "\"monitor.bdp.credithc.com80\"    \"POST /instances HTTP/1.1\"                             54\n",
       "\"streamsets-3.bdp.credithc.com\" \"GET /rest/ping HTTP/1.1\"                            8710"
      ]
     },
     "execution_count": 19,
     "metadata": {},
     "output_type": "execute_result"
    }
   ],
   "source": [
    "path_error_stats[path_error_stats.错误数量 > 10]"
   ]
  }
 ],
 "metadata": {
  "kernelspec": {
   "display_name": "Python 3",
   "language": "python",
   "name": "python3"
  },
  "language_info": {
   "codemirror_mode": {
    "name": "ipython",
    "version": 3
   },
   "file_extension": ".py",
   "mimetype": "text/x-python",
   "name": "python",
   "nbconvert_exporter": "python",
   "pygments_lexer": "ipython3",
   "version": "3.7.10"
  },
  "toc": {
   "base_numbering": 1,
   "nav_menu": {},
   "number_sections": true,
   "sideBar": true,
   "skip_h1_title": false,
   "title_cell": "Table of Contents",
   "title_sidebar": "Contents",
   "toc_cell": false,
   "toc_position": {
    "height": "calc(100% - 180px)",
    "left": "10px",
    "top": "150px",
    "width": "325.81px"
   },
   "toc_section_display": true,
   "toc_window_display": true
  }
 },
 "nbformat": 4,
 "nbformat_minor": 5
}

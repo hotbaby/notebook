{
 "cells": [
  {
   "cell_type": "markdown",
   "id": "9a4a49f6",
   "metadata": {},
   "source": [
    "# Python日志分割"
   ]
  },
  {
   "cell_type": "code",
   "execution_count": 1,
   "id": "3a40cfef",
   "metadata": {},
   "outputs": [],
   "source": [
    "import logging\n",
    "from logging.handlers import BaseRotatingHandler"
   ]
  },
  {
   "cell_type": "code",
   "execution_count": 2,
   "id": "c982cf47",
   "metadata": {},
   "outputs": [],
   "source": [
    "class MultiProcessSafeDailyRotatingFileHandler(BaseRotatingHandler):\n",
    "\n",
    "    def __init__(self, filename, suffix='%Y-%m-%d', encoding=None, delay=False, utc=False, **kwargs):\n",
    "        self.utc = utc\n",
    "        self.suffix = suffix\n",
    "        self.baseFilename = filename\n",
    "        self.currentFileName = self._compute_fn()\n",
    "        BaseRotatingHandler.__init__(self, filename, 'a', encoding, delay)\n",
    "\n",
    "    def shouldRollover(self, record):\n",
    "        if self.currentFileName != self._compute_fn():\n",
    "            return True\n",
    "        return False\n",
    "\n",
    "    def doRollover(self):\n",
    "        if self.stream:\n",
    "            self.stream.close()\n",
    "            self.stream = None\n",
    "        self.currentFileName = self._compute_fn()\n",
    "\n",
    "    def _compute_fn(self):\n",
    "        return self.baseFilename + \".\" + time.strftime(self.suffix, time.localtime())\n",
    "\n",
    "    def _open(self):\n",
    "        if self.encoding is None:\n",
    "            stream = open(self.currentFileName, self.mode)\n",
    "        else:\n",
    "            stream = codecs.open(self.currentFileName, self.mode, self.encoding)\n",
    "        return stream\n"
   ]
  },
  {
   "cell_type": "code",
   "execution_count": 3,
   "id": "e103a94a",
   "metadata": {},
   "outputs": [],
   "source": [
    "import os\n",
    "import socket"
   ]
  },
  {
   "cell_type": "code",
   "execution_count": 4,
   "id": "fe5bc93a",
   "metadata": {},
   "outputs": [],
   "source": [
    "BASE_DIR = os.path.dirname(os.path.abspath('__file__'))\n",
    "HOST_NAME = socket.gethostname()"
   ]
  },
  {
   "cell_type": "code",
   "execution_count": 5,
   "id": "256842c7",
   "metadata": {},
   "outputs": [],
   "source": [
    "LOGGING_CONFIG = {\n",
    "    'version': 1,\n",
    "    'disable_existing_loggers': True,\n",
    "    'formatters': {\n",
    "       'generic': {\n",
    "            \"format\": \"%(asctime)s - (%(name)s)[%(levelname)s][%(host)s]: \"\n",
    "                    + \"%(request)s %(message)s %(status)d %(byte)d\",\n",
    "            \"datefmt\": \"[%Y-%m-%d %H:%M:%S %z]\",\n",
    "            \"class\": \"logging.Formatter\",\n",
    "       }\n",
    "    },\n",
    "    'filters': {\n",
    "    },\n",
    "    'handlers': {\n",
    "        'default': {\n",
    "            'level': 'DEBUG',\n",
    "            'class': 'MultiProcessSafeDailyRotatingFileHandler',  # logger class module\n",
    "            'filename': os.path.join(BASE_DIR, 'uwsgi_output', HOST_NAME + '.log'),\n",
    "            'formatter': 'generic',\n",
    "        },\n",
    "    },\n",
    "    'loggers': {\n",
    "        'root': {\n",
    "            'handlers': ['default'],\n",
    "            'level': 'INFO',\n",
    "            'propagate': False\n",
    "        }\n",
    "    }\n",
    "}"
   ]
  },
  {
   "cell_type": "code",
   "execution_count": 6,
   "id": "fac5dc2a",
   "metadata": {},
   "outputs": [],
   "source": [
    "# import logging\n",
    "# logging.config.dictConfig(LOGGING_CONFIG)"
   ]
  }
 ],
 "metadata": {
  "kernelspec": {
   "display_name": "Python 3",
   "language": "python",
   "name": "python3"
  },
  "language_info": {
   "codemirror_mode": {
    "name": "ipython",
    "version": 3
   },
   "file_extension": ".py",
   "mimetype": "text/x-python",
   "name": "python",
   "nbconvert_exporter": "python",
   "pygments_lexer": "ipython3",
   "version": "3.7.10"
  },
  "toc": {
   "base_numbering": 1,
   "nav_menu": {},
   "number_sections": true,
   "sideBar": true,
   "skip_h1_title": false,
   "title_cell": "Table of Contents",
   "title_sidebar": "Contents",
   "toc_cell": false,
   "toc_position": {},
   "toc_section_display": true,
   "toc_window_display": false
  }
 },
 "nbformat": 4,
 "nbformat_minor": 5
}

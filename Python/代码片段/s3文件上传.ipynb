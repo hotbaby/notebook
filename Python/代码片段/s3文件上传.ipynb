{
 "cells": [
  {
   "cell_type": "markdown",
   "id": "lasting-calvin",
   "metadata": {},
   "source": [
    "s3文件上传"
   ]
  },
  {
   "cell_type": "markdown",
   "id": "based-premiere",
   "metadata": {},
   "source": [
    "```python\n",
    "def test_s3_bucket_upload(file_path):\n",
    "    S3 = {\n",
    "        'BUCKET_NAME': 'xxx',\n",
    "        'SERVICE_NAME': 's3',\n",
    "        'ACCESS_KEY_ID': 'xx',\n",
    "        'ACCESS_KEY_SECRET': 'xx',\n",
    "        'ENDPOINT_URL': 'http://domain.com',\n",
    "        'KEY_PREFIX': 'file-service/'\n",
    "    }\n",
    "\n",
    "    import os\n",
    "    import boto3\n",
    "    import datetime\n",
    "\n",
    "    s3 = boto3.resource(service_name='s3',\n",
    "                        aws_access_key_id=S3['ACCESS_KEY_ID'],\n",
    "                        aws_secret_access_key=S3['ACCESS_KEY_SECRET'],\n",
    "                        endpoint_url=S3['ENDPOINT_URL'])\n",
    "    client = boto3.client(service_name='s3',\n",
    "                          aws_access_key_id=S3['ACCESS_KEY_ID'],\n",
    "                          aws_secret_access_key=S3['ACCESS_KEY_SECRET'],\n",
    "                          endpoint_url=S3['ENDPOINT_URL'])\n",
    "    bucket = s3.Bucket(S3['BUCKET_NAME'])\n",
    "\n",
    "    now_str = datetime.datetime.now().strftime('%Y%m%d%H%M%S')\n",
    "    file_name = os.path.basename(file_path)\n",
    "    key = os.path.join(S3['KEY_PREFIX'], f'{now_str}-{file_name}')\n",
    "\n",
    "    # 注意文件打开的方式为\"rb\"\n",
    "    with open(file_path, 'rb') as f:\n",
    "        upload_file_object = bucket.put_object(Key=key, Body=f)\n",
    "        print(upload_file_object)\n",
    "        print(upload_file_object.key)\n",
    "\n",
    "```"
   ]
  }
 ],
 "metadata": {
  "kernelspec": {
   "display_name": "Python 3",
   "language": "python",
   "name": "python3"
  },
  "language_info": {
   "codemirror_mode": {
    "name": "ipython",
    "version": 3
   },
   "file_extension": ".py",
   "mimetype": "text/x-python",
   "name": "python",
   "nbconvert_exporter": "python",
   "pygments_lexer": "ipython3",
   "version": "3.7.9"
  },
  "toc": {
   "base_numbering": 1,
   "nav_menu": {},
   "number_sections": true,
   "sideBar": true,
   "skip_h1_title": false,
   "title_cell": "Table of Contents",
   "title_sidebar": "Contents",
   "toc_cell": false,
   "toc_position": {},
   "toc_section_display": true,
   "toc_window_display": false
  }
 },
 "nbformat": 4,
 "nbformat_minor": 5
}

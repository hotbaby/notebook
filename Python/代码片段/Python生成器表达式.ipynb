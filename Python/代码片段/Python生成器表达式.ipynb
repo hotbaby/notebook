{
 "cells": [
  {
   "cell_type": "markdown",
   "id": "wrapped-exchange",
   "metadata": {},
   "source": [
    "Python生成器表达式"
   ]
  },
  {
   "cell_type": "code",
   "execution_count": 1,
   "id": "legal-exclusion",
   "metadata": {},
   "outputs": [],
   "source": [
    "def hamming_weight(n):\n",
    "    return sum(1 for i in range(32) if n & (1 << i))\n",
    "#     return sum(1 if n & (1 << i) else 0 for i in range(32))"
   ]
  }
 ],
 "metadata": {
  "kernelspec": {
   "display_name": "Python 3",
   "language": "python",
   "name": "python3"
  },
  "language_info": {
   "codemirror_mode": {
    "name": "ipython",
    "version": 3
   },
   "file_extension": ".py",
   "mimetype": "text/x-python",
   "name": "python",
   "nbconvert_exporter": "python",
   "pygments_lexer": "ipython3",
   "version": "3.7.9"
  },
  "toc": {
   "base_numbering": 1,
   "nav_menu": {},
   "number_sections": true,
   "sideBar": true,
   "skip_h1_title": false,
   "title_cell": "Table of Contents",
   "title_sidebar": "Contents",
   "toc_cell": false,
   "toc_position": {},
   "toc_section_display": true,
   "toc_window_display": false
  }
 },
 "nbformat": 4,
 "nbformat_minor": 5
}

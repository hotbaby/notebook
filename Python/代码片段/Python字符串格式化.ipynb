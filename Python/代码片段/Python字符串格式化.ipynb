{
 "cells": [
  {
   "cell_type": "markdown",
   "id": "approximate-cowboy",
   "metadata": {},
   "source": [
    "# Python字符串格式化"
   ]
  },
  {
   "cell_type": "markdown",
   "id": "concerned-steps",
   "metadata": {},
   "source": [
    "## 大括号转义"
   ]
  },
  {
   "cell_type": "markdown",
   "id": "growing-tissue",
   "metadata": {},
   "source": [
    "通过`{}`转义大括号"
   ]
  },
  {
   "cell_type": "code",
   "execution_count": 1,
   "id": "contemporary-forestry",
   "metadata": {},
   "outputs": [],
   "source": [
    "server_conf = \"\"\"\n",
    "upstream {upstream_name} {{\n",
    "    {upstream_list}\n",
    "}}\n",
    "\n",
    "server {{\n",
    "    listen 80;\n",
    "    server_name {server_names};\n",
    "\n",
    "    location / {{\n",
    "        proxy_set_header Host $host;\n",
    "        proxy_set_header X-Real-IP  $remote_addr;\n",
    "        proxy_set_header X-Forwarded-For  $proxy_add_x_forwarded_for;\n",
    "        proxy_pass http://{upstream_name};\n",
    "        proxy_ignore_client_abort on;\n",
    "    }}\n",
    "}}\n",
    "\"\"\""
   ]
  },
  {
   "cell_type": "code",
   "execution_count": 2,
   "id": "enabling-fence",
   "metadata": {},
   "outputs": [
    {
     "name": "stdout",
     "output_type": "stream",
     "text": [
      "\n",
      "upstream apisix {\n",
      "    server 127.0.0.1:9080;\n",
      "}\n",
      "\n",
      "server {\n",
      "    listen 80;\n",
      "    server_name gateway.bytehandler.com;\n",
      "\n",
      "    location / {\n",
      "        proxy_set_header Host $host;\n",
      "        proxy_set_header X-Real-IP  $remote_addr;\n",
      "        proxy_set_header X-Forwarded-For  $proxy_add_x_forwarded_for;\n",
      "        proxy_pass http://apisix;\n",
      "        proxy_ignore_client_abort on;\n",
      "    }\n",
      "}\n",
      "\n"
     ]
    }
   ],
   "source": [
    "print(server_conf.format(upstream_name='apisix',\n",
    "                         upstream_list='server 127.0.0.1:9080;',\n",
    "                         server_names='gateway.bytehandler.com'))"
   ]
  }
 ],
 "metadata": {
  "kernelspec": {
   "display_name": "Python 3",
   "language": "python",
   "name": "python3"
  },
  "language_info": {
   "codemirror_mode": {
    "name": "ipython",
    "version": 3
   },
   "file_extension": ".py",
   "mimetype": "text/x-python",
   "name": "python",
   "nbconvert_exporter": "python",
   "pygments_lexer": "ipython3",
   "version": "3.7.9"
  },
  "toc": {
   "base_numbering": 1,
   "nav_menu": {},
   "number_sections": true,
   "sideBar": true,
   "skip_h1_title": false,
   "title_cell": "Table of Contents",
   "title_sidebar": "Contents",
   "toc_cell": false,
   "toc_position": {},
   "toc_section_display": true,
   "toc_window_display": false
  }
 },
 "nbformat": 4,
 "nbformat_minor": 5
}

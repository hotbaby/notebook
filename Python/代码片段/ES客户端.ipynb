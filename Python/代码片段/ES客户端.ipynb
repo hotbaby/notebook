{
 "cells": [
  {
   "cell_type": "markdown",
   "id": "practical-rebate",
   "metadata": {},
   "source": [
    "ES客户端"
   ]
  },
  {
   "cell_type": "markdown",
   "id": "appropriate-commercial",
   "metadata": {},
   "source": [
    "```python\n",
    "def es_query(es_index, es_type, body):\n",
    "    from elasticsearch2 import Elasticsearch\n",
    "\n",
    "    # ES集群\n",
    "    ES_HOSTS = ['ip1:9200', 'ip2:9200', 'ip3:9200']\n",
    "    \n",
    "    # ES认证信息\n",
    "    ES_AUTH = 'username:pasword'\n",
    "\n",
    "    es = Elasticsearch(ES_HOSTS, http_auth=ES_AUTH)\n",
    "\n",
    "    return es.search(es_index, es_type, body=body)\n",
    "```"
   ]
  },
  {
   "cell_type": "markdown",
   "id": "cheap-davis",
   "metadata": {},
   "source": [
    "创建、查看和删除索引"
   ]
  },
  {
   "cell_type": "markdown",
   "id": "adjustable-forestry",
   "metadata": {},
   "source": [
    "```python\n",
    "# encoding: utf8\n",
    "\n",
    "import uuid\n",
    "import json\n",
    "from elasticsearch import Elasticsearch\n",
    "from elasticsearch import RequestsHttpConnection\n",
    "\n",
    "HOSTS = ['ubuntu:9200']\n",
    "\n",
    "es = Elasticsearch(HOSTS)\n",
    "print(json.dumps(es.info(), ensure_ascii=False, indent=4))\n",
    "\n",
    "conn = RequestsHttpConnection(host='ubuntu', port=9200)\n",
    "\n",
    "# 创建索引\n",
    "es_name = f'test_index_{uuid.uuid1()}'\n",
    "data = {\n",
    "    'settings': {\n",
    "        'number_of_replicas': 1,\n",
    "        'number_of_shards': 1\n",
    "    }\n",
    "}\n",
    "resp = conn.perform_request('PUT', f'/{es_name}', body=json.dumps(data), headers={'Content-Type': 'application/json'})\n",
    "status_code, headers, body = resp\n",
    "print(json.dumps(json.loads(body), indent=4))\n",
    "\n",
    "# 查看索引\n",
    "resp = conn.perform_request('GET', f'/{es_name}')\n",
    "status_code, headers, body = resp\n",
    "print(status_code)\n",
    "print(json.dumps(json.loads(body), indent=4))\n",
    "\n",
    "# 删除索引\n",
    "resp = conn.perform_request('DELETE', f'/{es_name}')\n",
    "status_code, headers, body = resp\n",
    "print(status_code)\n",
    "print(json.dumps(json.loads(body), indent=4))\n",
    "\n",
    "```"
   ]
  }
 ],
 "metadata": {
  "kernelspec": {
   "display_name": "Python 3",
   "language": "python",
   "name": "python3"
  },
  "language_info": {
   "codemirror_mode": {
    "name": "ipython",
    "version": 3
   },
   "file_extension": ".py",
   "mimetype": "text/x-python",
   "name": "python",
   "nbconvert_exporter": "python",
   "pygments_lexer": "ipython3",
   "version": "3.7.9"
  },
  "toc": {
   "base_numbering": 1,
   "nav_menu": {},
   "number_sections": true,
   "sideBar": true,
   "skip_h1_title": false,
   "title_cell": "Table of Contents",
   "title_sidebar": "Contents",
   "toc_cell": false,
   "toc_position": {},
   "toc_section_display": true,
   "toc_window_display": false
  }
 },
 "nbformat": 4,
 "nbformat_minor": 5
}

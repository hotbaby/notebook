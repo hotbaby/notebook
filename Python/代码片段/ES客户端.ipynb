{
 "cells": [
  {
   "cell_type": "markdown",
   "id": "practical-rebate",
   "metadata": {},
   "source": [
    "ES客户端"
   ]
  },
  {
   "cell_type": "code",
   "execution_count": 1,
   "id": "hourly-knock",
   "metadata": {},
   "outputs": [],
   "source": [
    "def es_query(es_index, es_type, body):\n",
    "    from elasticsearch2 import Elasticsearch\n",
    "\n",
    "    # ES集群\n",
    "    ES_HOSTS = ['ip1:9200', 'ip2:9200', 'ip3:9200']\n",
    "    \n",
    "    # ES认证信息\n",
    "    ES_AUTH = 'username:pasword'\n",
    "\n",
    "    es = Elasticsearch(ES_HOSTS, http_auth=ES_AUTH)\n",
    "\n",
    "    return es.search(es_index, es_type, body=body)"
   ]
  }
 ],
 "metadata": {
  "kernelspec": {
   "display_name": "Python 3",
   "language": "python",
   "name": "python3"
  },
  "language_info": {
   "codemirror_mode": {
    "name": "ipython",
    "version": 3
   },
   "file_extension": ".py",
   "mimetype": "text/x-python",
   "name": "python",
   "nbconvert_exporter": "python",
   "pygments_lexer": "ipython3",
   "version": "3.7.9"
  },
  "toc": {
   "base_numbering": 1,
   "nav_menu": {},
   "number_sections": true,
   "sideBar": true,
   "skip_h1_title": false,
   "title_cell": "Table of Contents",
   "title_sidebar": "Contents",
   "toc_cell": false,
   "toc_position": {},
   "toc_section_display": true,
   "toc_window_display": false
  }
 },
 "nbformat": 4,
 "nbformat_minor": 5
}

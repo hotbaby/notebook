{
 "cells": [
  {
   "cell_type": "markdown",
   "id": "internal-phoenix",
   "metadata": {},
   "source": [
    "URL解析"
   ]
  },
  {
   "cell_type": "code",
   "execution_count": 1,
   "id": "capital-share",
   "metadata": {},
   "outputs": [],
   "source": [
    "from urllib.parse import urlparse"
   ]
  },
  {
   "cell_type": "code",
   "execution_count": 2,
   "id": "together-studio",
   "metadata": {},
   "outputs": [],
   "source": [
    "result = urlparse('http://www.cwi.nl:80/api/v1/file/upload?key=value#title')"
   ]
  },
  {
   "cell_type": "code",
   "execution_count": 3,
   "id": "impaired-primary",
   "metadata": {},
   "outputs": [
    {
     "name": "stdout",
     "output_type": "stream",
     "text": [
      "ParseResult(scheme='http', netloc='www.cwi.nl:80', path='/api/v1/file/upload', params='', query='key=value', fragment='title')\n"
     ]
    }
   ],
   "source": [
    "print(result)"
   ]
  },
  {
   "cell_type": "code",
   "execution_count": 4,
   "id": "obvious-soundtrack",
   "metadata": {},
   "outputs": [
    {
     "name": "stdout",
     "output_type": "stream",
     "text": [
      "scheme:\t http\n",
      "path:\t /api/v1/file/upload\n",
      "query:\t key=value\n",
      "fragment:\t title\n"
     ]
    }
   ],
   "source": [
    "print(f'scheme:\\t {result.scheme}')\n",
    "print(f'path:\\t {result.path}')\n",
    "print(f'query:\\t {result.query}')\n",
    "print(f'fragment:\\t {result.fragment}')"
   ]
  }
 ],
 "metadata": {
  "kernelspec": {
   "display_name": "Python 3",
   "language": "python",
   "name": "python3"
  },
  "language_info": {
   "codemirror_mode": {
    "name": "ipython",
    "version": 3
   },
   "file_extension": ".py",
   "mimetype": "text/x-python",
   "name": "python",
   "nbconvert_exporter": "python",
   "pygments_lexer": "ipython3",
   "version": "3.7.9"
  },
  "toc": {
   "base_numbering": 1,
   "nav_menu": {},
   "number_sections": true,
   "sideBar": true,
   "skip_h1_title": false,
   "title_cell": "Table of Contents",
   "title_sidebar": "Contents",
   "toc_cell": false,
   "toc_position": {},
   "toc_section_display": true,
   "toc_window_display": false
  }
 },
 "nbformat": 4,
 "nbformat_minor": 5
}

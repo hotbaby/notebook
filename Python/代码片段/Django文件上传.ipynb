{
 "cells": [
  {
   "cell_type": "markdown",
   "id": "severe-mention",
   "metadata": {},
   "source": [
    "Django文件上传"
   ]
  },
  {
   "cell_type": "markdown",
   "id": "comfortable-blade",
   "metadata": {},
   "source": [
    "```python\n",
    "# encoding: utf8\n",
    "\n",
    "import logging\n",
    "import os.path\n",
    "\n",
    "from django.conf import settings\n",
    "from rest_framework import generics\n",
    "from rest_framework.response import Response\n",
    "from rest_framework import serializers as base_serializers\n",
    "from drf_yasg2.utils import swagger_auto_schema\n",
    "\n",
    "from libs.rest_framework.exceptions import SUCCESS_CODE, ERROR_CODES\n",
    "from utils.upload import S3Upload\n",
    "\n",
    "from . import serializers\n",
    "\n",
    "logger = logging.getLogger('app')\n",
    "\n",
    "\n",
    "class FileUploadView(generics.GenericAPIView):\n",
    "\n",
    "    serializer_class = base_serializers.Serializer\n",
    "\n",
    "    @swagger_auto_schema(responses={'200': serializers.FileUploadResponseSerializer})\n",
    "    def post(self, request, *args, **kwargs):   # noqa\n",
    "\n",
    "        urls = []\n",
    "        # 遍历上传的文件列表\n",
    "        for name in request.FILES:\n",
    "            # in_file为`django.core.files.uploadedfile.InMemoryUploadedFile`实例\n",
    "            in_file = request.FILES[name]\n",
    "\n",
    "            # 将文件导出为本地文件\n",
    "            output_file_path = f'/tmp/{in_file.name}'\n",
    "            with open(output_file_path, 'wb') as output_file:\n",
    "                for chunk in in_file.chunks():\n",
    "                    output_file.write(chunk)\n",
    "\n",
    "            # 文件上传到S3\n",
    "            upload_s3_url = S3Upload().upload(output_file_path)\n",
    "            urls.append(upload_s3_url)\n",
    "\n",
    "            # 删除本地文件\n",
    "            if os.path.exists(output_file_path):\n",
    "                os.remove(output_file_path)\n",
    "\n",
    "        resp_data = {\n",
    "            'code': SUCCESS_CODE,\n",
    "            'message': ERROR_CODES[SUCCESS_CODE],\n",
    "            'result': {\n",
    "                'urls': urls\n",
    "            }\n",
    "        }\n",
    "        return Response(resp_data)\n",
    "    \n",
    "```\n"
   ]
  }
 ],
 "metadata": {
  "kernelspec": {
   "display_name": "Python 3",
   "language": "python",
   "name": "python3"
  },
  "language_info": {
   "codemirror_mode": {
    "name": "ipython",
    "version": 3
   },
   "file_extension": ".py",
   "mimetype": "text/x-python",
   "name": "python",
   "nbconvert_exporter": "python",
   "pygments_lexer": "ipython3",
   "version": "3.7.9"
  },
  "toc": {
   "base_numbering": 1,
   "nav_menu": {},
   "number_sections": true,
   "sideBar": true,
   "skip_h1_title": false,
   "title_cell": "Table of Contents",
   "title_sidebar": "Contents",
   "toc_cell": false,
   "toc_position": {},
   "toc_section_display": true,
   "toc_window_display": false
  }
 },
 "nbformat": 4,
 "nbformat_minor": 5
}

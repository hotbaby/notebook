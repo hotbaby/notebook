{
 "cells": [
  {
   "cell_type": "markdown",
   "id": "entire-commodity",
   "metadata": {},
   "source": [
    "IP地址和整数的互相转换"
   ]
  },
  {
   "cell_type": "code",
   "execution_count": 1,
   "id": "integrated-rebate",
   "metadata": {},
   "outputs": [],
   "source": [
    "def ip2int(ip):\n",
    "    num = 0\n",
    "    \n",
    "    for i, seg in enumerate(ip.split('.')):\n",
    "        num |= int(seg) << (i * 8)\n",
    "        \n",
    "    return num"
   ]
  },
  {
   "cell_type": "code",
   "execution_count": 2,
   "id": "double-henry",
   "metadata": {},
   "outputs": [],
   "source": [
    "def int2ip(num):\n",
    "    return '.'.join(map(str, [(num & (0xff << (i * 8))) >> (i * 8) for i in range(4)]))"
   ]
  },
  {
   "cell_type": "code",
   "execution_count": 3,
   "id": "elementary-dimension",
   "metadata": {},
   "outputs": [
    {
     "data": {
      "text/plain": [
       "'127.0.0.1'"
      ]
     },
     "execution_count": 3,
     "metadata": {},
     "output_type": "execute_result"
    }
   ],
   "source": [
    "int2ip(ip2int('127.0.0.1'))"
   ]
  },
  {
   "cell_type": "code",
   "execution_count": 4,
   "id": "emerging-belfast",
   "metadata": {},
   "outputs": [],
   "source": [
    "ip_list = ['127.0.0.1', '192.168.0.1', '255.255.255.0']"
   ]
  },
  {
   "cell_type": "code",
   "execution_count": 5,
   "id": "naval-navigator",
   "metadata": {},
   "outputs": [
    {
     "name": "stdout",
     "output_type": "stream",
     "text": [
      "127.0.0.1 True\n",
      "192.168.0.1 True\n",
      "255.255.255.0 True\n"
     ]
    }
   ],
   "source": [
    "for ip in ip_list:\n",
    "    print(ip, int2ip(ip2int(ip)) == ip)"
   ]
  }
 ],
 "metadata": {
  "kernelspec": {
   "display_name": "Python 3",
   "language": "python",
   "name": "python3"
  },
  "language_info": {
   "codemirror_mode": {
    "name": "ipython",
    "version": 3
   },
   "file_extension": ".py",
   "mimetype": "text/x-python",
   "name": "python",
   "nbconvert_exporter": "python",
   "pygments_lexer": "ipython3",
   "version": "3.7.9"
  },
  "toc": {
   "base_numbering": 1,
   "nav_menu": {},
   "number_sections": true,
   "sideBar": true,
   "skip_h1_title": false,
   "title_cell": "Table of Contents",
   "title_sidebar": "Contents",
   "toc_cell": false,
   "toc_position": {},
   "toc_section_display": true,
   "toc_window_display": false
  }
 },
 "nbformat": 4,
 "nbformat_minor": 5
}

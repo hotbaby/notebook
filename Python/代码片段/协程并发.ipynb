{
 "cells": [
  {
   "cell_type": "markdown",
   "id": "ec1345c8",
   "metadata": {},
   "source": [
    "## 协程并发"
   ]
  },
  {
   "cell_type": "code",
   "execution_count": 1,
   "id": "95ee5ef4",
   "metadata": {},
   "outputs": [],
   "source": [
    "import time\n",
    "import asyncio\n",
    "import random\n",
    "import functools\n",
    "from typing import *"
   ]
  },
  {
   "cell_type": "code",
   "execution_count": 2,
   "id": "428a34e6",
   "metadata": {},
   "outputs": [],
   "source": [
    "async def worker(name: str, q: asyncio.Queue) -> None:\n",
    "    while True:\n",
    "        try:\n",
    "            tm = q.get_nowait()\n",
    "#             print(f'worker {name} sleep {tm} seconds')\n",
    "            await asyncio.sleep(tm)\n",
    "            q.task_done()\n",
    "            \n",
    "        except asyncio.QueueEmpty:\n",
    "            break"
   ]
  },
  {
   "cell_type": "code",
   "execution_count": 3,
   "id": "0e154d0d",
   "metadata": {},
   "outputs": [],
   "source": [
    "async def main(concurrent: int = 10, item_num: int = 100):\n",
    "    \n",
    "    q = asyncio.Queue()\n",
    "\n",
    "    for _ in range(item_num):\n",
    "        q.put_nowait(random.uniform(0, 0.5))\n",
    "    \n",
    "    \n",
    "    tasks = []\n",
    "\n",
    "    for i in range(concurrent):\n",
    "        tasks.append(asyncio.create_task(worker(f'worker-{i}', q)))\n",
    "        \n",
    "    await asyncio.gather(*tasks, return_exceptions=True)"
   ]
  },
  {
   "cell_type": "code",
   "execution_count": 4,
   "id": "ddd92225",
   "metadata": {
    "scrolled": true
   },
   "outputs": [
    {
     "name": "stdout",
     "output_type": "stream",
     "text": [
      "elapse 25.732418060302734 seconds\n"
     ]
    }
   ],
   "source": [
    "start_tm = time.time()\n",
    "\n",
    "await main(10, 1000)\n",
    "\n",
    "print(f'elapse {time.time() - start_tm} seconds')"
   ]
  },
  {
   "cell_type": "code",
   "execution_count": 5,
   "id": "0f9a037c",
   "metadata": {
    "scrolled": false
   },
   "outputs": [
    {
     "name": "stdout",
     "output_type": "stream",
     "text": [
      "elapse 2.8507750034332275 seconds\n"
     ]
    }
   ],
   "source": [
    "start_tm = time.time()\n",
    "\n",
    "await main(100, 1000)\n",
    "\n",
    "print(f'elapse {time.time() - start_tm} seconds')"
   ]
  },
  {
   "cell_type": "code",
   "execution_count": 6,
   "id": "fec7f156",
   "metadata": {
    "scrolled": false
   },
   "outputs": [
    {
     "name": "stdout",
     "output_type": "stream",
     "text": [
      "elapse 0.5151138305664062 seconds\n"
     ]
    }
   ],
   "source": [
    "start_tm = time.time()\n",
    "\n",
    "await main(1000, 1000)\n",
    "\n",
    "print(f'elapse {time.time() - start_tm} seconds')"
   ]
  }
 ],
 "metadata": {
  "kernelspec": {
   "display_name": "Python 3",
   "language": "python",
   "name": "python3"
  },
  "language_info": {
   "codemirror_mode": {
    "name": "ipython",
    "version": 3
   },
   "file_extension": ".py",
   "mimetype": "text/x-python",
   "name": "python",
   "nbconvert_exporter": "python",
   "pygments_lexer": "ipython3",
   "version": "3.7.10"
  },
  "toc": {
   "base_numbering": 1,
   "nav_menu": {},
   "number_sections": true,
   "sideBar": true,
   "skip_h1_title": false,
   "title_cell": "Table of Contents",
   "title_sidebar": "Contents",
   "toc_cell": false,
   "toc_position": {},
   "toc_section_display": true,
   "toc_window_display": false
  }
 },
 "nbformat": 4,
 "nbformat_minor": 5
}

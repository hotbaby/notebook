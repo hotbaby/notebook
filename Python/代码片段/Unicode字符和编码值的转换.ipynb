{
 "cells": [
  {
   "cell_type": "markdown",
   "id": "088fc5ac",
   "metadata": {},
   "source": [
    "## Unicode字符和编码值的转换"
   ]
  },
  {
   "cell_type": "markdown",
   "id": "51f587ae",
   "metadata": {},
   "source": [
    "* `ord(c)`将字符转换成unicode码整数\n",
    "* `chr(i)`将整数转换成unicode字符\n",
    "* `ord`是`ordinal`缩写，`chr`是`character`的缩写"
   ]
  },
  {
   "cell_type": "code",
   "execution_count": 1,
   "id": "fd0f53fb",
   "metadata": {
    "scrolled": false
   },
   "outputs": [
    {
     "name": "stdout",
     "output_type": "stream",
     "text": [
      "Help on built-in function ord in module builtins:\n",
      "\n",
      "ord(c, /)\n",
      "    Return the Unicode code point for a one-character string.\n",
      "\n"
     ]
    }
   ],
   "source": [
    "help(ord)"
   ]
  },
  {
   "cell_type": "code",
   "execution_count": 2,
   "id": "bcd224e0",
   "metadata": {
    "scrolled": false
   },
   "outputs": [
    {
     "name": "stdout",
     "output_type": "stream",
     "text": [
      "Help on built-in function chr in module builtins:\n",
      "\n",
      "chr(i, /)\n",
      "    Return a Unicode string of one character with ordinal i; 0 <= i <= 0x10ffff.\n",
      "\n"
     ]
    }
   ],
   "source": [
    "help(chr)"
   ]
  },
  {
   "cell_type": "code",
   "execution_count": 3,
   "id": "0ba36a2e",
   "metadata": {},
   "outputs": [
    {
     "data": {
      "text/plain": [
       "(65, 'A', 'A')"
      ]
     },
     "execution_count": 3,
     "metadata": {},
     "output_type": "execute_result"
    }
   ],
   "source": [
    "ord('A'), chr(65), chr(ord('A'))"
   ]
  },
  {
   "cell_type": "code",
   "execution_count": 4,
   "id": "faa4f6d3",
   "metadata": {},
   "outputs": [
    {
     "data": {
      "text/plain": [
       "9"
      ]
     },
     "execution_count": 4,
     "metadata": {},
     "output_type": "execute_result"
    }
   ],
   "source": [
    "ord('9') - ord('0')"
   ]
  }
 ],
 "metadata": {
  "kernelspec": {
   "display_name": "Python 3",
   "language": "python",
   "name": "python3"
  },
  "language_info": {
   "codemirror_mode": {
    "name": "ipython",
    "version": 3
   },
   "file_extension": ".py",
   "mimetype": "text/x-python",
   "name": "python",
   "nbconvert_exporter": "python",
   "pygments_lexer": "ipython3",
   "version": "3.7.10"
  },
  "toc": {
   "base_numbering": 1,
   "nav_menu": {},
   "number_sections": true,
   "sideBar": true,
   "skip_h1_title": false,
   "title_cell": "Table of Contents",
   "title_sidebar": "Contents",
   "toc_cell": false,
   "toc_position": {},
   "toc_section_display": true,
   "toc_window_display": false
  }
 },
 "nbformat": 4,
 "nbformat_minor": 5
}

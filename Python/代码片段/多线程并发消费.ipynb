{
 "cells": [
  {
   "cell_type": "markdown",
   "id": "efba5aa5",
   "metadata": {},
   "source": [
    "## 多线程并发消费"
   ]
  },
  {
   "cell_type": "code",
   "execution_count": 1,
   "id": "763bfe4b",
   "metadata": {},
   "outputs": [],
   "source": [
    "import time\n",
    "import queue\n",
    "import random\n",
    "import threading\n",
    "import functools"
   ]
  },
  {
   "cell_type": "code",
   "execution_count": 2,
   "id": "4a1a61a2",
   "metadata": {},
   "outputs": [],
   "source": [
    "def producer(q: queue.Queue, item_num=100) -> None:\n",
    "    \"\"\"生产者\"\"\"\n",
    "    for i in range(item_num):\n",
    "        q.put(i)"
   ]
  },
  {
   "cell_type": "code",
   "execution_count": 3,
   "id": "46a36b52",
   "metadata": {},
   "outputs": [],
   "source": [
    "def consumer(q: queue.Queue, timeout: int = 3) -> None:\n",
    "    \"\"\"消费者\"\"\"\n",
    "    \n",
    "    while True:\n",
    "        try:\n",
    "            item = q.get(block=True, timeout=timeout)\n",
    "\n",
    "            # 休眠random()秒，模拟程序处理时间\n",
    "            time.sleep(random.random())\n",
    "        except queue.Empty:\n",
    "            break"
   ]
  },
  {
   "cell_type": "code",
   "execution_count": 4,
   "id": "5a1485da",
   "metadata": {},
   "outputs": [],
   "source": [
    "def debug_run_time(f):\n",
    "    @functools.wraps(f)\n",
    "    def wrapper(*args, **kwargs):\n",
    "        start_time = time.time()\n",
    "        ret = f(*args, **kwargs)\n",
    "        end_time = time.time()\n",
    "\n",
    "        print(f'elapse {end_time - start_time} seconds')\n",
    "\n",
    "        return ret\n",
    "    \n",
    "    return wrapper"
   ]
  },
  {
   "cell_type": "code",
   "execution_count": 5,
   "id": "da4beab3",
   "metadata": {},
   "outputs": [],
   "source": [
    "@debug_run_time\n",
    "def producer_consumer(concurrent=10, item_num=100) -> None:\n",
    "    q = queue.Queue(maxsize=10)\n",
    "    \n",
    "    t_producer = threading.Thread(target=producer, args=(q, item_num))\n",
    "    t_producer.start()\n",
    "    \n",
    "    t_consumers = []\n",
    "    for _ in range(concurrent):\n",
    "        t_consumer = threading.Thread(target=consumer, args=(q,))\n",
    "        t_consumers.append(t_consumer)\n",
    "        \n",
    "    for t_consumer in t_consumers:\n",
    "        t_consumer.start()\n",
    "\n",
    "\n",
    "    t_producer.join()\n",
    "    for t_consumer in t_consumers:\n",
    "        t_consumer.join()"
   ]
  },
  {
   "cell_type": "code",
   "execution_count": 6,
   "id": "436cd8f3",
   "metadata": {},
   "outputs": [
    {
     "name": "stdout",
     "output_type": "stream",
     "text": [
      "elapse 53.591537952423096 seconds\n"
     ]
    }
   ],
   "source": [
    "producer_consumer(10, 1000)"
   ]
  },
  {
   "cell_type": "code",
   "execution_count": 7,
   "id": "99b6da7a",
   "metadata": {},
   "outputs": [
    {
     "name": "stdout",
     "output_type": "stream",
     "text": [
      "elapse 8.437967777252197 seconds\n"
     ]
    }
   ],
   "source": [
    "producer_consumer(100, 1000)"
   ]
  },
  {
   "cell_type": "code",
   "execution_count": 8,
   "id": "c65b9776",
   "metadata": {
    "scrolled": true
   },
   "outputs": [
    {
     "name": "stdout",
     "output_type": "stream",
     "text": [
      "elapse 4.077296018600464 seconds\n"
     ]
    }
   ],
   "source": [
    "producer_consumer(1000, 1000)"
   ]
  }
 ],
 "metadata": {
  "kernelspec": {
   "display_name": "Python 3",
   "language": "python",
   "name": "python3"
  },
  "language_info": {
   "codemirror_mode": {
    "name": "ipython",
    "version": 3
   },
   "file_extension": ".py",
   "mimetype": "text/x-python",
   "name": "python",
   "nbconvert_exporter": "python",
   "pygments_lexer": "ipython3",
   "version": "3.7.10"
  },
  "toc": {
   "base_numbering": 1,
   "nav_menu": {},
   "number_sections": true,
   "sideBar": true,
   "skip_h1_title": false,
   "title_cell": "Table of Contents",
   "title_sidebar": "Contents",
   "toc_cell": false,
   "toc_position": {},
   "toc_section_display": true,
   "toc_window_display": false
  }
 },
 "nbformat": 4,
 "nbformat_minor": 5
}

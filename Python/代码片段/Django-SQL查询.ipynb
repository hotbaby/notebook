{
 "cells": [
  {
   "cell_type": "markdown",
   "id": "acknowledged-masters",
   "metadata": {},
   "source": [
    "Django SQL查询"
   ]
  },
  {
   "cell_type": "code",
   "execution_count": 1,
   "id": "three-opportunity",
   "metadata": {},
   "outputs": [],
   "source": [
    "from django.db import connection    "
   ]
  },
  {
   "cell_type": "code",
   "execution_count": 2,
   "id": "exact-thursday",
   "metadata": {},
   "outputs": [],
   "source": [
    "def named_tuple_fetchall(cursor):\n",
    "    columns = [col[0] for col in cursor.description]\n",
    "    return [\n",
    "        dict(zip(columns, row))\n",
    "        for row in cursor.fetchall()\n",
    "    ]"
   ]
  },
  {
   "cell_type": "code",
   "execution_count": 3,
   "id": "reliable-architect",
   "metadata": {},
   "outputs": [],
   "source": [
    "def sql_query(sql):\n",
    "    from django.db import connection\n",
    "    \n",
    "    with connection.cursor() as cur:\n",
    "        cur.execute(sql)\n",
    "        return named_tuple_fetchall(cur)"
   ]
  },
  {
   "cell_type": "code",
   "execution_count": 4,
   "id": "expected-elizabeth",
   "metadata": {},
   "outputs": [],
   "source": [
    "def sql_insert_or_update(sql):\n",
    "\n",
    "    \n",
    "    with connection.cursor() as cur:\n",
    "        return cur.execute(sql)\n"
   ]
  }
 ],
 "metadata": {
  "kernelspec": {
   "display_name": "Python 3",
   "language": "python",
   "name": "python3"
  },
  "language_info": {
   "codemirror_mode": {
    "name": "ipython",
    "version": 3
   },
   "file_extension": ".py",
   "mimetype": "text/x-python",
   "name": "python",
   "nbconvert_exporter": "python",
   "pygments_lexer": "ipython3",
   "version": "3.7.9"
  },
  "toc": {
   "base_numbering": 1,
   "nav_menu": {},
   "number_sections": true,
   "sideBar": true,
   "skip_h1_title": false,
   "title_cell": "Table of Contents",
   "title_sidebar": "Contents",
   "toc_cell": false,
   "toc_position": {},
   "toc_section_display": true,
   "toc_window_display": false
  }
 },
 "nbformat": 4,
 "nbformat_minor": 5
}

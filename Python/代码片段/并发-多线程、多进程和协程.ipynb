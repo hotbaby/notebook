{
 "cells": [
  {
   "cell_type": "markdown",
   "id": "a8ddb00d",
   "metadata": {},
   "source": [
    "# 并发"
   ]
  },
  {
   "cell_type": "markdown",
   "id": "d07fbbd9",
   "metadata": {},
   "source": [
    "## 多线程"
   ]
  },
  {
   "cell_type": "markdown",
   "id": "123c0e18",
   "metadata": {},
   "source": [
    "`concurrency/multi_thread.py`"
   ]
  },
  {
   "cell_type": "code",
   "execution_count": 1,
   "id": "de61962f",
   "metadata": {},
   "outputs": [],
   "source": [
    "# encoding: utf8\n",
    "\n",
    "import os\n",
    "import re\n",
    "import time\n",
    "import queue\n",
    "import requests\n",
    "import threading\n",
    "\n",
    "pdf_pattern = re.compile(\">(\\d+.+\\.pdf)<\")\n",
    "\n",
    "home_url = 'https://courses.cs.washington.edu/courses/cse326/08sp/lectures/markup/'\n",
    "\n",
    "\n",
    "def mt_download(url: str):\n",
    "    \"\"\"Multi thread download\"\"\"\n",
    "    resp = requests.get(url)\n",
    "    return resp.content\n",
    "\n",
    "\n",
    "def mt_worker(i: int, q: queue.Queue):\n",
    "    while not q.empty():\n",
    "        url = q.get_nowait()\n",
    "        if url is queue.Empty:\n",
    "            return\n",
    "\n",
    "        mt_download(url)\n",
    "        q.task_done()\n",
    "\n",
    "\n",
    "def mt_main(concurrency=4):\n",
    "    content = mt_download(home_url)\n",
    "    content = content.decode()\n",
    "\n",
    "    q = queue.Queue()\n",
    "    for pdf in pdf_pattern.findall(content):\n",
    "        url = os.path.join(home_url, pdf)\n",
    "        q.put_nowait(url)\n",
    "\n",
    "    tasks = []\n",
    "    for i in range(concurrency):\n",
    "        task = threading.Thread(target=mt_worker, args=(i, q))\n",
    "        task.start()\n",
    "        tasks.append(task)\n",
    "\n",
    "    for task in tasks:\n",
    "        task.join()\n",
    "\n",
    "\n",
    "# if __name__ == '__main__':\n",
    "#     print(f'Start at {time.strftime(\"%X\")}')\n",
    "#     start_time = time.time()\n",
    "#     mt_main(4)\n",
    "#     print(f'Finished at {time.strftime(\"%X\")}, elapse {int(time.time() - start_time)} seconds')\n",
    "\n"
   ]
  },
  {
   "cell_type": "markdown",
   "id": "331a1028",
   "metadata": {},
   "source": [
    "## 多进程"
   ]
  },
  {
   "cell_type": "markdown",
   "id": "0b05b71f",
   "metadata": {},
   "source": [
    "`concurrency/multi_process.py`"
   ]
  },
  {
   "cell_type": "code",
   "execution_count": 2,
   "id": "b46e7217",
   "metadata": {},
   "outputs": [],
   "source": [
    "# encoding: utf8\n",
    "\n",
    "import os\n",
    "import re\n",
    "import time\n",
    "import queue\n",
    "import requests\n",
    "import multiprocessing as mp\n",
    "\n",
    "\n",
    "pdf_pattern = re.compile(\">(\\d+.+\\.pdf)<\")\n",
    "\n",
    "home_url = 'https://courses.cs.washington.edu/courses/cse326/08sp/lectures/markup/'\n",
    "\n",
    "\n",
    "def mp_download(url: str):\n",
    "    resp = requests.get(url)\n",
    "    return resp.content\n",
    "\n",
    "\n",
    "def mp_worker(i: int, q: mp.Queue):\n",
    "    while not q.empty():\n",
    "        url = q.get_nowait()\n",
    "        if url is queue.Empty:\n",
    "            return\n",
    "\n",
    "        mp_download(url)\n",
    "\n",
    "\n",
    "def mp_main(concurrency: int):\n",
    "    q = mp.Queue()\n",
    "\n",
    "    content = mp_download(home_url)\n",
    "    content = content.decode()\n",
    "\n",
    "    for pdf in pdf_pattern.findall(content):\n",
    "        url = os.path.join(home_url, pdf)\n",
    "        q.put(url)\n",
    "\n",
    "    tasks = []\n",
    "    for i in range(concurrency):\n",
    "        p = mp.Process(target=mp_worker, args=(i, q))\n",
    "        p.start()\n",
    "        tasks.append(p)\n",
    "\n",
    "    for p in tasks:\n",
    "        p.join()\n",
    "\n",
    "\n",
    "# if __name__ == '__main__':\n",
    "#     print(f'Start at {time.strftime(\"%X\")}')\n",
    "#     start_time = time.time()\n",
    "#     mp_main(4)\n",
    "#     print(f'Finished at {time.strftime(\"%X\")}, elapse {int(time.time() - start_time)} seconds')\n"
   ]
  },
  {
   "cell_type": "markdown",
   "id": "07b88887",
   "metadata": {},
   "source": [
    "## 协程"
   ]
  },
  {
   "cell_type": "markdown",
   "id": "5edd9e01",
   "metadata": {},
   "source": [
    "`concurrency/aio.py`"
   ]
  },
  {
   "cell_type": "code",
   "execution_count": 3,
   "id": "cf922b75",
   "metadata": {},
   "outputs": [],
   "source": [
    "# encoding: utf8\n",
    "\n",
    "import os\n",
    "import re\n",
    "import time\n",
    "import asyncio\n",
    "import aiohttp\n",
    "import aiofiles\n",
    "\n",
    "pdf_pattern = re.compile(\">(\\d+.+\\.pdf)<\")\n",
    "\n",
    "home_url = 'https://courses.cs.washington.edu/courses/cse326/08sp/lectures/markup/'\n",
    "\n",
    "\n",
    "async def aio_download(url: str):\n",
    "    async with aiohttp.ClientSession() as session:\n",
    "        async with session.get(url) as resp:\n",
    "            content = await resp.read()\n",
    "            return content\n",
    "\n",
    "\n",
    "async def aio_main():\n",
    "    content = await aio_download(home_url)\n",
    "    content = content.decode()\n",
    "\n",
    "    tasks = []\n",
    "    for pdf in pdf_pattern.findall(content):\n",
    "        url = os.path.join(home_url, pdf)\n",
    "        task = asyncio.create_task(aio_download(url))\n",
    "        tasks.append(task)\n",
    "\n",
    "    await asyncio.gather(*tasks)\n",
    "\n",
    "\n",
    "# if __name__ == '__main__':\n",
    "#     start_time = time.time()\n",
    "#     print(f'Start at {time.strftime(\"%X\")}')\n",
    "#     asyncio.run(aio_main())\n",
    "#     print(f'Finished at {time.strftime(\"%X\")}, elapse {int(time.time() - start_time)} seconds')\n"
   ]
  },
  {
   "cell_type": "markdown",
   "id": "38605384",
   "metadata": {},
   "source": [
    "## 结论"
   ]
  },
  {
   "cell_type": "markdown",
   "id": "1c4651f9",
   "metadata": {},
   "source": [
    "`concurrency/main.py`"
   ]
  },
  {
   "cell_type": "code",
   "execution_count": 4,
   "id": "b06507de",
   "metadata": {},
   "outputs": [],
   "source": [
    "# encoding: utf8\n",
    "\n",
    "import time\n",
    "import asyncio\n",
    "\n",
    "# from multi_process import mp_main\n",
    "# from multi_thread import mt_main\n",
    "# from aio import aio_main\n",
    "\n",
    "\n",
    "def main():\n",
    "    mt_concurrences = []\n",
    "    mp_concurrences = []\n",
    "    for concurrency in [2, 4, 8, 12]:\n",
    "        start_tm = time.time()\n",
    "        mt_main(concurrency)\n",
    "        finish_tm = time.time()\n",
    "        mt_concurrences.append(int(finish_tm - start_tm))\n",
    "        print(f'multi thread concurrency {concurrency} elapse {int(finish_tm - start_tm)} seconds')\n",
    "\n",
    "        start_tm = time.time()\n",
    "        mp_main(concurrency)\n",
    "        finish_tm = time.time()\n",
    "        mp_concurrences.append(int(finish_tm - start_tm))\n",
    "        print(f'multi process concurrency {concurrency} elapse {int(finish_tm - start_tm)} seconds')\n",
    "\n",
    "    return mt_concurrences, mp_concurrences\n",
    "\n",
    "\n",
    "# if __name__ == '__main__':\n",
    "#     start_tm = time.time()\n",
    "#     asyncio.run(aio_main())\n",
    "#     finish_tm = time.time()\n",
    "#     print(f'coroutine concurrency elapse {int(finish_tm - start_tm)} seconds')\n",
    "\n",
    "#     print(main())\n"
   ]
  },
  {
   "cell_type": "markdown",
   "id": "d9d4d174",
   "metadata": {},
   "source": [
    "执行环境："
   ]
  },
  {
   "cell_type": "markdown",
   "id": "3b0c25a7",
   "metadata": {},
   "source": [
    "```\n",
    "操作系统：MacOS\n",
    "Core: 12\n",
    "RAM: 32G\n",
    "```"
   ]
  },
  {
   "cell_type": "markdown",
   "id": "6a4d367a",
   "metadata": {},
   "source": [
    "执行日志："
   ]
  },
  {
   "cell_type": "markdown",
   "id": "e9224432",
   "metadata": {},
   "source": [
    "```\n",
    "coroutine concurrency elapse 6 seconds\n",
    "multi thread concurrency 2 elapse 47 seconds\n",
    "multi process concurrency 2 elapse 37 seconds\n",
    "multi thread concurrency 4 elapse 23 seconds\n",
    "multi process concurrency 4 elapse 18 seconds\n",
    "multi thread concurrency 8 elapse 11 seconds\n",
    "multi process concurrency 8 elapse 12 seconds\n",
    "multi thread concurrency 12 elapse 11 seconds\n",
    "multi process concurrency 12 elapse 9 seconds\n",
    "```"
   ]
  },
  {
   "cell_type": "code",
   "execution_count": 5,
   "id": "9e2b33b6",
   "metadata": {},
   "outputs": [],
   "source": [
    "aio_tm = 6"
   ]
  },
  {
   "cell_type": "code",
   "execution_count": 6,
   "id": "da7e3b6c",
   "metadata": {},
   "outputs": [],
   "source": [
    "concurrences = [2, 4, 8, 12]\n",
    "mt_concurrency = [47, 23, 11, 11]\n",
    "mp_concurrency = [37, 18, 12, 9]"
   ]
  },
  {
   "cell_type": "code",
   "execution_count": 9,
   "id": "3f1a39c3",
   "metadata": {},
   "outputs": [],
   "source": [
    "import matplotlib.pyplot as plt"
   ]
  },
  {
   "cell_type": "code",
   "execution_count": 8,
   "id": "0d0f466c",
   "metadata": {
    "scrolled": false
   },
   "outputs": [
    {
     "data": {
      "image/png": "[encoded data removed]",
      "text/plain": [
       "<Figure size 432x288 with 1 Axes>"
      ]
     },
     "metadata": {
      "needs_background": "light"
     },
     "output_type": "display_data"
    }
   ],
   "source": [
    "width = 0.2\n",
    "\n",
    "# 多线程\n",
    "x = list(range(len(concurrences)))\n",
    "plt.bar(x, mt_concurrency, width=width, label='Multi Thread')\n",
    "\n",
    "# 多进程\n",
    "x = [v + width for v in x]\n",
    "plt.bar(x, mp_concurrency, width=width, label='Multi Process')\n",
    "\n",
    "# 协程\n",
    "x = [v + width for v in x]\n",
    "plt.bar(x, [aio_tm] * len(x), width=width, label='Coroutine', tick_label=concurrences)\n",
    "\n",
    "plt.xlabel('Concurrency')\n",
    "plt.ylabel('Consume Time (Seconds)')\n",
    "plt.title('Multi-Thread vs Multi-Process vs Coroutine')\n",
    "plt.legend()\n",
    "plt.show()"
   ]
  },
  {
   "cell_type": "markdown",
   "id": "70ad9ae4",
   "metadata": {},
   "source": [
    "* 异步IO的IO速度远大于多线程和多进程并发\n",
    "* 对于网络IO，多进程的速度大于多线程，但相差不多"
   ]
  }
 ],
 "metadata": {
  "kernelspec": {
   "display_name": "Python 3",
   "language": "python",
   "name": "python3"
  },
  "language_info": {
   "codemirror_mode": {
    "name": "ipython",
    "version": 3
   },
   "file_extension": ".py",
   "mimetype": "text/x-python",
   "name": "python",
   "nbconvert_exporter": "python",
   "pygments_lexer": "ipython3",
   "version": "3.7.10"
  },
  "toc": {
   "base_numbering": 1,
   "nav_menu": {},
   "number_sections": true,
   "sideBar": true,
   "skip_h1_title": false,
   "title_cell": "Table of Contents",
   "title_sidebar": "Contents",
   "toc_cell": false,
   "toc_position": {},
   "toc_section_display": true,
   "toc_window_display": false
  }
 },
 "nbformat": 4,
 "nbformat_minor": 5
}

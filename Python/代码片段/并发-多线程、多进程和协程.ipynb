{
 "cells": [
  {
   "cell_type": "markdown",
   "id": "a8ddb00d",
   "metadata": {},
   "source": [
    "# 并发"
   ]
  },
  {
   "cell_type": "code",
   "execution_count": 1,
   "id": "7ccb49b9",
   "metadata": {},
   "outputs": [],
   "source": [
    "import time\n",
    "import asyncio\n",
    "import functools\n",
    "\n",
    "def time_consume(f):\n",
    "    @functools.wraps(f)\n",
    "    def wrapper(concurrency, *args, **kwargs):\n",
    "        start_tm = time.time()\n",
    "        ret = f(*args, **kwargs)\n",
    "        print(f'{f.__name__} concurrency {concurrency} elapse {int(time.time() - start_tm)} seconds')\n",
    "        return ret\n",
    "    \n",
    "    return wrapper"
   ]
  },
  {
   "cell_type": "code",
   "execution_count": 2,
   "id": "b980c029",
   "metadata": {},
   "outputs": [],
   "source": [
    "@time_consume\n",
    "def dummy(**kwargs):\n",
    "    time.sleep(1)"
   ]
  },
  {
   "cell_type": "code",
   "execution_count": 3,
   "id": "84585ec1",
   "metadata": {},
   "outputs": [
    {
     "name": "stdout",
     "output_type": "stream",
     "text": [
      "dummy concurrency 10 elapse 1 seconds\n"
     ]
    }
   ],
   "source": [
    "dummy(concurrency=10)"
   ]
  },
  {
   "cell_type": "markdown",
   "id": "d07fbbd9",
   "metadata": {},
   "source": [
    "## 多线程"
   ]
  },
  {
   "cell_type": "code",
   "execution_count": 4,
   "id": "e4605d60",
   "metadata": {},
   "outputs": [],
   "source": [
    "# encoding: utf8\n",
    "\n",
    "import os\n",
    "import re\n",
    "import time\n",
    "import queue\n",
    "import requests\n",
    "import threading\n",
    "\n",
    "pdf_pattern = re.compile(\">(\\d+.+\\.pdf)<\")\n",
    "\n",
    "home_url = 'https://courses.cs.washington.edu/courses/cse326/08sp/lectures/markup/'\n",
    "\n",
    "\n",
    "def mt_download(url: str):\n",
    "    \"\"\"Multi thread download\"\"\"\n",
    "    resp = requests.get(url)\n",
    "    return resp.content\n",
    "\n",
    "\n",
    "def mt_worker(i: int, q: queue.Queue):\n",
    "    while not q.empty():\n",
    "        url = q.get_nowait()\n",
    "        if url is queue.Empty:\n",
    "            return\n",
    "\n",
    "        mt_download(url)\n",
    "        q.task_done()\n",
    "\n",
    "\n",
    "@time_consume\n",
    "def mt_main(concurrency: int = 2):\n",
    "    content = mt_download(home_url)\n",
    "    content = content.decode()\n",
    "\n",
    "    q = queue.Queue()\n",
    "    for pdf in pdf_pattern.findall(content):\n",
    "        url = os.path.join(home_url, pdf)\n",
    "        q.put_nowait(url)\n",
    "\n",
    "    tasks = []\n",
    "    for i in range(concurrency):\n",
    "        task = threading.Thread(target=mt_worker, args=(i, q))\n",
    "        task.start()\n",
    "        tasks.append(task)\n",
    "\n",
    "    for task in tasks:\n",
    "        task.join()"
   ]
  },
  {
   "cell_type": "markdown",
   "id": "331a1028",
   "metadata": {},
   "source": [
    "## 多进程"
   ]
  },
  {
   "cell_type": "code",
   "execution_count": 5,
   "id": "b46e7217",
   "metadata": {},
   "outputs": [],
   "source": [
    "# encoding: utf8\n",
    "\n",
    "import os\n",
    "import re\n",
    "import time\n",
    "import queue\n",
    "import requests\n",
    "import multiprocessing as mp\n",
    "\n",
    "\n",
    "pdf_pattern = re.compile(\">(\\d+.+\\.pdf)<\")\n",
    "\n",
    "home_url = 'https://courses.cs.washington.edu/courses/cse326/08sp/lectures/markup/'\n",
    "\n",
    "\n",
    "def mp_download(url: str):\n",
    "    resp = requests.get(url)\n",
    "    return resp.content\n",
    "\n",
    "\n",
    "def mp_worker(i: int, q: mp.Queue):\n",
    "    while not q.empty():\n",
    "        url = q.get_nowait()\n",
    "        if url is queue.Empty:\n",
    "            return\n",
    "\n",
    "        mp_download(url)\n",
    "\n",
    "\n",
    "@time_consume\n",
    "def mp_main(concurrency: int = 2):\n",
    "    q = mp.Queue()\n",
    "\n",
    "    content = mp_download(home_url)\n",
    "    content = content.decode()\n",
    "\n",
    "    for pdf in pdf_pattern.findall(content):\n",
    "        url = os.path.join(home_url, pdf)\n",
    "        q.put(url)\n",
    "\n",
    "    tasks = []\n",
    "    for i in range(concurrency):\n",
    "        p = mp.Process(target=mp_worker, args=(i, q))\n",
    "        p.start()\n",
    "        tasks.append(p)\n",
    "\n",
    "    for p in tasks:\n",
    "        p.join()"
   ]
  },
  {
   "cell_type": "markdown",
   "id": "07b88887",
   "metadata": {},
   "source": [
    "## 协程"
   ]
  },
  {
   "cell_type": "code",
   "execution_count": 6,
   "id": "cf922b75",
   "metadata": {},
   "outputs": [],
   "source": [
    "\n",
    "# encoding: utf8\n",
    "\n",
    "import os\n",
    "import re\n",
    "import time\n",
    "import asyncio\n",
    "import aiohttp\n",
    "import aiofiles\n",
    "\n",
    "pdf_pattern = re.compile(\">(\\d+.+\\.pdf)<\")\n",
    "\n",
    "home_url = 'https://courses.cs.washington.edu/courses/cse326/08sp/lectures/markup/'\n",
    "\n",
    "\n",
    "async def aio_download(url: str):\n",
    "    async with aiohttp.ClientSession() as session:\n",
    "        async with session.get(url) as resp:\n",
    "            content = await resp.read()\n",
    "            return content\n",
    "\n",
    "\n",
    "async def aio_main():\n",
    "    content = await aio_download(home_url)\n",
    "    content = content.decode()\n",
    "\n",
    "    tasks = []\n",
    "    for pdf in pdf_pattern.findall(content):\n",
    "        url = os.path.join(home_url, pdf)\n",
    "        task = asyncio.create_task(aio_download(url))\n",
    "        tasks.append(task)\n",
    "\n",
    "    await asyncio.gather(*tasks)"
   ]
  },
  {
   "cell_type": "markdown",
   "id": "a34311a6",
   "metadata": {},
   "source": [
    "## 结论"
   ]
  },
  {
   "cell_type": "code",
   "execution_count": 7,
   "id": "a80909eb",
   "metadata": {},
   "outputs": [
    {
     "name": "stdout",
     "output_type": "stream",
     "text": [
      "coroutine concurrency elapse 8 seconds\n"
     ]
    }
   ],
   "source": [
    "start_tm = time.time()\n",
    "await aio_main()\n",
    "finish_tm = time.time()\n",
    "print(f'coroutine concurrency elapse {int(finish_tm - start_tm)} seconds')"
   ]
  },
  {
   "cell_type": "code",
   "execution_count": 8,
   "id": "19b51469",
   "metadata": {},
   "outputs": [],
   "source": [
    "aio_tm = finish_tm - start_tm"
   ]
  },
  {
   "cell_type": "code",
   "execution_count": 9,
   "id": "8d5cd09c",
   "metadata": {},
   "outputs": [],
   "source": [
    "concurrences = [2, 4, 8, 12]\n",
    "mt_concurrency = []\n",
    "mp_concurrency = []"
   ]
  },
  {
   "cell_type": "code",
   "execution_count": 11,
   "id": "1ed17dd5",
   "metadata": {},
   "outputs": [
    {
     "name": "stdout",
     "output_type": "stream",
     "text": [
      "mt_main concurrency 2 elapse 39 seconds\n",
      "mp_main concurrency 2 elapse 47 seconds\n",
      "mt_main concurrency 4 elapse 49 seconds\n",
      "mp_main concurrency 4 elapse 49 seconds\n",
      "mt_main concurrency 8 elapse 42 seconds\n",
      "mp_main concurrency 8 elapse 48 seconds\n",
      "mt_main concurrency 12 elapse 56 seconds\n",
      "mp_main concurrency 12 elapse 53 seconds\n"
     ]
    }
   ],
   "source": [
    "for concurrency in concurrences:\n",
    "    start_tm = time.time()\n",
    "    mt_main(concurrency)\n",
    "    finish_tm =time.time()\n",
    "    mt_concurrency.append( int(finish_tm - start_tm))\n",
    "\n",
    "    start_tm = time.time()\n",
    "    mp_main(concurrency)\n",
    "    finish_tm = time.time()\n",
    "    mp_concurrency.append(int(finish_tm - start_tm))"
   ]
  },
  {
   "cell_type": "code",
   "execution_count": null,
   "id": "b6440c54",
   "metadata": {},
   "outputs": [],
   "source": [
    "import matplotlib.pyplot as plt"
   ]
  },
  {
   "cell_type": "code",
   "execution_count": 22,
   "id": "230d618d",
   "metadata": {
    "scrolled": true
   },
   "outputs": [
    {
     "data": {
      "image/png": "[encoded data removed]",
      "text/plain": [
       "<Figure size 432x288 with 1 Axes>"
      ]
     },
     "metadata": {
      "needs_background": "light"
     },
     "output_type": "display_data"
    }
   ],
   "source": [
    "width = 0.2\n",
    "\n",
    "# 多线程\n",
    "x = list(range(len(concurrences)))\n",
    "plt.bar(x, mt_concurrency, width=width, label='Multi Thread')\n",
    "\n",
    "# 多进程\n",
    "for i in range(len(x)):\n",
    "    x[i] = x[i] + width\n",
    "plt.bar(x, mp_concurrency, width=width, label='Multi Process')\n",
    "\n",
    "# 协程\n",
    "for i in range(len(x)):\n",
    "    x[i] = x[i] + width\n",
    "plt.bar(x, [aio_tm] * len(x), width=width, label='Coroutine', tick_label=concurrences)\n",
    "\n",
    "plt.xlabel('Concurrency')\n",
    "plt.ylabel('Consume Time (Seconds)')\n",
    "plt.title('Multi-Thread vs Multi-Process vs Coroutine')\n",
    "plt.legend()\n",
    "plt.show()"
   ]
  }
 ],
 "metadata": {
  "kernelspec": {
   "display_name": "Python 3",
   "language": "python",
   "name": "python3"
  },
  "language_info": {
   "codemirror_mode": {
    "name": "ipython",
    "version": 3
   },
   "file_extension": ".py",
   "mimetype": "text/x-python",
   "name": "python",
   "nbconvert_exporter": "python",
   "pygments_lexer": "ipython3",
   "version": "3.7.10"
  },
  "toc": {
   "base_numbering": 1,
   "nav_menu": {},
   "number_sections": true,
   "sideBar": true,
   "skip_h1_title": false,
   "title_cell": "Table of Contents",
   "title_sidebar": "Contents",
   "toc_cell": false,
   "toc_position": {},
   "toc_section_display": true,
   "toc_window_display": false
  }
 },
 "nbformat": 4,
 "nbformat_minor": 5
}

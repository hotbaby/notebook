{
 "cells": [
  {
   "cell_type": "markdown",
   "id": "filled-possible",
   "metadata": {},
   "source": [
    "Python整型数据问题"
   ]
  },
  {
   "cell_type": "markdown",
   "id": "artistic-dance",
   "metadata": {},
   "source": [
    "背景："
   ]
  },
  {
   "cell_type": "markdown",
   "id": "streaming-civilization",
   "metadata": {},
   "source": [
    "微信朋友圈看到一个有意思的问题"
   ]
  },
  {
   "cell_type": "code",
   "execution_count": 1,
   "id": "monthly-arbitration",
   "metadata": {},
   "outputs": [],
   "source": [
    "a = 12; b = 12"
   ]
  },
  {
   "cell_type": "code",
   "execution_count": 2,
   "id": "hispanic-arbitration",
   "metadata": {},
   "outputs": [
    {
     "data": {
      "text/plain": [
       "True"
      ]
     },
     "execution_count": 2,
     "metadata": {},
     "output_type": "execute_result"
    }
   ],
   "source": [
    "a * b is b * a"
   ]
  },
  {
   "cell_type": "code",
   "execution_count": 3,
   "id": "modular-storm",
   "metadata": {},
   "outputs": [],
   "source": [
    "a = 120; b = 12"
   ]
  },
  {
   "cell_type": "code",
   "execution_count": 4,
   "id": "handed-workstation",
   "metadata": {},
   "outputs": [
    {
     "data": {
      "text/plain": [
       "False"
      ]
     },
     "execution_count": 4,
     "metadata": {},
     "output_type": "execute_result"
    }
   ],
   "source": [
    "a * b is b * a"
   ]
  },
  {
   "cell_type": "markdown",
   "id": "equal-clear",
   "metadata": {},
   "source": [
    "解答："
   ]
  },
  {
   "cell_type": "markdown",
   "id": "brutal-material",
   "metadata": {},
   "source": [
    "Python`is`语法比较的内存地址，Python解释内部的小整数对象是有内存缓存池，所以地址保持不变，结果为`True`；而大的整数对象每次都创建新的对象，所以每次内存地址不一样，所以结果为`False`。"
   ]
  },
  {
   "cell_type": "markdown",
   "id": "postal-camping",
   "metadata": {},
   "source": [
    "查询资料*Python源码剖析*，Python解释器内部整数范围`[-5, 257)`有内存缓存池的。"
   ]
  },
  {
   "cell_type": "code",
   "execution_count": 5,
   "id": "cloudy-corrections",
   "metadata": {},
   "outputs": [
    {
     "data": {
      "text/plain": [
       "'0x55cdc715f2e0'"
      ]
     },
     "execution_count": 5,
     "metadata": {},
     "output_type": "execute_result"
    }
   ],
   "source": [
    "hex(id(256))"
   ]
  },
  {
   "cell_type": "code",
   "execution_count": 6,
   "id": "soviet-secondary",
   "metadata": {},
   "outputs": [
    {
     "data": {
      "text/plain": [
       "'0x55cdc715f2e0'"
      ]
     },
     "execution_count": 6,
     "metadata": {},
     "output_type": "execute_result"
    }
   ],
   "source": [
    "hex(id(256))"
   ]
  },
  {
   "cell_type": "code",
   "execution_count": 7,
   "id": "multiple-level",
   "metadata": {},
   "outputs": [
    {
     "data": {
      "text/plain": [
       "'0x55cdc715f2e0'"
      ]
     },
     "execution_count": 7,
     "metadata": {},
     "output_type": "execute_result"
    }
   ],
   "source": [
    "hex(id(256))"
   ]
  },
  {
   "cell_type": "code",
   "execution_count": 8,
   "id": "spectacular-myanmar",
   "metadata": {},
   "outputs": [
    {
     "data": {
      "text/plain": [
       "'0x7f271c273fb0'"
      ]
     },
     "execution_count": 8,
     "metadata": {},
     "output_type": "execute_result"
    }
   ],
   "source": [
    "hex(id(257))"
   ]
  },
  {
   "cell_type": "code",
   "execution_count": 9,
   "id": "strategic-sharing",
   "metadata": {},
   "outputs": [
    {
     "data": {
      "text/plain": [
       "'0x7f271c273f50'"
      ]
     },
     "execution_count": 9,
     "metadata": {},
     "output_type": "execute_result"
    }
   ],
   "source": [
    "hex(id(257))"
   ]
  },
  {
   "cell_type": "code",
   "execution_count": 10,
   "id": "fiscal-selling",
   "metadata": {},
   "outputs": [
    {
     "data": {
      "text/plain": [
       "'0x7f271c1cb050'"
      ]
     },
     "execution_count": 10,
     "metadata": {},
     "output_type": "execute_result"
    }
   ],
   "source": [
    "hex(id(257))"
   ]
  },
  {
   "cell_type": "markdown",
   "id": "provincial-isaac",
   "metadata": {},
   "source": [
    "经测试：256整数对象的地址未发生变化，而257整数对象地址一直发生变化。"
   ]
  }
 ],
 "metadata": {
  "kernelspec": {
   "display_name": "Python 3",
   "language": "python",
   "name": "python3"
  },
  "language_info": {
   "codemirror_mode": {
    "name": "ipython",
    "version": 3
   },
   "file_extension": ".py",
   "mimetype": "text/x-python",
   "name": "python",
   "nbconvert_exporter": "python",
   "pygments_lexer": "ipython3",
   "version": "3.7.9"
  },
  "toc": {
   "base_numbering": 1,
   "nav_menu": {},
   "number_sections": true,
   "sideBar": true,
   "skip_h1_title": false,
   "title_cell": "Table of Contents",
   "title_sidebar": "Contents",
   "toc_cell": false,
   "toc_position": {},
   "toc_section_display": true,
   "toc_window_display": false
  }
 },
 "nbformat": 4,
 "nbformat_minor": 5
}

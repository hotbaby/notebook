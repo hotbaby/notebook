{
 "cells": [
  {
   "cell_type": "markdown",
   "id": "trained-spring",
   "metadata": {},
   "source": [
    "# 异步IO"
   ]
  },
  {
   "cell_type": "markdown",
   "id": "animated-lighter",
   "metadata": {},
   "source": [
    "## 参考文献"
   ]
  },
  {
   "cell_type": "markdown",
   "id": "sonic-academy",
   "metadata": {},
   "source": [
    "* [asyncio：python3未来并发编程主流、充满野心的模块](https://www.cnblogs.com/traditional/p/11828780.html)\n",
    "* [协程和任务](https://docs.python.org/zh-cn/dev/library/asyncio-task.html)"
   ]
  },
  {
   "cell_type": "markdown",
   "id": "similar-thing",
   "metadata": {},
   "source": [
    "## 概念和实践"
   ]
  },
  {
   "cell_type": "code",
   "execution_count": 27,
   "id": "ordinary-lincoln",
   "metadata": {},
   "outputs": [],
   "source": [
    "import asyncio\n",
    "import datetime\n",
    "import random"
   ]
  },
  {
   "cell_type": "code",
   "execution_count": 6,
   "id": "desirable-canon",
   "metadata": {},
   "outputs": [],
   "source": [
    "loop = asyncio.get_event_loop()"
   ]
  },
  {
   "cell_type": "markdown",
   "id": "presidential-brooks",
   "metadata": {},
   "source": [
    "### Task和Future"
   ]
  },
  {
   "cell_type": "code",
   "execution_count": 6,
   "id": "9edbde95",
   "metadata": {},
   "outputs": [],
   "source": [
    "async def coroutine():\n",
    "    return 'result'"
   ]
  },
  {
   "cell_type": "code",
   "execution_count": 12,
   "id": "aa1d3a80",
   "metadata": {},
   "outputs": [],
   "source": [
    "ret = await coroutine()"
   ]
  },
  {
   "cell_type": "code",
   "execution_count": 15,
   "id": "f0aa8952",
   "metadata": {},
   "outputs": [],
   "source": [
    "loop = asyncio.get_event_loop()"
   ]
  },
  {
   "cell_type": "code",
   "execution_count": 17,
   "id": "28560992",
   "metadata": {},
   "outputs": [],
   "source": [
    "def callback():\n",
    "    print(f'{datetime.datetime.now()}')"
   ]
  },
  {
   "cell_type": "code",
   "execution_count": 19,
   "id": "d3c1ce09",
   "metadata": {},
   "outputs": [
    {
     "data": {
      "text/plain": [
       "<TimerHandle when=1072.327237886 callback() at <ipython-input-17-3780ceda17ec>:1>"
      ]
     },
     "execution_count": 19,
     "metadata": {},
     "output_type": "execute_result"
    },
    {
     "name": "stdout",
     "output_type": "stream",
     "text": [
      "2022-01-13 14:29:53.185739\n"
     ]
    }
   ],
   "source": [
    "loop.call_later(3, callback)"
   ]
  },
  {
   "cell_type": "code",
   "execution_count": 33,
   "id": "6cfb7429",
   "metadata": {},
   "outputs": [],
   "source": [
    "async def worker(worker_name: str, seconds: int):\n",
    "    print(f'worker-{worker_name} sleep {seconds} seconds')\n",
    "    await asyncio.sleep(seconds)\n",
    "    print(f'worker-{worker_name} done.')\n",
    "    \n",
    "    "
   ]
  },
  {
   "cell_type": "code",
   "execution_count": 37,
   "id": "36cd4ad7",
   "metadata": {},
   "outputs": [
    {
     "name": "stdout",
     "output_type": "stream",
     "text": [
      "worker-0 sleep 6 seconds\n",
      "worker-1 sleep 10 seconds\n",
      "worker-2 sleep 4 seconds\n",
      "worker-3 sleep 5 seconds\n",
      "worker-4 sleep 10 seconds\n",
      "worker-5 sleep 2 seconds\n",
      "worker-6 sleep 6 seconds\n",
      "worker-7 sleep 5 seconds\n",
      "worker-8 sleep 4 seconds\n",
      "worker-9 sleep 6 seconds\n",
      "worker-5 done.\n",
      "worker-2 done.\n",
      "worker-8 done.\n",
      "worker-3 done.\n",
      "worker-7 done.\n",
      "worker-0 done.\n",
      "worker-6 done.\n",
      "worker-9 done.\n",
      "worker-1 done.\n",
      "worker-4 done.\n"
     ]
    }
   ],
   "source": [
    "L = await asyncio.gather(*[worker(i, random.randint(1, 10)) for i in range(10)])"
   ]
  },
  {
   "cell_type": "code",
   "execution_count": 39,
   "id": "e309cb83",
   "metadata": {},
   "outputs": [],
   "source": [
    "asyncio.create_task?"
   ]
  },
  {
   "cell_type": "code",
   "execution_count": 40,
   "id": "8658a4fa",
   "metadata": {},
   "outputs": [],
   "source": [
    "async def coroutine():\n",
    "    return f'coroutine'"
   ]
  },
  {
   "cell_type": "code",
   "execution_count": 43,
   "id": "bd648194",
   "metadata": {},
   "outputs": [
    {
     "data": {
      "text/plain": [
       "'coroutine'"
      ]
     },
     "execution_count": 43,
     "metadata": {},
     "output_type": "execute_result"
    }
   ],
   "source": [
    "await coroutine()"
   ]
  }
 ],
 "metadata": {
  "kernelspec": {
   "display_name": "Python 3",
   "language": "python",
   "name": "python3"
  },
  "language_info": {
   "codemirror_mode": {
    "name": "ipython",
    "version": 3
   },
   "file_extension": ".py",
   "mimetype": "text/x-python",
   "name": "python",
   "nbconvert_exporter": "python",
   "pygments_lexer": "ipython3",
   "version": "3.7.10"
  },
  "toc": {
   "base_numbering": 1,
   "nav_menu": {},
   "number_sections": true,
   "sideBar": true,
   "skip_h1_title": false,
   "title_cell": "Table of Contents",
   "title_sidebar": "Contents",
   "toc_cell": false,
   "toc_position": {},
   "toc_section_display": true,
   "toc_window_display": false
  }
 },
 "nbformat": 4,
 "nbformat_minor": 5
}

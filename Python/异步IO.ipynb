{
 "cells": [
  {
   "cell_type": "markdown",
   "id": "trained-spring",
   "metadata": {},
   "source": [
    "# 异步IO"
   ]
  },
  {
   "cell_type": "markdown",
   "id": "animated-lighter",
   "metadata": {},
   "source": [
    "## 参考文献"
   ]
  },
  {
   "cell_type": "markdown",
   "id": "sonic-academy",
   "metadata": {},
   "source": [
    "* [asyncio：python3未来并发编程主流、充满野心的模块](https://www.cnblogs.com/traditional/p/11828780.html)\n",
    "* [协程和任务](https://docs.python.org/zh-cn/dev/library/asyncio-task.html)"
   ]
  },
  {
   "cell_type": "markdown",
   "id": "similar-thing",
   "metadata": {},
   "source": [
    "## 概念和实践"
   ]
  },
  {
   "cell_type": "code",
   "execution_count": 1,
   "id": "ordinary-lincoln",
   "metadata": {},
   "outputs": [],
   "source": [
    "import asyncio"
   ]
  },
  {
   "cell_type": "code",
   "execution_count": 6,
   "id": "desirable-canon",
   "metadata": {},
   "outputs": [],
   "source": [
    "loop = asyncio.get_event_loop()"
   ]
  },
  {
   "cell_type": "markdown",
   "id": "presidential-brooks",
   "metadata": {},
   "source": [
    "### Task和Future"
   ]
  }
 ],
 "metadata": {
  "kernelspec": {
   "display_name": "Python 3",
   "language": "python",
   "name": "python3"
  },
  "language_info": {
   "codemirror_mode": {
    "name": "ipython",
    "version": 3
   },
   "file_extension": ".py",
   "mimetype": "text/x-python",
   "name": "python",
   "nbconvert_exporter": "python",
   "pygments_lexer": "ipython3",
   "version": "3.7.9"
  },
  "toc": {
   "base_numbering": 1,
   "nav_menu": {},
   "number_sections": true,
   "sideBar": true,
   "skip_h1_title": false,
   "title_cell": "Table of Contents",
   "title_sidebar": "Contents",
   "toc_cell": false,
   "toc_position": {},
   "toc_section_display": true,
   "toc_window_display": false
  }
 },
 "nbformat": 4,
 "nbformat_minor": 5
}
